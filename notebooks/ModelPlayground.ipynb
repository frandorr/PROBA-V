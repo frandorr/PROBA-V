{
 "cells": [
  {
   "cell_type": "code",
   "execution_count": 1,
   "metadata": {
    "scrolled": true
   },
   "outputs": [],
   "source": [
    "import os\n",
    "import sys\n",
    "sys.path.insert(0, '../utils')\n",
    "sys.path.insert(0, '..')\n",
    "import logging\n",
    "\n",
    "logging.basicConfig(format='%(asctime)s - %(message)s', level=logging.INFO)\n",
    "logger = logging.getLogger('__name__')\n",
    "\n",
    "import numpy as np\n",
    "import tensorflow as tf\n",
    "from tensorflow.keras.metrics import Mean\n",
    "from sklearn.model_selection import train_test_split\n",
    "from tensorflow.keras.optimizers import Adam, SGD, Nadam\n",
    "\n",
    "from modelsTF import *\n",
    "from loss import *\n",
    "%reload_ext autoreload\n",
    "%autoreload 2"
   ]
  },
  {
   "cell_type": "code",
   "execution_count": 2,
   "metadata": {},
   "outputs": [
    {
     "name": "stdout",
     "output_type": "stream",
     "text": [
      "Input shape: (52563, 32, 32, 9, 1) --------> Output shape: (52563, 96, 96, 1)\n"
     ]
    }
   ],
   "source": [
    "# import data\n",
    "CLEAN_DATA_DIR = '/home/mark/DataBank/PROBA-V-CHKPT/trimmedPatchesDir'\n",
    "band = 'NIR'\n",
    "X_train = np.load(os.path.join(CLEAN_DATA_DIR, f'TRAINpatchesLR_{band}.npy'), allow_pickle=True)\n",
    "y_train = np.load(os.path.join(CLEAN_DATA_DIR, f'TRAINpatchesHR_{band}.npy'), allow_pickle=True)\n",
    "\n",
    "X = X_train.transpose((0, 3, 4, 2, 1))\n",
    "y = y_train.transpose((0, 3, 4, 2, 1)).squeeze(3)\n",
    "print(f'Input shape: {X.shape} --------> Output shape: {y.shape}')"
   ]
  },
  {
   "cell_type": "code",
   "execution_count": null,
   "metadata": {},
   "outputs": [],
   "source": [
    "X = np.random.randint(0, 1400, (100, 32, 32, 9, 1))\n",
    "y = np.random.randint(0, 1400, (100, 96, 96, 1))\n",
    "y_mask = np.random.randint(0, 2, (100, 96, 96, 1)).astype(np.bool)"
   ]
  },
  {
   "cell_type": "code",
   "execution_count": null,
   "metadata": {},
   "outputs": [],
   "source": [
    "import tensorflow as tf\n",
    "tf.config.list_physical_devices('GPU')"
   ]
  },
  {
   "cell_type": "code",
   "execution_count": 3,
   "metadata": {},
   "outputs": [
    {
     "name": "stderr",
     "output_type": "stream",
     "text": [
      "2020-02-28 20:11:18,023 - From /home/mark/.local/lib/python3.6/site-packages/tensorflow_addons/layers/wrappers.py:84: Layer.add_variable (from tensorflow.python.keras.engine.base_layer) is deprecated and will be removed in a future version.\n",
      "Instructions for updating:\n",
      "Please use `layer.add_weight` method instead.\n"
     ]
    }
   ],
   "source": [
    "model = WDSRConv3D(scale=3, numFilters=32, kernelSize=(3, 3, 3), numResBlocks=8,\n",
    "                expRate=8, decayRate=0.8, numImgLR=9, patchSizeLR=32, isGrayScale=True)"
   ]
  },
  {
   "cell_type": "code",
   "execution_count": 4,
   "metadata": {},
   "outputs": [],
   "source": [
    "optimizer = Nadam(learning_rate=5e-4)\n",
    "checkpoint = tf.train.Checkpoint(step=tf.Variable(0),\n",
    "                                     psnr=tf.Variable(1.0),\n",
    "                                     optimizer=optimizer,\n",
    "                                     model=model)\n",
    "checkpointManager = tf.train.CheckpointManager(checkpoint=checkpoint,\n",
    "                                                   directory='models',\n",
    "                                                   max_to_keep=5)"
   ]
  },
  {
   "cell_type": "code",
   "execution_count": 5,
   "metadata": {},
   "outputs": [],
   "source": [
    "def loadTrainDataAsTFDataSet(X, y, y_mask, epochs, batchSize, bufferSize):\n",
    "    return tf.data.Dataset.from_tensor_slices(\n",
    "        (X, y, y_mask)).shuffle(bufferSize, reshuffle_each_iteration=True).repeat(epochs).batch(batchSize).prefetch(tf.data.experimental.AUTOTUNE)\n",
    "\n",
    "\n",
    "def loadValDataAsTFDataSet(X, y, y_mask, valSteps, batchSize, bufferSize):\n",
    "    return tf.data.Dataset.from_tensor_slices(\n",
    "        (X, y, y_mask)).shuffle(bufferSize).batch(batchSize).prefetch(tf.data.experimental.AUTOTUNE).take(valSteps)"
   ]
  },
  {
   "cell_type": "code",
   "execution_count": 6,
   "metadata": {},
   "outputs": [],
   "source": [
    "\n",
    "X_train, X_val, y_train, y_val, y_train_mask, y_val_mask = train_test_split(\n",
    "        X, y, y.mask, test_size=0.7, random_state=17)\n",
    "\n",
    "X_train = tf.convert_to_tensor(X_train, dtype=tf.float32)\n",
    "X_val = tf.convert_to_tensor(X_val, dtype=tf.float32)\n",
    "y_train = tf.convert_to_tensor(y_train, dtype=tf.float32)\n",
    "y_val = tf.convert_to_tensor(y_val, dtype=tf.float32)\n",
    "y_train_mask = tf.convert_to_tensor(y_train_mask, dtype=tf.float32)\n",
    "y_val_mask = tf.convert_to_tensor(y_val_mask, dtype=tf.float32)\n",
    "\n",
    "y = [y_train, y_train_mask]\n",
    "valData = [X_val, y_val, y_val_mask]\n",
    "\n",
    "# Initialize metrics\n",
    "trainLoss = Mean(name='trainLoss')\n",
    "trainPSNR = Mean(name='trainPSNR')\n",
    "testLoss = Mean(name='testLoss')\n",
    "testPSNR = Mean(name='testPSNR')"
   ]
  },
  {
   "cell_type": "code",
   "execution_count": null,
   "metadata": {},
   "outputs": [],
   "source": []
  },
  {
   "cell_type": "code",
   "execution_count": 10,
   "metadata": {},
   "outputs": [
    {
     "ename": "ValueError",
     "evalue": "Creating variables on a non-first call to a function decorated with tf.function.",
     "output_type": "error",
     "traceback": [
      "\u001b[0;31m---------------------------------------------------------------------------\u001b[0m",
      "\u001b[0;31mValueError\u001b[0m                                Traceback (most recent call last)",
      "\u001b[0;32m<ipython-input-10-1206a8497195>\u001b[0m in \u001b[0;36m<module>\u001b[0;34m\u001b[0m\n\u001b[1;32m      3\u001b[0m                  \u001b[0mX_train\u001b[0m\u001b[0;34m,\u001b[0m \u001b[0my\u001b[0m\u001b[0;34m,\u001b[0m \u001b[0;36m10\u001b[0m\u001b[0;34m,\u001b[0m \u001b[0;36m1000\u001b[0m\u001b[0;34m,\u001b[0m \u001b[0;36m512\u001b[0m\u001b[0;34m,\u001b[0m \u001b[0mvalData\u001b[0m\u001b[0;34m,\u001b[0m \u001b[0;36m100\u001b[0m\u001b[0;34m,\u001b[0m\u001b[0;34m\u001b[0m\u001b[0;34m\u001b[0m\u001b[0m\n\u001b[1;32m      4\u001b[0m                  \u001b[0mcheckpoint\u001b[0m\u001b[0;34m,\u001b[0m \u001b[0mcheckpointManager\u001b[0m\u001b[0;34m,\u001b[0m\u001b[0;34m\u001b[0m\u001b[0;34m\u001b[0m\u001b[0m\n\u001b[0;32m----> 5\u001b[0;31m                  'logs', 'models', 1)\n\u001b[0m",
      "\u001b[0;32m<ipython-input-7-23a591338633>\u001b[0m in \u001b[0;36mfitTrainData\u001b[0;34m(model, optimizer, metrics, lossFunc, PSNRFunc, X, y, batchSize, epochs, bufferSize, valData, valSteps, checkpoint, checkpointManager, logDir, ckptDir, saveBestOnly)\u001b[0m\n\u001b[1;32m     39\u001b[0m             \u001b[0mglobalStep\u001b[0m \u001b[0;34m+=\u001b[0m \u001b[0;36m1\u001b[0m\u001b[0;34m\u001b[0m\u001b[0;34m\u001b[0m\u001b[0m\n\u001b[1;32m     40\u001b[0m             trainStep(x_batch_train, y_batch_train, y_mask_batch_train, checkpoint,\n\u001b[0;32m---> 41\u001b[0;31m                       lossFunc, PSNRFunc, trainLoss, trainPSNR)\n\u001b[0m\u001b[1;32m     42\u001b[0m             \u001b[0mcheckpoint\u001b[0m\u001b[0;34m.\u001b[0m\u001b[0mstep\u001b[0m\u001b[0;34m.\u001b[0m\u001b[0massign_add\u001b[0m\u001b[0;34m(\u001b[0m\u001b[0;36m1\u001b[0m\u001b[0;34m)\u001b[0m\u001b[0;34m\u001b[0m\u001b[0;34m\u001b[0m\u001b[0m\n\u001b[1;32m     43\u001b[0m \u001b[0;34m\u001b[0m\u001b[0m\n",
      "\u001b[0;32m~/.local/lib/python3.6/site-packages/tensorflow_core/python/eager/def_function.py\u001b[0m in \u001b[0;36m__call__\u001b[0;34m(self, *args, **kwds)\u001b[0m\n\u001b[1;32m    455\u001b[0m \u001b[0;34m\u001b[0m\u001b[0m\n\u001b[1;32m    456\u001b[0m     \u001b[0mtracing_count\u001b[0m \u001b[0;34m=\u001b[0m \u001b[0mself\u001b[0m\u001b[0;34m.\u001b[0m\u001b[0m_get_tracing_count\u001b[0m\u001b[0;34m(\u001b[0m\u001b[0;34m)\u001b[0m\u001b[0;34m\u001b[0m\u001b[0;34m\u001b[0m\u001b[0m\n\u001b[0;32m--> 457\u001b[0;31m     \u001b[0mresult\u001b[0m \u001b[0;34m=\u001b[0m \u001b[0mself\u001b[0m\u001b[0;34m.\u001b[0m\u001b[0m_call\u001b[0m\u001b[0;34m(\u001b[0m\u001b[0;34m*\u001b[0m\u001b[0margs\u001b[0m\u001b[0;34m,\u001b[0m \u001b[0;34m**\u001b[0m\u001b[0mkwds\u001b[0m\u001b[0;34m)\u001b[0m\u001b[0;34m\u001b[0m\u001b[0;34m\u001b[0m\u001b[0m\n\u001b[0m\u001b[1;32m    458\u001b[0m     \u001b[0;32mif\u001b[0m \u001b[0mtracing_count\u001b[0m \u001b[0;34m==\u001b[0m \u001b[0mself\u001b[0m\u001b[0;34m.\u001b[0m\u001b[0m_get_tracing_count\u001b[0m\u001b[0;34m(\u001b[0m\u001b[0;34m)\u001b[0m\u001b[0;34m:\u001b[0m\u001b[0;34m\u001b[0m\u001b[0;34m\u001b[0m\u001b[0m\n\u001b[1;32m    459\u001b[0m       \u001b[0mself\u001b[0m\u001b[0;34m.\u001b[0m\u001b[0m_call_counter\u001b[0m\u001b[0;34m.\u001b[0m\u001b[0mcalled_without_tracing\u001b[0m\u001b[0;34m(\u001b[0m\u001b[0;34m)\u001b[0m\u001b[0;34m\u001b[0m\u001b[0;34m\u001b[0m\u001b[0m\n",
      "\u001b[0;32m~/.local/lib/python3.6/site-packages/tensorflow_core/python/eager/def_function.py\u001b[0m in \u001b[0;36m_call\u001b[0;34m(self, *args, **kwds)\u001b[0m\n\u001b[1;32m    494\u001b[0m       \u001b[0mresults\u001b[0m \u001b[0;34m=\u001b[0m \u001b[0mself\u001b[0m\u001b[0;34m.\u001b[0m\u001b[0m_stateful_fn\u001b[0m\u001b[0;34m(\u001b[0m\u001b[0;34m*\u001b[0m\u001b[0margs\u001b[0m\u001b[0;34m,\u001b[0m \u001b[0;34m**\u001b[0m\u001b[0mkwds\u001b[0m\u001b[0;34m)\u001b[0m\u001b[0;34m\u001b[0m\u001b[0;34m\u001b[0m\u001b[0m\n\u001b[1;32m    495\u001b[0m       \u001b[0;32mif\u001b[0m \u001b[0mself\u001b[0m\u001b[0;34m.\u001b[0m\u001b[0m_created_variables\u001b[0m\u001b[0;34m:\u001b[0m\u001b[0;34m\u001b[0m\u001b[0;34m\u001b[0m\u001b[0m\n\u001b[0;32m--> 496\u001b[0;31m         raise ValueError(\"Creating variables on a non-first call to a function\"\n\u001b[0m\u001b[1;32m    497\u001b[0m                          \" decorated with tf.function.\")\n\u001b[1;32m    498\u001b[0m       \u001b[0;32mreturn\u001b[0m \u001b[0mresults\u001b[0m\u001b[0;34m\u001b[0m\u001b[0;34m\u001b[0m\u001b[0m\n",
      "\u001b[0;31mValueError\u001b[0m: Creating variables on a non-first call to a function decorated with tf.function."
     ]
    }
   ],
   "source": [
    "fitTrainData(model, optimizer, [trainLoss, trainPSNR, testLoss, testPSNR], shiftCompensatedL1Loss,\n",
    "                 shiftCompensatedcPSNR,\n",
    "                 X_train, y, 10, 1000, 512, valData, 100,\n",
    "                 checkpoint, checkpointManager,\n",
    "                 'logs', 'models', 1)"
   ]
  },
  {
   "cell_type": "code",
   "execution_count": 7,
   "metadata": {},
   "outputs": [],
   "source": [
    "def fitTrainData(model: tf.keras.Model, optimizer: tf.keras.optimizers,\n",
    "                 metrics: List[tf.keras.metrics.Mean],\n",
    "                 lossFunc,\n",
    "                 PSNRFunc,\n",
    "                 X: np.ma.array, y: np.ma.array,\n",
    "                 batchSize: int, epochs: int, bufferSize: int,\n",
    "                 valData: List[np.ma.array], valSteps: int,\n",
    "                 checkpoint: tf.train.Checkpoint, checkpointManager: tf.train.CheckpointManager,\n",
    "                 logDir: str, ckptDir: str, saveBestOnly: bool):\n",
    "\n",
    "    trainSet = loadTrainDataAsTFDataSet(X, y[0], y[1], epochs, batchSize, bufferSize)\n",
    "    valSet = loadValDataAsTFDataSet(valData[0], valData[1], valData[2], valSteps, batchSize, bufferSize)\n",
    "\n",
    "    # Logger\n",
    "    w = tf.summary.create_file_writer(logDir)\n",
    "\n",
    "    dataSetLength = len(X)\n",
    "    totalSteps = tf.cast(dataSetLength/batchSize, tf.int64)\n",
    "    globalStep = tf.cast(checkpoint.step, tf.int64)\n",
    "    step = globalStep % totalSteps\n",
    "    epoch = 0\n",
    "\n",
    "    # Metrics\n",
    "    trainLoss, trainPSNR, testLoss, testPSNR = metrics\n",
    "\n",
    "    with w.as_default():\n",
    "        for x_batch_train, y_batch_train, y_mask_batch_train in trainSet:\n",
    "            if (totalSteps - step) == 0:\n",
    "                epoch += 1\n",
    "                step = globalStep % totalSteps\n",
    "                logger.info('Start of epoch %d' % (epoch))\n",
    "                # Reset metrics\n",
    "                trainLoss.reset_states()\n",
    "                trainPSNR.reset_states()\n",
    "                testLoss.reset_states()\n",
    "                testPSNR.reset_states()\n",
    "\n",
    "            step += 1\n",
    "            globalStep += 1\n",
    "            trainStep(x_batch_train, y_batch_train, y_mask_batch_train, checkpoint,\n",
    "                      lossFunc, PSNRFunc, trainLoss, trainPSNR)\n",
    "            checkpoint.step.assign_add(1)\n",
    "\n",
    "            t = f\"step {step}/{int(totalSteps)}, loss: {trainLoss.result():.3f}, psnr: {trainPSNR.result():.3f}\"\n",
    "            logger.info(t)\n",
    "\n",
    "            tf.summary.scalar('Train PSNR', trainPSNR.result(), step=globalStep)\n",
    "\n",
    "            tf.summary.scalar('Train loss', trainLoss.result(), step=globalStep)\n",
    "\n",
    "            if step != 0 and (step % 100) == 0:\n",
    "                # Reset states for test\n",
    "                testLoss.reset_states()\n",
    "                testPSNR.reset_states()\n",
    "                for x_batch_val, y_batch_val, y_mask_batch_val in valSet:\n",
    "                    testStep(x_batch_val, y_batch_val, y_mask_batch_val, checkpoint,\n",
    "                             lossFunc, PSNRFunc, testLoss, testPSNR)\n",
    "                tf.summary.scalar(\n",
    "                    'Test loss', testLoss.result(), step=globalStep)\n",
    "                tf.summary.scalar(\n",
    "                    'Test PSNR', testPSNR.result(), step=globalStep)\n",
    "                t = f\"Validation results... val_loss: {testLoss.result():.3f}, val_psnr: {testPSNR.result():.3f}\"\n",
    "                logger.info(t)\n",
    "                w.flush()\n",
    "\n",
    "                if saveBestOnly and (testPSNR.result() <= checkpoint.psnr):\n",
    "                    continue\n",
    "\n",
    "                checkpoint.psnr = testPSNR.result()\n",
    "                checkpointManager.save()\n",
    "\n",
    "@tf.function\n",
    "def trainStep(patchLR, patchHR, maskHR, checkpoint, loss, metric, trainLoss, trainPSNR):\n",
    "    with tf.GradientTape() as tape:\n",
    "\n",
    "        predPatchHR = checkpoint.model(patchLR, training=True)\n",
    "        loss = shiftCompensatedL1Lossv2(patchHR, maskHR, predPatchHR)  # Loss(patchHR: tf.Tensor, maskHR: tf.Tensor, predPatchHR: tf.Tensor)\n",
    "\n",
    "    gradients = tape.gradient(loss, checkpoint.model.trainable_variables)\n",
    "    checkpoint.optimizer.apply_gradients(zip(gradients, checkpoint.model.trainable_variables))\n",
    "\n",
    "    metric = shiftCompensatedL1Lossv2(patchHR, maskHR, predPatchHR)\n",
    "    trainLoss(loss)\n",
    "    trainPSNR(metric)\n",
    "\n",
    "@tf.function\n",
    "def testStep(patchLR, patchHR, maskHR, checkpoint, loss, metric, testLoss, testPSNR):\n",
    "    predPatchHR = checkpoint.model(patchLR, training=False)\n",
    "    loss = loss(patchHR, maskHR, predPatchHR)\n",
    "    metric = metric(patchHR, maskHR, predPatchHR)\n",
    "\n",
    "    testLoss(loss)\n",
    "    testPSNR(metric)"
   ]
  },
  {
   "cell_type": "code",
   "execution_count": 9,
   "metadata": {},
   "outputs": [],
   "source": [
    "def shiftCompensatedL1Lossv2(patchHR: tf.Tensor, maskHR: tf.Tensor, predPatchHR: tf.Tensor) -> float:\n",
    "    '''\n",
    "    The minimum L1 Loss of every possible pixel shift between the predicted HR image and the ground truth.\n",
    "    This is how the ESA has been computing the submissions of the contestants.\n",
    "    See details at the ff link: https://kelvins.esa.int/proba-v-super-resolution/scoring/\n",
    "    '''\n",
    "    theShape = tf.shape(patchHR)\n",
    "\n",
    "    cropSizeHeight = 96 - MAX_PIXEL_SHIFT\n",
    "    cropSizeWidth = 96 - MAX_PIXEL_SHIFT\n",
    "    cropPrediction = cropImage(predPatchHR, CROP_BORDER, cropSizeHeight, CROP_BORDER, cropSizeWidth)\n",
    "    cacheLosses = []\n",
    "\n",
    "    # Iterate through all possible shift configurations\n",
    "    for i in range(MAX_PIXEL_SHIFT+1):\n",
    "        for j in range(MAX_PIXEL_SHIFT+1):\n",
    "            theShape = tf.shape(cropPrediction)\n",
    "            cropTrueImg = cropImage(patchHR, i, theShape[1], j, theShape[2])\n",
    "            cropTrueMsk = cropImage(maskHR, i, theShape[1], j, theShape[2])\n",
    "            cropPredMskd = cropPrediction * cropTrueMsk\n",
    "            totalClearPixels = tf.reduce_sum(cropTrueMsk, axis=(1, 2, 3))\n",
    "\n",
    "            b = (1.0 / totalClearPixels) * tf.reduce_sum(tf.subtract(cropTrueMsk, cropPredMskd), axis=(1, 2, 3))\n",
    "            b = tf.reshape(b, (theShape[0], 1, 1, theShape[3]))\n",
    "\n",
    "    correctedCropPred = cropPrediction + b\n",
    "    correctedCropPredMskd = correctedCropPred * cropTrueMsk\n",
    "\n",
    "    L1Loss = computeL1Loss(totalClearPixels, cropTrueImg, correctedCropPredMskd)\n",
    "    cacheLosses.append(L1Loss)\n",
    "    cacheLosses = tf.stack(cacheLosses)\n",
    "    minLoss = tf.reduce_min(cacheLosses)\n",
    "    return minLoss\n",
    "\n",
    "def shiftCompensatedL1Lossv3(yTrue, predPatchHR: tf.Tensor) -> float:\n",
    "    '''\n",
    "    The minimum L1 Loss of every possible pixel shift between the predicted HR image and the ground truth.\n",
    "    This is how the ESA has been computing the submissions of the contestants.\n",
    "    See details at the ff link: https://kelvins.esa.int/proba-v-super-resolution/scoring/\n",
    "    '''\n",
    "    \n",
    "    patchHR, maskHR = yTrue\n",
    "    theShape = tf.shape(patchHR)\n",
    "    cropSizeHeight = 96 - MAX_PIXEL_SHIFT\n",
    "    cropSizeWidth = 96 - MAX_PIXEL_SHIFT\n",
    "    cropPrediction = cropImage(predPatchHR, CROP_BORDER, cropSizeHeight, CROP_BORDER, cropSizeWidth)\n",
    "    cacheLosses = []\n",
    "\n",
    "    # Iterate through all possible shift configurations\n",
    "    for i in range(MAX_PIXEL_SHIFT+1):\n",
    "        for j in range(MAX_PIXEL_SHIFT+1):\n",
    "            theShape = tf.shape(cropPrediction)\n",
    "            cropTrueImg = cropImage(patchHR, i, theShape[1], j, theShape[2])\n",
    "            cropTrueMsk = cropImage(maskHR, i, theShape[1], j, theShape[2])\n",
    "            cropPredMskd = cropPrediction * cropTrueMsk\n",
    "            totalClearPixels = tf.reduce_sum(cropTrueMsk, axis=(1, 2, 3))\n",
    "\n",
    "            b = (1.0 / totalClearPixels) * tf.reduce_sum(tf.subtract(cropTrueMsk, cropPredMskd), axis=(1, 2, 3))\n",
    "            b = tf.reshape(b, (theShape[0], 1, 1, theShape[3]))\n",
    "\n",
    "    correctedCropPred = cropPrediction + b\n",
    "    correctedCropPredMskd = correctedCropPred * cropTrueMsk\n",
    "\n",
    "    L1Loss = computeL1Loss(totalClearPixels, cropTrueImg, correctedCropPredMskd)\n",
    "    cacheLosses.append(L1Loss)\n",
    "    cacheLosses = tf.stack(cacheLosses)\n",
    "    minLoss = tf.reduce_min(cacheLosses)\n",
    "    return minLoss"
   ]
  },
  {
   "cell_type": "code",
   "execution_count": 12,
   "metadata": {},
   "outputs": [],
   "source": [
    "from trainClass import *"
   ]
  },
  {
   "cell_type": "code",
   "execution_count": 13,
   "metadata": {},
   "outputs": [
    {
     "name": "stdout",
     "output_type": "stream",
     "text": [
      "Model restored from checkpoint at step 600.\n"
     ]
    }
   ],
   "source": [
    "trainClass = ModelTrain(model=model,\n",
    "                       loss=shiftCompensatedL1Lossv2,\n",
    "                       metric=shiftCompensatedL1Lossv2,\n",
    "                       optimizer=Nadam(learning_rate=5e-4),\n",
    "                       ckptDir='ckpt',\n",
    "                       logDir='log')"
   ]
  },
  {
   "cell_type": "code",
   "execution_count": 11,
   "metadata": {},
   "outputs": [],
   "source": [
    "model = WDSRConv3D(scale=3, numFilters=32, kernelSize=(3, 3, 3), numResBlocks=8,\n",
    "                expRate=8, decayRate=0.8, numImgLR=9, patchSizeLR=32, isGrayScale=True)"
   ]
  },
  {
   "cell_type": "code",
   "execution_count": 8,
   "metadata": {},
   "outputs": [],
   "source": [
    "X = np.random.randint(0, 1400, (100, 32, 32, 9, 1))\n",
    "y = np.random.randint(0, 1400, (100, 96, 96, 1))\n",
    "y_mask = np.random.randint(0, 2, (100, 96, 96, 1)).astype(np.bool)\n",
    "X_train, X_val, y_train, y_val, y_train_mask, y_val_mask = train_test_split(\n",
    "        X, y, y_mask, test_size=0.7, random_state=17)\n",
    "\n",
    "X_train = tf.convert_to_tensor(X_train, dtype=tf.float32)\n",
    "X_val = tf.convert_to_tensor(X_val, dtype=tf.float32)\n",
    "y_train = tf.convert_to_tensor(y_train, dtype=tf.float32)\n",
    "y_val = tf.convert_to_tensor(y_val, dtype=tf.float32)\n",
    "y_train_mask = tf.convert_to_tensor(y_train_mask, dtype=tf.float32)\n",
    "y_val_mask = tf.convert_to_tensor(y_val_mask, dtype=tf.float32)\n",
    "\n",
    "y = [y_train, y_train_mask]\n",
    "valData = [X_val, y_val, y_val_mask]\n",
    "\n",
    "# Initialize metrics\n",
    "trainLoss = Mean(name='trainLoss')\n",
    "trainPSNR = Mean(name='trainPSNR')\n",
    "testLoss = Mean(name='testLoss')\n",
    "testPSNR = Mean(name='testPSNR')"
   ]
  },
  {
   "cell_type": "code",
   "execution_count": 14,
   "metadata": {},
   "outputs": [
    {
     "name": "stdout",
     "output_type": "stream",
     "text": [
      "Loaded data...\n",
      "Initialized constants...\n",
      "Starting iterations...\n",
      "Iterating\n"
     ]
    },
    {
     "name": "stderr",
     "output_type": "stream",
     "text": [
      "2020-02-28 20:13:29,340 - step 601/1576, loss: 6374.260, psnr: 6374.260\n",
      "2020-02-28 20:13:29,453 - step 602/1576, loss: 5689.034, psnr: 5689.034\n"
     ]
    },
    {
     "name": "stdout",
     "output_type": "stream",
     "text": [
      "Train step success!!\n",
      "Iterating\n",
      "Train step success!!\n",
      "Iterating\n"
     ]
    },
    {
     "name": "stderr",
     "output_type": "stream",
     "text": [
      "2020-02-28 20:13:29,566 - step 603/1576, loss: 5189.723, psnr: 5189.723\n",
      "2020-02-28 20:13:29,672 - step 604/1576, loss: 5569.953, psnr: 5569.953\n"
     ]
    },
    {
     "name": "stdout",
     "output_type": "stream",
     "text": [
      "Train step success!!\n",
      "Iterating\n",
      "Train step success!!\n",
      "Iterating\n"
     ]
    },
    {
     "name": "stderr",
     "output_type": "stream",
     "text": [
      "2020-02-28 20:13:29,782 - step 605/1576, loss: 4853.862, psnr: 4853.862\n",
      "2020-02-28 20:13:29,887 - step 606/1576, loss: 4784.212, psnr: 4784.212\n"
     ]
    },
    {
     "name": "stdout",
     "output_type": "stream",
     "text": [
      "Train step success!!\n",
      "Iterating\n",
      "Train step success!!\n",
      "Iterating\n"
     ]
    },
    {
     "name": "stderr",
     "output_type": "stream",
     "text": [
      "2020-02-28 20:13:29,997 - step 607/1576, loss: 4942.111, psnr: 4942.111\n",
      "2020-02-28 20:13:30,105 - step 608/1576, loss: 4968.522, psnr: 4968.522\n"
     ]
    },
    {
     "name": "stdout",
     "output_type": "stream",
     "text": [
      "Train step success!!\n",
      "Iterating\n",
      "Train step success!!\n",
      "Iterating\n"
     ]
    },
    {
     "name": "stderr",
     "output_type": "stream",
     "text": [
      "2020-02-28 20:13:30,214 - step 609/1576, loss: 5201.693, psnr: 5201.693\n",
      "2020-02-28 20:13:30,323 - step 610/1576, loss: 5232.451, psnr: 5232.451\n"
     ]
    },
    {
     "name": "stdout",
     "output_type": "stream",
     "text": [
      "Train step success!!\n",
      "Iterating\n",
      "Train step success!!\n",
      "Iterating\n"
     ]
    },
    {
     "name": "stderr",
     "output_type": "stream",
     "text": [
      "2020-02-28 20:13:30,432 - step 611/1576, loss: 5352.605, psnr: 5352.605\n",
      "2020-02-28 20:13:30,540 - step 612/1576, loss: 5465.210, psnr: 5465.210\n"
     ]
    },
    {
     "name": "stdout",
     "output_type": "stream",
     "text": [
      "Train step success!!\n",
      "Iterating\n",
      "Train step success!!\n",
      "Iterating\n"
     ]
    },
    {
     "name": "stderr",
     "output_type": "stream",
     "text": [
      "2020-02-28 20:13:30,649 - step 613/1576, loss: 5399.088, psnr: 5399.088\n",
      "2020-02-28 20:13:30,754 - step 614/1576, loss: 5509.658, psnr: 5509.658\n"
     ]
    },
    {
     "name": "stdout",
     "output_type": "stream",
     "text": [
      "Train step success!!\n",
      "Iterating\n",
      "Train step success!!\n",
      "Iterating\n"
     ]
    },
    {
     "name": "stderr",
     "output_type": "stream",
     "text": [
      "2020-02-28 20:13:30,865 - step 615/1576, loss: 5696.533, psnr: 5696.533\n",
      "2020-02-28 20:13:30,970 - step 616/1576, loss: 5661.504, psnr: 5661.504\n"
     ]
    },
    {
     "name": "stdout",
     "output_type": "stream",
     "text": [
      "Train step success!!\n",
      "Iterating\n",
      "Train step success!!\n",
      "Iterating\n"
     ]
    },
    {
     "name": "stderr",
     "output_type": "stream",
     "text": [
      "2020-02-28 20:13:31,080 - step 617/1576, loss: 5690.650, psnr: 5690.650\n",
      "2020-02-28 20:13:31,186 - step 618/1576, loss: 5680.590, psnr: 5680.590\n"
     ]
    },
    {
     "name": "stdout",
     "output_type": "stream",
     "text": [
      "Train step success!!\n",
      "Iterating\n",
      "Train step success!!\n",
      "Iterating\n"
     ]
    },
    {
     "name": "stderr",
     "output_type": "stream",
     "text": [
      "2020-02-28 20:13:31,295 - step 619/1576, loss: 5725.342, psnr: 5725.342\n",
      "2020-02-28 20:13:31,400 - step 620/1576, loss: 5759.132, psnr: 5759.132\n"
     ]
    },
    {
     "name": "stdout",
     "output_type": "stream",
     "text": [
      "Train step success!!\n",
      "Iterating\n",
      "Train step success!!\n",
      "Iterating\n"
     ]
    },
    {
     "name": "stderr",
     "output_type": "stream",
     "text": [
      "2020-02-28 20:13:31,509 - step 621/1576, loss: 5770.249, psnr: 5770.249\n",
      "2020-02-28 20:13:31,614 - step 622/1576, loss: 5797.671, psnr: 5797.671\n"
     ]
    },
    {
     "name": "stdout",
     "output_type": "stream",
     "text": [
      "Train step success!!\n",
      "Iterating\n",
      "Train step success!!\n",
      "Iterating\n"
     ]
    },
    {
     "name": "stderr",
     "output_type": "stream",
     "text": [
      "2020-02-28 20:13:31,723 - step 623/1576, loss: 5803.262, psnr: 5803.262\n",
      "2020-02-28 20:13:31,830 - step 624/1576, loss: 5852.653, psnr: 5852.653\n"
     ]
    },
    {
     "name": "stdout",
     "output_type": "stream",
     "text": [
      "Train step success!!\n",
      "Iterating\n",
      "Train step success!!\n",
      "Iterating\n"
     ]
    },
    {
     "name": "stderr",
     "output_type": "stream",
     "text": [
      "2020-02-28 20:13:31,938 - step 625/1576, loss: 5866.969, psnr: 5866.969\n",
      "2020-02-28 20:13:32,043 - step 626/1576, loss: 5932.913, psnr: 5932.913\n"
     ]
    },
    {
     "name": "stdout",
     "output_type": "stream",
     "text": [
      "Train step success!!\n",
      "Iterating\n",
      "Train step success!!\n",
      "Iterating\n"
     ]
    },
    {
     "name": "stderr",
     "output_type": "stream",
     "text": [
      "2020-02-28 20:13:32,153 - step 627/1576, loss: 5878.285, psnr: 5878.285\n",
      "2020-02-28 20:13:32,260 - step 628/1576, loss: 5874.399, psnr: 5874.399\n"
     ]
    },
    {
     "name": "stdout",
     "output_type": "stream",
     "text": [
      "Train step success!!\n",
      "Iterating\n",
      "Train step success!!\n",
      "Iterating\n"
     ]
    },
    {
     "name": "stderr",
     "output_type": "stream",
     "text": [
      "2020-02-28 20:13:32,373 - step 629/1576, loss: 5926.400, psnr: 5926.400\n",
      "2020-02-28 20:13:32,476 - step 630/1576, loss: 5976.526, psnr: 5976.526\n"
     ]
    },
    {
     "name": "stdout",
     "output_type": "stream",
     "text": [
      "Train step success!!\n",
      "Iterating\n",
      "Train step success!!\n",
      "Iterating\n"
     ]
    },
    {
     "name": "stderr",
     "output_type": "stream",
     "text": [
      "2020-02-28 20:13:32,581 - step 631/1576, loss: 5979.130, psnr: 5979.130\n",
      "2020-02-28 20:13:32,685 - step 632/1576, loss: 5985.897, psnr: 5985.897\n"
     ]
    },
    {
     "name": "stdout",
     "output_type": "stream",
     "text": [
      "Train step success!!\n",
      "Iterating\n",
      "Train step success!!\n",
      "Iterating\n"
     ]
    },
    {
     "name": "stderr",
     "output_type": "stream",
     "text": [
      "2020-02-28 20:13:32,789 - step 633/1576, loss: 5881.753, psnr: 5881.753\n",
      "2020-02-28 20:13:32,894 - step 634/1576, loss: 5893.383, psnr: 5893.383\n"
     ]
    },
    {
     "name": "stdout",
     "output_type": "stream",
     "text": [
      "Train step success!!\n",
      "Iterating\n",
      "Train step success!!\n",
      "Iterating\n"
     ]
    },
    {
     "name": "stderr",
     "output_type": "stream",
     "text": [
      "2020-02-28 20:13:32,998 - step 635/1576, loss: 5871.812, psnr: 5871.812\n",
      "2020-02-28 20:13:33,101 - step 636/1576, loss: 5857.862, psnr: 5857.862\n"
     ]
    },
    {
     "name": "stdout",
     "output_type": "stream",
     "text": [
      "Train step success!!\n",
      "Iterating\n",
      "Train step success!!\n",
      "Iterating\n"
     ]
    },
    {
     "name": "stderr",
     "output_type": "stream",
     "text": [
      "2020-02-28 20:13:33,205 - step 637/1576, loss: 5867.382, psnr: 5867.382\n",
      "2020-02-28 20:13:33,308 - step 638/1576, loss: 5869.050, psnr: 5869.050\n"
     ]
    },
    {
     "name": "stdout",
     "output_type": "stream",
     "text": [
      "Train step success!!\n",
      "Iterating\n",
      "Train step success!!\n",
      "Iterating\n"
     ]
    },
    {
     "name": "stderr",
     "output_type": "stream",
     "text": [
      "2020-02-28 20:13:33,412 - step 639/1576, loss: 5892.980, psnr: 5892.980\n",
      "2020-02-28 20:13:33,514 - step 640/1576, loss: 5930.559, psnr: 5930.559\n"
     ]
    },
    {
     "name": "stdout",
     "output_type": "stream",
     "text": [
      "Train step success!!\n",
      "Iterating\n",
      "Train step success!!\n",
      "Iterating\n"
     ]
    },
    {
     "name": "stderr",
     "output_type": "stream",
     "text": [
      "2020-02-28 20:13:33,618 - step 641/1576, loss: 5906.571, psnr: 5906.571\n",
      "2020-02-28 20:13:33,722 - step 642/1576, loss: 5937.488, psnr: 5937.488\n"
     ]
    },
    {
     "name": "stdout",
     "output_type": "stream",
     "text": [
      "Train step success!!\n",
      "Iterating\n",
      "Train step success!!\n",
      "Iterating\n"
     ]
    },
    {
     "name": "stderr",
     "output_type": "stream",
     "text": [
      "2020-02-28 20:13:33,825 - step 643/1576, loss: 5944.610, psnr: 5944.610\n",
      "2020-02-28 20:13:33,928 - step 644/1576, loss: 5950.938, psnr: 5950.938\n"
     ]
    },
    {
     "name": "stdout",
     "output_type": "stream",
     "text": [
      "Train step success!!\n",
      "Iterating\n",
      "Train step success!!\n",
      "Iterating\n"
     ]
    },
    {
     "name": "stderr",
     "output_type": "stream",
     "text": [
      "2020-02-28 20:13:34,035 - step 645/1576, loss: 5952.349, psnr: 5952.349\n",
      "2020-02-28 20:13:34,138 - step 646/1576, loss: 5976.205, psnr: 5976.205\n"
     ]
    },
    {
     "name": "stdout",
     "output_type": "stream",
     "text": [
      "Train step success!!\n",
      "Iterating\n",
      "Train step success!!\n",
      "Iterating\n"
     ]
    },
    {
     "name": "stderr",
     "output_type": "stream",
     "text": [
      "2020-02-28 20:13:34,243 - step 647/1576, loss: 5942.377, psnr: 5942.377\n",
      "2020-02-28 20:13:34,346 - step 648/1576, loss: 5943.219, psnr: 5943.219\n"
     ]
    },
    {
     "name": "stdout",
     "output_type": "stream",
     "text": [
      "Train step success!!\n",
      "Iterating\n",
      "Train step success!!\n",
      "Iterating\n"
     ]
    },
    {
     "name": "stderr",
     "output_type": "stream",
     "text": [
      "2020-02-28 20:13:34,451 - step 649/1576, loss: 5913.976, psnr: 5913.976\n",
      "2020-02-28 20:13:34,555 - step 650/1576, loss: 5917.041, psnr: 5917.041\n"
     ]
    },
    {
     "name": "stdout",
     "output_type": "stream",
     "text": [
      "Train step success!!\n",
      "Iterating\n",
      "Train step success!!\n",
      "Iterating\n"
     ]
    },
    {
     "name": "stderr",
     "output_type": "stream",
     "text": [
      "2020-02-28 20:13:34,659 - step 651/1576, loss: 5929.683, psnr: 5929.683\n",
      "2020-02-28 20:13:34,762 - step 652/1576, loss: 5934.809, psnr: 5934.809\n"
     ]
    },
    {
     "name": "stdout",
     "output_type": "stream",
     "text": [
      "Train step success!!\n",
      "Iterating\n",
      "Train step success!!\n",
      "Iterating\n"
     ]
    },
    {
     "name": "stderr",
     "output_type": "stream",
     "text": [
      "2020-02-28 20:13:34,867 - step 653/1576, loss: 5913.559, psnr: 5913.559\n",
      "2020-02-28 20:13:34,971 - step 654/1576, loss: 5918.580, psnr: 5918.580\n"
     ]
    },
    {
     "name": "stdout",
     "output_type": "stream",
     "text": [
      "Train step success!!\n",
      "Iterating\n",
      "Train step success!!\n",
      "Iterating\n"
     ]
    },
    {
     "name": "stderr",
     "output_type": "stream",
     "text": [
      "2020-02-28 20:13:35,083 - step 655/1576, loss: 5934.979, psnr: 5934.979\n",
      "2020-02-28 20:13:35,185 - step 656/1576, loss: 5952.625, psnr: 5952.625\n"
     ]
    },
    {
     "name": "stdout",
     "output_type": "stream",
     "text": [
      "Train step success!!\n",
      "Iterating\n",
      "Train step success!!\n",
      "Iterating\n"
     ]
    },
    {
     "name": "stderr",
     "output_type": "stream",
     "text": [
      "2020-02-28 20:13:35,289 - step 657/1576, loss: 5947.519, psnr: 5947.519\n",
      "2020-02-28 20:13:35,392 - step 658/1576, loss: 5919.390, psnr: 5919.390\n"
     ]
    },
    {
     "name": "stdout",
     "output_type": "stream",
     "text": [
      "Train step success!!\n",
      "Iterating\n",
      "Train step success!!\n",
      "Iterating\n"
     ]
    },
    {
     "name": "stderr",
     "output_type": "stream",
     "text": [
      "2020-02-28 20:13:35,496 - step 659/1576, loss: 5939.457, psnr: 5939.457\n",
      "2020-02-28 20:13:35,599 - step 660/1576, loss: 5935.827, psnr: 5935.827\n"
     ]
    },
    {
     "name": "stdout",
     "output_type": "stream",
     "text": [
      "Train step success!!\n",
      "Iterating\n",
      "Train step success!!\n",
      "Iterating\n"
     ]
    },
    {
     "name": "stderr",
     "output_type": "stream",
     "text": [
      "2020-02-28 20:13:35,702 - step 661/1576, loss: 5933.175, psnr: 5933.175\n",
      "2020-02-28 20:13:35,804 - step 662/1576, loss: 5939.236, psnr: 5939.236\n"
     ]
    },
    {
     "name": "stdout",
     "output_type": "stream",
     "text": [
      "Train step success!!\n",
      "Iterating\n",
      "Train step success!!\n",
      "Iterating\n"
     ]
    },
    {
     "name": "stderr",
     "output_type": "stream",
     "text": [
      "2020-02-28 20:13:35,908 - step 663/1576, loss: 5925.024, psnr: 5925.024\n",
      "2020-02-28 20:13:36,009 - step 664/1576, loss: 5904.994, psnr: 5904.994\n"
     ]
    },
    {
     "name": "stdout",
     "output_type": "stream",
     "text": [
      "Train step success!!\n",
      "Iterating\n",
      "Train step success!!\n",
      "Iterating\n"
     ]
    },
    {
     "name": "stderr",
     "output_type": "stream",
     "text": [
      "2020-02-28 20:13:36,112 - step 665/1576, loss: 5888.781, psnr: 5888.781\n",
      "2020-02-28 20:13:36,215 - step 666/1576, loss: 5893.805, psnr: 5893.805\n"
     ]
    },
    {
     "name": "stdout",
     "output_type": "stream",
     "text": [
      "Train step success!!\n",
      "Iterating\n",
      "Train step success!!\n",
      "Iterating\n"
     ]
    },
    {
     "name": "stderr",
     "output_type": "stream",
     "text": [
      "2020-02-28 20:13:36,319 - step 667/1576, loss: 5854.118, psnr: 5854.118\n",
      "2020-02-28 20:13:36,428 - step 668/1576, loss: 5862.180, psnr: 5862.180\n"
     ]
    },
    {
     "name": "stdout",
     "output_type": "stream",
     "text": [
      "Train step success!!\n",
      "Iterating\n",
      "Train step success!!\n",
      "Iterating\n"
     ]
    },
    {
     "name": "stderr",
     "output_type": "stream",
     "text": [
      "2020-02-28 20:13:36,533 - step 669/1576, loss: 5872.715, psnr: 5872.715\n",
      "2020-02-28 20:13:36,637 - step 670/1576, loss: 5876.648, psnr: 5876.648\n"
     ]
    },
    {
     "name": "stdout",
     "output_type": "stream",
     "text": [
      "Train step success!!\n",
      "Iterating\n",
      "Train step success!!\n",
      "Iterating\n"
     ]
    },
    {
     "name": "stderr",
     "output_type": "stream",
     "text": [
      "2020-02-28 20:13:36,741 - step 671/1576, loss: 5891.622, psnr: 5891.622\n",
      "2020-02-28 20:13:36,844 - step 672/1576, loss: 5873.297, psnr: 5873.297\n"
     ]
    },
    {
     "name": "stdout",
     "output_type": "stream",
     "text": [
      "Train step success!!\n",
      "Iterating\n",
      "Train step success!!\n",
      "Iterating\n"
     ]
    },
    {
     "name": "stderr",
     "output_type": "stream",
     "text": [
      "2020-02-28 20:13:36,947 - step 673/1576, loss: 5859.512, psnr: 5859.512\n",
      "2020-02-28 20:13:37,049 - step 674/1576, loss: 5811.514, psnr: 5811.514\n"
     ]
    },
    {
     "name": "stdout",
     "output_type": "stream",
     "text": [
      "Train step success!!\n",
      "Iterating\n",
      "Train step success!!\n",
      "Iterating\n"
     ]
    },
    {
     "name": "stderr",
     "output_type": "stream",
     "text": [
      "2020-02-28 20:13:37,152 - step 675/1576, loss: 5826.288, psnr: 5826.288\n",
      "2020-02-28 20:13:37,255 - step 676/1576, loss: 5831.390, psnr: 5831.390\n"
     ]
    },
    {
     "name": "stdout",
     "output_type": "stream",
     "text": [
      "Train step success!!\n",
      "Iterating\n",
      "Train step success!!\n",
      "Iterating\n"
     ]
    },
    {
     "name": "stderr",
     "output_type": "stream",
     "text": [
      "2020-02-28 20:13:37,359 - step 677/1576, loss: 5845.362, psnr: 5845.362\n",
      "2020-02-28 20:13:37,463 - step 678/1576, loss: 5792.839, psnr: 5792.839\n"
     ]
    },
    {
     "name": "stdout",
     "output_type": "stream",
     "text": [
      "Train step success!!\n",
      "Iterating\n",
      "Train step success!!\n",
      "Iterating\n"
     ]
    },
    {
     "name": "stderr",
     "output_type": "stream",
     "text": [
      "2020-02-28 20:13:37,567 - step 679/1576, loss: 5788.968, psnr: 5788.968\n",
      "2020-02-28 20:13:37,669 - step 680/1576, loss: 5777.806, psnr: 5777.806\n"
     ]
    },
    {
     "name": "stdout",
     "output_type": "stream",
     "text": [
      "Train step success!!\n",
      "Iterating\n",
      "Train step success!!\n",
      "Iterating\n"
     ]
    },
    {
     "name": "stderr",
     "output_type": "stream",
     "text": [
      "2020-02-28 20:13:37,788 - step 681/1576, loss: 5787.087, psnr: 5787.087\n",
      "2020-02-28 20:13:37,904 - step 682/1576, loss: 5812.954, psnr: 5812.954\n"
     ]
    },
    {
     "name": "stdout",
     "output_type": "stream",
     "text": [
      "Train step success!!\n",
      "Iterating\n",
      "Train step success!!\n",
      "Iterating\n"
     ]
    },
    {
     "name": "stderr",
     "output_type": "stream",
     "text": [
      "2020-02-28 20:13:38,021 - step 683/1576, loss: 5826.687, psnr: 5826.687\n",
      "2020-02-28 20:13:38,138 - step 684/1576, loss: 5834.893, psnr: 5834.893\n"
     ]
    },
    {
     "name": "stdout",
     "output_type": "stream",
     "text": [
      "Train step success!!\n",
      "Iterating\n",
      "Train step success!!\n",
      "Iterating\n"
     ]
    },
    {
     "name": "stderr",
     "output_type": "stream",
     "text": [
      "2020-02-28 20:13:38,249 - step 685/1576, loss: 5819.585, psnr: 5819.585\n",
      "2020-02-28 20:13:38,351 - step 686/1576, loss: 5824.138, psnr: 5824.138\n"
     ]
    },
    {
     "name": "stdout",
     "output_type": "stream",
     "text": [
      "Train step success!!\n",
      "Iterating\n",
      "Train step success!!\n",
      "Iterating\n"
     ]
    },
    {
     "name": "stderr",
     "output_type": "stream",
     "text": [
      "2020-02-28 20:13:38,454 - step 687/1576, loss: 5838.423, psnr: 5838.423\n",
      "2020-02-28 20:13:38,559 - step 688/1576, loss: 5844.083, psnr: 5844.083\n"
     ]
    },
    {
     "name": "stdout",
     "output_type": "stream",
     "text": [
      "Train step success!!\n",
      "Iterating\n",
      "Train step success!!\n",
      "Iterating\n"
     ]
    },
    {
     "name": "stderr",
     "output_type": "stream",
     "text": [
      "2020-02-28 20:13:38,663 - step 689/1576, loss: 5847.619, psnr: 5847.619\n",
      "2020-02-28 20:13:38,767 - step 690/1576, loss: 5861.953, psnr: 5861.953\n"
     ]
    },
    {
     "name": "stdout",
     "output_type": "stream",
     "text": [
      "Train step success!!\n",
      "Iterating\n",
      "Train step success!!\n",
      "Iterating\n"
     ]
    },
    {
     "name": "stderr",
     "output_type": "stream",
     "text": [
      "2020-02-28 20:13:38,873 - step 691/1576, loss: 5884.655, psnr: 5884.655\n",
      "2020-02-28 20:13:38,976 - step 692/1576, loss: 5894.555, psnr: 5894.555\n"
     ]
    },
    {
     "name": "stdout",
     "output_type": "stream",
     "text": [
      "Train step success!!\n",
      "Iterating\n",
      "Train step success!!\n",
      "Iterating\n"
     ]
    },
    {
     "name": "stderr",
     "output_type": "stream",
     "text": [
      "2020-02-28 20:13:39,082 - step 693/1576, loss: 5896.600, psnr: 5896.600\n",
      "2020-02-28 20:13:39,186 - step 694/1576, loss: 5880.835, psnr: 5880.835\n"
     ]
    },
    {
     "name": "stdout",
     "output_type": "stream",
     "text": [
      "Train step success!!\n",
      "Iterating\n",
      "Train step success!!\n",
      "Iterating\n"
     ]
    },
    {
     "name": "stderr",
     "output_type": "stream",
     "text": [
      "2020-02-28 20:13:39,295 - step 695/1576, loss: 5881.890, psnr: 5881.890\n",
      "2020-02-28 20:13:39,433 - step 696/1576, loss: 5894.033, psnr: 5894.033\n"
     ]
    },
    {
     "name": "stdout",
     "output_type": "stream",
     "text": [
      "Train step success!!\n",
      "Iterating\n",
      "Train step success!!\n",
      "Iterating\n"
     ]
    },
    {
     "name": "stderr",
     "output_type": "stream",
     "text": [
      "2020-02-28 20:13:39,570 - step 697/1576, loss: 5890.360, psnr: 5890.360\n",
      "2020-02-28 20:13:39,673 - step 698/1576, loss: 5876.514, psnr: 5876.514\n"
     ]
    },
    {
     "name": "stdout",
     "output_type": "stream",
     "text": [
      "Train step success!!\n",
      "Iterating\n",
      "Train step success!!\n",
      "Iterating\n"
     ]
    },
    {
     "name": "stderr",
     "output_type": "stream",
     "text": [
      "2020-02-28 20:13:39,777 - step 699/1576, loss: 5878.668, psnr: 5878.668\n",
      "2020-02-28 20:13:39,881 - step 700/1576, loss: 5899.044, psnr: 5899.044\n"
     ]
    },
    {
     "name": "stdout",
     "output_type": "stream",
     "text": [
      "Train step success!!\n",
      "Iterating\n",
      "Train step success!!\n"
     ]
    },
    {
     "name": "stderr",
     "output_type": "stream",
     "text": [
      "2020-02-28 20:13:45,756 - Validation results... val_loss: 4339.418, val_psnr: 4339.418\n",
      "2020-02-28 20:13:45,916 - step 701/1576, loss: 5884.639, psnr: 5884.639\n"
     ]
    },
    {
     "name": "stdout",
     "output_type": "stream",
     "text": [
      "Iterating\n",
      "Train step success!!\n",
      "Iterating\n",
      "Train step success!!\n"
     ]
    },
    {
     "name": "stderr",
     "output_type": "stream",
     "text": [
      "2020-02-28 20:13:46,019 - step 702/1576, loss: 5889.289, psnr: 5889.289\n",
      "2020-02-28 20:13:46,123 - step 703/1576, loss: 5886.860, psnr: 5886.860\n"
     ]
    },
    {
     "name": "stdout",
     "output_type": "stream",
     "text": [
      "Iterating\n",
      "Train step success!!\n",
      "Iterating\n",
      "Train step success!!\n"
     ]
    },
    {
     "name": "stderr",
     "output_type": "stream",
     "text": [
      "2020-02-28 20:13:46,225 - step 704/1576, loss: 5885.606, psnr: 5885.606\n",
      "2020-02-28 20:13:46,329 - step 705/1576, loss: 5874.068, psnr: 5874.068\n"
     ]
    },
    {
     "name": "stdout",
     "output_type": "stream",
     "text": [
      "Iterating\n",
      "Train step success!!\n",
      "Iterating\n",
      "Train step success!!\n"
     ]
    },
    {
     "name": "stderr",
     "output_type": "stream",
     "text": [
      "2020-02-28 20:13:46,432 - step 706/1576, loss: 5877.323, psnr: 5877.323\n",
      "2020-02-28 20:13:46,536 - step 707/1576, loss: 5879.515, psnr: 5879.515\n"
     ]
    },
    {
     "name": "stdout",
     "output_type": "stream",
     "text": [
      "Iterating\n",
      "Train step success!!\n",
      "Iterating\n",
      "Train step success!!\n"
     ]
    },
    {
     "name": "stderr",
     "output_type": "stream",
     "text": [
      "2020-02-28 20:13:46,640 - step 708/1576, loss: 5895.101, psnr: 5895.101\n",
      "2020-02-28 20:13:46,745 - step 709/1576, loss: 5900.144, psnr: 5900.144\n"
     ]
    },
    {
     "name": "stdout",
     "output_type": "stream",
     "text": [
      "Iterating\n",
      "Train step success!!\n",
      "Iterating\n",
      "Train step success!!\n"
     ]
    },
    {
     "name": "stderr",
     "output_type": "stream",
     "text": [
      "2020-02-28 20:13:46,848 - step 710/1576, loss: 5890.112, psnr: 5890.112\n",
      "2020-02-28 20:13:46,952 - step 711/1576, loss: 5888.944, psnr: 5888.944\n"
     ]
    },
    {
     "name": "stdout",
     "output_type": "stream",
     "text": [
      "Iterating\n",
      "Train step success!!\n",
      "Iterating\n",
      "Train step success!!\n"
     ]
    },
    {
     "name": "stderr",
     "output_type": "stream",
     "text": [
      "2020-02-28 20:13:47,055 - step 712/1576, loss: 5886.016, psnr: 5886.016\n",
      "2020-02-28 20:13:47,159 - step 713/1576, loss: 5875.598, psnr: 5875.598\n"
     ]
    },
    {
     "name": "stdout",
     "output_type": "stream",
     "text": [
      "Iterating\n",
      "Train step success!!\n",
      "Iterating\n",
      "Train step success!!\n"
     ]
    },
    {
     "name": "stderr",
     "output_type": "stream",
     "text": [
      "2020-02-28 20:13:47,262 - step 714/1576, loss: 5876.847, psnr: 5876.847\n",
      "2020-02-28 20:13:47,366 - step 715/1576, loss: 5880.598, psnr: 5880.598\n"
     ]
    },
    {
     "name": "stdout",
     "output_type": "stream",
     "text": [
      "Iterating\n",
      "Train step success!!\n",
      "Iterating\n",
      "Train step success!!\n"
     ]
    },
    {
     "name": "stderr",
     "output_type": "stream",
     "text": [
      "2020-02-28 20:13:47,469 - step 716/1576, loss: 5882.562, psnr: 5882.562\n",
      "2020-02-28 20:13:47,572 - step 717/1576, loss: 5873.271, psnr: 5873.271\n"
     ]
    },
    {
     "name": "stdout",
     "output_type": "stream",
     "text": [
      "Iterating\n",
      "Train step success!!\n",
      "Iterating\n",
      "Train step success!!\n"
     ]
    },
    {
     "name": "stderr",
     "output_type": "stream",
     "text": [
      "2020-02-28 20:13:47,675 - step 718/1576, loss: 5861.977, psnr: 5861.977\n",
      "2020-02-28 20:13:47,777 - step 719/1576, loss: 5857.647, psnr: 5857.647\n"
     ]
    },
    {
     "name": "stdout",
     "output_type": "stream",
     "text": [
      "Iterating\n",
      "Train step success!!\n",
      "Iterating\n",
      "Train step success!!\n"
     ]
    },
    {
     "name": "stderr",
     "output_type": "stream",
     "text": [
      "2020-02-28 20:13:47,881 - step 720/1576, loss: 5857.329, psnr: 5857.329\n",
      "2020-02-28 20:13:47,986 - step 721/1576, loss: 5868.196, psnr: 5868.196\n"
     ]
    },
    {
     "name": "stdout",
     "output_type": "stream",
     "text": [
      "Iterating\n",
      "Train step success!!\n",
      "Iterating\n",
      "Train step success!!\n"
     ]
    },
    {
     "name": "stderr",
     "output_type": "stream",
     "text": [
      "2020-02-28 20:13:48,089 - step 722/1576, loss: 5868.386, psnr: 5868.386\n",
      "2020-02-28 20:13:48,193 - step 723/1576, loss: 5873.845, psnr: 5873.845\n"
     ]
    },
    {
     "name": "stdout",
     "output_type": "stream",
     "text": [
      "Iterating\n",
      "Train step success!!\n",
      "Iterating\n",
      "Train step success!!\n"
     ]
    },
    {
     "name": "stderr",
     "output_type": "stream",
     "text": [
      "2020-02-28 20:13:48,295 - step 724/1576, loss: 5882.055, psnr: 5882.055\n",
      "2020-02-28 20:13:48,398 - step 725/1576, loss: 5890.762, psnr: 5890.762\n"
     ]
    },
    {
     "name": "stdout",
     "output_type": "stream",
     "text": [
      "Iterating\n",
      "Train step success!!\n",
      "Iterating\n",
      "Train step success!!\n"
     ]
    },
    {
     "name": "stderr",
     "output_type": "stream",
     "text": [
      "2020-02-28 20:13:48,501 - step 726/1576, loss: 5889.311, psnr: 5889.311\n",
      "2020-02-28 20:13:48,605 - step 727/1576, loss: 5878.009, psnr: 5878.009\n"
     ]
    },
    {
     "name": "stdout",
     "output_type": "stream",
     "text": [
      "Iterating\n",
      "Train step success!!\n",
      "Iterating\n",
      "Train step success!!\n"
     ]
    },
    {
     "name": "stderr",
     "output_type": "stream",
     "text": [
      "2020-02-28 20:13:48,707 - step 728/1576, loss: 5866.334, psnr: 5866.334\n",
      "2020-02-28 20:13:48,811 - step 729/1576, loss: 5875.418, psnr: 5875.418\n"
     ]
    },
    {
     "name": "stdout",
     "output_type": "stream",
     "text": [
      "Iterating\n",
      "Train step success!!\n",
      "Iterating\n",
      "Train step success!!\n"
     ]
    },
    {
     "name": "stderr",
     "output_type": "stream",
     "text": [
      "2020-02-28 20:13:48,913 - step 730/1576, loss: 5868.475, psnr: 5868.475\n",
      "2020-02-28 20:13:49,015 - step 731/1576, loss: 5858.940, psnr: 5858.940\n"
     ]
    },
    {
     "name": "stdout",
     "output_type": "stream",
     "text": [
      "Iterating\n",
      "Train step success!!\n",
      "Iterating\n",
      "Train step success!!\n"
     ]
    },
    {
     "name": "stderr",
     "output_type": "stream",
     "text": [
      "2020-02-28 20:13:49,118 - step 732/1576, loss: 5849.044, psnr: 5849.044\n",
      "2020-02-28 20:13:49,223 - step 733/1576, loss: 5855.117, psnr: 5855.117\n"
     ]
    },
    {
     "name": "stdout",
     "output_type": "stream",
     "text": [
      "Iterating\n",
      "Train step success!!\n",
      "Iterating\n",
      "Train step success!!\n"
     ]
    },
    {
     "name": "stderr",
     "output_type": "stream",
     "text": [
      "2020-02-28 20:13:49,326 - step 734/1576, loss: 5864.251, psnr: 5864.251\n",
      "2020-02-28 20:13:49,431 - step 735/1576, loss: 5854.442, psnr: 5854.442\n"
     ]
    },
    {
     "name": "stdout",
     "output_type": "stream",
     "text": [
      "Iterating\n",
      "Train step success!!\n",
      "Iterating\n",
      "Train step success!!\n"
     ]
    },
    {
     "name": "stderr",
     "output_type": "stream",
     "text": [
      "2020-02-28 20:13:49,538 - step 736/1576, loss: 5841.383, psnr: 5841.383\n",
      "2020-02-28 20:13:49,643 - step 737/1576, loss: 5853.139, psnr: 5853.139\n"
     ]
    },
    {
     "name": "stdout",
     "output_type": "stream",
     "text": [
      "Iterating\n",
      "Train step success!!\n",
      "Iterating\n",
      "Train step success!!\n"
     ]
    },
    {
     "name": "stderr",
     "output_type": "stream",
     "text": [
      "2020-02-28 20:13:49,748 - step 738/1576, loss: 5858.346, psnr: 5858.346\n",
      "2020-02-28 20:13:49,863 - step 739/1576, loss: 5850.267, psnr: 5850.267\n"
     ]
    },
    {
     "name": "stdout",
     "output_type": "stream",
     "text": [
      "Iterating\n",
      "Train step success!!\n",
      "Iterating\n",
      "Train step success!!\n"
     ]
    },
    {
     "name": "stderr",
     "output_type": "stream",
     "text": [
      "2020-02-28 20:13:49,968 - step 740/1576, loss: 5840.353, psnr: 5840.353\n",
      "2020-02-28 20:13:50,076 - step 741/1576, loss: 5851.142, psnr: 5851.142\n"
     ]
    },
    {
     "name": "stdout",
     "output_type": "stream",
     "text": [
      "Iterating\n",
      "Train step success!!\n",
      "Iterating\n",
      "Train step success!!\n"
     ]
    },
    {
     "name": "stderr",
     "output_type": "stream",
     "text": [
      "2020-02-28 20:13:50,194 - step 742/1576, loss: 5842.699, psnr: 5842.699\n",
      "2020-02-28 20:13:50,311 - step 743/1576, loss: 5833.206, psnr: 5833.206\n"
     ]
    },
    {
     "name": "stdout",
     "output_type": "stream",
     "text": [
      "Iterating\n",
      "Train step success!!\n",
      "Iterating\n"
     ]
    },
    {
     "name": "stderr",
     "output_type": "stream",
     "text": [
      "2020-02-28 20:13:50,426 - step 744/1576, loss: 5836.350, psnr: 5836.350\n",
      "2020-02-28 20:13:50,543 - step 745/1576, loss: 5829.801, psnr: 5829.801\n"
     ]
    },
    {
     "name": "stdout",
     "output_type": "stream",
     "text": [
      "Train step success!!\n",
      "Iterating\n",
      "Train step success!!\n",
      "Iterating\n"
     ]
    },
    {
     "name": "stderr",
     "output_type": "stream",
     "text": [
      "2020-02-28 20:13:50,660 - step 746/1576, loss: 5846.981, psnr: 5846.981\n",
      "2020-02-28 20:13:50,770 - step 747/1576, loss: 5838.652, psnr: 5838.652\n"
     ]
    },
    {
     "name": "stdout",
     "output_type": "stream",
     "text": [
      "Train step success!!\n",
      "Iterating\n",
      "Train step success!!\n",
      "Iterating\n"
     ]
    },
    {
     "name": "stderr",
     "output_type": "stream",
     "text": [
      "2020-02-28 20:13:50,881 - step 748/1576, loss: 5842.011, psnr: 5842.011\n",
      "2020-02-28 20:13:50,985 - step 749/1576, loss: 5852.714, psnr: 5852.714\n"
     ]
    },
    {
     "name": "stdout",
     "output_type": "stream",
     "text": [
      "Train step success!!\n",
      "Iterating\n",
      "Train step success!!\n",
      "Iterating\n"
     ]
    },
    {
     "name": "stderr",
     "output_type": "stream",
     "text": [
      "2020-02-28 20:13:51,092 - step 750/1576, loss: 5856.397, psnr: 5856.397\n",
      "2020-02-28 20:13:51,198 - step 751/1576, loss: 5853.977, psnr: 5853.977\n"
     ]
    },
    {
     "name": "stdout",
     "output_type": "stream",
     "text": [
      "Train step success!!\n",
      "Iterating\n",
      "Train step success!!\n",
      "Iterating\n"
     ]
    },
    {
     "name": "stderr",
     "output_type": "stream",
     "text": [
      "2020-02-28 20:13:51,306 - step 752/1576, loss: 5861.371, psnr: 5861.371\n",
      "2020-02-28 20:13:51,409 - step 753/1576, loss: 5868.340, psnr: 5868.340\n"
     ]
    },
    {
     "name": "stdout",
     "output_type": "stream",
     "text": [
      "Train step success!!\n",
      "Iterating\n",
      "Train step success!!\n",
      "Iterating\n"
     ]
    },
    {
     "name": "stderr",
     "output_type": "stream",
     "text": [
      "2020-02-28 20:13:51,513 - step 754/1576, loss: 5869.785, psnr: 5869.785\n",
      "2020-02-28 20:13:51,617 - step 755/1576, loss: 5878.209, psnr: 5878.209\n"
     ]
    },
    {
     "name": "stdout",
     "output_type": "stream",
     "text": [
      "Train step success!!\n",
      "Iterating\n",
      "Train step success!!\n",
      "Iterating\n"
     ]
    },
    {
     "name": "stderr",
     "output_type": "stream",
     "text": [
      "2020-02-28 20:13:51,721 - step 756/1576, loss: 5868.760, psnr: 5868.760\n",
      "2020-02-28 20:13:51,824 - step 757/1576, loss: 5877.542, psnr: 5877.542\n"
     ]
    },
    {
     "name": "stdout",
     "output_type": "stream",
     "text": [
      "Train step success!!\n",
      "Iterating\n",
      "Train step success!!\n",
      "Iterating\n"
     ]
    },
    {
     "name": "stderr",
     "output_type": "stream",
     "text": [
      "2020-02-28 20:13:51,928 - step 758/1576, loss: 5883.887, psnr: 5883.887\n",
      "2020-02-28 20:13:52,032 - step 759/1576, loss: 5885.182, psnr: 5885.182\n"
     ]
    },
    {
     "name": "stdout",
     "output_type": "stream",
     "text": [
      "Train step success!!\n",
      "Iterating\n",
      "Train step success!!\n",
      "Iterating\n"
     ]
    },
    {
     "name": "stderr",
     "output_type": "stream",
     "text": [
      "2020-02-28 20:13:52,146 - step 760/1576, loss: 5888.082, psnr: 5888.082\n",
      "2020-02-28 20:13:52,251 - step 761/1576, loss: 5874.816, psnr: 5874.816\n"
     ]
    },
    {
     "name": "stdout",
     "output_type": "stream",
     "text": [
      "Train step success!!\n",
      "Iterating\n",
      "Train step success!!\n",
      "Iterating\n"
     ]
    },
    {
     "name": "stderr",
     "output_type": "stream",
     "text": [
      "2020-02-28 20:13:52,365 - step 762/1576, loss: 5866.936, psnr: 5866.936\n",
      "2020-02-28 20:13:52,469 - step 763/1576, loss: 5858.911, psnr: 5858.911\n"
     ]
    },
    {
     "name": "stdout",
     "output_type": "stream",
     "text": [
      "Train step success!!\n",
      "Iterating\n",
      "Train step success!!\n",
      "Iterating\n"
     ]
    },
    {
     "name": "stderr",
     "output_type": "stream",
     "text": [
      "2020-02-28 20:13:52,577 - step 764/1576, loss: 5863.113, psnr: 5863.113\n",
      "2020-02-28 20:13:52,684 - step 765/1576, loss: 5861.230, psnr: 5861.230\n"
     ]
    },
    {
     "name": "stdout",
     "output_type": "stream",
     "text": [
      "Train step success!!\n",
      "Iterating\n",
      "Train step success!!\n",
      "Iterating\n"
     ]
    },
    {
     "name": "stderr",
     "output_type": "stream",
     "text": [
      "2020-02-28 20:13:52,793 - step 766/1576, loss: 5864.373, psnr: 5864.373\n",
      "2020-02-28 20:13:52,898 - step 767/1576, loss: 5866.160, psnr: 5866.160\n"
     ]
    },
    {
     "name": "stdout",
     "output_type": "stream",
     "text": [
      "Train step success!!\n",
      "Iterating\n",
      "Train step success!!\n",
      "Iterating\n"
     ]
    },
    {
     "name": "stderr",
     "output_type": "stream",
     "text": [
      "2020-02-28 20:13:53,006 - step 768/1576, loss: 5869.517, psnr: 5869.517\n",
      "2020-02-28 20:13:53,111 - step 769/1576, loss: 5875.583, psnr: 5875.583\n"
     ]
    },
    {
     "name": "stdout",
     "output_type": "stream",
     "text": [
      "Train step success!!\n",
      "Iterating\n",
      "Train step success!!\n",
      "Iterating\n"
     ]
    },
    {
     "name": "stderr",
     "output_type": "stream",
     "text": [
      "2020-02-28 20:13:53,218 - step 770/1576, loss: 5879.292, psnr: 5879.292\n",
      "2020-02-28 20:13:53,324 - step 771/1576, loss: 5883.872, psnr: 5883.872\n"
     ]
    },
    {
     "name": "stdout",
     "output_type": "stream",
     "text": [
      "Train step success!!\n",
      "Iterating\n",
      "Train step success!!\n",
      "Iterating\n"
     ]
    },
    {
     "name": "stderr",
     "output_type": "stream",
     "text": [
      "2020-02-28 20:13:53,432 - step 772/1576, loss: 5877.843, psnr: 5877.843\n",
      "2020-02-28 20:13:53,538 - step 773/1576, loss: 5871.627, psnr: 5871.627\n"
     ]
    },
    {
     "name": "stdout",
     "output_type": "stream",
     "text": [
      "Train step success!!\n",
      "Iterating\n",
      "Train step success!!\n",
      "Iterating\n"
     ]
    },
    {
     "name": "stderr",
     "output_type": "stream",
     "text": [
      "2020-02-28 20:13:53,649 - step 774/1576, loss: 5870.735, psnr: 5870.735\n",
      "2020-02-28 20:13:53,754 - step 775/1576, loss: 5873.024, psnr: 5873.024\n"
     ]
    },
    {
     "name": "stdout",
     "output_type": "stream",
     "text": [
      "Train step success!!\n",
      "Iterating\n",
      "Train step success!!\n",
      "Iterating\n"
     ]
    },
    {
     "name": "stderr",
     "output_type": "stream",
     "text": [
      "2020-02-28 20:13:53,861 - step 776/1576, loss: 5867.458, psnr: 5867.458\n",
      "2020-02-28 20:13:53,966 - step 777/1576, loss: 5860.866, psnr: 5860.866\n"
     ]
    },
    {
     "name": "stdout",
     "output_type": "stream",
     "text": [
      "Train step success!!\n",
      "Iterating\n",
      "Train step success!!\n",
      "Iterating\n"
     ]
    },
    {
     "name": "stderr",
     "output_type": "stream",
     "text": [
      "2020-02-28 20:13:54,074 - step 778/1576, loss: 5864.080, psnr: 5864.080\n",
      "2020-02-28 20:13:54,179 - step 779/1576, loss: 5869.545, psnr: 5869.545\n"
     ]
    },
    {
     "name": "stdout",
     "output_type": "stream",
     "text": [
      "Train step success!!\n",
      "Iterating\n",
      "Train step success!!\n",
      "Iterating\n"
     ]
    },
    {
     "name": "stderr",
     "output_type": "stream",
     "text": [
      "2020-02-28 20:13:54,289 - step 780/1576, loss: 5870.333, psnr: 5870.333\n",
      "2020-02-28 20:13:54,393 - step 781/1576, loss: 5863.917, psnr: 5863.917\n"
     ]
    },
    {
     "name": "stdout",
     "output_type": "stream",
     "text": [
      "Train step success!!\n",
      "Iterating\n",
      "Train step success!!\n",
      "Iterating\n"
     ]
    },
    {
     "name": "stderr",
     "output_type": "stream",
     "text": [
      "2020-02-28 20:13:54,500 - step 782/1576, loss: 5865.341, psnr: 5865.341\n",
      "2020-02-28 20:13:54,605 - step 783/1576, loss: 5869.302, psnr: 5869.302\n"
     ]
    },
    {
     "name": "stdout",
     "output_type": "stream",
     "text": [
      "Train step success!!\n",
      "Iterating\n",
      "Train step success!!\n",
      "Iterating\n"
     ]
    },
    {
     "name": "stderr",
     "output_type": "stream",
     "text": [
      "2020-02-28 20:13:54,717 - step 784/1576, loss: 5864.244, psnr: 5864.244\n",
      "2020-02-28 20:13:54,822 - step 785/1576, loss: 5863.586, psnr: 5863.586\n"
     ]
    },
    {
     "name": "stdout",
     "output_type": "stream",
     "text": [
      "Train step success!!\n",
      "Iterating\n",
      "Train step success!!\n",
      "Iterating\n"
     ]
    },
    {
     "name": "stderr",
     "output_type": "stream",
     "text": [
      "2020-02-28 20:13:54,932 - step 786/1576, loss: 5871.840, psnr: 5871.840\n",
      "2020-02-28 20:13:55,037 - step 787/1576, loss: 5874.962, psnr: 5874.962\n"
     ]
    },
    {
     "name": "stdout",
     "output_type": "stream",
     "text": [
      "Train step success!!\n",
      "Iterating\n",
      "Train step success!!\n",
      "Iterating\n"
     ]
    },
    {
     "name": "stderr",
     "output_type": "stream",
     "text": [
      "2020-02-28 20:13:55,144 - step 788/1576, loss: 5879.121, psnr: 5879.121\n",
      "2020-02-28 20:13:55,252 - step 789/1576, loss: 5883.117, psnr: 5883.117\n"
     ]
    },
    {
     "name": "stdout",
     "output_type": "stream",
     "text": [
      "Train step success!!\n",
      "Iterating\n",
      "Train step success!!\n",
      "Iterating\n"
     ]
    },
    {
     "name": "stderr",
     "output_type": "stream",
     "text": [
      "2020-02-28 20:13:55,361 - step 790/1576, loss: 5893.977, psnr: 5893.977\n",
      "2020-02-28 20:13:55,466 - step 791/1576, loss: 5886.258, psnr: 5886.258\n"
     ]
    },
    {
     "name": "stdout",
     "output_type": "stream",
     "text": [
      "Train step success!!\n",
      "Iterating\n",
      "Train step success!!\n",
      "Iterating\n"
     ]
    },
    {
     "name": "stderr",
     "output_type": "stream",
     "text": [
      "2020-02-28 20:13:55,577 - step 792/1576, loss: 5885.008, psnr: 5885.008\n",
      "2020-02-28 20:13:55,682 - step 793/1576, loss: 5894.420, psnr: 5894.420\n"
     ]
    },
    {
     "name": "stdout",
     "output_type": "stream",
     "text": [
      "Train step success!!\n",
      "Iterating\n",
      "Train step success!!\n",
      "Iterating\n"
     ]
    },
    {
     "name": "stderr",
     "output_type": "stream",
     "text": [
      "2020-02-28 20:13:55,789 - step 794/1576, loss: 5887.370, psnr: 5887.370\n",
      "2020-02-28 20:13:55,896 - step 795/1576, loss: 5888.250, psnr: 5888.250\n"
     ]
    },
    {
     "name": "stdout",
     "output_type": "stream",
     "text": [
      "Train step success!!\n",
      "Iterating\n",
      "Train step success!!\n",
      "Iterating\n"
     ]
    },
    {
     "name": "stderr",
     "output_type": "stream",
     "text": [
      "2020-02-28 20:13:56,003 - step 796/1576, loss: 5892.279, psnr: 5892.279\n",
      "2020-02-28 20:13:56,109 - step 797/1576, loss: 5896.982, psnr: 5896.982\n"
     ]
    },
    {
     "name": "stdout",
     "output_type": "stream",
     "text": [
      "Train step success!!\n",
      "Iterating\n",
      "Train step success!!\n",
      "Iterating\n"
     ]
    },
    {
     "name": "stderr",
     "output_type": "stream",
     "text": [
      "2020-02-28 20:13:56,217 - step 798/1576, loss: 5889.281, psnr: 5889.281\n",
      "2020-02-28 20:13:56,321 - step 799/1576, loss: 5882.900, psnr: 5882.900\n"
     ]
    },
    {
     "name": "stdout",
     "output_type": "stream",
     "text": [
      "Train step success!!\n",
      "Iterating\n",
      "Train step success!!\n",
      "Iterating\n"
     ]
    },
    {
     "name": "stderr",
     "output_type": "stream",
     "text": [
      "2020-02-28 20:13:56,430 - step 800/1576, loss: 5885.541, psnr: 5885.541\n"
     ]
    },
    {
     "name": "stdout",
     "output_type": "stream",
     "text": [
      "Train step success!!\n"
     ]
    },
    {
     "name": "stderr",
     "output_type": "stream",
     "text": [
      "2020-02-28 20:13:58,662 - Validation results... val_loss: 4339.418, val_psnr: 4339.418\n",
      "2020-02-28 20:13:58,766 - step 801/1576, loss: 5878.014, psnr: 5878.014\n"
     ]
    },
    {
     "name": "stdout",
     "output_type": "stream",
     "text": [
      "Iterating\n",
      "Train step success!!\n",
      "Iterating\n",
      "Train step success!!\n"
     ]
    },
    {
     "name": "stderr",
     "output_type": "stream",
     "text": [
      "2020-02-28 20:13:58,870 - step 802/1576, loss: 5881.371, psnr: 5881.371\n",
      "2020-02-28 20:13:58,976 - step 803/1576, loss: 5886.583, psnr: 5886.583\n"
     ]
    },
    {
     "name": "stdout",
     "output_type": "stream",
     "text": [
      "Iterating\n",
      "Train step success!!\n",
      "Iterating\n",
      "Train step success!!\n"
     ]
    },
    {
     "name": "stderr",
     "output_type": "stream",
     "text": [
      "2020-02-28 20:13:59,085 - step 804/1576, loss: 5879.609, psnr: 5879.609\n",
      "2020-02-28 20:13:59,191 - step 805/1576, loss: 5880.671, psnr: 5880.671\n"
     ]
    },
    {
     "name": "stdout",
     "output_type": "stream",
     "text": [
      "Iterating\n",
      "Train step success!!\n",
      "Iterating\n",
      "Train step success!!\n"
     ]
    },
    {
     "name": "stderr",
     "output_type": "stream",
     "text": [
      "2020-02-28 20:13:59,296 - step 806/1576, loss: 5881.290, psnr: 5881.290\n",
      "2020-02-28 20:13:59,404 - step 807/1576, loss: 5873.889, psnr: 5873.889\n"
     ]
    },
    {
     "name": "stdout",
     "output_type": "stream",
     "text": [
      "Iterating\n",
      "Train step success!!\n",
      "Iterating\n",
      "Train step success!!\n"
     ]
    },
    {
     "name": "stderr",
     "output_type": "stream",
     "text": [
      "2020-02-28 20:13:59,510 - step 808/1576, loss: 5868.570, psnr: 5868.570\n",
      "2020-02-28 20:13:59,616 - step 809/1576, loss: 5857.775, psnr: 5857.775\n"
     ]
    },
    {
     "name": "stdout",
     "output_type": "stream",
     "text": [
      "Iterating\n",
      "Train step success!!\n",
      "Iterating\n",
      "Train step success!!\n"
     ]
    },
    {
     "name": "stderr",
     "output_type": "stream",
     "text": [
      "2020-02-28 20:13:59,722 - step 810/1576, loss: 5863.929, psnr: 5863.929\n",
      "2020-02-28 20:13:59,829 - step 811/1576, loss: 5866.399, psnr: 5866.399\n"
     ]
    },
    {
     "name": "stdout",
     "output_type": "stream",
     "text": [
      "Iterating\n",
      "Train step success!!\n",
      "Iterating\n",
      "Train step success!!\n"
     ]
    },
    {
     "name": "stderr",
     "output_type": "stream",
     "text": [
      "2020-02-28 20:13:59,934 - step 812/1576, loss: 5865.546, psnr: 5865.546\n",
      "2020-02-28 20:14:00,042 - step 813/1576, loss: 5866.152, psnr: 5866.152\n"
     ]
    },
    {
     "name": "stdout",
     "output_type": "stream",
     "text": [
      "Iterating\n",
      "Train step success!!\n",
      "Iterating\n",
      "Train step success!!\n"
     ]
    },
    {
     "name": "stderr",
     "output_type": "stream",
     "text": [
      "2020-02-28 20:14:00,147 - step 814/1576, loss: 5854.780, psnr: 5854.780\n",
      "2020-02-28 20:14:00,254 - step 815/1576, loss: 5856.529, psnr: 5856.529\n"
     ]
    },
    {
     "name": "stdout",
     "output_type": "stream",
     "text": [
      "Iterating\n",
      "Train step success!!\n",
      "Iterating\n",
      "Train step success!!\n"
     ]
    },
    {
     "name": "stderr",
     "output_type": "stream",
     "text": [
      "2020-02-28 20:14:00,359 - step 816/1576, loss: 5852.047, psnr: 5852.047\n",
      "2020-02-28 20:14:00,469 - step 817/1576, loss: 5852.490, psnr: 5852.490\n"
     ]
    },
    {
     "name": "stdout",
     "output_type": "stream",
     "text": [
      "Iterating\n",
      "Train step success!!\n",
      "Iterating\n",
      "Train step success!!\n"
     ]
    },
    {
     "name": "stderr",
     "output_type": "stream",
     "text": [
      "2020-02-28 20:14:00,574 - step 818/1576, loss: 5853.369, psnr: 5853.369\n",
      "2020-02-28 20:14:00,681 - step 819/1576, loss: 5845.447, psnr: 5845.447\n"
     ]
    },
    {
     "name": "stdout",
     "output_type": "stream",
     "text": [
      "Iterating\n",
      "Train step success!!\n",
      "Iterating\n",
      "Train step success!!\n"
     ]
    },
    {
     "name": "stderr",
     "output_type": "stream",
     "text": [
      "2020-02-28 20:14:00,787 - step 820/1576, loss: 5851.374, psnr: 5851.374\n",
      "2020-02-28 20:14:00,904 - step 821/1576, loss: 5846.174, psnr: 5846.174\n"
     ]
    },
    {
     "name": "stdout",
     "output_type": "stream",
     "text": [
      "Iterating\n",
      "Train step success!!\n",
      "Iterating\n",
      "Train step success!!\n"
     ]
    },
    {
     "name": "stderr",
     "output_type": "stream",
     "text": [
      "2020-02-28 20:14:01,012 - step 822/1576, loss: 5849.148, psnr: 5849.148\n",
      "2020-02-28 20:14:01,117 - step 823/1576, loss: 5852.644, psnr: 5852.644\n"
     ]
    },
    {
     "name": "stdout",
     "output_type": "stream",
     "text": [
      "Iterating\n",
      "Train step success!!\n",
      "Iterating\n",
      "Train step success!!\n"
     ]
    },
    {
     "name": "stderr",
     "output_type": "stream",
     "text": [
      "2020-02-28 20:14:01,221 - step 824/1576, loss: 5853.249, psnr: 5853.249\n",
      "2020-02-28 20:14:01,327 - step 825/1576, loss: 5849.972, psnr: 5849.972\n"
     ]
    },
    {
     "name": "stdout",
     "output_type": "stream",
     "text": [
      "Iterating\n",
      "Train step success!!\n",
      "Iterating\n",
      "Train step success!!\n"
     ]
    },
    {
     "name": "stderr",
     "output_type": "stream",
     "text": [
      "2020-02-28 20:14:01,434 - step 826/1576, loss: 5850.591, psnr: 5850.591\n",
      "2020-02-28 20:14:01,542 - step 827/1576, loss: 5851.304, psnr: 5851.304\n"
     ]
    },
    {
     "name": "stdout",
     "output_type": "stream",
     "text": [
      "Iterating\n",
      "Train step success!!\n",
      "Iterating\n",
      "Train step success!!\n"
     ]
    },
    {
     "name": "stderr",
     "output_type": "stream",
     "text": [
      "2020-02-28 20:14:01,646 - step 828/1576, loss: 5845.080, psnr: 5845.080\n",
      "2020-02-28 20:14:01,755 - step 829/1576, loss: 5826.696, psnr: 5826.696\n"
     ]
    },
    {
     "name": "stdout",
     "output_type": "stream",
     "text": [
      "Iterating\n",
      "Train step success!!\n",
      "Iterating\n",
      "Train step success!!\n"
     ]
    },
    {
     "name": "stderr",
     "output_type": "stream",
     "text": [
      "2020-02-28 20:14:01,864 - step 830/1576, loss: 5830.319, psnr: 5830.319\n",
      "2020-02-28 20:14:01,969 - step 831/1576, loss: 5830.500, psnr: 5830.500\n"
     ]
    },
    {
     "name": "stdout",
     "output_type": "stream",
     "text": [
      "Iterating\n",
      "Train step success!!\n",
      "Iterating\n",
      "Train step success!!\n"
     ]
    },
    {
     "name": "stderr",
     "output_type": "stream",
     "text": [
      "2020-02-28 20:14:02,074 - step 832/1576, loss: 5831.212, psnr: 5831.212\n",
      "2020-02-28 20:14:02,182 - step 833/1576, loss: 5824.839, psnr: 5824.839\n"
     ]
    },
    {
     "name": "stdout",
     "output_type": "stream",
     "text": [
      "Iterating\n",
      "Train step success!!\n",
      "Iterating\n",
      "Train step success!!\n"
     ]
    },
    {
     "name": "stderr",
     "output_type": "stream",
     "text": [
      "2020-02-28 20:14:02,289 - step 834/1576, loss: 5827.021, psnr: 5827.021\n",
      "2020-02-28 20:14:02,401 - step 835/1576, loss: 5828.192, psnr: 5828.192\n"
     ]
    },
    {
     "name": "stdout",
     "output_type": "stream",
     "text": [
      "Iterating\n",
      "Train step success!!\n",
      "Iterating\n",
      "Train step success!!\n"
     ]
    },
    {
     "name": "stderr",
     "output_type": "stream",
     "text": [
      "2020-02-28 20:14:02,506 - step 836/1576, loss: 5837.359, psnr: 5837.359\n",
      "2020-02-28 20:14:02,615 - step 837/1576, loss: 5837.952, psnr: 5837.952\n"
     ]
    },
    {
     "name": "stdout",
     "output_type": "stream",
     "text": [
      "Iterating\n",
      "Train step success!!\n",
      "Iterating\n",
      "Train step success!!\n"
     ]
    },
    {
     "name": "stderr",
     "output_type": "stream",
     "text": [
      "2020-02-28 20:14:02,721 - step 838/1576, loss: 5838.921, psnr: 5838.921\n",
      "2020-02-28 20:14:02,827 - step 839/1576, loss: 5836.443, psnr: 5836.443\n"
     ]
    },
    {
     "name": "stdout",
     "output_type": "stream",
     "text": [
      "Iterating\n",
      "Train step success!!\n",
      "Iterating\n",
      "Train step success!!\n"
     ]
    },
    {
     "name": "stderr",
     "output_type": "stream",
     "text": [
      "2020-02-28 20:14:02,933 - step 840/1576, loss: 5838.257, psnr: 5838.257\n",
      "2020-02-28 20:14:03,039 - step 841/1576, loss: 5839.946, psnr: 5839.946\n"
     ]
    },
    {
     "name": "stdout",
     "output_type": "stream",
     "text": [
      "Iterating\n",
      "Train step success!!\n",
      "Iterating\n",
      "Train step success!!\n"
     ]
    },
    {
     "name": "stderr",
     "output_type": "stream",
     "text": [
      "2020-02-28 20:14:03,141 - step 842/1576, loss: 5842.297, psnr: 5842.297\n",
      "2020-02-28 20:14:03,245 - step 843/1576, loss: 5838.190, psnr: 5838.190\n"
     ]
    },
    {
     "name": "stdout",
     "output_type": "stream",
     "text": [
      "Iterating\n",
      "Train step success!!\n",
      "Iterating\n",
      "Train step success!!\n"
     ]
    },
    {
     "name": "stderr",
     "output_type": "stream",
     "text": [
      "2020-02-28 20:14:03,349 - step 844/1576, loss: 5846.823, psnr: 5846.823\n",
      "2020-02-28 20:14:03,456 - step 845/1576, loss: 5842.749, psnr: 5842.749\n"
     ]
    },
    {
     "name": "stdout",
     "output_type": "stream",
     "text": [
      "Iterating\n",
      "Train step success!!\n",
      "Iterating\n",
      "Train step success!!\n"
     ]
    },
    {
     "name": "stderr",
     "output_type": "stream",
     "text": [
      "2020-02-28 20:14:03,559 - step 846/1576, loss: 5837.088, psnr: 5837.088\n",
      "2020-02-28 20:14:03,664 - step 847/1576, loss: 5831.858, psnr: 5831.858\n"
     ]
    },
    {
     "name": "stdout",
     "output_type": "stream",
     "text": [
      "Iterating\n",
      "Train step success!!\n",
      "Iterating\n",
      "Train step success!!\n"
     ]
    },
    {
     "name": "stderr",
     "output_type": "stream",
     "text": [
      "2020-02-28 20:14:03,767 - step 848/1576, loss: 5830.007, psnr: 5830.007\n",
      "2020-02-28 20:14:03,871 - step 849/1576, loss: 5832.841, psnr: 5832.841\n"
     ]
    },
    {
     "name": "stdout",
     "output_type": "stream",
     "text": [
      "Iterating\n",
      "Train step success!!\n",
      "Iterating\n",
      "Train step success!!\n"
     ]
    },
    {
     "name": "stderr",
     "output_type": "stream",
     "text": [
      "2020-02-28 20:14:03,974 - step 850/1576, loss: 5830.797, psnr: 5830.797\n",
      "2020-02-28 20:14:04,082 - step 851/1576, loss: 5834.072, psnr: 5834.072\n"
     ]
    },
    {
     "name": "stdout",
     "output_type": "stream",
     "text": [
      "Iterating\n",
      "Train step success!!\n",
      "Iterating\n",
      "Train step success!!\n"
     ]
    },
    {
     "name": "stderr",
     "output_type": "stream",
     "text": [
      "2020-02-28 20:14:04,200 - step 852/1576, loss: 5835.569, psnr: 5835.569\n",
      "2020-02-28 20:14:04,304 - step 853/1576, loss: 5832.302, psnr: 5832.302\n"
     ]
    },
    {
     "name": "stdout",
     "output_type": "stream",
     "text": [
      "Iterating\n",
      "Train step success!!\n",
      "Iterating\n",
      "Train step success!!\n"
     ]
    },
    {
     "name": "stderr",
     "output_type": "stream",
     "text": [
      "2020-02-28 20:14:04,409 - step 854/1576, loss: 5828.265, psnr: 5828.265\n",
      "2020-02-28 20:14:04,516 - step 855/1576, loss: 5827.979, psnr: 5827.979\n"
     ]
    },
    {
     "name": "stdout",
     "output_type": "stream",
     "text": [
      "Iterating\n",
      "Train step success!!\n",
      "Iterating\n",
      "Train step success!!\n"
     ]
    },
    {
     "name": "stderr",
     "output_type": "stream",
     "text": [
      "2020-02-28 20:14:04,626 - step 856/1576, loss: 5823.638, psnr: 5823.638\n",
      "2020-02-28 20:14:04,733 - step 857/1576, loss: 5828.843, psnr: 5828.843\n"
     ]
    },
    {
     "name": "stdout",
     "output_type": "stream",
     "text": [
      "Iterating\n",
      "Train step success!!\n",
      "Iterating\n",
      "Train step success!!\n"
     ]
    },
    {
     "name": "stderr",
     "output_type": "stream",
     "text": [
      "2020-02-28 20:14:04,839 - step 858/1576, loss: 5831.588, psnr: 5831.588\n",
      "2020-02-28 20:14:04,946 - step 859/1576, loss: 5839.551, psnr: 5839.551\n"
     ]
    },
    {
     "name": "stdout",
     "output_type": "stream",
     "text": [
      "Iterating\n",
      "Train step success!!\n",
      "Iterating\n",
      "Train step success!!\n"
     ]
    },
    {
     "name": "stderr",
     "output_type": "stream",
     "text": [
      "2020-02-28 20:14:05,050 - step 860/1576, loss: 5834.720, psnr: 5834.720\n",
      "2020-02-28 20:14:05,157 - step 861/1576, loss: 5828.881, psnr: 5828.881\n"
     ]
    },
    {
     "name": "stdout",
     "output_type": "stream",
     "text": [
      "Iterating\n",
      "Train step success!!\n",
      "Iterating\n",
      "Train step success!!\n"
     ]
    },
    {
     "name": "stderr",
     "output_type": "stream",
     "text": [
      "2020-02-28 20:14:05,263 - step 862/1576, loss: 5824.786, psnr: 5824.786\n",
      "2020-02-28 20:14:05,373 - step 863/1576, loss: 5827.256, psnr: 5827.256\n"
     ]
    },
    {
     "name": "stdout",
     "output_type": "stream",
     "text": [
      "Iterating\n",
      "Train step success!!\n",
      "Iterating\n",
      "Train step success!!\n"
     ]
    },
    {
     "name": "stderr",
     "output_type": "stream",
     "text": [
      "2020-02-28 20:14:05,478 - step 864/1576, loss: 5814.543, psnr: 5814.543\n",
      "2020-02-28 20:14:05,584 - step 865/1576, loss: 5823.884, psnr: 5823.884\n"
     ]
    },
    {
     "name": "stdout",
     "output_type": "stream",
     "text": [
      "Iterating\n",
      "Train step success!!\n",
      "Iterating\n",
      "Train step success!!\n"
     ]
    },
    {
     "name": "stderr",
     "output_type": "stream",
     "text": [
      "2020-02-28 20:14:05,688 - step 866/1576, loss: 5822.613, psnr: 5822.613\n",
      "2020-02-28 20:14:05,797 - step 867/1576, loss: 5819.085, psnr: 5819.085\n"
     ]
    },
    {
     "name": "stdout",
     "output_type": "stream",
     "text": [
      "Iterating\n",
      "Train step success!!\n",
      "Iterating\n",
      "Train step success!!\n"
     ]
    },
    {
     "name": "stderr",
     "output_type": "stream",
     "text": [
      "2020-02-28 20:14:05,907 - step 868/1576, loss: 5822.575, psnr: 5822.575\n",
      "2020-02-28 20:14:06,012 - step 869/1576, loss: 5826.487, psnr: 5826.487\n"
     ]
    },
    {
     "name": "stdout",
     "output_type": "stream",
     "text": [
      "Iterating\n",
      "Train step success!!\n",
      "Iterating\n",
      "Train step success!!\n"
     ]
    },
    {
     "name": "stderr",
     "output_type": "stream",
     "text": [
      "2020-02-28 20:14:06,116 - step 870/1576, loss: 5822.706, psnr: 5822.706\n",
      "2020-02-28 20:14:06,224 - step 871/1576, loss: 5825.147, psnr: 5825.147\n"
     ]
    },
    {
     "name": "stdout",
     "output_type": "stream",
     "text": [
      "Iterating\n",
      "Train step success!!\n",
      "Iterating\n",
      "Train step success!!\n"
     ]
    },
    {
     "name": "stderr",
     "output_type": "stream",
     "text": [
      "2020-02-28 20:14:06,330 - step 872/1576, loss: 5826.602, psnr: 5826.602\n",
      "2020-02-28 20:14:06,439 - step 873/1576, loss: 5827.562, psnr: 5827.562\n"
     ]
    },
    {
     "name": "stdout",
     "output_type": "stream",
     "text": [
      "Iterating\n",
      "Train step success!!\n",
      "Iterating\n",
      "Train step success!!\n"
     ]
    },
    {
     "name": "stderr",
     "output_type": "stream",
     "text": [
      "2020-02-28 20:14:06,546 - step 874/1576, loss: 5828.916, psnr: 5828.916\n",
      "2020-02-28 20:14:06,653 - step 875/1576, loss: 5829.543, psnr: 5829.543\n"
     ]
    },
    {
     "name": "stdout",
     "output_type": "stream",
     "text": [
      "Iterating\n",
      "Train step success!!\n",
      "Iterating\n",
      "Train step success!!\n"
     ]
    },
    {
     "name": "stderr",
     "output_type": "stream",
     "text": [
      "2020-02-28 20:14:06,758 - step 876/1576, loss: 5823.473, psnr: 5823.473\n",
      "2020-02-28 20:14:06,865 - step 877/1576, loss: 5824.334, psnr: 5824.334\n"
     ]
    },
    {
     "name": "stdout",
     "output_type": "stream",
     "text": [
      "Iterating\n",
      "Train step success!!\n",
      "Iterating\n",
      "Train step success!!\n"
     ]
    },
    {
     "name": "stderr",
     "output_type": "stream",
     "text": [
      "2020-02-28 20:14:06,970 - step 878/1576, loss: 5812.861, psnr: 5812.861\n",
      "2020-02-28 20:14:07,080 - step 879/1576, loss: 5809.062, psnr: 5809.062\n"
     ]
    },
    {
     "name": "stdout",
     "output_type": "stream",
     "text": [
      "Iterating\n",
      "Train step success!!\n",
      "Iterating\n",
      "Train step success!!\n"
     ]
    },
    {
     "name": "stderr",
     "output_type": "stream",
     "text": [
      "2020-02-28 20:14:07,185 - step 880/1576, loss: 5795.932, psnr: 5795.932\n",
      "2020-02-28 20:14:07,293 - step 881/1576, loss: 5781.342, psnr: 5781.342\n"
     ]
    },
    {
     "name": "stdout",
     "output_type": "stream",
     "text": [
      "Iterating\n",
      "Train step success!!\n",
      "Iterating\n",
      "Train step success!!\n"
     ]
    },
    {
     "name": "stderr",
     "output_type": "stream",
     "text": [
      "2020-02-28 20:14:07,399 - step 882/1576, loss: 5776.522, psnr: 5776.522\n",
      "2020-02-28 20:14:07,506 - step 883/1576, loss: 5778.543, psnr: 5778.543\n"
     ]
    },
    {
     "name": "stdout",
     "output_type": "stream",
     "text": [
      "Iterating\n",
      "Train step success!!\n",
      "Iterating\n",
      "Train step success!!\n"
     ]
    },
    {
     "name": "stderr",
     "output_type": "stream",
     "text": [
      "2020-02-28 20:14:07,611 - step 884/1576, loss: 5774.866, psnr: 5774.866\n",
      "2020-02-28 20:14:07,719 - step 885/1576, loss: 5779.093, psnr: 5779.093\n"
     ]
    },
    {
     "name": "stdout",
     "output_type": "stream",
     "text": [
      "Iterating\n",
      "Train step success!!\n",
      "Iterating\n",
      "Train step success!!\n"
     ]
    },
    {
     "name": "stderr",
     "output_type": "stream",
     "text": [
      "2020-02-28 20:14:07,824 - step 886/1576, loss: 5782.917, psnr: 5782.917\n",
      "2020-02-28 20:14:07,933 - step 887/1576, loss: 5784.121, psnr: 5784.121\n"
     ]
    },
    {
     "name": "stdout",
     "output_type": "stream",
     "text": [
      "Iterating\n",
      "Train step success!!\n",
      "Iterating\n",
      "Train step success!!\n"
     ]
    },
    {
     "name": "stderr",
     "output_type": "stream",
     "text": [
      "2020-02-28 20:14:08,038 - step 888/1576, loss: 5785.556, psnr: 5785.556\n",
      "2020-02-28 20:14:08,144 - step 889/1576, loss: 5790.172, psnr: 5790.172\n"
     ]
    },
    {
     "name": "stdout",
     "output_type": "stream",
     "text": [
      "Iterating\n",
      "Train step success!!\n",
      "Iterating\n",
      "Train step success!!\n"
     ]
    },
    {
     "name": "stderr",
     "output_type": "stream",
     "text": [
      "2020-02-28 20:14:08,248 - step 890/1576, loss: 5793.891, psnr: 5793.891\n",
      "2020-02-28 20:14:08,356 - step 891/1576, loss: 5789.250, psnr: 5789.250\n"
     ]
    },
    {
     "name": "stdout",
     "output_type": "stream",
     "text": [
      "Iterating\n",
      "Train step success!!\n",
      "Iterating\n",
      "Train step success!!\n"
     ]
    },
    {
     "name": "stderr",
     "output_type": "stream",
     "text": [
      "2020-02-28 20:14:08,464 - step 892/1576, loss: 5780.152, psnr: 5780.152\n",
      "2020-02-28 20:14:08,571 - step 893/1576, loss: 5780.071, psnr: 5780.071\n"
     ]
    },
    {
     "name": "stdout",
     "output_type": "stream",
     "text": [
      "Iterating\n",
      "Train step success!!\n",
      "Iterating\n",
      "Train step success!!\n"
     ]
    },
    {
     "name": "stderr",
     "output_type": "stream",
     "text": [
      "2020-02-28 20:14:08,677 - step 894/1576, loss: 5783.356, psnr: 5783.356\n",
      "2020-02-28 20:14:08,784 - step 895/1576, loss: 5787.095, psnr: 5787.095\n"
     ]
    },
    {
     "name": "stdout",
     "output_type": "stream",
     "text": [
      "Iterating\n",
      "Train step success!!\n",
      "Iterating\n",
      "Train step success!!\n"
     ]
    },
    {
     "name": "stderr",
     "output_type": "stream",
     "text": [
      "2020-02-28 20:14:08,888 - step 896/1576, loss: 5789.876, psnr: 5789.876\n",
      "2020-02-28 20:14:09,000 - step 897/1576, loss: 5788.498, psnr: 5788.498\n"
     ]
    },
    {
     "name": "stdout",
     "output_type": "stream",
     "text": [
      "Iterating\n",
      "Train step success!!\n",
      "Iterating\n",
      "Train step success!!\n"
     ]
    },
    {
     "name": "stderr",
     "output_type": "stream",
     "text": [
      "2020-02-28 20:14:09,105 - step 898/1576, loss: 5786.278, psnr: 5786.278\n",
      "2020-02-28 20:14:09,212 - step 899/1576, loss: 5775.806, psnr: 5775.806\n"
     ]
    },
    {
     "name": "stdout",
     "output_type": "stream",
     "text": [
      "Iterating\n",
      "Train step success!!\n",
      "Iterating\n",
      "Train step success!!\n"
     ]
    },
    {
     "name": "stderr",
     "output_type": "stream",
     "text": [
      "2020-02-28 20:14:09,318 - step 900/1576, loss: 5777.282, psnr: 5777.282\n",
      "2020-02-28 20:14:11,562 - Validation results... val_loss: 4339.418, val_psnr: 4339.418\n",
      "2020-02-28 20:14:11,666 - step 901/1576, loss: 5774.635, psnr: 5774.635\n"
     ]
    },
    {
     "name": "stdout",
     "output_type": "stream",
     "text": [
      "Iterating\n",
      "Train step success!!\n",
      "Iterating\n",
      "Train step success!!\n"
     ]
    },
    {
     "name": "stderr",
     "output_type": "stream",
     "text": [
      "2020-02-28 20:14:11,771 - step 902/1576, loss: 5779.581, psnr: 5779.581\n",
      "2020-02-28 20:14:11,878 - step 903/1576, loss: 5782.503, psnr: 5782.503\n"
     ]
    },
    {
     "name": "stdout",
     "output_type": "stream",
     "text": [
      "Iterating\n",
      "Train step success!!\n",
      "Iterating\n",
      "Train step success!!\n"
     ]
    },
    {
     "name": "stderr",
     "output_type": "stream",
     "text": [
      "2020-02-28 20:14:11,985 - step 904/1576, loss: 5779.083, psnr: 5779.083\n",
      "2020-02-28 20:14:12,090 - step 905/1576, loss: 5779.053, psnr: 5779.053\n"
     ]
    },
    {
     "name": "stdout",
     "output_type": "stream",
     "text": [
      "Iterating\n",
      "Train step success!!\n",
      "Iterating\n",
      "Train step success!!\n"
     ]
    },
    {
     "name": "stderr",
     "output_type": "stream",
     "text": [
      "2020-02-28 20:14:12,193 - step 906/1576, loss: 5774.858, psnr: 5774.858\n",
      "2020-02-28 20:14:12,298 - step 907/1576, loss: 5773.960, psnr: 5773.960\n"
     ]
    },
    {
     "name": "stdout",
     "output_type": "stream",
     "text": [
      "Iterating\n",
      "Train step success!!\n",
      "Iterating\n",
      "Train step success!!\n"
     ]
    },
    {
     "name": "stderr",
     "output_type": "stream",
     "text": [
      "2020-02-28 20:14:12,403 - step 908/1576, loss: 5774.626, psnr: 5774.626\n",
      "2020-02-28 20:14:12,512 - step 909/1576, loss: 5778.679, psnr: 5778.679\n"
     ]
    },
    {
     "name": "stdout",
     "output_type": "stream",
     "text": [
      "Iterating\n",
      "Train step success!!\n",
      "Iterating\n",
      "Train step success!!\n"
     ]
    },
    {
     "name": "stderr",
     "output_type": "stream",
     "text": [
      "2020-02-28 20:14:12,616 - step 910/1576, loss: 5781.843, psnr: 5781.843\n",
      "2020-02-28 20:14:12,719 - step 911/1576, loss: 5784.612, psnr: 5784.612\n"
     ]
    },
    {
     "name": "stdout",
     "output_type": "stream",
     "text": [
      "Iterating\n",
      "Train step success!!\n",
      "Iterating\n",
      "Train step success!!\n"
     ]
    },
    {
     "name": "stderr",
     "output_type": "stream",
     "text": [
      "2020-02-28 20:14:12,823 - step 912/1576, loss: 5785.400, psnr: 5785.400\n",
      "2020-02-28 20:14:12,936 - step 913/1576, loss: 5785.618, psnr: 5785.618\n"
     ]
    },
    {
     "name": "stdout",
     "output_type": "stream",
     "text": [
      "Iterating\n",
      "Train step success!!\n",
      "Iterating\n",
      "Train step success!!\n"
     ]
    },
    {
     "name": "stderr",
     "output_type": "stream",
     "text": [
      "2020-02-28 20:14:13,041 - step 914/1576, loss: 5789.189, psnr: 5789.189\n",
      "2020-02-28 20:14:13,147 - step 915/1576, loss: 5791.484, psnr: 5791.484\n"
     ]
    },
    {
     "name": "stdout",
     "output_type": "stream",
     "text": [
      "Iterating\n",
      "Train step success!!\n",
      "Iterating\n",
      "Train step success!!\n"
     ]
    },
    {
     "name": "stderr",
     "output_type": "stream",
     "text": [
      "2020-02-28 20:14:13,251 - step 916/1576, loss: 5790.498, psnr: 5790.498\n",
      "2020-02-28 20:14:13,355 - step 917/1576, loss: 5779.873, psnr: 5779.873\n"
     ]
    },
    {
     "name": "stdout",
     "output_type": "stream",
     "text": [
      "Iterating\n",
      "Train step success!!\n",
      "Iterating\n",
      "Train step success!!\n"
     ]
    },
    {
     "name": "stderr",
     "output_type": "stream",
     "text": [
      "2020-02-28 20:14:13,459 - step 918/1576, loss: 5784.832, psnr: 5784.832\n",
      "2020-02-28 20:14:13,563 - step 919/1576, loss: 5781.331, psnr: 5781.331\n"
     ]
    },
    {
     "name": "stdout",
     "output_type": "stream",
     "text": [
      "Iterating\n",
      "Train step success!!\n",
      "Iterating\n",
      "Train step success!!\n"
     ]
    },
    {
     "name": "stderr",
     "output_type": "stream",
     "text": [
      "2020-02-28 20:14:13,667 - step 920/1576, loss: 5789.362, psnr: 5789.362\n",
      "2020-02-28 20:14:13,779 - step 921/1576, loss: 5789.859, psnr: 5789.859\n"
     ]
    },
    {
     "name": "stdout",
     "output_type": "stream",
     "text": [
      "Iterating\n",
      "Train step success!!\n",
      "Iterating\n",
      "Train step success!!\n"
     ]
    },
    {
     "name": "stderr",
     "output_type": "stream",
     "text": [
      "2020-02-28 20:14:13,886 - step 922/1576, loss: 5787.552, psnr: 5787.552\n",
      "2020-02-28 20:14:13,996 - step 923/1576, loss: 5784.840, psnr: 5784.840\n"
     ]
    },
    {
     "name": "stdout",
     "output_type": "stream",
     "text": [
      "Iterating\n",
      "Train step success!!\n",
      "Iterating\n",
      "Train step success!!\n"
     ]
    },
    {
     "name": "stderr",
     "output_type": "stream",
     "text": [
      "2020-02-28 20:14:14,099 - step 924/1576, loss: 5782.074, psnr: 5782.074\n",
      "2020-02-28 20:14:14,204 - step 925/1576, loss: 5785.049, psnr: 5785.049\n"
     ]
    },
    {
     "name": "stdout",
     "output_type": "stream",
     "text": [
      "Iterating\n",
      "Train step success!!\n",
      "Iterating\n",
      "Train step success!!\n"
     ]
    },
    {
     "name": "stderr",
     "output_type": "stream",
     "text": [
      "2020-02-28 20:14:14,311 - step 926/1576, loss: 5788.535, psnr: 5788.535\n",
      "2020-02-28 20:14:14,418 - step 927/1576, loss: 5792.557, psnr: 5792.557\n"
     ]
    },
    {
     "name": "stdout",
     "output_type": "stream",
     "text": [
      "Iterating\n",
      "Train step success!!\n",
      "Iterating\n",
      "Train step success!!\n"
     ]
    },
    {
     "name": "stderr",
     "output_type": "stream",
     "text": [
      "2020-02-28 20:14:14,524 - step 928/1576, loss: 5791.711, psnr: 5791.711\n",
      "2020-02-28 20:14:14,632 - step 929/1576, loss: 5792.561, psnr: 5792.561\n"
     ]
    },
    {
     "name": "stdout",
     "output_type": "stream",
     "text": [
      "Iterating\n",
      "Train step success!!\n",
      "Iterating\n",
      "Train step success!!\n"
     ]
    },
    {
     "name": "stderr",
     "output_type": "stream",
     "text": [
      "2020-02-28 20:14:14,737 - step 930/1576, loss: 5793.241, psnr: 5793.241\n",
      "2020-02-28 20:14:14,844 - step 931/1576, loss: 5794.999, psnr: 5794.999\n"
     ]
    },
    {
     "name": "stdout",
     "output_type": "stream",
     "text": [
      "Iterating\n",
      "Train step success!!\n",
      "Iterating\n",
      "Train step success!!\n"
     ]
    },
    {
     "name": "stderr",
     "output_type": "stream",
     "text": [
      "2020-02-28 20:14:14,949 - step 932/1576, loss: 5797.557, psnr: 5797.557\n",
      "2020-02-28 20:14:15,057 - step 933/1576, loss: 5800.532, psnr: 5800.532\n"
     ]
    },
    {
     "name": "stdout",
     "output_type": "stream",
     "text": [
      "Iterating\n",
      "Train step success!!\n",
      "Iterating\n",
      "Train step success!!\n"
     ]
    },
    {
     "name": "stderr",
     "output_type": "stream",
     "text": [
      "2020-02-28 20:14:15,163 - step 934/1576, loss: 5803.077, psnr: 5803.077\n",
      "2020-02-28 20:14:15,271 - step 935/1576, loss: 5802.096, psnr: 5802.096\n"
     ]
    },
    {
     "name": "stdout",
     "output_type": "stream",
     "text": [
      "Iterating\n",
      "Train step success!!\n",
      "Iterating\n",
      "Train step success!!\n"
     ]
    },
    {
     "name": "stderr",
     "output_type": "stream",
     "text": [
      "2020-02-28 20:14:15,377 - step 936/1576, loss: 5799.644, psnr: 5799.644\n",
      "2020-02-28 20:14:15,483 - step 937/1576, loss: 5796.502, psnr: 5796.502\n"
     ]
    },
    {
     "name": "stdout",
     "output_type": "stream",
     "text": [
      "Iterating\n",
      "Train step success!!\n",
      "Iterating\n",
      "Train step success!!\n"
     ]
    },
    {
     "name": "stderr",
     "output_type": "stream",
     "text": [
      "2020-02-28 20:14:15,588 - step 938/1576, loss: 5793.697, psnr: 5793.697\n",
      "2020-02-28 20:14:15,701 - step 939/1576, loss: 5790.871, psnr: 5790.871\n"
     ]
    },
    {
     "name": "stdout",
     "output_type": "stream",
     "text": [
      "Iterating\n",
      "Train step success!!\n",
      "Iterating\n",
      "Train step success!!\n"
     ]
    },
    {
     "name": "stderr",
     "output_type": "stream",
     "text": [
      "2020-02-28 20:14:15,808 - step 940/1576, loss: 5791.528, psnr: 5791.528\n",
      "2020-02-28 20:14:15,916 - step 941/1576, loss: 5787.891, psnr: 5787.891\n"
     ]
    },
    {
     "name": "stdout",
     "output_type": "stream",
     "text": [
      "Iterating\n",
      "Train step success!!\n",
      "Iterating\n",
      "Train step success!!\n"
     ]
    },
    {
     "name": "stderr",
     "output_type": "stream",
     "text": [
      "2020-02-28 20:14:16,021 - step 942/1576, loss: 5787.662, psnr: 5787.662\n",
      "2020-02-28 20:14:16,128 - step 943/1576, loss: 5789.037, psnr: 5789.037\n"
     ]
    },
    {
     "name": "stdout",
     "output_type": "stream",
     "text": [
      "Iterating\n",
      "Train step success!!\n",
      "Iterating\n",
      "Train step success!!\n"
     ]
    },
    {
     "name": "stderr",
     "output_type": "stream",
     "text": [
      "2020-02-28 20:14:16,233 - step 944/1576, loss: 5794.354, psnr: 5794.354\n",
      "2020-02-28 20:14:16,339 - step 945/1576, loss: 5795.713, psnr: 5795.713\n"
     ]
    },
    {
     "name": "stdout",
     "output_type": "stream",
     "text": [
      "Iterating\n",
      "Train step success!!\n",
      "Iterating\n",
      "Train step success!!\n"
     ]
    },
    {
     "name": "stderr",
     "output_type": "stream",
     "text": [
      "2020-02-28 20:14:16,443 - step 946/1576, loss: 5793.301, psnr: 5793.301\n",
      "2020-02-28 20:14:16,551 - step 947/1576, loss: 5798.032, psnr: 5798.032\n"
     ]
    },
    {
     "name": "stdout",
     "output_type": "stream",
     "text": [
      "Iterating\n",
      "Train step success!!\n",
      "Iterating\n",
      "Train step success!!\n"
     ]
    },
    {
     "name": "stderr",
     "output_type": "stream",
     "text": [
      "2020-02-28 20:14:16,656 - step 948/1576, loss: 5798.404, psnr: 5798.404\n",
      "2020-02-28 20:14:16,765 - step 949/1576, loss: 5790.617, psnr: 5790.617\n"
     ]
    },
    {
     "name": "stdout",
     "output_type": "stream",
     "text": [
      "Iterating\n",
      "Train step success!!\n",
      "Iterating\n",
      "Train step success!!\n"
     ]
    },
    {
     "name": "stderr",
     "output_type": "stream",
     "text": [
      "2020-02-28 20:14:16,870 - step 950/1576, loss: 5794.942, psnr: 5794.942\n",
      "2020-02-28 20:14:16,978 - step 951/1576, loss: 5798.853, psnr: 5798.853\n"
     ]
    },
    {
     "name": "stdout",
     "output_type": "stream",
     "text": [
      "Iterating\n",
      "Train step success!!\n",
      "Iterating\n",
      "Train step success!!\n"
     ]
    },
    {
     "name": "stderr",
     "output_type": "stream",
     "text": [
      "2020-02-28 20:14:17,084 - step 952/1576, loss: 5799.689, psnr: 5799.689\n",
      "2020-02-28 20:14:17,191 - step 953/1576, loss: 5800.999, psnr: 5800.999\n"
     ]
    },
    {
     "name": "stdout",
     "output_type": "stream",
     "text": [
      "Iterating\n",
      "Train step success!!\n",
      "Iterating\n",
      "Train step success!!\n"
     ]
    },
    {
     "name": "stderr",
     "output_type": "stream",
     "text": [
      "2020-02-28 20:14:17,298 - step 954/1576, loss: 5803.136, psnr: 5803.136\n",
      "2020-02-28 20:14:17,407 - step 955/1576, loss: 5800.256, psnr: 5800.256\n"
     ]
    },
    {
     "name": "stdout",
     "output_type": "stream",
     "text": [
      "Iterating\n",
      "Train step success!!\n",
      "Iterating\n",
      "Train step success!!\n"
     ]
    },
    {
     "name": "stderr",
     "output_type": "stream",
     "text": [
      "2020-02-28 20:14:17,513 - step 956/1576, loss: 5802.492, psnr: 5802.492\n",
      "2020-02-28 20:14:17,624 - step 957/1576, loss: 5803.283, psnr: 5803.283\n"
     ]
    },
    {
     "name": "stdout",
     "output_type": "stream",
     "text": [
      "Iterating\n",
      "Train step success!!\n",
      "Iterating\n",
      "Train step success!!\n"
     ]
    },
    {
     "name": "stderr",
     "output_type": "stream",
     "text": [
      "2020-02-28 20:14:17,732 - step 958/1576, loss: 5806.012, psnr: 5806.012\n",
      "2020-02-28 20:14:17,837 - step 959/1576, loss: 5809.968, psnr: 5809.968\n"
     ]
    },
    {
     "name": "stdout",
     "output_type": "stream",
     "text": [
      "Iterating\n",
      "Train step success!!\n",
      "Iterating\n",
      "Train step success!!\n"
     ]
    },
    {
     "name": "stderr",
     "output_type": "stream",
     "text": [
      "2020-02-28 20:14:17,945 - step 960/1576, loss: 5811.053, psnr: 5811.053\n",
      "2020-02-28 20:14:18,053 - step 961/1576, loss: 5811.483, psnr: 5811.483\n"
     ]
    },
    {
     "name": "stdout",
     "output_type": "stream",
     "text": [
      "Iterating\n",
      "Train step success!!\n",
      "Iterating\n",
      "Train step success!!\n"
     ]
    },
    {
     "name": "stderr",
     "output_type": "stream",
     "text": [
      "2020-02-28 20:14:18,159 - step 962/1576, loss: 5807.815, psnr: 5807.815\n",
      "2020-02-28 20:14:18,267 - step 963/1576, loss: 5803.810, psnr: 5803.810\n"
     ]
    },
    {
     "name": "stdout",
     "output_type": "stream",
     "text": [
      "Iterating\n",
      "Train step success!!\n",
      "Iterating\n",
      "Train step success!!\n"
     ]
    },
    {
     "name": "stderr",
     "output_type": "stream",
     "text": [
      "2020-02-28 20:14:18,372 - step 964/1576, loss: 5807.000, psnr: 5807.000\n",
      "2020-02-28 20:14:18,478 - step 965/1576, loss: 5804.588, psnr: 5804.588\n"
     ]
    },
    {
     "name": "stdout",
     "output_type": "stream",
     "text": [
      "Iterating\n",
      "Train step success!!\n",
      "Iterating\n",
      "Train step success!!\n"
     ]
    },
    {
     "name": "stderr",
     "output_type": "stream",
     "text": [
      "2020-02-28 20:14:18,584 - step 966/1576, loss: 5806.490, psnr: 5806.490\n",
      "2020-02-28 20:14:18,695 - step 967/1576, loss: 5811.533, psnr: 5811.533\n"
     ]
    },
    {
     "name": "stdout",
     "output_type": "stream",
     "text": [
      "Iterating\n",
      "Train step success!!\n",
      "Iterating\n",
      "Train step success!!\n"
     ]
    },
    {
     "name": "stderr",
     "output_type": "stream",
     "text": [
      "2020-02-28 20:14:18,800 - step 968/1576, loss: 5810.954, psnr: 5810.954\n",
      "2020-02-28 20:14:18,908 - step 969/1576, loss: 5808.154, psnr: 5808.154\n"
     ]
    },
    {
     "name": "stdout",
     "output_type": "stream",
     "text": [
      "Iterating\n",
      "Train step success!!\n",
      "Iterating\n",
      "Train step success!!\n"
     ]
    },
    {
     "name": "stderr",
     "output_type": "stream",
     "text": [
      "2020-02-28 20:14:19,021 - step 970/1576, loss: 5805.313, psnr: 5805.313\n",
      "2020-02-28 20:14:19,126 - step 971/1576, loss: 5801.571, psnr: 5801.571\n"
     ]
    },
    {
     "name": "stdout",
     "output_type": "stream",
     "text": [
      "Iterating\n",
      "Train step success!!\n",
      "Iterating\n",
      "Train step success!!\n"
     ]
    },
    {
     "name": "stderr",
     "output_type": "stream",
     "text": [
      "2020-02-28 20:14:19,232 - step 972/1576, loss: 5798.113, psnr: 5798.113\n",
      "2020-02-28 20:14:19,340 - step 973/1576, loss: 5799.550, psnr: 5799.550\n"
     ]
    },
    {
     "name": "stdout",
     "output_type": "stream",
     "text": [
      "Iterating\n",
      "Train step success!!\n",
      "Iterating\n",
      "Train step success!!\n"
     ]
    },
    {
     "name": "stderr",
     "output_type": "stream",
     "text": [
      "2020-02-28 20:14:19,446 - step 974/1576, loss: 5796.759, psnr: 5796.759\n",
      "2020-02-28 20:14:19,556 - step 975/1576, loss: 5796.047, psnr: 5796.047\n"
     ]
    },
    {
     "name": "stdout",
     "output_type": "stream",
     "text": [
      "Iterating\n",
      "Train step success!!\n",
      "Iterating\n",
      "Train step success!!\n"
     ]
    },
    {
     "name": "stderr",
     "output_type": "stream",
     "text": [
      "2020-02-28 20:14:19,661 - step 976/1576, loss: 5792.275, psnr: 5792.275\n",
      "2020-02-28 20:14:19,768 - step 977/1576, loss: 5789.293, psnr: 5789.293\n"
     ]
    },
    {
     "name": "stdout",
     "output_type": "stream",
     "text": [
      "Iterating\n",
      "Train step success!!\n",
      "Iterating\n",
      "Train step success!!\n"
     ]
    },
    {
     "name": "stderr",
     "output_type": "stream",
     "text": [
      "2020-02-28 20:14:19,876 - step 978/1576, loss: 5789.701, psnr: 5789.701\n",
      "2020-02-28 20:14:19,985 - step 979/1576, loss: 5790.351, psnr: 5790.351\n"
     ]
    },
    {
     "name": "stdout",
     "output_type": "stream",
     "text": [
      "Iterating\n",
      "Train step success!!\n",
      "Iterating\n",
      "Train step success!!\n"
     ]
    },
    {
     "name": "stderr",
     "output_type": "stream",
     "text": [
      "2020-02-28 20:14:20,090 - step 980/1576, loss: 5785.672, psnr: 5785.672\n",
      "2020-02-28 20:14:20,197 - step 981/1576, loss: 5790.350, psnr: 5790.350\n"
     ]
    },
    {
     "name": "stdout",
     "output_type": "stream",
     "text": [
      "Iterating\n",
      "Train step success!!\n",
      "Iterating\n",
      "Train step success!!\n"
     ]
    },
    {
     "name": "stderr",
     "output_type": "stream",
     "text": [
      "2020-02-28 20:14:20,302 - step 982/1576, loss: 5790.966, psnr: 5790.966\n",
      "2020-02-28 20:14:20,407 - step 983/1576, loss: 5793.156, psnr: 5793.156\n"
     ]
    },
    {
     "name": "stdout",
     "output_type": "stream",
     "text": [
      "Iterating\n",
      "Train step success!!\n",
      "Iterating\n",
      "Train step success!!\n"
     ]
    },
    {
     "name": "stderr",
     "output_type": "stream",
     "text": [
      "2020-02-28 20:14:20,514 - step 984/1576, loss: 5792.841, psnr: 5792.841\n",
      "2020-02-28 20:14:20,620 - step 985/1576, loss: 5793.967, psnr: 5793.967\n"
     ]
    },
    {
     "name": "stdout",
     "output_type": "stream",
     "text": [
      "Iterating\n",
      "Train step success!!\n",
      "Iterating\n",
      "Train step success!!\n"
     ]
    },
    {
     "name": "stderr",
     "output_type": "stream",
     "text": [
      "2020-02-28 20:14:20,728 - step 986/1576, loss: 5795.810, psnr: 5795.810\n",
      "2020-02-28 20:14:20,833 - step 987/1576, loss: 5786.232, psnr: 5786.232\n"
     ]
    },
    {
     "name": "stdout",
     "output_type": "stream",
     "text": [
      "Iterating\n",
      "Train step success!!\n",
      "Iterating\n",
      "Train step success!!\n"
     ]
    },
    {
     "name": "stderr",
     "output_type": "stream",
     "text": [
      "2020-02-28 20:14:20,939 - step 988/1576, loss: 5787.794, psnr: 5787.794\n",
      "2020-02-28 20:14:21,047 - step 989/1576, loss: 5787.555, psnr: 5787.555\n"
     ]
    },
    {
     "name": "stdout",
     "output_type": "stream",
     "text": [
      "Iterating\n",
      "Train step success!!\n",
      "Iterating\n",
      "Train step success!!\n"
     ]
    },
    {
     "name": "stderr",
     "output_type": "stream",
     "text": [
      "2020-02-28 20:14:21,151 - step 990/1576, loss: 5788.087, psnr: 5788.087\n",
      "2020-02-28 20:14:21,260 - step 991/1576, loss: 5790.007, psnr: 5790.007\n"
     ]
    },
    {
     "name": "stdout",
     "output_type": "stream",
     "text": [
      "Iterating\n",
      "Train step success!!\n",
      "Iterating\n",
      "Train step success!!\n"
     ]
    },
    {
     "name": "stderr",
     "output_type": "stream",
     "text": [
      "2020-02-28 20:14:21,364 - step 992/1576, loss: 5789.861, psnr: 5789.861\n",
      "2020-02-28 20:14:21,471 - step 993/1576, loss: 5792.663, psnr: 5792.663\n"
     ]
    },
    {
     "name": "stdout",
     "output_type": "stream",
     "text": [
      "Iterating\n",
      "Train step success!!\n",
      "Iterating\n",
      "Train step success!!\n"
     ]
    },
    {
     "name": "stderr",
     "output_type": "stream",
     "text": [
      "2020-02-28 20:14:21,575 - step 994/1576, loss: 5795.269, psnr: 5795.269\n",
      "2020-02-28 20:14:21,680 - step 995/1576, loss: 5799.853, psnr: 5799.853\n"
     ]
    },
    {
     "name": "stdout",
     "output_type": "stream",
     "text": [
      "Iterating\n",
      "Train step success!!\n",
      "Iterating\n",
      "Train step success!!\n"
     ]
    },
    {
     "name": "stderr",
     "output_type": "stream",
     "text": [
      "2020-02-28 20:14:21,783 - step 996/1576, loss: 5804.616, psnr: 5804.616\n",
      "2020-02-28 20:14:21,887 - step 997/1576, loss: 5806.163, psnr: 5806.163\n"
     ]
    },
    {
     "name": "stdout",
     "output_type": "stream",
     "text": [
      "Iterating\n",
      "Train step success!!\n",
      "Iterating\n",
      "Train step success!!\n"
     ]
    },
    {
     "name": "stderr",
     "output_type": "stream",
     "text": [
      "2020-02-28 20:14:21,988 - step 998/1576, loss: 5802.789, psnr: 5802.789\n",
      "2020-02-28 20:14:22,093 - step 999/1576, loss: 5799.221, psnr: 5799.221\n"
     ]
    },
    {
     "name": "stdout",
     "output_type": "stream",
     "text": [
      "Iterating\n",
      "Train step success!!\n",
      "Iterating\n",
      "Train step success!!\n"
     ]
    },
    {
     "name": "stderr",
     "output_type": "stream",
     "text": [
      "2020-02-28 20:14:22,196 - step 1000/1576, loss: 5800.001, psnr: 5800.001\n",
      "2020-02-28 20:14:24,484 - Validation results... val_loss: 4339.418, val_psnr: 4339.418\n",
      "2020-02-28 20:14:24,587 - step 1001/1576, loss: 5798.105, psnr: 5798.105\n"
     ]
    },
    {
     "name": "stdout",
     "output_type": "stream",
     "text": [
      "Iterating\n",
      "Train step success!!\n",
      "Iterating\n",
      "Train step success!!\n"
     ]
    },
    {
     "name": "stderr",
     "output_type": "stream",
     "text": [
      "2020-02-28 20:14:24,689 - step 1002/1576, loss: 5803.171, psnr: 5803.171\n",
      "2020-02-28 20:14:24,799 - step 1003/1576, loss: 5806.729, psnr: 5806.729\n"
     ]
    },
    {
     "name": "stdout",
     "output_type": "stream",
     "text": [
      "Iterating\n",
      "Train step success!!\n",
      "Iterating\n",
      "Train step success!!\n"
     ]
    },
    {
     "name": "stderr",
     "output_type": "stream",
     "text": [
      "2020-02-28 20:14:24,906 - step 1004/1576, loss: 5804.400, psnr: 5804.400\n",
      "2020-02-28 20:14:25,008 - step 1005/1576, loss: 5807.241, psnr: 5807.241\n"
     ]
    },
    {
     "name": "stdout",
     "output_type": "stream",
     "text": [
      "Iterating\n",
      "Train step success!!\n",
      "Iterating\n",
      "Train step success!!\n"
     ]
    },
    {
     "name": "stderr",
     "output_type": "stream",
     "text": [
      "2020-02-28 20:14:25,109 - step 1006/1576, loss: 5809.614, psnr: 5809.614\n",
      "2020-02-28 20:14:25,210 - step 1007/1576, loss: 5806.974, psnr: 5806.974\n"
     ]
    },
    {
     "name": "stdout",
     "output_type": "stream",
     "text": [
      "Iterating\n",
      "Train step success!!\n",
      "Iterating\n",
      "Train step success!!\n"
     ]
    },
    {
     "name": "stderr",
     "output_type": "stream",
     "text": [
      "2020-02-28 20:14:25,313 - step 1008/1576, loss: 5807.546, psnr: 5807.546\n",
      "2020-02-28 20:14:25,418 - step 1009/1576, loss: 5808.121, psnr: 5808.121\n"
     ]
    },
    {
     "name": "stdout",
     "output_type": "stream",
     "text": [
      "Iterating\n",
      "Train step success!!\n",
      "Iterating\n",
      "Train step success!!\n"
     ]
    },
    {
     "name": "stderr",
     "output_type": "stream",
     "text": [
      "2020-02-28 20:14:25,519 - step 1010/1576, loss: 5805.067, psnr: 5805.067\n",
      "2020-02-28 20:14:25,621 - step 1011/1576, loss: 5794.950, psnr: 5794.950\n"
     ]
    },
    {
     "name": "stdout",
     "output_type": "stream",
     "text": [
      "Iterating\n",
      "Train step success!!\n",
      "Iterating\n",
      "Train step success!!\n"
     ]
    },
    {
     "name": "stderr",
     "output_type": "stream",
     "text": [
      "2020-02-28 20:14:25,723 - step 1012/1576, loss: 5796.079, psnr: 5796.079\n",
      "2020-02-28 20:14:25,830 - step 1013/1576, loss: 5796.350, psnr: 5796.350\n"
     ]
    },
    {
     "name": "stdout",
     "output_type": "stream",
     "text": [
      "Iterating\n",
      "Train step success!!\n",
      "Iterating\n",
      "Train step success!!\n"
     ]
    },
    {
     "name": "stderr",
     "output_type": "stream",
     "text": [
      "2020-02-28 20:14:25,933 - step 1014/1576, loss: 5795.241, psnr: 5795.241\n",
      "2020-02-28 20:14:26,034 - step 1015/1576, loss: 5792.064, psnr: 5792.064\n"
     ]
    },
    {
     "name": "stdout",
     "output_type": "stream",
     "text": [
      "Iterating\n",
      "Train step success!!\n",
      "Iterating\n",
      "Train step success!!\n"
     ]
    },
    {
     "name": "stderr",
     "output_type": "stream",
     "text": [
      "2020-02-28 20:14:26,141 - step 1016/1576, loss: 5784.593, psnr: 5784.593\n",
      "2020-02-28 20:14:26,245 - step 1017/1576, loss: 5788.028, psnr: 5788.028\n"
     ]
    },
    {
     "name": "stdout",
     "output_type": "stream",
     "text": [
      "Iterating\n",
      "Train step success!!\n",
      "Iterating\n",
      "Train step success!!\n"
     ]
    },
    {
     "name": "stderr",
     "output_type": "stream",
     "text": [
      "2020-02-28 20:14:26,347 - step 1018/1576, loss: 5785.931, psnr: 5785.931\n",
      "2020-02-28 20:14:26,448 - step 1019/1576, loss: 5788.517, psnr: 5788.517\n",
      "2020-02-28 20:14:26,548 - step 1020/1576, loss: 5792.561, psnr: 5792.561\n"
     ]
    },
    {
     "name": "stdout",
     "output_type": "stream",
     "text": [
      "Iterating\n",
      "Train step success!!\n",
      "Iterating\n",
      "Train step success!!\n"
     ]
    },
    {
     "name": "stderr",
     "output_type": "stream",
     "text": [
      "2020-02-28 20:14:26,651 - step 1021/1576, loss: 5793.481, psnr: 5793.481\n",
      "2020-02-28 20:14:26,751 - step 1022/1576, loss: 5799.140, psnr: 5799.140\n"
     ]
    },
    {
     "name": "stdout",
     "output_type": "stream",
     "text": [
      "Iterating\n",
      "Train step success!!\n",
      "Iterating\n",
      "Train step success!!\n"
     ]
    },
    {
     "name": "stderr",
     "output_type": "stream",
     "text": [
      "2020-02-28 20:14:26,854 - step 1023/1576, loss: 5799.821, psnr: 5799.821\n"
     ]
    },
    {
     "name": "stdout",
     "output_type": "stream",
     "text": [
      "Iterating\n",
      "Train step success!!\n",
      "Iterating\n",
      "Train step success!!\n"
     ]
    },
    {
     "name": "stderr",
     "output_type": "stream",
     "text": [
      "2020-02-28 20:14:26,958 - step 1024/1576, loss: 5797.195, psnr: 5797.195\n",
      "2020-02-28 20:14:27,060 - step 1025/1576, loss: 5798.750, psnr: 5798.750\n"
     ]
    },
    {
     "name": "stdout",
     "output_type": "stream",
     "text": [
      "Iterating\n",
      "Train step success!!\n",
      "Iterating\n",
      "Train step success!!\n"
     ]
    },
    {
     "name": "stderr",
     "output_type": "stream",
     "text": [
      "2020-02-28 20:14:27,162 - step 1026/1576, loss: 5801.326, psnr: 5801.326\n",
      "2020-02-28 20:14:27,265 - step 1027/1576, loss: 5803.961, psnr: 5803.961\n"
     ]
    },
    {
     "name": "stdout",
     "output_type": "stream",
     "text": [
      "Iterating\n",
      "Train step success!!\n",
      "Iterating\n",
      "Train step success!!\n"
     ]
    },
    {
     "name": "stderr",
     "output_type": "stream",
     "text": [
      "2020-02-28 20:14:27,369 - step 1028/1576, loss: 5801.480, psnr: 5801.480\n",
      "2020-02-28 20:14:27,472 - step 1029/1576, loss: 5802.493, psnr: 5802.493\n"
     ]
    },
    {
     "name": "stdout",
     "output_type": "stream",
     "text": [
      "Iterating\n",
      "Train step success!!\n",
      "Iterating\n",
      "Train step success!!\n"
     ]
    },
    {
     "name": "stderr",
     "output_type": "stream",
     "text": [
      "2020-02-28 20:14:27,580 - step 1030/1576, loss: 5804.716, psnr: 5804.716\n",
      "2020-02-28 20:14:27,681 - step 1031/1576, loss: 5801.211, psnr: 5801.211\n",
      "2020-02-28 20:14:27,782 - step 1032/1576, loss: 5803.243, psnr: 5803.243\n"
     ]
    },
    {
     "name": "stdout",
     "output_type": "stream",
     "text": [
      "Iterating\n",
      "Train step success!!\n",
      "Iterating\n",
      "Train step success!!\n"
     ]
    },
    {
     "name": "stderr",
     "output_type": "stream",
     "text": [
      "2020-02-28 20:14:27,889 - step 1033/1576, loss: 5804.094, psnr: 5804.094\n"
     ]
    },
    {
     "name": "stdout",
     "output_type": "stream",
     "text": [
      "Iterating\n",
      "Train step success!!\n",
      "Iterating\n",
      "Train step success!!\n"
     ]
    },
    {
     "name": "stderr",
     "output_type": "stream",
     "text": [
      "2020-02-28 20:14:27,992 - step 1034/1576, loss: 5805.118, psnr: 5805.118\n",
      "2020-02-28 20:14:28,095 - step 1035/1576, loss: 5802.149, psnr: 5802.149\n"
     ]
    },
    {
     "name": "stdout",
     "output_type": "stream",
     "text": [
      "Iterating\n",
      "Train step success!!\n",
      "Iterating\n",
      "Train step success!!\n"
     ]
    },
    {
     "name": "stderr",
     "output_type": "stream",
     "text": [
      "2020-02-28 20:14:28,196 - step 1036/1576, loss: 5807.375, psnr: 5807.375\n",
      "2020-02-28 20:14:28,303 - step 1037/1576, loss: 5806.686, psnr: 5806.686\n"
     ]
    },
    {
     "name": "stdout",
     "output_type": "stream",
     "text": [
      "Iterating\n",
      "Train step success!!\n",
      "Iterating\n",
      "Train step success!!\n"
     ]
    },
    {
     "name": "stderr",
     "output_type": "stream",
     "text": [
      "2020-02-28 20:14:28,404 - step 1038/1576, loss: 5807.291, psnr: 5807.291\n",
      "2020-02-28 20:14:28,505 - step 1039/1576, loss: 5808.102, psnr: 5808.102\n"
     ]
    },
    {
     "name": "stdout",
     "output_type": "stream",
     "text": [
      "Iterating\n",
      "Train step success!!\n",
      "Iterating\n",
      "Train step success!!\n"
     ]
    },
    {
     "name": "stderr",
     "output_type": "stream",
     "text": [
      "2020-02-28 20:14:28,608 - step 1040/1576, loss: 5810.341, psnr: 5810.341\n",
      "2020-02-28 20:14:28,714 - step 1041/1576, loss: 5812.746, psnr: 5812.746\n"
     ]
    },
    {
     "name": "stdout",
     "output_type": "stream",
     "text": [
      "Iterating\n",
      "Train step success!!\n",
      "Iterating\n",
      "Train step success!!\n"
     ]
    },
    {
     "name": "stderr",
     "output_type": "stream",
     "text": [
      "2020-02-28 20:14:28,817 - step 1042/1576, loss: 5810.533, psnr: 5810.533\n",
      "2020-02-28 20:14:28,920 - step 1043/1576, loss: 5811.148, psnr: 5811.148\n"
     ]
    },
    {
     "name": "stdout",
     "output_type": "stream",
     "text": [
      "Iterating\n",
      "Train step success!!\n",
      "Iterating\n",
      "Train step success!!\n"
     ]
    },
    {
     "name": "stderr",
     "output_type": "stream",
     "text": [
      "2020-02-28 20:14:29,025 - step 1044/1576, loss: 5811.487, psnr: 5811.487\n",
      "2020-02-28 20:14:29,127 - step 1045/1576, loss: 5809.150, psnr: 5809.150\n",
      "2020-02-28 20:14:29,228 - step 1046/1576, loss: 5805.694, psnr: 5805.694\n"
     ]
    },
    {
     "name": "stdout",
     "output_type": "stream",
     "text": [
      "Iterating\n",
      "Train step success!!\n",
      "Iterating\n",
      "Train step success!!\n"
     ]
    },
    {
     "name": "stderr",
     "output_type": "stream",
     "text": [
      "2020-02-28 20:14:29,328 - step 1047/1576, loss: 5809.176, psnr: 5809.176\n",
      "2020-02-28 20:14:29,429 - step 1048/1576, loss: 5812.613, psnr: 5812.613\n"
     ]
    },
    {
     "name": "stdout",
     "output_type": "stream",
     "text": [
      "Iterating\n",
      "Train step success!!\n",
      "Iterating\n",
      "Train step success!!\n"
     ]
    },
    {
     "name": "stderr",
     "output_type": "stream",
     "text": [
      "2020-02-28 20:14:29,533 - step 1049/1576, loss: 5812.920, psnr: 5812.920\n"
     ]
    },
    {
     "name": "stdout",
     "output_type": "stream",
     "text": [
      "Iterating\n",
      "Train step success!!\n",
      "Iterating\n",
      "Train step success!!\n"
     ]
    },
    {
     "name": "stderr",
     "output_type": "stream",
     "text": [
      "2020-02-28 20:14:29,637 - step 1050/1576, loss: 5809.641, psnr: 5809.641\n",
      "2020-02-28 20:14:29,742 - step 1051/1576, loss: 5811.250, psnr: 5811.250\n"
     ]
    },
    {
     "name": "stdout",
     "output_type": "stream",
     "text": [
      "Iterating\n",
      "Train step success!!\n",
      "Iterating\n",
      "Train step success!!\n"
     ]
    },
    {
     "name": "stderr",
     "output_type": "stream",
     "text": [
      "2020-02-28 20:14:29,845 - step 1052/1576, loss: 5809.875, psnr: 5809.875\n",
      "2020-02-28 20:14:29,947 - step 1053/1576, loss: 5813.345, psnr: 5813.345\n"
     ]
    },
    {
     "name": "stdout",
     "output_type": "stream",
     "text": [
      "Iterating\n",
      "Train step success!!\n",
      "Iterating\n",
      "Train step success!!\n"
     ]
    },
    {
     "name": "stderr",
     "output_type": "stream",
     "text": [
      "2020-02-28 20:14:30,048 - step 1054/1576, loss: 5815.174, psnr: 5815.174\n",
      "2020-02-28 20:14:30,151 - step 1055/1576, loss: 5812.417, psnr: 5812.417\n"
     ]
    },
    {
     "name": "stdout",
     "output_type": "stream",
     "text": [
      "Iterating\n",
      "Train step success!!\n",
      "Iterating\n",
      "Train step success!!\n"
     ]
    },
    {
     "name": "stderr",
     "output_type": "stream",
     "text": [
      "2020-02-28 20:14:30,258 - step 1056/1576, loss: 5810.387, psnr: 5810.387\n",
      "2020-02-28 20:14:30,359 - step 1057/1576, loss: 5811.941, psnr: 5811.941\n",
      "2020-02-28 20:14:30,460 - step 1058/1576, loss: 5814.362, psnr: 5814.362\n"
     ]
    },
    {
     "name": "stdout",
     "output_type": "stream",
     "text": [
      "Iterating\n",
      "Train step success!!\n",
      "Iterating\n",
      "Train step success!!\n"
     ]
    },
    {
     "name": "stderr",
     "output_type": "stream",
     "text": [
      "2020-02-28 20:14:30,561 - step 1059/1576, loss: 5813.851, psnr: 5813.851\n"
     ]
    },
    {
     "name": "stdout",
     "output_type": "stream",
     "text": [
      "Iterating\n",
      "Train step success!!\n",
      "Iterating\n",
      "Train step success!!\n"
     ]
    },
    {
     "name": "stderr",
     "output_type": "stream",
     "text": [
      "2020-02-28 20:14:30,664 - step 1060/1576, loss: 5813.354, psnr: 5813.354\n",
      "2020-02-28 20:14:30,776 - step 1061/1576, loss: 5813.717, psnr: 5813.717\n"
     ]
    },
    {
     "name": "stdout",
     "output_type": "stream",
     "text": [
      "Iterating\n",
      "Train step success!!\n",
      "Iterating\n",
      "Train step success!!\n"
     ]
    },
    {
     "name": "stderr",
     "output_type": "stream",
     "text": [
      "2020-02-28 20:14:30,877 - step 1062/1576, loss: 5811.822, psnr: 5811.822\n",
      "2020-02-28 20:14:30,978 - step 1063/1576, loss: 5809.342, psnr: 5809.342\n",
      "2020-02-28 20:14:31,079 - step 1064/1576, loss: 5810.243, psnr: 5810.243\n"
     ]
    },
    {
     "name": "stdout",
     "output_type": "stream",
     "text": [
      "Iterating\n",
      "Train step success!!\n",
      "Iterating\n",
      "Train step success!!\n"
     ]
    },
    {
     "name": "stderr",
     "output_type": "stream",
     "text": [
      "2020-02-28 20:14:31,182 - step 1065/1576, loss: 5810.113, psnr: 5810.113\n"
     ]
    },
    {
     "name": "stdout",
     "output_type": "stream",
     "text": [
      "Iterating\n",
      "Train step success!!\n",
      "Iterating\n",
      "Train step success!!\n"
     ]
    },
    {
     "name": "stderr",
     "output_type": "stream",
     "text": [
      "2020-02-28 20:14:31,285 - step 1066/1576, loss: 5812.804, psnr: 5812.804\n",
      "2020-02-28 20:14:31,386 - step 1067/1576, loss: 5810.500, psnr: 5810.500\n",
      "2020-02-28 20:14:31,488 - step 1068/1576, loss: 5811.608, psnr: 5811.608\n"
     ]
    },
    {
     "name": "stdout",
     "output_type": "stream",
     "text": [
      "Iterating\n",
      "Train step success!!\n",
      "Iterating\n",
      "Train step success!!\n"
     ]
    },
    {
     "name": "stderr",
     "output_type": "stream",
     "text": [
      "2020-02-28 20:14:31,595 - step 1069/1576, loss: 5813.813, psnr: 5813.813\n"
     ]
    },
    {
     "name": "stdout",
     "output_type": "stream",
     "text": [
      "Iterating\n",
      "Train step success!!\n",
      "Iterating\n",
      "Train step success!!\n"
     ]
    },
    {
     "name": "stderr",
     "output_type": "stream",
     "text": [
      "2020-02-28 20:14:31,696 - step 1070/1576, loss: 5815.444, psnr: 5815.444\n",
      "2020-02-28 20:14:31,802 - step 1071/1576, loss: 5817.520, psnr: 5817.520\n"
     ]
    },
    {
     "name": "stdout",
     "output_type": "stream",
     "text": [
      "Iterating\n",
      "Train step success!!\n",
      "Iterating\n",
      "Train step success!!\n"
     ]
    },
    {
     "name": "stderr",
     "output_type": "stream",
     "text": [
      "2020-02-28 20:14:31,904 - step 1072/1576, loss: 5817.676, psnr: 5817.676\n",
      "2020-02-28 20:14:32,005 - step 1073/1576, loss: 5818.949, psnr: 5818.949\n"
     ]
    },
    {
     "name": "stdout",
     "output_type": "stream",
     "text": [
      "Iterating\n",
      "Train step success!!\n",
      "Iterating\n",
      "Train step success!!\n"
     ]
    },
    {
     "name": "stderr",
     "output_type": "stream",
     "text": [
      "2020-02-28 20:14:32,109 - step 1074/1576, loss: 5815.909, psnr: 5815.909\n",
      "2020-02-28 20:14:32,209 - step 1075/1576, loss: 5818.539, psnr: 5818.539\n"
     ]
    },
    {
     "name": "stdout",
     "output_type": "stream",
     "text": [
      "Iterating\n",
      "Train step success!!\n",
      "Iterating\n",
      "Train step success!!\n"
     ]
    },
    {
     "name": "stderr",
     "output_type": "stream",
     "text": [
      "2020-02-28 20:14:32,313 - step 1076/1576, loss: 5815.736, psnr: 5815.736\n",
      "2020-02-28 20:14:32,414 - step 1077/1576, loss: 5816.522, psnr: 5816.522\n"
     ]
    },
    {
     "name": "stdout",
     "output_type": "stream",
     "text": [
      "Iterating\n",
      "Train step success!!\n",
      "Iterating\n",
      "Train step success!!\n"
     ]
    },
    {
     "name": "stderr",
     "output_type": "stream",
     "text": [
      "2020-02-28 20:14:32,516 - step 1078/1576, loss: 5816.953, psnr: 5816.953\n",
      "2020-02-28 20:14:32,618 - step 1079/1576, loss: 5818.707, psnr: 5818.707\n"
     ]
    },
    {
     "name": "stdout",
     "output_type": "stream",
     "text": [
      "Iterating\n",
      "Train step success!!\n",
      "Iterating\n",
      "Train step success!!\n"
     ]
    },
    {
     "name": "stderr",
     "output_type": "stream",
     "text": [
      "2020-02-28 20:14:32,720 - step 1080/1576, loss: 5818.861, psnr: 5818.861\n",
      "2020-02-28 20:14:32,822 - step 1081/1576, loss: 5816.684, psnr: 5816.684\n"
     ]
    },
    {
     "name": "stdout",
     "output_type": "stream",
     "text": [
      "Iterating\n",
      "Train step success!!\n",
      "Iterating\n",
      "Train step success!!\n"
     ]
    },
    {
     "name": "stderr",
     "output_type": "stream",
     "text": [
      "2020-02-28 20:14:32,924 - step 1082/1576, loss: 5817.220, psnr: 5817.220\n",
      "2020-02-28 20:14:33,025 - step 1083/1576, loss: 5815.269, psnr: 5815.269\n"
     ]
    },
    {
     "name": "stdout",
     "output_type": "stream",
     "text": [
      "Iterating\n",
      "Train step success!!\n",
      "Iterating\n",
      "Train step success!!\n"
     ]
    },
    {
     "name": "stderr",
     "output_type": "stream",
     "text": [
      "2020-02-28 20:14:33,127 - step 1084/1576, loss: 5815.287, psnr: 5815.287\n",
      "2020-02-28 20:14:33,229 - step 1085/1576, loss: 5816.541, psnr: 5816.541\n"
     ]
    },
    {
     "name": "stdout",
     "output_type": "stream",
     "text": [
      "Iterating\n",
      "Train step success!!\n",
      "Iterating\n",
      "Train step success!!\n"
     ]
    },
    {
     "name": "stderr",
     "output_type": "stream",
     "text": [
      "2020-02-28 20:14:33,332 - step 1086/1576, loss: 5818.252, psnr: 5818.252\n",
      "2020-02-28 20:14:33,433 - step 1087/1576, loss: 5815.413, psnr: 5815.413\n"
     ]
    },
    {
     "name": "stdout",
     "output_type": "stream",
     "text": [
      "Iterating\n",
      "Train step success!!\n",
      "Iterating\n",
      "Train step success!!\n"
     ]
    },
    {
     "name": "stderr",
     "output_type": "stream",
     "text": [
      "2020-02-28 20:14:33,535 - step 1088/1576, loss: 5815.667, psnr: 5815.667\n",
      "2020-02-28 20:14:33,636 - step 1089/1576, loss: 5817.977, psnr: 5817.977\n",
      "2020-02-28 20:14:33,737 - step 1090/1576, loss: 5819.077, psnr: 5819.077\n"
     ]
    },
    {
     "name": "stdout",
     "output_type": "stream",
     "text": [
      "Iterating\n",
      "Train step success!!\n",
      "Iterating\n",
      "Train step success!!\n"
     ]
    },
    {
     "name": "stderr",
     "output_type": "stream",
     "text": [
      "2020-02-28 20:14:33,840 - step 1091/1576, loss: 5817.020, psnr: 5817.020\n"
     ]
    },
    {
     "name": "stdout",
     "output_type": "stream",
     "text": [
      "Iterating\n",
      "Train step success!!\n",
      "Iterating\n",
      "Train step success!!\n"
     ]
    },
    {
     "name": "stderr",
     "output_type": "stream",
     "text": [
      "2020-02-28 20:14:33,942 - step 1092/1576, loss: 5814.893, psnr: 5814.893\n",
      "2020-02-28 20:14:34,046 - step 1093/1576, loss: 5817.872, psnr: 5817.872\n"
     ]
    },
    {
     "name": "stdout",
     "output_type": "stream",
     "text": [
      "Iterating\n",
      "Train step success!!\n",
      "Iterating\n",
      "Train step success!!\n"
     ]
    },
    {
     "name": "stderr",
     "output_type": "stream",
     "text": [
      "2020-02-28 20:14:34,150 - step 1094/1576, loss: 5820.782, psnr: 5820.782\n",
      "2020-02-28 20:14:34,254 - step 1095/1576, loss: 5820.916, psnr: 5820.916\n"
     ]
    },
    {
     "name": "stdout",
     "output_type": "stream",
     "text": [
      "Iterating\n",
      "Train step success!!\n",
      "Iterating\n",
      "Train step success!!\n"
     ]
    },
    {
     "name": "stderr",
     "output_type": "stream",
     "text": [
      "2020-02-28 20:14:34,359 - step 1096/1576, loss: 5818.303, psnr: 5818.303\n",
      "2020-02-28 20:14:34,465 - step 1097/1576, loss: 5819.469, psnr: 5819.469\n"
     ]
    },
    {
     "name": "stdout",
     "output_type": "stream",
     "text": [
      "Iterating\n",
      "Train step success!!\n",
      "Iterating\n",
      "Train step success!!\n"
     ]
    },
    {
     "name": "stderr",
     "output_type": "stream",
     "text": [
      "2020-02-28 20:14:34,569 - step 1098/1576, loss: 5821.233, psnr: 5821.233\n",
      "2020-02-28 20:14:34,671 - step 1099/1576, loss: 5823.360, psnr: 5823.360\n"
     ]
    },
    {
     "name": "stdout",
     "output_type": "stream",
     "text": [
      "Iterating\n",
      "Train step success!!\n",
      "Iterating\n",
      "Train step success!!\n"
     ]
    },
    {
     "name": "stderr",
     "output_type": "stream",
     "text": [
      "2020-02-28 20:14:34,773 - step 1100/1576, loss: 5821.729, psnr: 5821.729\n",
      "2020-02-28 20:14:37,025 - Validation results... val_loss: 4339.418, val_psnr: 4339.418\n",
      "2020-02-28 20:14:37,125 - step 1101/1576, loss: 5825.259, psnr: 5825.259\n"
     ]
    },
    {
     "name": "stdout",
     "output_type": "stream",
     "text": [
      "Iterating\n",
      "Train step success!!\n",
      "Iterating\n",
      "Train step success!!\n"
     ]
    },
    {
     "name": "stderr",
     "output_type": "stream",
     "text": [
      "2020-02-28 20:14:37,227 - step 1102/1576, loss: 5823.248, psnr: 5823.248\n",
      "2020-02-28 20:14:37,329 - step 1103/1576, loss: 5821.108, psnr: 5821.108\n",
      "2020-02-28 20:14:37,430 - step 1104/1576, loss: 5818.562, psnr: 5818.562\n"
     ]
    },
    {
     "name": "stdout",
     "output_type": "stream",
     "text": [
      "Iterating\n",
      "Train step success!!\n",
      "Iterating\n",
      "Train step success!!\n"
     ]
    },
    {
     "name": "stderr",
     "output_type": "stream",
     "text": [
      "2020-02-28 20:14:37,532 - step 1105/1576, loss: 5818.389, psnr: 5818.389\n"
     ]
    },
    {
     "name": "stdout",
     "output_type": "stream",
     "text": [
      "Iterating\n",
      "Train step success!!\n",
      "Iterating\n",
      "Train step success!!\n"
     ]
    },
    {
     "name": "stderr",
     "output_type": "stream",
     "text": [
      "2020-02-28 20:14:37,633 - step 1106/1576, loss: 5824.282, psnr: 5824.282\n",
      "2020-02-28 20:14:37,736 - step 1107/1576, loss: 5827.690, psnr: 5827.690\n"
     ]
    },
    {
     "name": "stdout",
     "output_type": "stream",
     "text": [
      "Iterating\n",
      "Train step success!!\n",
      "Iterating\n",
      "Train step success!!\n"
     ]
    },
    {
     "name": "stderr",
     "output_type": "stream",
     "text": [
      "2020-02-28 20:14:37,838 - step 1108/1576, loss: 5828.139, psnr: 5828.139\n",
      "2020-02-28 20:14:37,940 - step 1109/1576, loss: 5829.425, psnr: 5829.425\n"
     ]
    },
    {
     "name": "stdout",
     "output_type": "stream",
     "text": [
      "Iterating\n",
      "Train step success!!\n",
      "Iterating\n",
      "Train step success!!\n"
     ]
    },
    {
     "name": "stderr",
     "output_type": "stream",
     "text": [
      "2020-02-28 20:14:38,043 - step 1110/1576, loss: 5827.363, psnr: 5827.363\n",
      "2020-02-28 20:14:38,148 - step 1111/1576, loss: 5830.193, psnr: 5830.193\n"
     ]
    },
    {
     "name": "stdout",
     "output_type": "stream",
     "text": [
      "Iterating\n",
      "Train step success!!\n",
      "Iterating\n",
      "Train step success!!\n"
     ]
    },
    {
     "name": "stderr",
     "output_type": "stream",
     "text": [
      "2020-02-28 20:14:38,249 - step 1112/1576, loss: 5830.481, psnr: 5830.481\n",
      "2020-02-28 20:14:38,349 - step 1113/1576, loss: 5831.619, psnr: 5831.619\n"
     ]
    },
    {
     "name": "stdout",
     "output_type": "stream",
     "text": [
      "Iterating\n",
      "Train step success!!\n",
      "Iterating\n",
      "Train step success!!\n"
     ]
    },
    {
     "name": "stderr",
     "output_type": "stream",
     "text": [
      "2020-02-28 20:14:38,456 - step 1114/1576, loss: 5832.434, psnr: 5832.434\n",
      "2020-02-28 20:14:38,564 - step 1115/1576, loss: 5831.766, psnr: 5831.766\n"
     ]
    },
    {
     "name": "stdout",
     "output_type": "stream",
     "text": [
      "Iterating\n",
      "Train step success!!\n",
      "Iterating\n",
      "Train step success!!\n"
     ]
    },
    {
     "name": "stderr",
     "output_type": "stream",
     "text": [
      "2020-02-28 20:14:38,674 - step 1116/1576, loss: 5833.337, psnr: 5833.337\n",
      "2020-02-28 20:14:38,779 - step 1117/1576, loss: 5833.927, psnr: 5833.927\n"
     ]
    },
    {
     "name": "stdout",
     "output_type": "stream",
     "text": [
      "Iterating\n",
      "Train step success!!\n",
      "Iterating\n",
      "Train step success!!\n"
     ]
    },
    {
     "name": "stderr",
     "output_type": "stream",
     "text": [
      "2020-02-28 20:14:38,888 - step 1118/1576, loss: 5835.079, psnr: 5835.079\n",
      "2020-02-28 20:14:39,006 - step 1119/1576, loss: 5835.584, psnr: 5835.584\n"
     ]
    },
    {
     "name": "stdout",
     "output_type": "stream",
     "text": [
      "Iterating\n",
      "Train step success!!\n",
      "Iterating\n",
      "Train step success!!\n"
     ]
    },
    {
     "name": "stderr",
     "output_type": "stream",
     "text": [
      "2020-02-28 20:14:39,111 - step 1120/1576, loss: 5836.641, psnr: 5836.641\n",
      "2020-02-28 20:14:39,218 - step 1121/1576, loss: 5839.252, psnr: 5839.252\n"
     ]
    },
    {
     "name": "stdout",
     "output_type": "stream",
     "text": [
      "Iterating\n",
      "Train step success!!\n",
      "Iterating\n",
      "Train step success!!\n"
     ]
    },
    {
     "name": "stderr",
     "output_type": "stream",
     "text": [
      "2020-02-28 20:14:39,327 - step 1122/1576, loss: 5837.424, psnr: 5837.424\n",
      "2020-02-28 20:14:39,438 - step 1123/1576, loss: 5837.515, psnr: 5837.515\n"
     ]
    },
    {
     "name": "stdout",
     "output_type": "stream",
     "text": [
      "Iterating\n",
      "Train step success!!\n",
      "Iterating\n",
      "Train step success!!\n"
     ]
    },
    {
     "name": "stderr",
     "output_type": "stream",
     "text": [
      "2020-02-28 20:14:39,547 - step 1124/1576, loss: 5839.547, psnr: 5839.547\n",
      "2020-02-28 20:14:39,654 - step 1125/1576, loss: 5839.089, psnr: 5839.089\n"
     ]
    },
    {
     "name": "stdout",
     "output_type": "stream",
     "text": [
      "Iterating\n",
      "Train step success!!\n",
      "Iterating\n",
      "Train step success!!\n"
     ]
    },
    {
     "name": "stderr",
     "output_type": "stream",
     "text": [
      "2020-02-28 20:14:39,761 - step 1126/1576, loss: 5840.308, psnr: 5840.308\n",
      "2020-02-28 20:14:39,869 - step 1127/1576, loss: 5838.779, psnr: 5838.779\n"
     ]
    },
    {
     "name": "stdout",
     "output_type": "stream",
     "text": [
      "Iterating\n",
      "Train step success!!\n",
      "Iterating\n",
      "Train step success!!\n"
     ]
    },
    {
     "name": "stderr",
     "output_type": "stream",
     "text": [
      "2020-02-28 20:14:39,971 - step 1128/1576, loss: 5838.999, psnr: 5838.999\n",
      "2020-02-28 20:14:40,075 - step 1129/1576, loss: 5840.786, psnr: 5840.786\n"
     ]
    },
    {
     "name": "stdout",
     "output_type": "stream",
     "text": [
      "Iterating\n",
      "Train step success!!\n",
      "Iterating\n",
      "Train step success!!\n"
     ]
    },
    {
     "name": "stderr",
     "output_type": "stream",
     "text": [
      "2020-02-28 20:14:40,176 - step 1130/1576, loss: 5839.555, psnr: 5839.555\n",
      "2020-02-28 20:14:40,276 - step 1131/1576, loss: 5838.580, psnr: 5838.580\n",
      "2020-02-28 20:14:40,378 - step 1132/1576, loss: 5836.970, psnr: 5836.970\n"
     ]
    },
    {
     "name": "stdout",
     "output_type": "stream",
     "text": [
      "Iterating\n",
      "Train step success!!\n",
      "Iterating\n",
      "Train step success!!\n"
     ]
    },
    {
     "name": "stderr",
     "output_type": "stream",
     "text": [
      "2020-02-28 20:14:40,479 - step 1133/1576, loss: 5838.415, psnr: 5838.415\n",
      "2020-02-28 20:14:40,580 - step 1134/1576, loss: 5838.701, psnr: 5838.701\n"
     ]
    },
    {
     "name": "stdout",
     "output_type": "stream",
     "text": [
      "Iterating\n",
      "Train step success!!\n",
      "Iterating\n",
      "Train step success!!\n"
     ]
    },
    {
     "name": "stderr",
     "output_type": "stream",
     "text": [
      "2020-02-28 20:14:40,681 - step 1135/1576, loss: 5836.537, psnr: 5836.537\n"
     ]
    },
    {
     "name": "stdout",
     "output_type": "stream",
     "text": [
      "Iterating\n",
      "Train step success!!\n",
      "Iterating\n",
      "Train step success!!\n"
     ]
    },
    {
     "name": "stderr",
     "output_type": "stream",
     "text": [
      "2020-02-28 20:14:40,785 - step 1136/1576, loss: 5838.132, psnr: 5838.132\n",
      "2020-02-28 20:14:40,887 - step 1137/1576, loss: 5835.642, psnr: 5835.642\n"
     ]
    },
    {
     "name": "stdout",
     "output_type": "stream",
     "text": [
      "Iterating\n",
      "Train step success!!\n",
      "Iterating\n",
      "Train step success!!\n"
     ]
    },
    {
     "name": "stderr",
     "output_type": "stream",
     "text": [
      "2020-02-28 20:14:40,988 - step 1138/1576, loss: 5839.557, psnr: 5839.557\n",
      "2020-02-28 20:14:41,091 - step 1139/1576, loss: 5839.673, psnr: 5839.673\n"
     ]
    },
    {
     "name": "stdout",
     "output_type": "stream",
     "text": [
      "Iterating\n",
      "Train step success!!\n",
      "Iterating\n",
      "Train step success!!\n"
     ]
    },
    {
     "name": "stderr",
     "output_type": "stream",
     "text": [
      "2020-02-28 20:14:41,192 - step 1140/1576, loss: 5837.168, psnr: 5837.168\n",
      "2020-02-28 20:14:41,294 - step 1141/1576, loss: 5838.694, psnr: 5838.694\n"
     ]
    },
    {
     "name": "stdout",
     "output_type": "stream",
     "text": [
      "Iterating\n",
      "Train step success!!\n",
      "Iterating\n",
      "Train step success!!\n"
     ]
    },
    {
     "name": "stderr",
     "output_type": "stream",
     "text": [
      "2020-02-28 20:14:41,396 - step 1142/1576, loss: 5842.090, psnr: 5842.090\n",
      "2020-02-28 20:14:41,497 - step 1143/1576, loss: 5842.683, psnr: 5842.683\n",
      "2020-02-28 20:14:41,598 - step 1144/1576, loss: 5843.451, psnr: 5843.451\n"
     ]
    },
    {
     "name": "stdout",
     "output_type": "stream",
     "text": [
      "Iterating\n",
      "Train step success!!\n",
      "Iterating\n",
      "Train step success!!\n"
     ]
    },
    {
     "name": "stderr",
     "output_type": "stream",
     "text": [
      "2020-02-28 20:14:41,698 - step 1145/1576, loss: 5841.735, psnr: 5841.735\n",
      "2020-02-28 20:14:41,800 - step 1146/1576, loss: 5840.005, psnr: 5840.005\n"
     ]
    },
    {
     "name": "stdout",
     "output_type": "stream",
     "text": [
      "Iterating\n",
      "Train step success!!\n",
      "Iterating\n",
      "Train step success!!\n"
     ]
    },
    {
     "name": "stderr",
     "output_type": "stream",
     "text": [
      "2020-02-28 20:14:41,901 - step 1147/1576, loss: 5840.012, psnr: 5840.012\n",
      "2020-02-28 20:14:42,002 - step 1148/1576, loss: 5840.237, psnr: 5840.237\n"
     ]
    },
    {
     "name": "stdout",
     "output_type": "stream",
     "text": [
      "Iterating\n",
      "Train step success!!\n",
      "Iterating\n",
      "Train step success!!\n"
     ]
    },
    {
     "name": "stderr",
     "output_type": "stream",
     "text": [
      "2020-02-28 20:14:42,102 - step 1149/1576, loss: 5840.931, psnr: 5840.931\n",
      "2020-02-28 20:14:42,204 - step 1150/1576, loss: 5842.736, psnr: 5842.736\n"
     ]
    },
    {
     "name": "stdout",
     "output_type": "stream",
     "text": [
      "Iterating\n",
      "Train step success!!\n",
      "Iterating\n",
      "Train step success!!\n"
     ]
    },
    {
     "name": "stderr",
     "output_type": "stream",
     "text": [
      "2020-02-28 20:14:42,305 - step 1151/1576, loss: 5840.875, psnr: 5840.875\n"
     ]
    },
    {
     "name": "stdout",
     "output_type": "stream",
     "text": [
      "Iterating\n",
      "Train step success!!\n",
      "Iterating\n",
      "Train step success!!\n"
     ]
    },
    {
     "name": "stderr",
     "output_type": "stream",
     "text": [
      "2020-02-28 20:14:42,407 - step 1152/1576, loss: 5841.726, psnr: 5841.726\n",
      "2020-02-28 20:14:42,508 - step 1153/1576, loss: 5841.779, psnr: 5841.779\n",
      "2020-02-28 20:14:42,608 - step 1154/1576, loss: 5839.246, psnr: 5839.246\n"
     ]
    },
    {
     "name": "stdout",
     "output_type": "stream",
     "text": [
      "Iterating\n",
      "Train step success!!\n",
      "Iterating\n",
      "Train step success!!\n"
     ]
    },
    {
     "name": "stderr",
     "output_type": "stream",
     "text": [
      "2020-02-28 20:14:42,709 - step 1155/1576, loss: 5837.295, psnr: 5837.295\n"
     ]
    },
    {
     "name": "stdout",
     "output_type": "stream",
     "text": [
      "Iterating\n",
      "Train step success!!\n",
      "Iterating\n",
      "Train step success!!\n"
     ]
    },
    {
     "name": "stderr",
     "output_type": "stream",
     "text": [
      "2020-02-28 20:14:42,812 - step 1156/1576, loss: 5840.392, psnr: 5840.392\n",
      "2020-02-28 20:14:42,915 - step 1157/1576, loss: 5840.517, psnr: 5840.517\n"
     ]
    },
    {
     "name": "stdout",
     "output_type": "stream",
     "text": [
      "Iterating\n",
      "Train step success!!\n",
      "Iterating\n",
      "Train step success!!\n"
     ]
    },
    {
     "name": "stderr",
     "output_type": "stream",
     "text": [
      "2020-02-28 20:14:43,023 - step 1158/1576, loss: 5843.621, psnr: 5843.621\n",
      "2020-02-28 20:14:43,125 - step 1159/1576, loss: 5844.037, psnr: 5844.037\n"
     ]
    },
    {
     "name": "stdout",
     "output_type": "stream",
     "text": [
      "Iterating\n",
      "Train step success!!\n",
      "Iterating\n",
      "Train step success!!\n"
     ]
    },
    {
     "name": "stderr",
     "output_type": "stream",
     "text": [
      "2020-02-28 20:14:43,229 - step 1160/1576, loss: 5842.265, psnr: 5842.265\n",
      "2020-02-28 20:14:43,332 - step 1161/1576, loss: 5843.247, psnr: 5843.247\n"
     ]
    },
    {
     "name": "stdout",
     "output_type": "stream",
     "text": [
      "Iterating\n",
      "Train step success!!\n",
      "Iterating\n",
      "Train step success!!\n"
     ]
    },
    {
     "name": "stderr",
     "output_type": "stream",
     "text": [
      "2020-02-28 20:14:43,433 - step 1162/1576, loss: 5845.958, psnr: 5845.958\n",
      "2020-02-28 20:14:43,535 - step 1163/1576, loss: 5846.537, psnr: 5846.537\n",
      "2020-02-28 20:14:43,635 - step 1164/1576, loss: 5847.162, psnr: 5847.162\n"
     ]
    },
    {
     "name": "stdout",
     "output_type": "stream",
     "text": [
      "Iterating\n",
      "Train step success!!\n",
      "Iterating\n",
      "Train step success!!\n"
     ]
    },
    {
     "name": "stderr",
     "output_type": "stream",
     "text": [
      "2020-02-28 20:14:43,736 - step 1165/1576, loss: 5848.035, psnr: 5848.035\n",
      "2020-02-28 20:14:43,837 - step 1166/1576, loss: 5846.451, psnr: 5846.451\n"
     ]
    },
    {
     "name": "stdout",
     "output_type": "stream",
     "text": [
      "Iterating\n",
      "Train step success!!\n",
      "Iterating\n",
      "Train step success!!\n"
     ]
    },
    {
     "name": "stderr",
     "output_type": "stream",
     "text": [
      "2020-02-28 20:14:43,939 - step 1167/1576, loss: 5846.933, psnr: 5846.933\n"
     ]
    },
    {
     "name": "stdout",
     "output_type": "stream",
     "text": [
      "Iterating\n",
      "Train step success!!\n",
      "Iterating\n",
      "Train step success!!\n"
     ]
    },
    {
     "name": "stderr",
     "output_type": "stream",
     "text": [
      "2020-02-28 20:14:44,041 - step 1168/1576, loss: 5847.261, psnr: 5847.261\n",
      "2020-02-28 20:14:44,148 - step 1169/1576, loss: 5844.704, psnr: 5844.704\n"
     ]
    },
    {
     "name": "stdout",
     "output_type": "stream",
     "text": [
      "Iterating\n",
      "Train step success!!\n",
      "Iterating\n",
      "Train step success!!\n"
     ]
    },
    {
     "name": "stderr",
     "output_type": "stream",
     "text": [
      "2020-02-28 20:14:44,255 - step 1170/1576, loss: 5845.611, psnr: 5845.611\n",
      "2020-02-28 20:14:44,362 - step 1171/1576, loss: 5845.970, psnr: 5845.970\n"
     ]
    },
    {
     "name": "stdout",
     "output_type": "stream",
     "text": [
      "Iterating\n",
      "Train step success!!\n",
      "Iterating\n",
      "Train step success!!\n"
     ]
    },
    {
     "name": "stderr",
     "output_type": "stream",
     "text": [
      "2020-02-28 20:14:44,468 - step 1172/1576, loss: 5847.021, psnr: 5847.021\n",
      "2020-02-28 20:14:44,577 - step 1173/1576, loss: 5848.713, psnr: 5848.713\n"
     ]
    },
    {
     "name": "stdout",
     "output_type": "stream",
     "text": [
      "Iterating\n",
      "Train step success!!\n",
      "Iterating\n",
      "Train step success!!\n"
     ]
    },
    {
     "name": "stderr",
     "output_type": "stream",
     "text": [
      "2020-02-28 20:14:44,696 - step 1174/1576, loss: 5846.178, psnr: 5846.178\n",
      "2020-02-28 20:14:44,809 - step 1175/1576, loss: 5846.841, psnr: 5846.841\n"
     ]
    },
    {
     "name": "stdout",
     "output_type": "stream",
     "text": [
      "Iterating\n",
      "Train step success!!\n",
      "Iterating\n",
      "Train step success!!\n"
     ]
    },
    {
     "name": "stderr",
     "output_type": "stream",
     "text": [
      "2020-02-28 20:14:44,919 - step 1176/1576, loss: 5847.625, psnr: 5847.625\n",
      "2020-02-28 20:14:45,034 - step 1177/1576, loss: 5850.733, psnr: 5850.733\n"
     ]
    },
    {
     "name": "stdout",
     "output_type": "stream",
     "text": [
      "Iterating\n",
      "Train step success!!\n",
      "Iterating\n"
     ]
    },
    {
     "name": "stderr",
     "output_type": "stream",
     "text": [
      "2020-02-28 20:14:45,152 - step 1178/1576, loss: 5856.415, psnr: 5856.415\n",
      "2020-02-28 20:14:45,263 - step 1179/1576, loss: 5856.284, psnr: 5856.284\n"
     ]
    },
    {
     "name": "stdout",
     "output_type": "stream",
     "text": [
      "Train step success!!\n",
      "Iterating\n",
      "Train step success!!\n",
      "Iterating\n"
     ]
    },
    {
     "name": "stderr",
     "output_type": "stream",
     "text": [
      "2020-02-28 20:14:45,387 - step 1180/1576, loss: 5853.642, psnr: 5853.642\n",
      "2020-02-28 20:14:45,489 - step 1181/1576, loss: 5856.105, psnr: 5856.105\n"
     ]
    },
    {
     "name": "stdout",
     "output_type": "stream",
     "text": [
      "Train step success!!\n",
      "Iterating\n",
      "Train step success!!\n",
      "Iterating\n"
     ]
    },
    {
     "name": "stderr",
     "output_type": "stream",
     "text": [
      "2020-02-28 20:14:45,595 - step 1182/1576, loss: 5858.380, psnr: 5858.380\n",
      "2020-02-28 20:14:45,700 - step 1183/1576, loss: 5859.792, psnr: 5859.792\n"
     ]
    },
    {
     "name": "stdout",
     "output_type": "stream",
     "text": [
      "Train step success!!\n",
      "Iterating\n",
      "Train step success!!\n",
      "Iterating\n"
     ]
    },
    {
     "name": "stderr",
     "output_type": "stream",
     "text": [
      "2020-02-28 20:14:45,801 - step 1184/1576, loss: 5863.896, psnr: 5863.896\n",
      "2020-02-28 20:14:45,905 - step 1185/1576, loss: 5864.199, psnr: 5864.199\n"
     ]
    },
    {
     "name": "stdout",
     "output_type": "stream",
     "text": [
      "Train step success!!\n",
      "Iterating\n",
      "Train step success!!\n",
      "Iterating\n"
     ]
    },
    {
     "name": "stderr",
     "output_type": "stream",
     "text": [
      "2020-02-28 20:14:46,007 - step 1186/1576, loss: 5864.241, psnr: 5864.241\n",
      "2020-02-28 20:14:46,113 - step 1187/1576, loss: 5864.342, psnr: 5864.342\n"
     ]
    },
    {
     "name": "stdout",
     "output_type": "stream",
     "text": [
      "Train step success!!\n",
      "Iterating\n",
      "Train step success!!\n",
      "Iterating\n"
     ]
    },
    {
     "name": "stderr",
     "output_type": "stream",
     "text": [
      "2020-02-28 20:14:46,223 - step 1188/1576, loss: 5866.818, psnr: 5866.818\n",
      "2020-02-28 20:14:46,339 - step 1189/1576, loss: 5869.219, psnr: 5869.219\n"
     ]
    },
    {
     "name": "stdout",
     "output_type": "stream",
     "text": [
      "Train step success!!\n",
      "Iterating\n",
      "Train step success!!\n",
      "Iterating\n"
     ]
    },
    {
     "name": "stderr",
     "output_type": "stream",
     "text": [
      "2020-02-28 20:14:46,449 - step 1190/1576, loss: 5866.824, psnr: 5866.824\n",
      "2020-02-28 20:14:46,565 - step 1191/1576, loss: 5867.283, psnr: 5867.283\n"
     ]
    },
    {
     "name": "stdout",
     "output_type": "stream",
     "text": [
      "Train step success!!\n",
      "Iterating\n",
      "Train step success!!\n",
      "Iterating\n"
     ]
    },
    {
     "name": "stderr",
     "output_type": "stream",
     "text": [
      "2020-02-28 20:14:46,667 - step 1192/1576, loss: 5868.215, psnr: 5868.215\n",
      "2020-02-28 20:14:46,768 - step 1193/1576, loss: 5865.207, psnr: 5865.207\n"
     ]
    },
    {
     "name": "stdout",
     "output_type": "stream",
     "text": [
      "Train step success!!\n",
      "Iterating\n",
      "Train step success!!\n",
      "Iterating\n"
     ]
    },
    {
     "name": "stderr",
     "output_type": "stream",
     "text": [
      "2020-02-28 20:14:46,874 - step 1194/1576, loss: 5864.047, psnr: 5864.047\n",
      "2020-02-28 20:14:46,976 - step 1195/1576, loss: 5865.767, psnr: 5865.767\n"
     ]
    },
    {
     "name": "stdout",
     "output_type": "stream",
     "text": [
      "Train step success!!\n",
      "Iterating\n",
      "Train step success!!\n",
      "Iterating\n"
     ]
    },
    {
     "name": "stderr",
     "output_type": "stream",
     "text": [
      "2020-02-28 20:14:47,078 - step 1196/1576, loss: 5865.854, psnr: 5865.854\n",
      "2020-02-28 20:14:47,180 - step 1197/1576, loss: 5865.771, psnr: 5865.771\n"
     ]
    },
    {
     "name": "stdout",
     "output_type": "stream",
     "text": [
      "Train step success!!\n",
      "Iterating\n",
      "Train step success!!\n",
      "Iterating\n"
     ]
    },
    {
     "name": "stderr",
     "output_type": "stream",
     "text": [
      "2020-02-28 20:14:47,282 - step 1198/1576, loss: 5863.349, psnr: 5863.349\n",
      "2020-02-28 20:14:47,383 - step 1199/1576, loss: 5861.051, psnr: 5861.051\n"
     ]
    },
    {
     "name": "stdout",
     "output_type": "stream",
     "text": [
      "Train step success!!\n",
      "Iterating\n",
      "Train step success!!\n",
      "Iterating\n"
     ]
    },
    {
     "name": "stderr",
     "output_type": "stream",
     "text": [
      "2020-02-28 20:14:47,485 - step 1200/1576, loss: 5861.411, psnr: 5861.411\n"
     ]
    },
    {
     "name": "stdout",
     "output_type": "stream",
     "text": [
      "Train step success!!\n"
     ]
    },
    {
     "name": "stderr",
     "output_type": "stream",
     "text": [
      "2020-02-28 20:14:49,700 - Validation results... val_loss: 4339.417, val_psnr: 4339.417\n",
      "2020-02-28 20:14:49,820 - step 1201/1576, loss: 5863.182, psnr: 5863.182\n"
     ]
    },
    {
     "name": "stdout",
     "output_type": "stream",
     "text": [
      "Iterating\n",
      "Train step success!!\n",
      "Iterating\n"
     ]
    },
    {
     "name": "stderr",
     "output_type": "stream",
     "text": [
      "2020-02-28 20:14:49,929 - step 1202/1576, loss: 5864.888, psnr: 5864.888\n",
      "2020-02-28 20:14:50,029 - step 1203/1576, loss: 5864.890, psnr: 5864.890\n"
     ]
    },
    {
     "name": "stdout",
     "output_type": "stream",
     "text": [
      "Train step success!!\n",
      "Iterating\n",
      "Train step success!!\n",
      "Iterating\n"
     ]
    },
    {
     "name": "stderr",
     "output_type": "stream",
     "text": [
      "2020-02-28 20:14:50,132 - step 1204/1576, loss: 5862.859, psnr: 5862.859\n",
      "2020-02-28 20:14:50,232 - step 1205/1576, loss: 5859.542, psnr: 5859.542\n"
     ]
    },
    {
     "name": "stdout",
     "output_type": "stream",
     "text": [
      "Train step success!!\n",
      "Iterating\n",
      "Train step success!!\n",
      "Iterating\n"
     ]
    },
    {
     "name": "stderr",
     "output_type": "stream",
     "text": [
      "2020-02-28 20:14:50,334 - step 1206/1576, loss: 5857.251, psnr: 5857.251\n",
      "2020-02-28 20:14:50,435 - step 1207/1576, loss: 5857.195, psnr: 5857.195\n"
     ]
    },
    {
     "name": "stdout",
     "output_type": "stream",
     "text": [
      "Train step success!!\n",
      "Iterating\n",
      "Train step success!!\n",
      "Iterating\n"
     ]
    },
    {
     "name": "stderr",
     "output_type": "stream",
     "text": [
      "2020-02-28 20:14:50,537 - step 1208/1576, loss: 5857.693, psnr: 5857.693\n",
      "2020-02-28 20:14:50,638 - step 1209/1576, loss: 5859.637, psnr: 5859.637\n"
     ]
    },
    {
     "name": "stdout",
     "output_type": "stream",
     "text": [
      "Train step success!!\n",
      "Iterating\n",
      "Train step success!!\n",
      "Iterating\n"
     ]
    },
    {
     "name": "stderr",
     "output_type": "stream",
     "text": [
      "2020-02-28 20:14:50,740 - step 1210/1576, loss: 5859.111, psnr: 5859.111\n",
      "2020-02-28 20:14:50,841 - step 1211/1576, loss: 5856.750, psnr: 5856.750\n"
     ]
    },
    {
     "name": "stdout",
     "output_type": "stream",
     "text": [
      "Train step success!!\n",
      "Iterating\n",
      "Train step success!!\n",
      "Iterating\n"
     ]
    },
    {
     "name": "stderr",
     "output_type": "stream",
     "text": [
      "2020-02-28 20:14:50,942 - step 1212/1576, loss: 5857.633, psnr: 5857.633\n",
      "2020-02-28 20:14:51,043 - step 1213/1576, loss: 5859.298, psnr: 5859.298\n"
     ]
    },
    {
     "name": "stdout",
     "output_type": "stream",
     "text": [
      "Train step success!!\n",
      "Iterating\n",
      "Train step success!!\n",
      "Iterating\n"
     ]
    },
    {
     "name": "stderr",
     "output_type": "stream",
     "text": [
      "2020-02-28 20:14:51,145 - step 1214/1576, loss: 5858.323, psnr: 5858.323\n",
      "2020-02-28 20:14:51,245 - step 1215/1576, loss: 5858.198, psnr: 5858.198\n"
     ]
    },
    {
     "name": "stdout",
     "output_type": "stream",
     "text": [
      "Train step success!!\n",
      "Iterating\n",
      "Train step success!!\n",
      "Iterating\n",
      "Train step success!!\n"
     ]
    },
    {
     "name": "stderr",
     "output_type": "stream",
     "text": [
      "2020-02-28 20:14:51,346 - step 1216/1576, loss: 5858.340, psnr: 5858.340\n",
      "2020-02-28 20:14:51,446 - step 1217/1576, loss: 5858.346, psnr: 5858.346\n",
      "2020-02-28 20:14:51,548 - step 1218/1576, loss: 5856.843, psnr: 5856.843\n"
     ]
    },
    {
     "name": "stdout",
     "output_type": "stream",
     "text": [
      "Iterating\n",
      "Train step success!!\n",
      "Iterating\n",
      "Train step success!!\n"
     ]
    },
    {
     "name": "stderr",
     "output_type": "stream",
     "text": [
      "2020-02-28 20:14:51,649 - step 1219/1576, loss: 5858.097, psnr: 5858.097\n",
      "2020-02-28 20:14:51,749 - step 1220/1576, loss: 5857.615, psnr: 5857.615\n"
     ]
    },
    {
     "name": "stdout",
     "output_type": "stream",
     "text": [
      "Iterating\n",
      "Train step success!!\n",
      "Iterating\n",
      "Train step success!!\n"
     ]
    },
    {
     "name": "stderr",
     "output_type": "stream",
     "text": [
      "2020-02-28 20:14:51,850 - step 1221/1576, loss: 5857.242, psnr: 5857.242\n"
     ]
    },
    {
     "name": "stdout",
     "output_type": "stream",
     "text": [
      "Iterating\n",
      "Train step success!!\n",
      "Iterating\n",
      "Train step success!!\n"
     ]
    },
    {
     "name": "stderr",
     "output_type": "stream",
     "text": [
      "2020-02-28 20:14:51,955 - step 1222/1576, loss: 5855.091, psnr: 5855.091\n",
      "2020-02-28 20:14:52,063 - step 1223/1576, loss: 5856.022, psnr: 5856.022\n"
     ]
    },
    {
     "name": "stdout",
     "output_type": "stream",
     "text": [
      "Iterating\n",
      "Train step success!!\n",
      "Iterating\n",
      "Train step success!!\n"
     ]
    },
    {
     "name": "stderr",
     "output_type": "stream",
     "text": [
      "2020-02-28 20:14:52,177 - step 1224/1576, loss: 5857.884, psnr: 5857.884\n",
      "2020-02-28 20:14:52,291 - step 1225/1576, loss: 5854.877, psnr: 5854.877\n"
     ]
    },
    {
     "name": "stdout",
     "output_type": "stream",
     "text": [
      "Iterating\n",
      "Train step success!!\n",
      "Iterating\n",
      "Train step success!!\n"
     ]
    },
    {
     "name": "stderr",
     "output_type": "stream",
     "text": [
      "2020-02-28 20:14:52,393 - step 1226/1576, loss: 5853.314, psnr: 5853.314\n",
      "2020-02-28 20:14:52,494 - step 1227/1576, loss: 5851.789, psnr: 5851.789\n"
     ]
    },
    {
     "name": "stdout",
     "output_type": "stream",
     "text": [
      "Iterating\n",
      "Train step success!!\n",
      "Iterating\n",
      "Train step success!!\n"
     ]
    },
    {
     "name": "stderr",
     "output_type": "stream",
     "text": [
      "2020-02-28 20:14:52,598 - step 1228/1576, loss: 5849.202, psnr: 5849.202\n",
      "2020-02-28 20:14:52,700 - step 1229/1576, loss: 5852.375, psnr: 5852.375\n"
     ]
    },
    {
     "name": "stdout",
     "output_type": "stream",
     "text": [
      "Iterating\n",
      "Train step success!!\n",
      "Iterating\n",
      "Train step success!!\n"
     ]
    },
    {
     "name": "stderr",
     "output_type": "stream",
     "text": [
      "2020-02-28 20:14:52,803 - step 1230/1576, loss: 5853.056, psnr: 5853.056\n",
      "2020-02-28 20:14:52,903 - step 1231/1576, loss: 5852.708, psnr: 5852.708\n"
     ]
    },
    {
     "name": "stdout",
     "output_type": "stream",
     "text": [
      "Iterating\n",
      "Train step success!!\n",
      "Iterating\n",
      "Train step success!!\n"
     ]
    },
    {
     "name": "stderr",
     "output_type": "stream",
     "text": [
      "2020-02-28 20:14:53,016 - step 1232/1576, loss: 5854.235, psnr: 5854.235\n",
      "2020-02-28 20:14:53,125 - step 1233/1576, loss: 5852.744, psnr: 5852.744\n"
     ]
    },
    {
     "name": "stdout",
     "output_type": "stream",
     "text": [
      "Iterating\n",
      "Train step success!!\n",
      "Iterating\n",
      "Train step success!!\n"
     ]
    },
    {
     "name": "stderr",
     "output_type": "stream",
     "text": [
      "2020-02-28 20:14:53,240 - step 1234/1576, loss: 5851.007, psnr: 5851.007\n",
      "2020-02-28 20:14:53,345 - step 1235/1576, loss: 5854.911, psnr: 5854.911\n"
     ]
    },
    {
     "name": "stdout",
     "output_type": "stream",
     "text": [
      "Iterating\n",
      "Train step success!!\n",
      "Iterating\n",
      "Train step success!!\n"
     ]
    },
    {
     "name": "stderr",
     "output_type": "stream",
     "text": [
      "2020-02-28 20:14:53,455 - step 1236/1576, loss: 5855.220, psnr: 5855.220\n",
      "2020-02-28 20:14:53,562 - step 1237/1576, loss: 5855.383, psnr: 5855.383\n"
     ]
    },
    {
     "name": "stdout",
     "output_type": "stream",
     "text": [
      "Iterating\n",
      "Train step success!!\n",
      "Iterating\n",
      "Train step success!!\n"
     ]
    },
    {
     "name": "stderr",
     "output_type": "stream",
     "text": [
      "2020-02-28 20:14:53,670 - step 1238/1576, loss: 5856.620, psnr: 5856.620\n",
      "2020-02-28 20:14:53,776 - step 1239/1576, loss: 5854.342, psnr: 5854.342\n"
     ]
    },
    {
     "name": "stdout",
     "output_type": "stream",
     "text": [
      "Iterating\n",
      "Train step success!!\n",
      "Iterating\n",
      "Train step success!!\n"
     ]
    },
    {
     "name": "stderr",
     "output_type": "stream",
     "text": [
      "2020-02-28 20:14:53,878 - step 1240/1576, loss: 5854.798, psnr: 5854.798\n",
      "2020-02-28 20:14:53,980 - step 1241/1576, loss: 5855.923, psnr: 5855.923\n"
     ]
    },
    {
     "name": "stdout",
     "output_type": "stream",
     "text": [
      "Iterating\n",
      "Train step success!!\n",
      "Iterating\n",
      "Train step success!!\n"
     ]
    },
    {
     "name": "stderr",
     "output_type": "stream",
     "text": [
      "2020-02-28 20:14:54,082 - step 1242/1576, loss: 5854.360, psnr: 5854.360\n",
      "2020-02-28 20:14:54,194 - step 1243/1576, loss: 5852.771, psnr: 5852.771\n"
     ]
    },
    {
     "name": "stdout",
     "output_type": "stream",
     "text": [
      "Iterating\n",
      "Train step success!!\n",
      "Iterating\n",
      "Train step success!!\n"
     ]
    },
    {
     "name": "stderr",
     "output_type": "stream",
     "text": [
      "2020-02-28 20:14:54,295 - step 1244/1576, loss: 5852.893, psnr: 5852.893\n",
      "2020-02-28 20:14:54,397 - step 1245/1576, loss: 5853.145, psnr: 5853.145\n"
     ]
    },
    {
     "name": "stdout",
     "output_type": "stream",
     "text": [
      "Iterating\n",
      "Train step success!!\n",
      "Iterating\n",
      "Train step success!!\n"
     ]
    },
    {
     "name": "stderr",
     "output_type": "stream",
     "text": [
      "2020-02-28 20:14:54,499 - step 1246/1576, loss: 5850.962, psnr: 5850.962\n",
      "2020-02-28 20:14:54,601 - step 1247/1576, loss: 5850.997, psnr: 5850.997\n"
     ]
    },
    {
     "name": "stdout",
     "output_type": "stream",
     "text": [
      "Iterating\n",
      "Train step success!!\n",
      "Iterating\n",
      "Train step success!!\n"
     ]
    },
    {
     "name": "stderr",
     "output_type": "stream",
     "text": [
      "2020-02-28 20:14:54,704 - step 1248/1576, loss: 5851.449, psnr: 5851.449\n",
      "2020-02-28 20:14:54,807 - step 1249/1576, loss: 5849.202, psnr: 5849.202\n"
     ]
    },
    {
     "name": "stdout",
     "output_type": "stream",
     "text": [
      "Iterating\n",
      "Train step success!!\n",
      "Iterating\n",
      "Train step success!!\n"
     ]
    },
    {
     "name": "stderr",
     "output_type": "stream",
     "text": [
      "2020-02-28 20:14:54,909 - step 1250/1576, loss: 5849.900, psnr: 5849.900\n",
      "2020-02-28 20:14:55,010 - step 1251/1576, loss: 5849.411, psnr: 5849.411\n"
     ]
    },
    {
     "name": "stdout",
     "output_type": "stream",
     "text": [
      "Iterating\n",
      "Train step success!!\n",
      "Iterating\n",
      "Train step success!!\n"
     ]
    },
    {
     "name": "stderr",
     "output_type": "stream",
     "text": [
      "2020-02-28 20:14:55,112 - step 1252/1576, loss: 5850.705, psnr: 5850.705\n",
      "2020-02-28 20:14:55,228 - step 1253/1576, loss: 5852.058, psnr: 5852.058\n"
     ]
    },
    {
     "name": "stdout",
     "output_type": "stream",
     "text": [
      "Iterating\n",
      "Train step success!!\n",
      "Iterating\n",
      "Train step success!!\n"
     ]
    },
    {
     "name": "stderr",
     "output_type": "stream",
     "text": [
      "2020-02-28 20:14:55,339 - step 1254/1576, loss: 5849.695, psnr: 5849.695\n",
      "2020-02-28 20:14:55,448 - step 1255/1576, loss: 5850.568, psnr: 5850.568\n"
     ]
    },
    {
     "name": "stdout",
     "output_type": "stream",
     "text": [
      "Iterating\n",
      "Train step success!!\n",
      "Iterating\n",
      "Train step success!!\n"
     ]
    },
    {
     "name": "stderr",
     "output_type": "stream",
     "text": [
      "2020-02-28 20:14:55,550 - step 1256/1576, loss: 5850.585, psnr: 5850.585\n",
      "2020-02-28 20:14:55,659 - step 1257/1576, loss: 5852.318, psnr: 5852.318\n"
     ]
    },
    {
     "name": "stdout",
     "output_type": "stream",
     "text": [
      "Iterating\n",
      "Train step success!!\n",
      "Iterating\n",
      "Train step success!!\n"
     ]
    },
    {
     "name": "stderr",
     "output_type": "stream",
     "text": [
      "2020-02-28 20:14:55,769 - step 1258/1576, loss: 5852.225, psnr: 5852.225\n",
      "2020-02-28 20:14:55,881 - step 1259/1576, loss: 5853.959, psnr: 5853.959\n"
     ]
    },
    {
     "name": "stdout",
     "output_type": "stream",
     "text": [
      "Iterating\n",
      "Train step success!!\n",
      "Iterating\n",
      "Train step success!!\n"
     ]
    },
    {
     "name": "stderr",
     "output_type": "stream",
     "text": [
      "2020-02-28 20:14:55,983 - step 1260/1576, loss: 5851.883, psnr: 5851.883\n",
      "2020-02-28 20:14:56,083 - step 1261/1576, loss: 5853.464, psnr: 5853.464\n"
     ]
    },
    {
     "name": "stdout",
     "output_type": "stream",
     "text": [
      "Iterating\n",
      "Train step success!!\n",
      "Iterating\n",
      "Train step success!!\n"
     ]
    },
    {
     "name": "stderr",
     "output_type": "stream",
     "text": [
      "2020-02-28 20:14:56,185 - step 1262/1576, loss: 5857.158, psnr: 5857.158\n",
      "2020-02-28 20:14:56,286 - step 1263/1576, loss: 5855.870, psnr: 5855.870\n"
     ]
    },
    {
     "name": "stdout",
     "output_type": "stream",
     "text": [
      "Iterating\n",
      "Train step success!!\n",
      "Iterating\n",
      "Train step success!!\n"
     ]
    },
    {
     "name": "stderr",
     "output_type": "stream",
     "text": [
      "2020-02-28 20:14:56,390 - step 1264/1576, loss: 5856.420, psnr: 5856.420\n",
      "2020-02-28 20:14:56,501 - step 1265/1576, loss: 5856.756, psnr: 5856.756\n"
     ]
    },
    {
     "name": "stdout",
     "output_type": "stream",
     "text": [
      "Iterating\n",
      "Train step success!!\n",
      "Iterating\n",
      "Train step success!!\n"
     ]
    },
    {
     "name": "stderr",
     "output_type": "stream",
     "text": [
      "2020-02-28 20:14:56,611 - step 1266/1576, loss: 5856.950, psnr: 5856.950\n",
      "2020-02-28 20:14:56,715 - step 1267/1576, loss: 5859.972, psnr: 5859.972\n"
     ]
    },
    {
     "name": "stdout",
     "output_type": "stream",
     "text": [
      "Iterating\n",
      "Train step success!!\n",
      "Iterating\n",
      "Train step success!!\n"
     ]
    },
    {
     "name": "stderr",
     "output_type": "stream",
     "text": [
      "2020-02-28 20:14:56,820 - step 1268/1576, loss: 5860.813, psnr: 5860.813\n",
      "2020-02-28 20:14:56,927 - step 1269/1576, loss: 5862.736, psnr: 5862.736\n"
     ]
    },
    {
     "name": "stdout",
     "output_type": "stream",
     "text": [
      "Iterating\n",
      "Train step success!!\n",
      "Iterating\n",
      "Train step success!!\n"
     ]
    },
    {
     "name": "stderr",
     "output_type": "stream",
     "text": [
      "2020-02-28 20:14:57,029 - step 1270/1576, loss: 5864.197, psnr: 5864.197\n",
      "2020-02-28 20:14:57,133 - step 1271/1576, loss: 5861.984, psnr: 5861.984\n"
     ]
    },
    {
     "name": "stdout",
     "output_type": "stream",
     "text": [
      "Iterating\n",
      "Train step success!!\n",
      "Iterating\n",
      "Train step success!!\n"
     ]
    },
    {
     "name": "stderr",
     "output_type": "stream",
     "text": [
      "2020-02-28 20:14:57,248 - step 1272/1576, loss: 5863.583, psnr: 5863.583\n",
      "2020-02-28 20:14:57,358 - step 1273/1576, loss: 5864.383, psnr: 5864.383\n"
     ]
    },
    {
     "name": "stdout",
     "output_type": "stream",
     "text": [
      "Iterating\n",
      "Train step success!!\n",
      "Iterating\n",
      "Train step success!!\n"
     ]
    },
    {
     "name": "stderr",
     "output_type": "stream",
     "text": [
      "2020-02-28 20:14:57,468 - step 1274/1576, loss: 5865.071, psnr: 5865.071\n",
      "2020-02-28 20:14:57,574 - step 1275/1576, loss: 5866.722, psnr: 5866.722\n"
     ]
    },
    {
     "name": "stdout",
     "output_type": "stream",
     "text": [
      "Iterating\n",
      "Train step success!!\n",
      "Iterating\n",
      "Train step success!!\n"
     ]
    },
    {
     "name": "stderr",
     "output_type": "stream",
     "text": [
      "2020-02-28 20:14:57,675 - step 1276/1576, loss: 5865.639, psnr: 5865.639\n",
      "2020-02-28 20:14:57,779 - step 1277/1576, loss: 5867.084, psnr: 5867.084\n"
     ]
    },
    {
     "name": "stdout",
     "output_type": "stream",
     "text": [
      "Iterating\n",
      "Train step success!!\n",
      "Iterating\n",
      "Train step success!!\n"
     ]
    },
    {
     "name": "stderr",
     "output_type": "stream",
     "text": [
      "2020-02-28 20:14:57,881 - step 1278/1576, loss: 5865.407, psnr: 5865.407\n",
      "2020-02-28 20:14:57,983 - step 1279/1576, loss: 5863.348, psnr: 5863.348\n"
     ]
    },
    {
     "name": "stdout",
     "output_type": "stream",
     "text": [
      "Iterating\n",
      "Train step success!!\n",
      "Iterating\n",
      "Train step success!!\n"
     ]
    },
    {
     "name": "stderr",
     "output_type": "stream",
     "text": [
      "2020-02-28 20:14:58,085 - step 1280/1576, loss: 5861.311, psnr: 5861.311\n",
      "2020-02-28 20:14:58,187 - step 1281/1576, loss: 5859.934, psnr: 5859.934\n"
     ]
    },
    {
     "name": "stdout",
     "output_type": "stream",
     "text": [
      "Iterating\n",
      "Train step success!!\n",
      "Iterating\n",
      "Train step success!!\n"
     ]
    },
    {
     "name": "stderr",
     "output_type": "stream",
     "text": [
      "2020-02-28 20:14:58,288 - step 1282/1576, loss: 5857.644, psnr: 5857.644\n",
      "2020-02-28 20:14:58,392 - step 1283/1576, loss: 5857.682, psnr: 5857.682\n"
     ]
    },
    {
     "name": "stdout",
     "output_type": "stream",
     "text": [
      "Iterating\n",
      "Train step success!!\n",
      "Iterating\n",
      "Train step success!!\n"
     ]
    },
    {
     "name": "stderr",
     "output_type": "stream",
     "text": [
      "2020-02-28 20:14:58,494 - step 1284/1576, loss: 5857.502, psnr: 5857.502\n",
      "2020-02-28 20:14:58,595 - step 1285/1576, loss: 5856.864, psnr: 5856.864\n"
     ]
    },
    {
     "name": "stdout",
     "output_type": "stream",
     "text": [
      "Iterating\n",
      "Train step success!!\n",
      "Iterating\n",
      "Train step success!!\n"
     ]
    },
    {
     "name": "stderr",
     "output_type": "stream",
     "text": [
      "2020-02-28 20:14:58,697 - step 1286/1576, loss: 5859.444, psnr: 5859.444\n",
      "2020-02-28 20:14:58,805 - step 1287/1576, loss: 5862.177, psnr: 5862.177\n"
     ]
    },
    {
     "name": "stdout",
     "output_type": "stream",
     "text": [
      "Iterating\n",
      "Train step success!!\n",
      "Iterating\n",
      "Train step success!!\n"
     ]
    },
    {
     "name": "stderr",
     "output_type": "stream",
     "text": [
      "2020-02-28 20:14:58,906 - step 1288/1576, loss: 5864.096, psnr: 5864.096\n",
      "2020-02-28 20:14:59,007 - step 1289/1576, loss: 5862.827, psnr: 5862.827\n",
      "2020-02-28 20:14:59,107 - step 1290/1576, loss: 5865.565, psnr: 5865.565\n"
     ]
    },
    {
     "name": "stdout",
     "output_type": "stream",
     "text": [
      "Iterating\n",
      "Train step success!!\n",
      "Iterating\n",
      "Train step success!!\n"
     ]
    },
    {
     "name": "stderr",
     "output_type": "stream",
     "text": [
      "2020-02-28 20:14:59,208 - step 1291/1576, loss: 5867.341, psnr: 5867.341\n",
      "2020-02-28 20:14:59,308 - step 1292/1576, loss: 5868.225, psnr: 5868.225\n"
     ]
    },
    {
     "name": "stdout",
     "output_type": "stream",
     "text": [
      "Iterating\n",
      "Train step success!!\n",
      "Iterating\n",
      "Train step success!!\n"
     ]
    },
    {
     "name": "stderr",
     "output_type": "stream",
     "text": [
      "2020-02-28 20:14:59,409 - step 1293/1576, loss: 5866.757, psnr: 5866.757\n",
      "2020-02-28 20:14:59,510 - step 1294/1576, loss: 5868.002, psnr: 5868.002\n"
     ]
    },
    {
     "name": "stdout",
     "output_type": "stream",
     "text": [
      "Iterating\n",
      "Train step success!!\n",
      "Iterating\n",
      "Train step success!!\n"
     ]
    },
    {
     "name": "stderr",
     "output_type": "stream",
     "text": [
      "2020-02-28 20:14:59,611 - step 1295/1576, loss: 5865.990, psnr: 5865.990\n",
      "2020-02-28 20:14:59,712 - step 1296/1576, loss: 5866.753, psnr: 5866.753\n"
     ]
    },
    {
     "name": "stdout",
     "output_type": "stream",
     "text": [
      "Iterating\n",
      "Train step success!!\n",
      "Iterating\n",
      "Train step success!!\n"
     ]
    },
    {
     "name": "stderr",
     "output_type": "stream",
     "text": [
      "2020-02-28 20:14:59,812 - step 1297/1576, loss: 5867.118, psnr: 5867.118\n",
      "2020-02-28 20:14:59,914 - step 1298/1576, loss: 5869.504, psnr: 5869.504\n"
     ]
    },
    {
     "name": "stdout",
     "output_type": "stream",
     "text": [
      "Iterating\n",
      "Train step success!!\n",
      "Iterating\n",
      "Train step success!!\n"
     ]
    },
    {
     "name": "stderr",
     "output_type": "stream",
     "text": [
      "2020-02-28 20:15:00,016 - step 1299/1576, loss: 5871.205, psnr: 5871.205\n"
     ]
    },
    {
     "name": "stdout",
     "output_type": "stream",
     "text": [
      "Iterating\n",
      "Train step success!!\n",
      "Iterating\n",
      "Train step success!!\n"
     ]
    },
    {
     "name": "stderr",
     "output_type": "stream",
     "text": [
      "2020-02-28 20:15:00,117 - step 1300/1576, loss: 5871.514, psnr: 5871.514\n",
      "2020-02-28 20:15:02,338 - Validation results... val_loss: 4339.418, val_psnr: 4339.418\n",
      "2020-02-28 20:15:02,439 - step 1301/1576, loss: 5868.979, psnr: 5868.979\n"
     ]
    },
    {
     "name": "stdout",
     "output_type": "stream",
     "text": [
      "Iterating\n",
      "Train step success!!\n",
      "Iterating\n",
      "Train step success!!\n"
     ]
    },
    {
     "name": "stderr",
     "output_type": "stream",
     "text": [
      "2020-02-28 20:15:02,540 - step 1302/1576, loss: 5871.758, psnr: 5871.758\n",
      "2020-02-28 20:15:02,643 - step 1303/1576, loss: 5869.558, psnr: 5869.558\n"
     ]
    },
    {
     "name": "stdout",
     "output_type": "stream",
     "text": [
      "Iterating\n",
      "Train step success!!\n",
      "Iterating\n",
      "Train step success!!\n"
     ]
    },
    {
     "name": "stderr",
     "output_type": "stream",
     "text": [
      "2020-02-28 20:15:02,745 - step 1304/1576, loss: 5871.613, psnr: 5871.613\n",
      "2020-02-28 20:15:02,851 - step 1305/1576, loss: 5871.118, psnr: 5871.118\n"
     ]
    },
    {
     "name": "stdout",
     "output_type": "stream",
     "text": [
      "Iterating\n",
      "Train step success!!\n",
      "Iterating\n",
      "Train step success!!\n"
     ]
    },
    {
     "name": "stderr",
     "output_type": "stream",
     "text": [
      "2020-02-28 20:15:02,953 - step 1306/1576, loss: 5869.260, psnr: 5869.260\n",
      "2020-02-28 20:15:03,055 - step 1307/1576, loss: 5869.239, psnr: 5869.239\n"
     ]
    },
    {
     "name": "stdout",
     "output_type": "stream",
     "text": [
      "Iterating\n",
      "Train step success!!\n",
      "Iterating\n",
      "Train step success!!\n"
     ]
    },
    {
     "name": "stderr",
     "output_type": "stream",
     "text": [
      "2020-02-28 20:15:03,157 - step 1308/1576, loss: 5870.080, psnr: 5870.080\n",
      "2020-02-28 20:15:03,259 - step 1309/1576, loss: 5870.311, psnr: 5870.311\n",
      "2020-02-28 20:15:03,359 - step 1310/1576, loss: 5870.397, psnr: 5870.397\n"
     ]
    },
    {
     "name": "stdout",
     "output_type": "stream",
     "text": [
      "Iterating\n",
      "Train step success!!\n",
      "Iterating\n",
      "Train step success!!\n"
     ]
    },
    {
     "name": "stderr",
     "output_type": "stream",
     "text": [
      "2020-02-28 20:15:03,460 - step 1311/1576, loss: 5869.896, psnr: 5869.896\n",
      "2020-02-28 20:15:03,561 - step 1312/1576, loss: 5871.601, psnr: 5871.601\n"
     ]
    },
    {
     "name": "stdout",
     "output_type": "stream",
     "text": [
      "Iterating\n",
      "Train step success!!\n",
      "Iterating\n",
      "Train step success!!\n"
     ]
    },
    {
     "name": "stderr",
     "output_type": "stream",
     "text": [
      "2020-02-28 20:15:03,663 - step 1313/1576, loss: 5871.011, psnr: 5871.011\n"
     ]
    },
    {
     "name": "stdout",
     "output_type": "stream",
     "text": [
      "Iterating\n",
      "Train step success!!\n",
      "Iterating\n",
      "Train step success!!\n"
     ]
    },
    {
     "name": "stderr",
     "output_type": "stream",
     "text": [
      "2020-02-28 20:15:03,764 - step 1314/1576, loss: 5870.898, psnr: 5870.898\n",
      "2020-02-28 20:15:03,866 - step 1315/1576, loss: 5869.510, psnr: 5869.510\n"
     ]
    },
    {
     "name": "stdout",
     "output_type": "stream",
     "text": [
      "Iterating\n",
      "Train step success!!\n",
      "Iterating\n",
      "Train step success!!\n"
     ]
    },
    {
     "name": "stderr",
     "output_type": "stream",
     "text": [
      "2020-02-28 20:15:03,968 - step 1316/1576, loss: 5867.490, psnr: 5867.490\n",
      "2020-02-28 20:15:04,069 - step 1317/1576, loss: 5866.144, psnr: 5866.144\n"
     ]
    },
    {
     "name": "stdout",
     "output_type": "stream",
     "text": [
      "Iterating\n",
      "Train step success!!\n",
      "Iterating\n",
      "Train step success!!\n"
     ]
    },
    {
     "name": "stderr",
     "output_type": "stream",
     "text": [
      "2020-02-28 20:15:04,171 - step 1318/1576, loss: 5867.371, psnr: 5867.371\n",
      "2020-02-28 20:15:04,273 - step 1319/1576, loss: 5869.138, psnr: 5869.138\n"
     ]
    },
    {
     "name": "stdout",
     "output_type": "stream",
     "text": [
      "Iterating\n",
      "Train step success!!\n",
      "Iterating\n",
      "Train step success!!\n"
     ]
    },
    {
     "name": "stderr",
     "output_type": "stream",
     "text": [
      "2020-02-28 20:15:04,376 - step 1320/1576, loss: 5871.194, psnr: 5871.194\n",
      "2020-02-28 20:15:04,477 - step 1321/1576, loss: 5870.609, psnr: 5870.609\n",
      "2020-02-28 20:15:04,579 - step 1322/1576, loss: 5868.121, psnr: 5868.121\n"
     ]
    },
    {
     "name": "stdout",
     "output_type": "stream",
     "text": [
      "Iterating\n",
      "Train step success!!\n",
      "Iterating\n",
      "Train step success!!\n"
     ]
    },
    {
     "name": "stderr",
     "output_type": "stream",
     "text": [
      "2020-02-28 20:15:04,680 - step 1323/1576, loss: 5867.460, psnr: 5867.460\n",
      "2020-02-28 20:15:04,780 - step 1324/1576, loss: 5869.992, psnr: 5869.992\n"
     ]
    },
    {
     "name": "stdout",
     "output_type": "stream",
     "text": [
      "Iterating\n",
      "Train step success!!\n",
      "Iterating\n",
      "Train step success!!\n"
     ]
    },
    {
     "name": "stderr",
     "output_type": "stream",
     "text": [
      "2020-02-28 20:15:04,882 - step 1325/1576, loss: 5869.756, psnr: 5869.756\n"
     ]
    },
    {
     "name": "stdout",
     "output_type": "stream",
     "text": [
      "Iterating\n",
      "Train step success!!\n",
      "Iterating\n",
      "Train step success!!\n"
     ]
    },
    {
     "name": "stderr",
     "output_type": "stream",
     "text": [
      "2020-02-28 20:15:04,983 - step 1326/1576, loss: 5868.077, psnr: 5868.077\n",
      "2020-02-28 20:15:05,085 - step 1327/1576, loss: 5869.239, psnr: 5869.239\n"
     ]
    },
    {
     "name": "stdout",
     "output_type": "stream",
     "text": [
      "Iterating\n",
      "Train step success!!\n",
      "Iterating\n",
      "Train step success!!\n"
     ]
    },
    {
     "name": "stderr",
     "output_type": "stream",
     "text": [
      "2020-02-28 20:15:05,186 - step 1328/1576, loss: 5870.646, psnr: 5870.646\n",
      "2020-02-28 20:15:05,288 - step 1329/1576, loss: 5871.286, psnr: 5871.286\n"
     ]
    },
    {
     "name": "stdout",
     "output_type": "stream",
     "text": [
      "Iterating\n",
      "Train step success!!\n",
      "Iterating\n",
      "Train step success!!\n"
     ]
    },
    {
     "name": "stderr",
     "output_type": "stream",
     "text": [
      "2020-02-28 20:15:05,389 - step 1330/1576, loss: 5872.081, psnr: 5872.081\n",
      "2020-02-28 20:15:05,492 - step 1331/1576, loss: 5872.355, psnr: 5872.355\n"
     ]
    },
    {
     "name": "stdout",
     "output_type": "stream",
     "text": [
      "Iterating\n",
      "Train step success!!\n",
      "Iterating\n",
      "Train step success!!\n"
     ]
    },
    {
     "name": "stderr",
     "output_type": "stream",
     "text": [
      "2020-02-28 20:15:05,593 - step 1332/1576, loss: 5871.142, psnr: 5871.142\n",
      "2020-02-28 20:15:05,694 - step 1333/1576, loss: 5870.692, psnr: 5870.692\n"
     ]
    },
    {
     "name": "stdout",
     "output_type": "stream",
     "text": [
      "Iterating\n",
      "Train step success!!\n",
      "Iterating\n",
      "Train step success!!\n"
     ]
    },
    {
     "name": "stderr",
     "output_type": "stream",
     "text": [
      "2020-02-28 20:15:05,796 - step 1334/1576, loss: 5871.454, psnr: 5871.454\n",
      "2020-02-28 20:15:05,897 - step 1335/1576, loss: 5871.685, psnr: 5871.685\n",
      "2020-02-28 20:15:05,999 - step 1336/1576, loss: 5872.434, psnr: 5872.434\n"
     ]
    },
    {
     "name": "stdout",
     "output_type": "stream",
     "text": [
      "Iterating\n",
      "Train step success!!\n",
      "Iterating\n",
      "Train step success!!\n"
     ]
    },
    {
     "name": "stderr",
     "output_type": "stream",
     "text": [
      "2020-02-28 20:15:06,100 - step 1337/1576, loss: 5871.954, psnr: 5871.954\n",
      "2020-02-28 20:15:06,200 - step 1338/1576, loss: 5872.371, psnr: 5872.371\n"
     ]
    },
    {
     "name": "stdout",
     "output_type": "stream",
     "text": [
      "Iterating\n",
      "Train step success!!\n",
      "Iterating\n",
      "Train step success!!\n",
      "Iterating\n"
     ]
    },
    {
     "name": "stderr",
     "output_type": "stream",
     "text": [
      "2020-02-28 20:15:06,301 - step 1339/1576, loss: 5872.635, psnr: 5872.635\n",
      "2020-02-28 20:15:06,402 - step 1340/1576, loss: 5873.410, psnr: 5873.410\n"
     ]
    },
    {
     "name": "stdout",
     "output_type": "stream",
     "text": [
      "Train step success!!\n",
      "Iterating\n",
      "Train step success!!\n",
      "Iterating\n"
     ]
    },
    {
     "name": "stderr",
     "output_type": "stream",
     "text": [
      "2020-02-28 20:15:06,503 - step 1341/1576, loss: 5873.263, psnr: 5873.263\n",
      "2020-02-28 20:15:06,603 - step 1342/1576, loss: 5874.760, psnr: 5874.760\n"
     ]
    },
    {
     "name": "stdout",
     "output_type": "stream",
     "text": [
      "Train step success!!\n",
      "Iterating\n",
      "Train step success!!\n",
      "Iterating\n"
     ]
    },
    {
     "name": "stderr",
     "output_type": "stream",
     "text": [
      "2020-02-28 20:15:06,704 - step 1343/1576, loss: 5875.908, psnr: 5875.908\n",
      "2020-02-28 20:15:06,805 - step 1344/1576, loss: 5876.339, psnr: 5876.339\n"
     ]
    },
    {
     "name": "stdout",
     "output_type": "stream",
     "text": [
      "Train step success!!\n",
      "Iterating\n",
      "Train step success!!\n",
      "Iterating\n"
     ]
    },
    {
     "name": "stderr",
     "output_type": "stream",
     "text": [
      "2020-02-28 20:15:06,905 - step 1345/1576, loss: 5874.862, psnr: 5874.862\n",
      "2020-02-28 20:15:07,006 - step 1346/1576, loss: 5875.574, psnr: 5875.574\n"
     ]
    },
    {
     "name": "stdout",
     "output_type": "stream",
     "text": [
      "Train step success!!\n",
      "Iterating\n",
      "Train step success!!\n",
      "Iterating\n"
     ]
    },
    {
     "name": "stderr",
     "output_type": "stream",
     "text": [
      "2020-02-28 20:15:07,107 - step 1347/1576, loss: 5874.066, psnr: 5874.066\n",
      "2020-02-28 20:15:07,207 - step 1348/1576, loss: 5874.291, psnr: 5874.291\n"
     ]
    },
    {
     "name": "stdout",
     "output_type": "stream",
     "text": [
      "Train step success!!\n",
      "Iterating\n",
      "Train step success!!\n",
      "Iterating\n"
     ]
    },
    {
     "name": "stderr",
     "output_type": "stream",
     "text": [
      "2020-02-28 20:15:07,308 - step 1349/1576, loss: 5872.838, psnr: 5872.838\n",
      "2020-02-28 20:15:07,409 - step 1350/1576, loss: 5871.513, psnr: 5871.513\n"
     ]
    },
    {
     "name": "stdout",
     "output_type": "stream",
     "text": [
      "Train step success!!\n",
      "Iterating\n",
      "Train step success!!\n",
      "Iterating\n"
     ]
    },
    {
     "name": "stderr",
     "output_type": "stream",
     "text": [
      "2020-02-28 20:15:07,516 - step 1351/1576, loss: 5873.002, psnr: 5873.002\n",
      "2020-02-28 20:15:07,633 - step 1352/1576, loss: 5874.061, psnr: 5874.061\n"
     ]
    },
    {
     "name": "stdout",
     "output_type": "stream",
     "text": [
      "Train step success!!\n",
      "Iterating\n",
      "Train step success!!\n",
      "Iterating\n"
     ]
    },
    {
     "name": "stderr",
     "output_type": "stream",
     "text": [
      "2020-02-28 20:15:07,746 - step 1353/1576, loss: 5872.874, psnr: 5872.874\n",
      "2020-02-28 20:15:07,847 - step 1354/1576, loss: 5872.998, psnr: 5872.998\n"
     ]
    },
    {
     "name": "stdout",
     "output_type": "stream",
     "text": [
      "Train step success!!\n",
      "Iterating\n",
      "Train step success!!\n",
      "Iterating\n"
     ]
    },
    {
     "name": "stderr",
     "output_type": "stream",
     "text": [
      "2020-02-28 20:15:07,948 - step 1355/1576, loss: 5873.600, psnr: 5873.600\n",
      "2020-02-28 20:15:08,049 - step 1356/1576, loss: 5872.099, psnr: 5872.099\n"
     ]
    },
    {
     "name": "stdout",
     "output_type": "stream",
     "text": [
      "Train step success!!\n",
      "Iterating\n",
      "Train step success!!\n",
      "Iterating\n"
     ]
    },
    {
     "name": "stderr",
     "output_type": "stream",
     "text": [
      "2020-02-28 20:15:08,154 - step 1357/1576, loss: 5866.670, psnr: 5866.670\n",
      "2020-02-28 20:15:08,269 - step 1358/1576, loss: 5864.761, psnr: 5864.761\n"
     ]
    },
    {
     "name": "stdout",
     "output_type": "stream",
     "text": [
      "Train step success!!\n",
      "Iterating\n",
      "Train step success!!\n",
      "Iterating\n"
     ]
    },
    {
     "name": "stderr",
     "output_type": "stream",
     "text": [
      "2020-02-28 20:15:08,387 - step 1359/1576, loss: 5866.178, psnr: 5866.178\n",
      "2020-02-28 20:15:08,503 - step 1360/1576, loss: 5867.043, psnr: 5867.043\n"
     ]
    },
    {
     "name": "stdout",
     "output_type": "stream",
     "text": [
      "Train step success!!\n",
      "Iterating\n",
      "Train step success!!\n",
      "Iterating\n"
     ]
    },
    {
     "name": "stderr",
     "output_type": "stream",
     "text": [
      "2020-02-28 20:15:08,605 - step 1361/1576, loss: 5866.413, psnr: 5866.413\n",
      "2020-02-28 20:15:08,707 - step 1362/1576, loss: 5868.124, psnr: 5868.124\n"
     ]
    },
    {
     "name": "stdout",
     "output_type": "stream",
     "text": [
      "Train step success!!\n",
      "Iterating\n",
      "Train step success!!\n",
      "Iterating\n"
     ]
    },
    {
     "name": "stderr",
     "output_type": "stream",
     "text": [
      "2020-02-28 20:15:08,814 - step 1363/1576, loss: 5867.837, psnr: 5867.837\n",
      "2020-02-28 20:15:08,919 - step 1364/1576, loss: 5866.110, psnr: 5866.110\n"
     ]
    },
    {
     "name": "stdout",
     "output_type": "stream",
     "text": [
      "Train step success!!\n",
      "Iterating\n",
      "Train step success!!\n",
      "Iterating\n"
     ]
    },
    {
     "name": "stderr",
     "output_type": "stream",
     "text": [
      "2020-02-28 20:15:09,030 - step 1365/1576, loss: 5866.975, psnr: 5866.975\n",
      "2020-02-28 20:15:09,143 - step 1366/1576, loss: 5868.060, psnr: 5868.060\n"
     ]
    },
    {
     "name": "stdout",
     "output_type": "stream",
     "text": [
      "Train step success!!\n",
      "Iterating\n",
      "Train step success!!\n",
      "Iterating\n"
     ]
    },
    {
     "name": "stderr",
     "output_type": "stream",
     "text": [
      "2020-02-28 20:15:09,252 - step 1367/1576, loss: 5868.518, psnr: 5868.518\n",
      "2020-02-28 20:15:09,356 - step 1368/1576, loss: 5867.003, psnr: 5867.003\n"
     ]
    },
    {
     "name": "stdout",
     "output_type": "stream",
     "text": [
      "Train step success!!\n",
      "Iterating\n",
      "Train step success!!\n",
      "Iterating\n"
     ]
    },
    {
     "name": "stderr",
     "output_type": "stream",
     "text": [
      "2020-02-28 20:15:09,458 - step 1369/1576, loss: 5866.674, psnr: 5866.674\n",
      "2020-02-28 20:15:09,564 - step 1370/1576, loss: 5867.656, psnr: 5867.656\n"
     ]
    },
    {
     "name": "stdout",
     "output_type": "stream",
     "text": [
      "Train step success!!\n",
      "Iterating\n",
      "Train step success!!\n",
      "Iterating\n"
     ]
    },
    {
     "name": "stderr",
     "output_type": "stream",
     "text": [
      "2020-02-28 20:15:09,677 - step 1371/1576, loss: 5868.739, psnr: 5868.739\n",
      "2020-02-28 20:15:09,786 - step 1372/1576, loss: 5869.409, psnr: 5869.409\n"
     ]
    },
    {
     "name": "stdout",
     "output_type": "stream",
     "text": [
      "Train step success!!\n",
      "Iterating\n",
      "Train step success!!\n",
      "Iterating\n"
     ]
    },
    {
     "name": "stderr",
     "output_type": "stream",
     "text": [
      "2020-02-28 20:15:09,887 - step 1373/1576, loss: 5865.062, psnr: 5865.062\n",
      "2020-02-28 20:15:09,989 - step 1374/1576, loss: 5865.704, psnr: 5865.704\n"
     ]
    },
    {
     "name": "stdout",
     "output_type": "stream",
     "text": [
      "Train step success!!\n",
      "Iterating\n",
      "Train step success!!\n",
      "Iterating\n"
     ]
    },
    {
     "name": "stderr",
     "output_type": "stream",
     "text": [
      "2020-02-28 20:15:10,095 - step 1375/1576, loss: 5865.617, psnr: 5865.617\n",
      "2020-02-28 20:15:10,196 - step 1376/1576, loss: 5866.056, psnr: 5866.056\n"
     ]
    },
    {
     "name": "stdout",
     "output_type": "stream",
     "text": [
      "Train step success!!\n",
      "Iterating\n",
      "Train step success!!\n",
      "Iterating\n"
     ]
    },
    {
     "name": "stderr",
     "output_type": "stream",
     "text": [
      "2020-02-28 20:15:10,300 - step 1377/1576, loss: 5865.577, psnr: 5865.577\n",
      "2020-02-28 20:15:10,401 - step 1378/1576, loss: 5865.377, psnr: 5865.377\n"
     ]
    },
    {
     "name": "stdout",
     "output_type": "stream",
     "text": [
      "Train step success!!\n",
      "Iterating\n",
      "Train step success!!\n",
      "Iterating\n"
     ]
    },
    {
     "name": "stderr",
     "output_type": "stream",
     "text": [
      "2020-02-28 20:15:10,502 - step 1379/1576, loss: 5863.623, psnr: 5863.623\n",
      "2020-02-28 20:15:10,603 - step 1380/1576, loss: 5863.884, psnr: 5863.884\n"
     ]
    },
    {
     "name": "stdout",
     "output_type": "stream",
     "text": [
      "Train step success!!\n",
      "Iterating\n",
      "Train step success!!\n",
      "Iterating\n"
     ]
    },
    {
     "name": "stderr",
     "output_type": "stream",
     "text": [
      "2020-02-28 20:15:10,707 - step 1381/1576, loss: 5863.607, psnr: 5863.607\n",
      "2020-02-28 20:15:10,808 - step 1382/1576, loss: 5865.052, psnr: 5865.052\n"
     ]
    },
    {
     "name": "stdout",
     "output_type": "stream",
     "text": [
      "Train step success!!\n",
      "Iterating\n",
      "Train step success!!\n",
      "Iterating\n"
     ]
    },
    {
     "name": "stderr",
     "output_type": "stream",
     "text": [
      "2020-02-28 20:15:10,909 - step 1383/1576, loss: 5863.186, psnr: 5863.186\n",
      "2020-02-28 20:15:11,009 - step 1384/1576, loss: 5863.054, psnr: 5863.054\n"
     ]
    },
    {
     "name": "stdout",
     "output_type": "stream",
     "text": [
      "Train step success!!\n",
      "Iterating\n",
      "Train step success!!\n",
      "Iterating\n",
      "Train step success!!\n"
     ]
    },
    {
     "name": "stderr",
     "output_type": "stream",
     "text": [
      "2020-02-28 20:15:11,109 - step 1385/1576, loss: 5864.476, psnr: 5864.476\n",
      "2020-02-28 20:15:11,210 - step 1386/1576, loss: 5865.604, psnr: 5865.604\n",
      "2020-02-28 20:15:11,310 - step 1387/1576, loss: 5866.015, psnr: 5866.015\n"
     ]
    },
    {
     "name": "stdout",
     "output_type": "stream",
     "text": [
      "Iterating\n",
      "Train step success!!\n",
      "Iterating\n",
      "Train step success!!\n"
     ]
    },
    {
     "name": "stderr",
     "output_type": "stream",
     "text": [
      "2020-02-28 20:15:11,412 - step 1388/1576, loss: 5866.622, psnr: 5866.622\n"
     ]
    },
    {
     "name": "stdout",
     "output_type": "stream",
     "text": [
      "Iterating\n",
      "Train step success!!\n",
      "Iterating\n",
      "Train step success!!\n"
     ]
    },
    {
     "name": "stderr",
     "output_type": "stream",
     "text": [
      "2020-02-28 20:15:11,514 - step 1389/1576, loss: 5866.449, psnr: 5866.449\n",
      "2020-02-28 20:15:11,614 - step 1390/1576, loss: 5864.974, psnr: 5864.974\n",
      "2020-02-28 20:15:11,715 - step 1391/1576, loss: 5866.655, psnr: 5866.655\n"
     ]
    },
    {
     "name": "stdout",
     "output_type": "stream",
     "text": [
      "Iterating\n",
      "Train step success!!\n",
      "Iterating\n",
      "Train step success!!\n"
     ]
    },
    {
     "name": "stderr",
     "output_type": "stream",
     "text": [
      "2020-02-28 20:15:11,817 - step 1392/1576, loss: 5865.453, psnr: 5865.453\n",
      "2020-02-28 20:15:11,917 - step 1393/1576, loss: 5867.266, psnr: 5867.266\n"
     ]
    },
    {
     "name": "stdout",
     "output_type": "stream",
     "text": [
      "Iterating\n",
      "Train step success!!\n",
      "Iterating\n",
      "Train step success!!\n"
     ]
    },
    {
     "name": "stderr",
     "output_type": "stream",
     "text": [
      "2020-02-28 20:15:12,018 - step 1394/1576, loss: 5868.111, psnr: 5868.111\n",
      "2020-02-28 20:15:12,119 - step 1395/1576, loss: 5869.709, psnr: 5869.709\n"
     ]
    },
    {
     "name": "stdout",
     "output_type": "stream",
     "text": [
      "Iterating\n",
      "Train step success!!\n",
      "Iterating\n",
      "Train step success!!\n"
     ]
    },
    {
     "name": "stderr",
     "output_type": "stream",
     "text": [
      "2020-02-28 20:15:12,220 - step 1396/1576, loss: 5867.875, psnr: 5867.875\n",
      "2020-02-28 20:15:12,321 - step 1397/1576, loss: 5865.980, psnr: 5865.980\n"
     ]
    },
    {
     "name": "stdout",
     "output_type": "stream",
     "text": [
      "Iterating\n",
      "Train step success!!\n",
      "Iterating\n",
      "Train step success!!\n"
     ]
    },
    {
     "name": "stderr",
     "output_type": "stream",
     "text": [
      "2020-02-28 20:15:12,423 - step 1398/1576, loss: 5864.863, psnr: 5864.863\n",
      "2020-02-28 20:15:12,523 - step 1399/1576, loss: 5864.483, psnr: 5864.483\n"
     ]
    },
    {
     "name": "stdout",
     "output_type": "stream",
     "text": [
      "Iterating\n",
      "Train step success!!\n",
      "Iterating\n",
      "Train step success!!\n"
     ]
    },
    {
     "name": "stderr",
     "output_type": "stream",
     "text": [
      "2020-02-28 20:15:12,625 - step 1400/1576, loss: 5863.121, psnr: 5863.121\n"
     ]
    },
    {
     "name": "stdout",
     "output_type": "stream",
     "text": [
      "Iterating\n",
      "Train step success!!\n"
     ]
    },
    {
     "name": "stderr",
     "output_type": "stream",
     "text": [
      "2020-02-28 20:15:14,857 - Validation results... val_loss: 4339.418, val_psnr: 4339.418\n",
      "2020-02-28 20:15:14,958 - step 1401/1576, loss: 5861.879, psnr: 5861.879\n"
     ]
    },
    {
     "name": "stdout",
     "output_type": "stream",
     "text": [
      "Iterating\n",
      "Train step success!!\n",
      "Iterating\n",
      "Train step success!!\n"
     ]
    },
    {
     "name": "stderr",
     "output_type": "stream",
     "text": [
      "2020-02-28 20:15:15,059 - step 1402/1576, loss: 5861.711, psnr: 5861.711\n",
      "2020-02-28 20:15:15,161 - step 1403/1576, loss: 5859.749, psnr: 5859.749\n"
     ]
    },
    {
     "name": "stdout",
     "output_type": "stream",
     "text": [
      "Iterating\n",
      "Train step success!!\n",
      "Iterating\n",
      "Train step success!!\n"
     ]
    },
    {
     "name": "stderr",
     "output_type": "stream",
     "text": [
      "2020-02-28 20:15:15,262 - step 1404/1576, loss: 5860.011, psnr: 5860.011\n",
      "2020-02-28 20:15:15,365 - step 1405/1576, loss: 5859.973, psnr: 5859.973\n"
     ]
    },
    {
     "name": "stdout",
     "output_type": "stream",
     "text": [
      "Iterating\n",
      "Train step success!!\n",
      "Iterating\n",
      "Train step success!!\n"
     ]
    },
    {
     "name": "stderr",
     "output_type": "stream",
     "text": [
      "2020-02-28 20:15:15,466 - step 1406/1576, loss: 5860.031, psnr: 5860.031\n",
      "2020-02-28 20:15:15,568 - step 1407/1576, loss: 5861.033, psnr: 5861.033\n"
     ]
    },
    {
     "name": "stdout",
     "output_type": "stream",
     "text": [
      "Iterating\n",
      "Train step success!!\n",
      "Iterating\n",
      "Train step success!!\n"
     ]
    },
    {
     "name": "stderr",
     "output_type": "stream",
     "text": [
      "2020-02-28 20:15:15,669 - step 1408/1576, loss: 5857.988, psnr: 5857.988\n",
      "2020-02-28 20:15:15,770 - step 1409/1576, loss: 5858.254, psnr: 5858.254\n",
      "2020-02-28 20:15:15,870 - step 1410/1576, loss: 5858.537, psnr: 5858.537\n"
     ]
    },
    {
     "name": "stdout",
     "output_type": "stream",
     "text": [
      "Iterating\n",
      "Train step success!!\n",
      "Iterating\n",
      "Train step success!!\n"
     ]
    },
    {
     "name": "stderr",
     "output_type": "stream",
     "text": [
      "2020-02-28 20:15:15,971 - step 1411/1576, loss: 5859.389, psnr: 5859.389\n",
      "2020-02-28 20:15:16,072 - step 1412/1576, loss: 5860.814, psnr: 5860.814\n"
     ]
    },
    {
     "name": "stdout",
     "output_type": "stream",
     "text": [
      "Iterating\n",
      "Train step success!!\n",
      "Iterating\n",
      "Train step success!!\n"
     ]
    },
    {
     "name": "stderr",
     "output_type": "stream",
     "text": [
      "2020-02-28 20:15:16,173 - step 1413/1576, loss: 5861.198, psnr: 5861.198\n",
      "2020-02-28 20:15:16,273 - step 1414/1576, loss: 5861.386, psnr: 5861.386\n"
     ]
    },
    {
     "name": "stdout",
     "output_type": "stream",
     "text": [
      "Iterating\n",
      "Train step success!!\n",
      "Iterating\n",
      "Train step success!!\n"
     ]
    },
    {
     "name": "stderr",
     "output_type": "stream",
     "text": [
      "2020-02-28 20:15:16,374 - step 1415/1576, loss: 5861.419, psnr: 5861.419\n",
      "2020-02-28 20:15:16,475 - step 1416/1576, loss: 5860.904, psnr: 5860.904\n"
     ]
    },
    {
     "name": "stdout",
     "output_type": "stream",
     "text": [
      "Iterating\n",
      "Train step success!!\n",
      "Iterating\n",
      "Train step success!!\n"
     ]
    },
    {
     "name": "stderr",
     "output_type": "stream",
     "text": [
      "2020-02-28 20:15:16,579 - step 1417/1576, loss: 5859.763, psnr: 5859.763\n"
     ]
    },
    {
     "name": "stdout",
     "output_type": "stream",
     "text": [
      "Iterating\n",
      "Train step success!!\n",
      "Iterating\n",
      "Train step success!!\n"
     ]
    },
    {
     "name": "stderr",
     "output_type": "stream",
     "text": [
      "2020-02-28 20:15:16,679 - step 1418/1576, loss: 5859.546, psnr: 5859.546\n",
      "2020-02-28 20:15:16,779 - step 1419/1576, loss: 5859.327, psnr: 5859.327\n",
      "2020-02-28 20:15:16,880 - step 1420/1576, loss: 5860.324, psnr: 5860.324\n"
     ]
    },
    {
     "name": "stdout",
     "output_type": "stream",
     "text": [
      "Iterating\n",
      "Train step success!!\n",
      "Iterating\n",
      "Train step success!!\n"
     ]
    },
    {
     "name": "stderr",
     "output_type": "stream",
     "text": [
      "2020-02-28 20:15:16,981 - step 1421/1576, loss: 5858.677, psnr: 5858.677\n",
      "2020-02-28 20:15:17,081 - step 1422/1576, loss: 5859.864, psnr: 5859.864\n"
     ]
    },
    {
     "name": "stdout",
     "output_type": "stream",
     "text": [
      "Iterating\n",
      "Train step success!!\n",
      "Iterating\n",
      "Train step success!!\n"
     ]
    },
    {
     "name": "stderr",
     "output_type": "stream",
     "text": [
      "2020-02-28 20:15:17,182 - step 1423/1576, loss: 5860.877, psnr: 5860.877\n",
      "2020-02-28 20:15:17,283 - step 1424/1576, loss: 5861.630, psnr: 5861.630\n"
     ]
    },
    {
     "name": "stdout",
     "output_type": "stream",
     "text": [
      "Iterating\n",
      "Train step success!!\n",
      "Iterating\n",
      "Train step success!!\n"
     ]
    },
    {
     "name": "stderr",
     "output_type": "stream",
     "text": [
      "2020-02-28 20:15:17,384 - step 1425/1576, loss: 5862.194, psnr: 5862.194\n",
      "2020-02-28 20:15:17,484 - step 1426/1576, loss: 5862.561, psnr: 5862.561\n"
     ]
    },
    {
     "name": "stdout",
     "output_type": "stream",
     "text": [
      "Iterating\n",
      "Train step success!!\n",
      "Iterating\n",
      "Train step success!!\n"
     ]
    },
    {
     "name": "stderr",
     "output_type": "stream",
     "text": [
      "2020-02-28 20:15:17,585 - step 1427/1576, loss: 5863.030, psnr: 5863.030\n",
      "2020-02-28 20:15:17,685 - step 1428/1576, loss: 5863.720, psnr: 5863.720\n"
     ]
    },
    {
     "name": "stdout",
     "output_type": "stream",
     "text": [
      "Iterating\n",
      "Train step success!!\n",
      "Iterating\n",
      "Train step success!!\n"
     ]
    },
    {
     "name": "stderr",
     "output_type": "stream",
     "text": [
      "2020-02-28 20:15:17,786 - step 1429/1576, loss: 5863.349, psnr: 5863.349\n",
      "2020-02-28 20:15:17,886 - step 1430/1576, loss: 5863.100, psnr: 5863.100\n"
     ]
    },
    {
     "name": "stdout",
     "output_type": "stream",
     "text": [
      "Iterating\n",
      "Train step success!!\n",
      "Iterating\n",
      "Train step success!!\n"
     ]
    },
    {
     "name": "stderr",
     "output_type": "stream",
     "text": [
      "2020-02-28 20:15:17,987 - step 1431/1576, loss: 5860.910, psnr: 5860.910\n",
      "2020-02-28 20:15:18,088 - step 1432/1576, loss: 5861.594, psnr: 5861.594\n"
     ]
    },
    {
     "name": "stdout",
     "output_type": "stream",
     "text": [
      "Iterating\n",
      "Train step success!!\n",
      "Iterating\n",
      "Train step success!!\n"
     ]
    },
    {
     "name": "stderr",
     "output_type": "stream",
     "text": [
      "2020-02-28 20:15:18,188 - step 1433/1576, loss: 5859.678, psnr: 5859.678\n",
      "2020-02-28 20:15:18,289 - step 1434/1576, loss: 5857.456, psnr: 5857.456\n"
     ]
    },
    {
     "name": "stdout",
     "output_type": "stream",
     "text": [
      "Iterating\n",
      "Train step success!!\n",
      "Iterating\n",
      "Train step success!!\n"
     ]
    },
    {
     "name": "stderr",
     "output_type": "stream",
     "text": [
      "2020-02-28 20:15:18,391 - step 1435/1576, loss: 5856.367, psnr: 5856.367\n"
     ]
    },
    {
     "name": "stdout",
     "output_type": "stream",
     "text": [
      "Iterating\n",
      "Train step success!!\n",
      "Iterating\n",
      "Train step success!!\n"
     ]
    },
    {
     "name": "stderr",
     "output_type": "stream",
     "text": [
      "2020-02-28 20:15:18,492 - step 1436/1576, loss: 5855.052, psnr: 5855.052\n",
      "2020-02-28 20:15:18,593 - step 1437/1576, loss: 5855.623, psnr: 5855.623\n",
      "2020-02-28 20:15:18,694 - step 1438/1576, loss: 5857.509, psnr: 5857.509\n"
     ]
    },
    {
     "name": "stdout",
     "output_type": "stream",
     "text": [
      "Iterating\n",
      "Train step success!!\n",
      "Iterating\n",
      "Train step success!!\n"
     ]
    },
    {
     "name": "stderr",
     "output_type": "stream",
     "text": [
      "2020-02-28 20:15:18,795 - step 1439/1576, loss: 5857.728, psnr: 5857.728\n",
      "2020-02-28 20:15:18,896 - step 1440/1576, loss: 5859.330, psnr: 5859.330\n"
     ]
    },
    {
     "name": "stdout",
     "output_type": "stream",
     "text": [
      "Iterating\n",
      "Train step success!!\n",
      "Iterating\n",
      "Train step success!!\n"
     ]
    },
    {
     "name": "stderr",
     "output_type": "stream",
     "text": [
      "2020-02-28 20:15:18,997 - step 1441/1576, loss: 5858.112, psnr: 5858.112\n",
      "2020-02-28 20:15:19,097 - step 1442/1576, loss: 5856.932, psnr: 5856.932\n"
     ]
    },
    {
     "name": "stdout",
     "output_type": "stream",
     "text": [
      "Iterating\n",
      "Train step success!!\n",
      "Iterating\n",
      "Train step success!!\n"
     ]
    },
    {
     "name": "stderr",
     "output_type": "stream",
     "text": [
      "2020-02-28 20:15:19,198 - step 1443/1576, loss: 5855.788, psnr: 5855.788\n",
      "2020-02-28 20:15:19,299 - step 1444/1576, loss: 5856.100, psnr: 5856.100\n"
     ]
    },
    {
     "name": "stdout",
     "output_type": "stream",
     "text": [
      "Iterating\n",
      "Train step success!!\n",
      "Iterating\n",
      "Train step success!!\n"
     ]
    },
    {
     "name": "stderr",
     "output_type": "stream",
     "text": [
      "2020-02-28 20:15:19,400 - step 1445/1576, loss: 5855.261, psnr: 5855.261\n"
     ]
    },
    {
     "name": "stdout",
     "output_type": "stream",
     "text": [
      "Iterating\n",
      "Train step success!!\n",
      "Iterating\n",
      "Train step success!!\n"
     ]
    },
    {
     "name": "stderr",
     "output_type": "stream",
     "text": [
      "2020-02-28 20:15:19,501 - step 1446/1576, loss: 5853.559, psnr: 5853.559\n",
      "2020-02-28 20:15:19,603 - step 1447/1576, loss: 5852.940, psnr: 5852.940\n"
     ]
    },
    {
     "name": "stdout",
     "output_type": "stream",
     "text": [
      "Iterating\n",
      "Train step success!!\n",
      "Iterating\n",
      "Train step success!!\n"
     ]
    },
    {
     "name": "stderr",
     "output_type": "stream",
     "text": [
      "2020-02-28 20:15:19,704 - step 1448/1576, loss: 5853.619, psnr: 5853.619\n",
      "2020-02-28 20:15:19,806 - step 1449/1576, loss: 5852.052, psnr: 5852.052\n"
     ]
    },
    {
     "name": "stdout",
     "output_type": "stream",
     "text": [
      "Iterating\n",
      "Train step success!!\n",
      "Iterating\n",
      "Train step success!!\n"
     ]
    },
    {
     "name": "stderr",
     "output_type": "stream",
     "text": [
      "2020-02-28 20:15:19,908 - step 1450/1576, loss: 5852.124, psnr: 5852.124\n",
      "2020-02-28 20:15:20,010 - step 1451/1576, loss: 5850.490, psnr: 5850.490\n"
     ]
    },
    {
     "name": "stdout",
     "output_type": "stream",
     "text": [
      "Iterating\n",
      "Train step success!!\n",
      "Iterating\n",
      "Train step success!!\n"
     ]
    },
    {
     "name": "stderr",
     "output_type": "stream",
     "text": [
      "2020-02-28 20:15:20,111 - step 1452/1576, loss: 5852.512, psnr: 5852.512\n",
      "2020-02-28 20:15:20,214 - step 1453/1576, loss: 5852.876, psnr: 5852.876\n"
     ]
    },
    {
     "name": "stdout",
     "output_type": "stream",
     "text": [
      "Iterating\n",
      "Train step success!!\n",
      "Iterating\n",
      "Train step success!!\n"
     ]
    },
    {
     "name": "stderr",
     "output_type": "stream",
     "text": [
      "2020-02-28 20:15:20,325 - step 1454/1576, loss: 5852.753, psnr: 5852.753\n",
      "2020-02-28 20:15:20,438 - step 1455/1576, loss: 5853.598, psnr: 5853.598\n"
     ]
    },
    {
     "name": "stdout",
     "output_type": "stream",
     "text": [
      "Iterating\n",
      "Train step success!!\n",
      "Iterating\n",
      "Train step success!!\n"
     ]
    },
    {
     "name": "stderr",
     "output_type": "stream",
     "text": [
      "2020-02-28 20:15:20,544 - step 1456/1576, loss: 5854.622, psnr: 5854.622\n",
      "2020-02-28 20:15:20,645 - step 1457/1576, loss: 5853.104, psnr: 5853.104\n"
     ]
    },
    {
     "name": "stdout",
     "output_type": "stream",
     "text": [
      "Iterating\n",
      "Train step success!!\n",
      "Iterating\n",
      "Train step success!!\n"
     ]
    },
    {
     "name": "stderr",
     "output_type": "stream",
     "text": [
      "2020-02-28 20:15:20,756 - step 1458/1576, loss: 5855.689, psnr: 5855.689\n",
      "2020-02-28 20:15:20,866 - step 1459/1576, loss: 5856.357, psnr: 5856.357\n"
     ]
    },
    {
     "name": "stdout",
     "output_type": "stream",
     "text": [
      "Iterating\n",
      "Train step success!!\n",
      "Iterating\n",
      "Train step success!!\n"
     ]
    },
    {
     "name": "stderr",
     "output_type": "stream",
     "text": [
      "2020-02-28 20:15:20,976 - step 1460/1576, loss: 5856.899, psnr: 5856.899\n",
      "2020-02-28 20:15:21,077 - step 1461/1576, loss: 5856.881, psnr: 5856.881\n"
     ]
    },
    {
     "name": "stdout",
     "output_type": "stream",
     "text": [
      "Iterating\n",
      "Train step success!!\n",
      "Iterating\n",
      "Train step success!!\n"
     ]
    },
    {
     "name": "stderr",
     "output_type": "stream",
     "text": [
      "2020-02-28 20:15:21,182 - step 1462/1576, loss: 5856.030, psnr: 5856.030\n",
      "2020-02-28 20:15:21,291 - step 1463/1576, loss: 5856.886, psnr: 5856.886\n"
     ]
    },
    {
     "name": "stdout",
     "output_type": "stream",
     "text": [
      "Iterating\n",
      "Train step success!!\n",
      "Iterating\n",
      "Train step success!!\n"
     ]
    },
    {
     "name": "stderr",
     "output_type": "stream",
     "text": [
      "2020-02-28 20:15:21,402 - step 1464/1576, loss: 5855.871, psnr: 5855.871\n",
      "2020-02-28 20:15:21,505 - step 1465/1576, loss: 5854.168, psnr: 5854.168\n"
     ]
    },
    {
     "name": "stdout",
     "output_type": "stream",
     "text": [
      "Iterating\n",
      "Train step success!!\n",
      "Iterating\n",
      "Train step success!!\n"
     ]
    },
    {
     "name": "stderr",
     "output_type": "stream",
     "text": [
      "2020-02-28 20:15:21,610 - step 1466/1576, loss: 5854.390, psnr: 5854.390\n",
      "2020-02-28 20:15:21,713 - step 1467/1576, loss: 5854.516, psnr: 5854.516\n"
     ]
    },
    {
     "name": "stdout",
     "output_type": "stream",
     "text": [
      "Iterating\n",
      "Train step success!!\n",
      "Iterating\n",
      "Train step success!!\n"
     ]
    },
    {
     "name": "stderr",
     "output_type": "stream",
     "text": [
      "2020-02-28 20:15:21,819 - step 1468/1576, loss: 5855.138, psnr: 5855.138\n",
      "2020-02-28 20:15:21,938 - step 1469/1576, loss: 5856.105, psnr: 5856.105\n"
     ]
    },
    {
     "name": "stdout",
     "output_type": "stream",
     "text": [
      "Iterating\n",
      "Train step success!!\n",
      "Iterating\n"
     ]
    },
    {
     "name": "stderr",
     "output_type": "stream",
     "text": [
      "2020-02-28 20:15:22,046 - step 1470/1576, loss: 5856.026, psnr: 5856.026\n",
      "2020-02-28 20:15:22,153 - step 1471/1576, loss: 5856.849, psnr: 5856.849\n"
     ]
    },
    {
     "name": "stdout",
     "output_type": "stream",
     "text": [
      "Train step success!!\n",
      "Iterating\n",
      "Train step success!!\n",
      "Iterating\n"
     ]
    },
    {
     "name": "stderr",
     "output_type": "stream",
     "text": [
      "2020-02-28 20:15:22,261 - step 1472/1576, loss: 5856.709, psnr: 5856.709\n",
      "2020-02-28 20:15:22,367 - step 1473/1576, loss: 5858.351, psnr: 5858.351\n"
     ]
    },
    {
     "name": "stdout",
     "output_type": "stream",
     "text": [
      "Train step success!!\n",
      "Iterating\n",
      "Train step success!!\n",
      "Iterating\n"
     ]
    },
    {
     "name": "stderr",
     "output_type": "stream",
     "text": [
      "2020-02-28 20:15:22,470 - step 1474/1576, loss: 5858.952, psnr: 5858.952\n",
      "2020-02-28 20:15:22,575 - step 1475/1576, loss: 5859.794, psnr: 5859.794\n"
     ]
    },
    {
     "name": "stdout",
     "output_type": "stream",
     "text": [
      "Train step success!!\n",
      "Iterating\n",
      "Train step success!!\n",
      "Iterating\n"
     ]
    },
    {
     "name": "stderr",
     "output_type": "stream",
     "text": [
      "2020-02-28 20:15:22,686 - step 1476/1576, loss: 5860.088, psnr: 5860.088\n",
      "2020-02-28 20:15:22,799 - step 1477/1576, loss: 5861.203, psnr: 5861.203\n"
     ]
    },
    {
     "name": "stdout",
     "output_type": "stream",
     "text": [
      "Train step success!!\n",
      "Iterating\n",
      "Train step success!!\n",
      "Iterating\n"
     ]
    },
    {
     "name": "stderr",
     "output_type": "stream",
     "text": [
      "2020-02-28 20:15:22,910 - step 1478/1576, loss: 5860.117, psnr: 5860.117\n",
      "2020-02-28 20:15:23,022 - step 1479/1576, loss: 5860.738, psnr: 5860.738\n"
     ]
    },
    {
     "name": "stdout",
     "output_type": "stream",
     "text": [
      "Train step success!!\n",
      "Iterating\n",
      "Train step success!!\n",
      "Iterating\n"
     ]
    },
    {
     "name": "stderr",
     "output_type": "stream",
     "text": [
      "2020-02-28 20:15:23,139 - step 1480/1576, loss: 5861.496, psnr: 5861.496\n",
      "2020-02-28 20:15:23,244 - step 1481/1576, loss: 5860.020, psnr: 5860.020\n"
     ]
    },
    {
     "name": "stdout",
     "output_type": "stream",
     "text": [
      "Train step success!!\n",
      "Iterating\n",
      "Train step success!!\n",
      "Iterating\n"
     ]
    },
    {
     "name": "stderr",
     "output_type": "stream",
     "text": [
      "2020-02-28 20:15:23,346 - step 1482/1576, loss: 5860.854, psnr: 5860.854\n",
      "2020-02-28 20:15:23,449 - step 1483/1576, loss: 5860.833, psnr: 5860.833\n"
     ]
    },
    {
     "name": "stdout",
     "output_type": "stream",
     "text": [
      "Train step success!!\n",
      "Iterating\n",
      "Train step success!!\n",
      "Iterating\n"
     ]
    },
    {
     "name": "stderr",
     "output_type": "stream",
     "text": [
      "2020-02-28 20:15:23,550 - step 1484/1576, loss: 5858.796, psnr: 5858.796\n",
      "2020-02-28 20:15:23,651 - step 1485/1576, loss: 5860.069, psnr: 5860.069\n"
     ]
    },
    {
     "name": "stdout",
     "output_type": "stream",
     "text": [
      "Train step success!!\n",
      "Iterating\n",
      "Train step success!!\n",
      "Iterating\n"
     ]
    },
    {
     "name": "stderr",
     "output_type": "stream",
     "text": [
      "2020-02-28 20:15:23,756 - step 1486/1576, loss: 5858.872, psnr: 5858.872\n",
      "2020-02-28 20:15:23,860 - step 1487/1576, loss: 5858.003, psnr: 5858.003\n"
     ]
    },
    {
     "name": "stdout",
     "output_type": "stream",
     "text": [
      "Train step success!!\n",
      "Iterating\n",
      "Train step success!!\n",
      "Iterating\n"
     ]
    },
    {
     "name": "stderr",
     "output_type": "stream",
     "text": [
      "2020-02-28 20:15:23,963 - step 1488/1576, loss: 5855.022, psnr: 5855.022\n",
      "2020-02-28 20:15:24,066 - step 1489/1576, loss: 5854.999, psnr: 5854.999\n"
     ]
    },
    {
     "name": "stdout",
     "output_type": "stream",
     "text": [
      "Train step success!!\n",
      "Iterating\n",
      "Train step success!!\n",
      "Iterating\n"
     ]
    },
    {
     "name": "stderr",
     "output_type": "stream",
     "text": [
      "2020-02-28 20:15:24,166 - step 1490/1576, loss: 5854.094, psnr: 5854.094\n",
      "2020-02-28 20:15:24,268 - step 1491/1576, loss: 5854.245, psnr: 5854.245\n"
     ]
    },
    {
     "name": "stdout",
     "output_type": "stream",
     "text": [
      "Train step success!!\n",
      "Iterating\n",
      "Train step success!!\n",
      "Iterating\n"
     ]
    },
    {
     "name": "stderr",
     "output_type": "stream",
     "text": [
      "2020-02-28 20:15:24,371 - step 1492/1576, loss: 5854.626, psnr: 5854.626\n",
      "2020-02-28 20:15:24,479 - step 1493/1576, loss: 5853.588, psnr: 5853.588\n"
     ]
    },
    {
     "name": "stdout",
     "output_type": "stream",
     "text": [
      "Train step success!!\n",
      "Iterating\n",
      "Train step success!!\n",
      "Iterating\n"
     ]
    },
    {
     "name": "stderr",
     "output_type": "stream",
     "text": [
      "2020-02-28 20:15:24,583 - step 1494/1576, loss: 5851.939, psnr: 5851.939\n",
      "2020-02-28 20:15:24,685 - step 1495/1576, loss: 5852.100, psnr: 5852.100\n"
     ]
    },
    {
     "name": "stdout",
     "output_type": "stream",
     "text": [
      "Train step success!!\n",
      "Iterating\n",
      "Train step success!!\n",
      "Iterating\n"
     ]
    },
    {
     "name": "stderr",
     "output_type": "stream",
     "text": [
      "2020-02-28 20:15:24,786 - step 1496/1576, loss: 5851.978, psnr: 5851.978\n",
      "2020-02-28 20:15:24,888 - step 1497/1576, loss: 5850.887, psnr: 5850.887\n"
     ]
    },
    {
     "name": "stdout",
     "output_type": "stream",
     "text": [
      "Train step success!!\n",
      "Iterating\n",
      "Train step success!!\n",
      "Iterating\n"
     ]
    },
    {
     "name": "stderr",
     "output_type": "stream",
     "text": [
      "2020-02-28 20:15:24,989 - step 1498/1576, loss: 5852.393, psnr: 5852.393\n",
      "2020-02-28 20:15:25,091 - step 1499/1576, loss: 5852.335, psnr: 5852.335\n"
     ]
    },
    {
     "name": "stdout",
     "output_type": "stream",
     "text": [
      "Train step success!!\n",
      "Iterating\n",
      "Train step success!!\n",
      "Iterating\n"
     ]
    },
    {
     "name": "stderr",
     "output_type": "stream",
     "text": [
      "2020-02-28 20:15:25,192 - step 1500/1576, loss: 5852.287, psnr: 5852.287\n"
     ]
    },
    {
     "name": "stdout",
     "output_type": "stream",
     "text": [
      "Train step success!!\n"
     ]
    },
    {
     "name": "stderr",
     "output_type": "stream",
     "text": [
      "2020-02-28 20:15:27,435 - Validation results... val_loss: 4339.419, val_psnr: 4339.419\n",
      "2020-02-28 20:15:27,597 - step 1501/1576, loss: 5850.345, psnr: 5850.345\n"
     ]
    },
    {
     "name": "stdout",
     "output_type": "stream",
     "text": [
      "Iterating\n",
      "Train step success!!\n",
      "Iterating\n",
      "Train step success!!\n"
     ]
    },
    {
     "name": "stderr",
     "output_type": "stream",
     "text": [
      "2020-02-28 20:15:27,699 - step 1502/1576, loss: 5850.122, psnr: 5850.122\n",
      "2020-02-28 20:15:27,802 - step 1503/1576, loss: 5849.083, psnr: 5849.083\n"
     ]
    },
    {
     "name": "stdout",
     "output_type": "stream",
     "text": [
      "Iterating\n",
      "Train step success!!\n",
      "Iterating\n",
      "Train step success!!\n"
     ]
    },
    {
     "name": "stderr",
     "output_type": "stream",
     "text": [
      "2020-02-28 20:15:27,906 - step 1504/1576, loss: 5849.042, psnr: 5849.042\n",
      "2020-02-28 20:15:28,009 - step 1505/1576, loss: 5850.142, psnr: 5850.142\n"
     ]
    },
    {
     "name": "stdout",
     "output_type": "stream",
     "text": [
      "Iterating\n",
      "Train step success!!\n",
      "Iterating\n",
      "Train step success!!\n"
     ]
    },
    {
     "name": "stderr",
     "output_type": "stream",
     "text": [
      "2020-02-28 20:15:28,111 - step 1506/1576, loss: 5849.955, psnr: 5849.955\n",
      "2020-02-28 20:15:28,212 - step 1507/1576, loss: 5849.837, psnr: 5849.837\n"
     ]
    },
    {
     "name": "stdout",
     "output_type": "stream",
     "text": [
      "Iterating\n",
      "Train step success!!\n",
      "Iterating\n",
      "Train step success!!\n"
     ]
    },
    {
     "name": "stderr",
     "output_type": "stream",
     "text": [
      "2020-02-28 20:15:28,313 - step 1508/1576, loss: 5848.963, psnr: 5848.963\n",
      "2020-02-28 20:15:28,415 - step 1509/1576, loss: 5848.949, psnr: 5848.949\n"
     ]
    },
    {
     "name": "stdout",
     "output_type": "stream",
     "text": [
      "Iterating\n",
      "Train step success!!\n",
      "Iterating\n",
      "Train step success!!\n"
     ]
    },
    {
     "name": "stderr",
     "output_type": "stream",
     "text": [
      "2020-02-28 20:15:28,517 - step 1510/1576, loss: 5847.731, psnr: 5847.731\n",
      "2020-02-28 20:15:28,619 - step 1511/1576, loss: 5846.656, psnr: 5846.656\n",
      "2020-02-28 20:15:28,720 - step 1512/1576, loss: 5847.120, psnr: 5847.120\n"
     ]
    },
    {
     "name": "stdout",
     "output_type": "stream",
     "text": [
      "Iterating\n",
      "Train step success!!\n",
      "Iterating\n",
      "Train step success!!\n"
     ]
    },
    {
     "name": "stderr",
     "output_type": "stream",
     "text": [
      "2020-02-28 20:15:28,821 - step 1513/1576, loss: 5845.946, psnr: 5845.946\n",
      "2020-02-28 20:15:28,922 - step 1514/1576, loss: 5846.849, psnr: 5846.849\n"
     ]
    },
    {
     "name": "stdout",
     "output_type": "stream",
     "text": [
      "Iterating\n",
      "Train step success!!\n",
      "Iterating\n",
      "Train step success!!\n"
     ]
    },
    {
     "name": "stderr",
     "output_type": "stream",
     "text": [
      "2020-02-28 20:15:29,023 - step 1515/1576, loss: 5845.221, psnr: 5845.221\n"
     ]
    },
    {
     "name": "stdout",
     "output_type": "stream",
     "text": [
      "Iterating\n",
      "Train step success!!\n",
      "Iterating\n",
      "Train step success!!\n"
     ]
    },
    {
     "name": "stderr",
     "output_type": "stream",
     "text": [
      "2020-02-28 20:15:29,125 - step 1516/1576, loss: 5844.778, psnr: 5844.778\n",
      "2020-02-28 20:15:29,226 - step 1517/1576, loss: 5845.249, psnr: 5845.249\n",
      "2020-02-28 20:15:29,327 - step 1518/1576, loss: 5843.881, psnr: 5843.881\n"
     ]
    },
    {
     "name": "stdout",
     "output_type": "stream",
     "text": [
      "Iterating\n",
      "Train step success!!\n",
      "Iterating\n",
      "Train step success!!\n"
     ]
    },
    {
     "name": "stderr",
     "output_type": "stream",
     "text": [
      "2020-02-28 20:15:29,428 - step 1519/1576, loss: 5844.682, psnr: 5844.682\n",
      "2020-02-28 20:15:29,529 - step 1520/1576, loss: 5845.592, psnr: 5845.592\n"
     ]
    },
    {
     "name": "stdout",
     "output_type": "stream",
     "text": [
      "Iterating\n",
      "Train step success!!\n",
      "Iterating\n",
      "Train step success!!\n"
     ]
    },
    {
     "name": "stderr",
     "output_type": "stream",
     "text": [
      "2020-02-28 20:15:29,630 - step 1521/1576, loss: 5845.756, psnr: 5845.756\n",
      "2020-02-28 20:15:29,731 - step 1522/1576, loss: 5844.459, psnr: 5844.459\n"
     ]
    },
    {
     "name": "stdout",
     "output_type": "stream",
     "text": [
      "Iterating\n",
      "Train step success!!\n",
      "Iterating\n",
      "Train step success!!\n"
     ]
    },
    {
     "name": "stderr",
     "output_type": "stream",
     "text": [
      "2020-02-28 20:15:29,833 - step 1523/1576, loss: 5843.273, psnr: 5843.273\n",
      "2020-02-28 20:15:29,934 - step 1524/1576, loss: 5842.075, psnr: 5842.075\n"
     ]
    },
    {
     "name": "stdout",
     "output_type": "stream",
     "text": [
      "Iterating\n",
      "Train step success!!\n",
      "Iterating\n",
      "Train step success!!\n"
     ]
    },
    {
     "name": "stderr",
     "output_type": "stream",
     "text": [
      "2020-02-28 20:15:30,034 - step 1525/1576, loss: 5841.212, psnr: 5841.212\n",
      "2020-02-28 20:15:30,136 - step 1526/1576, loss: 5842.633, psnr: 5842.633\n"
     ]
    },
    {
     "name": "stdout",
     "output_type": "stream",
     "text": [
      "Iterating\n",
      "Train step success!!\n",
      "Iterating\n",
      "Train step success!!\n"
     ]
    },
    {
     "name": "stderr",
     "output_type": "stream",
     "text": [
      "2020-02-28 20:15:30,237 - step 1527/1576, loss: 5841.460, psnr: 5841.460\n"
     ]
    },
    {
     "name": "stdout",
     "output_type": "stream",
     "text": [
      "Iterating\n",
      "Train step success!!\n",
      "Iterating\n",
      "Train step success!!\n"
     ]
    },
    {
     "name": "stderr",
     "output_type": "stream",
     "text": [
      "2020-02-28 20:15:30,341 - step 1528/1576, loss: 5841.925, psnr: 5841.925\n",
      "2020-02-28 20:15:30,445 - step 1529/1576, loss: 5840.938, psnr: 5840.938\n"
     ]
    },
    {
     "name": "stdout",
     "output_type": "stream",
     "text": [
      "Iterating\n",
      "Train step success!!\n",
      "Iterating\n",
      "Train step success!!\n"
     ]
    },
    {
     "name": "stderr",
     "output_type": "stream",
     "text": [
      "2020-02-28 20:15:30,545 - step 1530/1576, loss: 5841.243, psnr: 5841.243\n",
      "2020-02-28 20:15:30,646 - step 1531/1576, loss: 5842.525, psnr: 5842.525\n"
     ]
    },
    {
     "name": "stdout",
     "output_type": "stream",
     "text": [
      "Iterating\n",
      "Train step success!!\n",
      "Iterating\n",
      "Train step success!!\n"
     ]
    },
    {
     "name": "stderr",
     "output_type": "stream",
     "text": [
      "2020-02-28 20:15:30,748 - step 1532/1576, loss: 5844.097, psnr: 5844.097\n",
      "2020-02-28 20:15:30,851 - step 1533/1576, loss: 5842.991, psnr: 5842.991\n"
     ]
    },
    {
     "name": "stdout",
     "output_type": "stream",
     "text": [
      "Iterating\n",
      "Train step success!!\n",
      "Iterating\n",
      "Train step success!!\n"
     ]
    },
    {
     "name": "stderr",
     "output_type": "stream",
     "text": [
      "2020-02-28 20:15:30,952 - step 1534/1576, loss: 5842.951, psnr: 5842.951\n",
      "2020-02-28 20:15:31,057 - step 1535/1576, loss: 5841.893, psnr: 5841.893\n"
     ]
    },
    {
     "name": "stdout",
     "output_type": "stream",
     "text": [
      "Iterating\n",
      "Train step success!!\n",
      "Iterating\n",
      "Train step success!!\n"
     ]
    },
    {
     "name": "stderr",
     "output_type": "stream",
     "text": [
      "2020-02-28 20:15:31,163 - step 1536/1576, loss: 5844.160, psnr: 5844.160\n",
      "2020-02-28 20:15:31,274 - step 1537/1576, loss: 5843.042, psnr: 5843.042\n"
     ]
    },
    {
     "name": "stdout",
     "output_type": "stream",
     "text": [
      "Iterating\n",
      "Train step success!!\n",
      "Iterating\n",
      "Train step success!!\n"
     ]
    },
    {
     "name": "stderr",
     "output_type": "stream",
     "text": [
      "2020-02-28 20:15:31,382 - step 1538/1576, loss: 5841.698, psnr: 5841.698\n",
      "2020-02-28 20:15:31,487 - step 1539/1576, loss: 5843.602, psnr: 5843.602\n"
     ]
    },
    {
     "name": "stdout",
     "output_type": "stream",
     "text": [
      "Iterating\n",
      "Train step success!!\n",
      "Iterating\n",
      "Train step success!!\n"
     ]
    },
    {
     "name": "stderr",
     "output_type": "stream",
     "text": [
      "2020-02-28 20:15:31,598 - step 1540/1576, loss: 5843.813, psnr: 5843.813\n",
      "2020-02-28 20:15:31,708 - step 1541/1576, loss: 5844.427, psnr: 5844.427\n"
     ]
    },
    {
     "name": "stdout",
     "output_type": "stream",
     "text": [
      "Iterating\n",
      "Train step success!!\n",
      "Iterating\n",
      "Train step success!!\n"
     ]
    },
    {
     "name": "stderr",
     "output_type": "stream",
     "text": [
      "2020-02-28 20:15:31,818 - step 1542/1576, loss: 5844.799, psnr: 5844.799\n",
      "2020-02-28 20:15:31,925 - step 1543/1576, loss: 5843.638, psnr: 5843.638\n"
     ]
    },
    {
     "name": "stdout",
     "output_type": "stream",
     "text": [
      "Iterating\n",
      "Train step success!!\n",
      "Iterating\n",
      "Train step success!!\n"
     ]
    },
    {
     "name": "stderr",
     "output_type": "stream",
     "text": [
      "2020-02-28 20:15:32,029 - step 1544/1576, loss: 5841.780, psnr: 5841.780\n",
      "2020-02-28 20:15:32,131 - step 1545/1576, loss: 5840.783, psnr: 5840.783\n"
     ]
    },
    {
     "name": "stdout",
     "output_type": "stream",
     "text": [
      "Iterating\n",
      "Train step success!!\n",
      "Iterating\n",
      "Train step success!!\n"
     ]
    },
    {
     "name": "stderr",
     "output_type": "stream",
     "text": [
      "2020-02-28 20:15:32,234 - step 1546/1576, loss: 5840.846, psnr: 5840.846\n",
      "2020-02-28 20:15:32,342 - step 1547/1576, loss: 5839.356, psnr: 5839.356\n"
     ]
    },
    {
     "name": "stdout",
     "output_type": "stream",
     "text": [
      "Iterating\n",
      "Train step success!!\n",
      "Iterating\n",
      "Train step success!!\n"
     ]
    },
    {
     "name": "stderr",
     "output_type": "stream",
     "text": [
      "2020-02-28 20:15:32,443 - step 1548/1576, loss: 5840.208, psnr: 5840.208\n",
      "2020-02-28 20:15:32,543 - step 1549/1576, loss: 5840.705, psnr: 5840.705\n",
      "2020-02-28 20:15:32,645 - step 1550/1576, loss: 5840.774, psnr: 5840.774\n"
     ]
    },
    {
     "name": "stdout",
     "output_type": "stream",
     "text": [
      "Iterating\n",
      "Train step success!!\n",
      "Iterating\n",
      "Train step success!!\n"
     ]
    },
    {
     "name": "stderr",
     "output_type": "stream",
     "text": [
      "2020-02-28 20:15:32,748 - step 1551/1576, loss: 5839.160, psnr: 5839.160\n"
     ]
    },
    {
     "name": "stdout",
     "output_type": "stream",
     "text": [
      "Iterating\n",
      "Train step success!!\n",
      "Iterating\n",
      "Train step success!!\n"
     ]
    },
    {
     "name": "stderr",
     "output_type": "stream",
     "text": [
      "2020-02-28 20:15:32,851 - step 1552/1576, loss: 5840.594, psnr: 5840.594\n",
      "2020-02-28 20:15:32,955 - step 1553/1576, loss: 5839.601, psnr: 5839.601\n"
     ]
    },
    {
     "name": "stdout",
     "output_type": "stream",
     "text": [
      "Iterating\n",
      "Train step success!!\n",
      "Iterating\n",
      "Train step success!!\n"
     ]
    },
    {
     "name": "stderr",
     "output_type": "stream",
     "text": [
      "2020-02-28 20:15:33,056 - step 1554/1576, loss: 5839.433, psnr: 5839.433\n",
      "2020-02-28 20:15:33,157 - step 1555/1576, loss: 5837.983, psnr: 5837.983\n"
     ]
    },
    {
     "name": "stdout",
     "output_type": "stream",
     "text": [
      "Iterating\n",
      "Train step success!!\n",
      "Iterating\n",
      "Train step success!!\n"
     ]
    },
    {
     "name": "stderr",
     "output_type": "stream",
     "text": [
      "2020-02-28 20:15:33,260 - step 1556/1576, loss: 5837.918, psnr: 5837.918\n",
      "2020-02-28 20:15:33,361 - step 1557/1576, loss: 5838.010, psnr: 5838.010\n"
     ]
    },
    {
     "name": "stdout",
     "output_type": "stream",
     "text": [
      "Iterating\n",
      "Train step success!!\n",
      "Iterating\n",
      "Train step success!!\n"
     ]
    },
    {
     "name": "stderr",
     "output_type": "stream",
     "text": [
      "2020-02-28 20:15:33,463 - step 1558/1576, loss: 5840.586, psnr: 5840.586\n",
      "2020-02-28 20:15:33,568 - step 1559/1576, loss: 5840.923, psnr: 5840.923\n"
     ]
    },
    {
     "name": "stdout",
     "output_type": "stream",
     "text": [
      "Iterating\n",
      "Train step success!!\n",
      "Iterating\n",
      "Train step success!!\n"
     ]
    },
    {
     "name": "stderr",
     "output_type": "stream",
     "text": [
      "2020-02-28 20:15:33,670 - step 1560/1576, loss: 5840.120, psnr: 5840.120\n",
      "2020-02-28 20:15:33,773 - step 1561/1576, loss: 5839.884, psnr: 5839.884\n"
     ]
    },
    {
     "name": "stdout",
     "output_type": "stream",
     "text": [
      "Iterating\n",
      "Train step success!!\n",
      "Iterating\n",
      "Train step success!!\n"
     ]
    },
    {
     "name": "stderr",
     "output_type": "stream",
     "text": [
      "2020-02-28 20:15:33,873 - step 1562/1576, loss: 5838.949, psnr: 5838.949\n",
      "2020-02-28 20:15:33,974 - step 1563/1576, loss: 5839.417, psnr: 5839.417\n"
     ]
    },
    {
     "name": "stdout",
     "output_type": "stream",
     "text": [
      "Iterating\n",
      "Train step success!!\n",
      "Iterating\n",
      "Train step success!!\n"
     ]
    },
    {
     "name": "stderr",
     "output_type": "stream",
     "text": [
      "2020-02-28 20:15:34,081 - step 1564/1576, loss: 5839.366, psnr: 5839.366\n",
      "2020-02-28 20:15:34,184 - step 1565/1576, loss: 5838.333, psnr: 5838.333\n"
     ]
    },
    {
     "name": "stdout",
     "output_type": "stream",
     "text": [
      "Iterating\n",
      "Train step success!!\n",
      "Iterating\n",
      "Train step success!!\n"
     ]
    },
    {
     "name": "stderr",
     "output_type": "stream",
     "text": [
      "2020-02-28 20:15:34,286 - step 1566/1576, loss: 5838.919, psnr: 5838.919\n",
      "2020-02-28 20:15:34,388 - step 1567/1576, loss: 5839.789, psnr: 5839.789\n"
     ]
    },
    {
     "name": "stdout",
     "output_type": "stream",
     "text": [
      "Iterating\n",
      "Train step success!!\n",
      "Iterating\n",
      "Train step success!!\n"
     ]
    },
    {
     "name": "stderr",
     "output_type": "stream",
     "text": [
      "2020-02-28 20:15:34,490 - step 1568/1576, loss: 5840.321, psnr: 5840.321\n",
      "2020-02-28 20:15:34,592 - step 1569/1576, loss: 5841.900, psnr: 5841.900\n"
     ]
    },
    {
     "name": "stdout",
     "output_type": "stream",
     "text": [
      "Iterating\n",
      "Train step success!!\n",
      "Iterating\n",
      "Train step success!!\n"
     ]
    },
    {
     "name": "stderr",
     "output_type": "stream",
     "text": [
      "2020-02-28 20:15:34,694 - step 1570/1576, loss: 5840.594, psnr: 5840.594\n",
      "2020-02-28 20:15:34,796 - step 1571/1576, loss: 5840.747, psnr: 5840.747\n"
     ]
    },
    {
     "name": "stdout",
     "output_type": "stream",
     "text": [
      "Iterating\n",
      "Train step success!!\n",
      "Iterating\n",
      "Train step success!!\n"
     ]
    },
    {
     "name": "stderr",
     "output_type": "stream",
     "text": [
      "2020-02-28 20:15:34,898 - step 1572/1576, loss: 5843.369, psnr: 5843.369\n",
      "2020-02-28 20:15:34,999 - step 1573/1576, loss: 5843.962, psnr: 5843.962\n"
     ]
    },
    {
     "name": "stdout",
     "output_type": "stream",
     "text": [
      "Iterating\n",
      "Train step success!!\n",
      "Iterating\n",
      "Train step success!!\n"
     ]
    },
    {
     "name": "stderr",
     "output_type": "stream",
     "text": [
      "2020-02-28 20:15:35,100 - step 1574/1576, loss: 5845.045, psnr: 5845.045\n",
      "2020-02-28 20:15:35,202 - step 1575/1576, loss: 5846.819, psnr: 5846.819\n"
     ]
    },
    {
     "name": "stdout",
     "output_type": "stream",
     "text": [
      "Iterating\n",
      "Train step success!!\n",
      "Iterating\n",
      "Train step success!!\n"
     ]
    },
    {
     "name": "stderr",
     "output_type": "stream",
     "text": [
      "2020-02-28 20:15:35,303 - step 1576/1576, loss: 5847.626, psnr: 5847.626\n",
      "2020-02-28 20:15:35,306 - Start of epoch 1\n",
      "2020-02-28 20:15:35,405 - step 1/1576, loss: 6571.576, psnr: 6571.576\n"
     ]
    },
    {
     "name": "stdout",
     "output_type": "stream",
     "text": [
      "Iterating\n",
      "Train step success!!\n",
      "Iterating\n",
      "Train step success!!\n"
     ]
    },
    {
     "name": "stderr",
     "output_type": "stream",
     "text": [
      "2020-02-28 20:15:35,506 - step 2/1576, loss: 6283.382, psnr: 6283.382\n",
      "2020-02-28 20:15:35,608 - step 3/1576, loss: 4785.925, psnr: 4785.925\n",
      "2020-02-28 20:15:35,709 - step 4/1576, loss: 5119.237, psnr: 5119.237\n"
     ]
    },
    {
     "name": "stdout",
     "output_type": "stream",
     "text": [
      "Iterating\n",
      "Train step success!!\n",
      "Iterating\n",
      "Train step success!!\n"
     ]
    },
    {
     "name": "stderr",
     "output_type": "stream",
     "text": [
      "2020-02-28 20:15:35,810 - step 5/1576, loss: 4968.446, psnr: 4968.446\n",
      "2020-02-28 20:15:35,911 - step 6/1576, loss: 4891.407, psnr: 4891.407\n"
     ]
    },
    {
     "name": "stdout",
     "output_type": "stream",
     "text": [
      "Iterating\n",
      "Train step success!!\n",
      "Iterating\n",
      "Train step success!!\n"
     ]
    },
    {
     "name": "stderr",
     "output_type": "stream",
     "text": [
      "2020-02-28 20:15:36,013 - step 7/1576, loss: 4986.798, psnr: 4986.798\n"
     ]
    },
    {
     "name": "stdout",
     "output_type": "stream",
     "text": [
      "Iterating\n",
      "Train step success!!\n",
      "Iterating\n",
      "Train step success!!\n"
     ]
    },
    {
     "name": "stderr",
     "output_type": "stream",
     "text": [
      "2020-02-28 20:15:36,114 - step 8/1576, loss: 5272.954, psnr: 5272.954\n",
      "2020-02-28 20:15:36,216 - step 9/1576, loss: 5358.681, psnr: 5358.681\n",
      "2020-02-28 20:15:36,317 - step 10/1576, loss: 5407.524, psnr: 5407.524\n"
     ]
    },
    {
     "name": "stdout",
     "output_type": "stream",
     "text": [
      "Iterating\n",
      "Train step success!!\n",
      "Iterating\n",
      "Train step success!!\n"
     ]
    },
    {
     "name": "stderr",
     "output_type": "stream",
     "text": [
      "2020-02-28 20:15:36,418 - step 11/1576, loss: 5344.656, psnr: 5344.656\n"
     ]
    },
    {
     "name": "stdout",
     "output_type": "stream",
     "text": [
      "Iterating\n",
      "Train step success!!\n",
      "Iterating\n",
      "Train step success!!\n"
     ]
    },
    {
     "name": "stderr",
     "output_type": "stream",
     "text": [
      "2020-02-28 20:15:36,520 - step 12/1576, loss: 5425.705, psnr: 5425.705\n",
      "2020-02-28 20:15:36,633 - step 13/1576, loss: 5356.555, psnr: 5356.555\n"
     ]
    },
    {
     "name": "stdout",
     "output_type": "stream",
     "text": [
      "Iterating\n",
      "Train step success!!\n",
      "Iterating\n",
      "Train step success!!\n"
     ]
    },
    {
     "name": "stderr",
     "output_type": "stream",
     "text": [
      "2020-02-28 20:15:36,742 - step 14/1576, loss: 5288.560, psnr: 5288.560\n",
      "2020-02-28 20:15:36,853 - step 15/1576, loss: 5302.135, psnr: 5302.135\n"
     ]
    },
    {
     "name": "stdout",
     "output_type": "stream",
     "text": [
      "Iterating\n",
      "Train step success!!\n",
      "Iterating\n",
      "Train step success!!\n"
     ]
    },
    {
     "name": "stderr",
     "output_type": "stream",
     "text": [
      "2020-02-28 20:15:36,958 - step 16/1576, loss: 5351.421, psnr: 5351.421\n",
      "2020-02-28 20:15:37,060 - step 17/1576, loss: 5370.939, psnr: 5370.939\n"
     ]
    },
    {
     "name": "stdout",
     "output_type": "stream",
     "text": [
      "Iterating\n",
      "Train step success!!\n",
      "Iterating\n",
      "Train step success!!\n"
     ]
    },
    {
     "name": "stderr",
     "output_type": "stream",
     "text": [
      "2020-02-28 20:15:37,161 - step 18/1576, loss: 5440.428, psnr: 5440.428\n",
      "2020-02-28 20:15:37,263 - step 19/1576, loss: 5471.988, psnr: 5471.988\n"
     ]
    },
    {
     "name": "stdout",
     "output_type": "stream",
     "text": [
      "Iterating\n",
      "Train step success!!\n",
      "Iterating\n",
      "Train step success!!\n"
     ]
    },
    {
     "name": "stderr",
     "output_type": "stream",
     "text": [
      "2020-02-28 20:15:37,365 - step 20/1576, loss: 5402.482, psnr: 5402.482\n",
      "2020-02-28 20:15:37,466 - step 21/1576, loss: 5440.172, psnr: 5440.172\n"
     ]
    },
    {
     "name": "stdout",
     "output_type": "stream",
     "text": [
      "Iterating\n",
      "Train step success!!\n",
      "Iterating\n",
      "Train step success!!\n"
     ]
    },
    {
     "name": "stderr",
     "output_type": "stream",
     "text": [
      "2020-02-28 20:15:37,568 - step 22/1576, loss: 5501.475, psnr: 5501.475\n",
      "2020-02-28 20:15:37,669 - step 23/1576, loss: 5543.837, psnr: 5543.837\n"
     ]
    },
    {
     "name": "stdout",
     "output_type": "stream",
     "text": [
      "Iterating\n",
      "Train step success!!\n",
      "Iterating\n",
      "Train step success!!\n"
     ]
    },
    {
     "name": "stderr",
     "output_type": "stream",
     "text": [
      "2020-02-28 20:15:37,771 - step 24/1576, loss: 5567.689, psnr: 5567.689\n",
      "2020-02-28 20:15:37,872 - step 25/1576, loss: 5588.423, psnr: 5588.423\n"
     ]
    },
    {
     "name": "stdout",
     "output_type": "stream",
     "text": [
      "Iterating\n",
      "Train step success!!\n",
      "Iterating\n",
      "Train step success!!\n"
     ]
    },
    {
     "name": "stderr",
     "output_type": "stream",
     "text": [
      "2020-02-28 20:15:37,974 - step 26/1576, loss: 5616.419, psnr: 5616.419\n",
      "2020-02-28 20:15:38,076 - step 27/1576, loss: 5587.254, psnr: 5587.254\n"
     ]
    },
    {
     "name": "stdout",
     "output_type": "stream",
     "text": [
      "Iterating\n",
      "Train step success!!\n",
      "Iterating\n",
      "Train step success!!\n"
     ]
    },
    {
     "name": "stderr",
     "output_type": "stream",
     "text": [
      "2020-02-28 20:15:38,178 - step 28/1576, loss: 5651.662, psnr: 5651.662\n",
      "2020-02-28 20:15:38,280 - step 29/1576, loss: 5705.791, psnr: 5705.791\n"
     ]
    },
    {
     "name": "stdout",
     "output_type": "stream",
     "text": [
      "Iterating\n",
      "Train step success!!\n",
      "Iterating\n",
      "Train step success!!\n"
     ]
    },
    {
     "name": "stderr",
     "output_type": "stream",
     "text": [
      "2020-02-28 20:15:38,389 - step 30/1576, loss: 5724.205, psnr: 5724.205\n",
      "2020-02-28 20:15:38,499 - step 31/1576, loss: 5758.735, psnr: 5758.735\n"
     ]
    },
    {
     "name": "stdout",
     "output_type": "stream",
     "text": [
      "Iterating\n",
      "Train step success!!\n",
      "Iterating\n",
      "Train step success!!\n"
     ]
    },
    {
     "name": "stderr",
     "output_type": "stream",
     "text": [
      "2020-02-28 20:15:38,608 - step 32/1576, loss: 5818.739, psnr: 5818.739\n",
      "2020-02-28 20:15:38,712 - step 33/1576, loss: 5775.554, psnr: 5775.554\n"
     ]
    },
    {
     "name": "stdout",
     "output_type": "stream",
     "text": [
      "Iterating\n",
      "Train step success!!\n",
      "Iterating\n",
      "Train step success!!\n"
     ]
    },
    {
     "name": "stderr",
     "output_type": "stream",
     "text": [
      "2020-02-28 20:15:38,813 - step 34/1576, loss: 5749.091, psnr: 5749.091\n",
      "2020-02-28 20:15:38,916 - step 35/1576, loss: 5789.271, psnr: 5789.271\n"
     ]
    },
    {
     "name": "stdout",
     "output_type": "stream",
     "text": [
      "Iterating\n",
      "Train step success!!\n",
      "Iterating\n",
      "Train step success!!\n"
     ]
    },
    {
     "name": "stderr",
     "output_type": "stream",
     "text": [
      "2020-02-28 20:15:39,020 - step 36/1576, loss: 5795.189, psnr: 5795.189\n",
      "2020-02-28 20:15:39,122 - step 37/1576, loss: 5807.771, psnr: 5807.771\n"
     ]
    },
    {
     "name": "stdout",
     "output_type": "stream",
     "text": [
      "Iterating\n",
      "Train step success!!\n",
      "Iterating\n",
      "Train step success!!\n"
     ]
    },
    {
     "name": "stderr",
     "output_type": "stream",
     "text": [
      "2020-02-28 20:15:39,227 - step 38/1576, loss: 5772.796, psnr: 5772.796\n",
      "2020-02-28 20:15:39,331 - step 39/1576, loss: 5773.650, psnr: 5773.650\n"
     ]
    },
    {
     "name": "stdout",
     "output_type": "stream",
     "text": [
      "Iterating\n",
      "Train step success!!\n",
      "Iterating\n",
      "Train step success!!\n"
     ]
    },
    {
     "name": "stderr",
     "output_type": "stream",
     "text": [
      "2020-02-28 20:15:39,434 - step 40/1576, loss: 5741.423, psnr: 5741.423\n",
      "2020-02-28 20:15:39,537 - step 41/1576, loss: 5717.756, psnr: 5717.756\n"
     ]
    },
    {
     "name": "stdout",
     "output_type": "stream",
     "text": [
      "Iterating\n",
      "Train step success!!\n",
      "Iterating\n",
      "Train step success!!\n"
     ]
    },
    {
     "name": "stderr",
     "output_type": "stream",
     "text": [
      "2020-02-28 20:15:39,645 - step 42/1576, loss: 5743.060, psnr: 5743.060\n",
      "2020-02-28 20:15:39,756 - step 43/1576, loss: 5761.312, psnr: 5761.312\n"
     ]
    },
    {
     "name": "stdout",
     "output_type": "stream",
     "text": [
      "Iterating\n",
      "Train step success!!\n",
      "Iterating\n",
      "Train step success!!\n"
     ]
    },
    {
     "name": "stderr",
     "output_type": "stream",
     "text": [
      "2020-02-28 20:15:39,868 - step 44/1576, loss: 5672.843, psnr: 5672.843\n",
      "2020-02-28 20:15:39,974 - step 45/1576, loss: 5700.864, psnr: 5700.864\n"
     ]
    },
    {
     "name": "stdout",
     "output_type": "stream",
     "text": [
      "Iterating\n",
      "Train step success!!\n",
      "Iterating\n",
      "Train step success!!\n"
     ]
    },
    {
     "name": "stderr",
     "output_type": "stream",
     "text": [
      "2020-02-28 20:15:40,080 - step 46/1576, loss: 5720.027, psnr: 5720.027\n",
      "2020-02-28 20:15:40,189 - step 47/1576, loss: 5719.374, psnr: 5719.374\n"
     ]
    },
    {
     "name": "stdout",
     "output_type": "stream",
     "text": [
      "Iterating\n",
      "Train step success!!\n",
      "Iterating\n",
      "Train step success!!\n"
     ]
    },
    {
     "name": "stderr",
     "output_type": "stream",
     "text": [
      "2020-02-28 20:15:40,300 - step 48/1576, loss: 5737.643, psnr: 5737.643\n",
      "2020-02-28 20:15:40,406 - step 49/1576, loss: 5760.302, psnr: 5760.302\n"
     ]
    },
    {
     "name": "stdout",
     "output_type": "stream",
     "text": [
      "Iterating\n",
      "Train step success!!\n",
      "Iterating\n",
      "Train step success!!\n"
     ]
    },
    {
     "name": "stderr",
     "output_type": "stream",
     "text": [
      "2020-02-28 20:15:40,512 - step 50/1576, loss: 5741.992, psnr: 5741.992\n",
      "2020-02-28 20:15:40,614 - step 51/1576, loss: 5755.055, psnr: 5755.055\n"
     ]
    },
    {
     "name": "stdout",
     "output_type": "stream",
     "text": [
      "Iterating\n",
      "Train step success!!\n",
      "Iterating\n",
      "Train step success!!\n"
     ]
    },
    {
     "name": "stderr",
     "output_type": "stream",
     "text": [
      "2020-02-28 20:15:40,717 - step 52/1576, loss: 5778.432, psnr: 5778.432\n",
      "2020-02-28 20:15:40,818 - step 53/1576, loss: 5774.234, psnr: 5774.234\n"
     ]
    },
    {
     "name": "stdout",
     "output_type": "stream",
     "text": [
      "Iterating\n",
      "Train step success!!\n",
      "Iterating\n",
      "Train step success!!\n"
     ]
    },
    {
     "name": "stderr",
     "output_type": "stream",
     "text": [
      "2020-02-28 20:15:40,919 - step 54/1576, loss: 5754.131, psnr: 5754.131\n",
      "2020-02-28 20:15:41,020 - step 55/1576, loss: 5756.677, psnr: 5756.677\n",
      "2020-02-28 20:15:41,121 - step 56/1576, loss: 5754.970, psnr: 5754.970\n"
     ]
    },
    {
     "name": "stdout",
     "output_type": "stream",
     "text": [
      "Iterating\n",
      "Train step success!!\n",
      "Iterating\n",
      "Train step success!!\n"
     ]
    },
    {
     "name": "stderr",
     "output_type": "stream",
     "text": [
      "2020-02-28 20:15:41,222 - step 57/1576, loss: 5736.559, psnr: 5736.559\n"
     ]
    },
    {
     "name": "stdout",
     "output_type": "stream",
     "text": [
      "Iterating\n",
      "Train step success!!\n",
      "Iterating\n",
      "Train step success!!\n"
     ]
    },
    {
     "name": "stderr",
     "output_type": "stream",
     "text": [
      "2020-02-28 20:15:41,324 - step 58/1576, loss: 5734.025, psnr: 5734.025\n",
      "2020-02-28 20:15:41,425 - step 59/1576, loss: 5764.842, psnr: 5764.842\n",
      "2020-02-28 20:15:41,526 - step 60/1576, loss: 5789.680, psnr: 5789.680\n"
     ]
    },
    {
     "name": "stdout",
     "output_type": "stream",
     "text": [
      "Iterating\n",
      "Train step success!!\n",
      "Iterating\n",
      "Train step success!!\n"
     ]
    },
    {
     "name": "stderr",
     "output_type": "stream",
     "text": [
      "2020-02-28 20:15:41,627 - step 61/1576, loss: 5789.554, psnr: 5789.554\n"
     ]
    },
    {
     "name": "stdout",
     "output_type": "stream",
     "text": [
      "Iterating\n",
      "Train step success!!\n",
      "Iterating\n",
      "Train step success!!\n"
     ]
    },
    {
     "name": "stderr",
     "output_type": "stream",
     "text": [
      "2020-02-28 20:15:41,730 - step 62/1576, loss: 5804.866, psnr: 5804.866\n",
      "2020-02-28 20:15:41,831 - step 63/1576, loss: 5801.691, psnr: 5801.691\n",
      "2020-02-28 20:15:41,932 - step 64/1576, loss: 5781.175, psnr: 5781.175\n"
     ]
    },
    {
     "name": "stdout",
     "output_type": "stream",
     "text": [
      "Iterating\n",
      "Train step success!!\n",
      "Iterating\n",
      "Train step success!!\n"
     ]
    },
    {
     "name": "stderr",
     "output_type": "stream",
     "text": [
      "2020-02-28 20:15:42,034 - step 65/1576, loss: 5767.203, psnr: 5767.203\n",
      "2020-02-28 20:15:42,135 - step 66/1576, loss: 5750.198, psnr: 5750.198\n"
     ]
    },
    {
     "name": "stdout",
     "output_type": "stream",
     "text": [
      "Iterating\n",
      "Train step success!!\n",
      "Iterating\n",
      "Train step success!!\n"
     ]
    },
    {
     "name": "stderr",
     "output_type": "stream",
     "text": [
      "2020-02-28 20:15:42,237 - step 67/1576, loss: 5735.289, psnr: 5735.289\n"
     ]
    },
    {
     "name": "stdout",
     "output_type": "stream",
     "text": [
      "Iterating\n",
      "Train step success!!\n",
      "Iterating\n",
      "Train step success!!\n"
     ]
    },
    {
     "name": "stderr",
     "output_type": "stream",
     "text": [
      "2020-02-28 20:15:42,339 - step 68/1576, loss: 5751.425, psnr: 5751.425\n",
      "2020-02-28 20:15:42,442 - step 69/1576, loss: 5762.061, psnr: 5762.061\n"
     ]
    },
    {
     "name": "stdout",
     "output_type": "stream",
     "text": [
      "Iterating\n",
      "Train step success!!\n",
      "Iterating\n",
      "Train step success!!\n"
     ]
    },
    {
     "name": "stderr",
     "output_type": "stream",
     "text": [
      "2020-02-28 20:15:42,544 - step 70/1576, loss: 5771.617, psnr: 5771.617\n",
      "2020-02-28 20:15:42,645 - step 71/1576, loss: 5752.569, psnr: 5752.569\n"
     ]
    },
    {
     "name": "stdout",
     "output_type": "stream",
     "text": [
      "Iterating\n",
      "Train step success!!\n",
      "Iterating\n",
      "Train step success!!\n"
     ]
    },
    {
     "name": "stderr",
     "output_type": "stream",
     "text": [
      "2020-02-28 20:15:42,747 - step 72/1576, loss: 5755.295, psnr: 5755.295\n",
      "2020-02-28 20:15:42,849 - step 73/1576, loss: 5762.012, psnr: 5762.012\n"
     ]
    },
    {
     "name": "stdout",
     "output_type": "stream",
     "text": [
      "Iterating\n",
      "Train step success!!\n",
      "Iterating\n",
      "Train step success!!\n"
     ]
    },
    {
     "name": "stderr",
     "output_type": "stream",
     "text": [
      "2020-02-28 20:15:42,951 - step 74/1576, loss: 5763.470, psnr: 5763.470\n",
      "2020-02-28 20:15:43,053 - step 75/1576, loss: 5775.815, psnr: 5775.815\n"
     ]
    },
    {
     "name": "stdout",
     "output_type": "stream",
     "text": [
      "Iterating\n",
      "Train step success!!\n",
      "Iterating\n",
      "Train step success!!\n"
     ]
    },
    {
     "name": "stderr",
     "output_type": "stream",
     "text": [
      "2020-02-28 20:15:43,153 - step 76/1576, loss: 5788.306, psnr: 5788.306\n",
      "2020-02-28 20:15:43,255 - step 77/1576, loss: 5815.199, psnr: 5815.199\n"
     ]
    },
    {
     "name": "stdout",
     "output_type": "stream",
     "text": [
      "Iterating\n",
      "Train step success!!\n",
      "Iterating\n",
      "Train step success!!\n"
     ]
    },
    {
     "name": "stderr",
     "output_type": "stream",
     "text": [
      "2020-02-28 20:15:43,356 - step 78/1576, loss: 5816.833, psnr: 5816.833\n",
      "2020-02-28 20:15:43,457 - step 79/1576, loss: 5803.603, psnr: 5803.603\n",
      "2020-02-28 20:15:43,558 - step 80/1576, loss: 5787.796, psnr: 5787.796\n"
     ]
    },
    {
     "name": "stdout",
     "output_type": "stream",
     "text": [
      "Iterating\n",
      "Train step success!!\n",
      "Iterating\n",
      "Train step success!!\n"
     ]
    },
    {
     "name": "stderr",
     "output_type": "stream",
     "text": [
      "2020-02-28 20:15:43,659 - step 81/1576, loss: 5799.704, psnr: 5799.704\n",
      "2020-02-28 20:15:43,760 - step 82/1576, loss: 5787.994, psnr: 5787.994\n"
     ]
    },
    {
     "name": "stdout",
     "output_type": "stream",
     "text": [
      "Iterating\n",
      "Train step success!!\n",
      "Iterating\n",
      "Train step success!!\n"
     ]
    },
    {
     "name": "stderr",
     "output_type": "stream",
     "text": [
      "2020-02-28 20:15:43,861 - step 83/1576, loss: 5809.457, psnr: 5809.457\n",
      "2020-02-28 20:15:43,961 - step 84/1576, loss: 5811.159, psnr: 5811.159\n"
     ]
    },
    {
     "name": "stdout",
     "output_type": "stream",
     "text": [
      "Iterating\n",
      "Train step success!!\n",
      "Iterating\n",
      "Train step success!!\n"
     ]
    },
    {
     "name": "stderr",
     "output_type": "stream",
     "text": [
      "2020-02-28 20:15:44,063 - step 85/1576, loss: 5822.875, psnr: 5822.875\n"
     ]
    },
    {
     "name": "stdout",
     "output_type": "stream",
     "text": [
      "Iterating\n",
      "Train step success!!\n",
      "Iterating\n",
      "Train step success!!\n"
     ]
    },
    {
     "name": "stderr",
     "output_type": "stream",
     "text": [
      "2020-02-28 20:15:44,164 - step 86/1576, loss: 5832.185, psnr: 5832.185\n",
      "2020-02-28 20:15:44,265 - step 87/1576, loss: 5842.603, psnr: 5842.603\n",
      "2020-02-28 20:15:44,365 - step 88/1576, loss: 5859.800, psnr: 5859.800\n"
     ]
    },
    {
     "name": "stdout",
     "output_type": "stream",
     "text": [
      "Iterating\n",
      "Train step success!!\n",
      "Iterating\n",
      "Train step success!!\n"
     ]
    },
    {
     "name": "stderr",
     "output_type": "stream",
     "text": [
      "2020-02-28 20:15:44,469 - step 89/1576, loss: 5867.212, psnr: 5867.212\n"
     ]
    },
    {
     "name": "stdout",
     "output_type": "stream",
     "text": [
      "Iterating\n",
      "Train step success!!\n",
      "Iterating\n",
      "Train step success!!\n"
     ]
    },
    {
     "name": "stderr",
     "output_type": "stream",
     "text": [
      "2020-02-28 20:15:44,573 - step 90/1576, loss: 5876.989, psnr: 5876.989\n",
      "2020-02-28 20:15:44,675 - step 91/1576, loss: 5879.377, psnr: 5879.377\n"
     ]
    },
    {
     "name": "stdout",
     "output_type": "stream",
     "text": [
      "Iterating\n",
      "Train step success!!\n",
      "Iterating\n",
      "Train step success!!\n"
     ]
    },
    {
     "name": "stderr",
     "output_type": "stream",
     "text": [
      "2020-02-28 20:15:44,777 - step 92/1576, loss: 5877.594, psnr: 5877.594\n",
      "2020-02-28 20:15:44,879 - step 93/1576, loss: 5863.350, psnr: 5863.350\n"
     ]
    },
    {
     "name": "stdout",
     "output_type": "stream",
     "text": [
      "Iterating\n",
      "Train step success!!\n",
      "Iterating\n",
      "Train step success!!\n"
     ]
    },
    {
     "name": "stderr",
     "output_type": "stream",
     "text": [
      "2020-02-28 20:15:44,982 - step 94/1576, loss: 5865.937, psnr: 5865.937\n",
      "2020-02-28 20:15:45,084 - step 95/1576, loss: 5864.472, psnr: 5864.472\n"
     ]
    },
    {
     "name": "stdout",
     "output_type": "stream",
     "text": [
      "Iterating\n",
      "Train step success!!\n",
      "Iterating\n",
      "Train step success!!\n"
     ]
    },
    {
     "name": "stderr",
     "output_type": "stream",
     "text": [
      "2020-02-28 20:15:45,185 - step 96/1576, loss: 5852.785, psnr: 5852.785\n",
      "2020-02-28 20:15:45,287 - step 97/1576, loss: 5853.410, psnr: 5853.410\n",
      "2020-02-28 20:15:45,388 - step 98/1576, loss: 5861.279, psnr: 5861.279\n"
     ]
    },
    {
     "name": "stdout",
     "output_type": "stream",
     "text": [
      "Iterating\n",
      "Train step success!!\n",
      "Iterating\n",
      "Train step success!!\n"
     ]
    },
    {
     "name": "stderr",
     "output_type": "stream",
     "text": [
      "2020-02-28 20:15:45,489 - step 99/1576, loss: 5868.054, psnr: 5868.054\n",
      "2020-02-28 20:15:45,590 - step 100/1576, loss: 5878.514, psnr: 5878.514\n"
     ]
    },
    {
     "name": "stdout",
     "output_type": "stream",
     "text": [
      "Iterating\n",
      "Train step success!!\n",
      "Iterating\n",
      "Train step success!!\n"
     ]
    },
    {
     "name": "stderr",
     "output_type": "stream",
     "text": [
      "2020-02-28 20:15:47,817 - Validation results... val_loss: 4339.418, val_psnr: 4339.418\n",
      "2020-02-28 20:15:47,919 - step 101/1576, loss: 5869.359, psnr: 5869.359\n"
     ]
    },
    {
     "name": "stdout",
     "output_type": "stream",
     "text": [
      "Iterating\n",
      "Train step success!!\n",
      "Iterating\n",
      "Train step success!!\n"
     ]
    },
    {
     "name": "stderr",
     "output_type": "stream",
     "text": [
      "2020-02-28 20:15:48,019 - step 102/1576, loss: 5883.094, psnr: 5883.094\n",
      "2020-02-28 20:15:48,121 - step 103/1576, loss: 5872.349, psnr: 5872.349\n"
     ]
    },
    {
     "name": "stdout",
     "output_type": "stream",
     "text": [
      "Iterating\n",
      "Train step success!!\n",
      "Iterating\n",
      "Train step success!!\n"
     ]
    },
    {
     "name": "stderr",
     "output_type": "stream",
     "text": [
      "2020-02-28 20:15:48,224 - step 104/1576, loss: 5874.073, psnr: 5874.073\n",
      "2020-02-28 20:15:48,326 - step 105/1576, loss: 5873.006, psnr: 5873.006\n"
     ]
    },
    {
     "name": "stdout",
     "output_type": "stream",
     "text": [
      "Iterating\n",
      "Train step success!!\n",
      "Iterating\n",
      "Train step success!!\n"
     ]
    },
    {
     "name": "stderr",
     "output_type": "stream",
     "text": [
      "2020-02-28 20:15:48,427 - step 106/1576, loss: 5882.353, psnr: 5882.353\n",
      "2020-02-28 20:15:48,528 - step 107/1576, loss: 5885.678, psnr: 5885.678\n",
      "2020-02-28 20:15:48,629 - step 108/1576, loss: 5866.294, psnr: 5866.294\n"
     ]
    },
    {
     "name": "stdout",
     "output_type": "stream",
     "text": [
      "Iterating\n",
      "Train step success!!\n",
      "Iterating\n",
      "Train step success!!\n"
     ]
    },
    {
     "name": "stderr",
     "output_type": "stream",
     "text": [
      "2020-02-28 20:15:48,730 - step 109/1576, loss: 5871.412, psnr: 5871.412\n"
     ]
    },
    {
     "name": "stdout",
     "output_type": "stream",
     "text": [
      "Iterating\n",
      "Train step success!!\n",
      "Iterating\n",
      "Train step success!!\n"
     ]
    },
    {
     "name": "stderr",
     "output_type": "stream",
     "text": [
      "2020-02-28 20:15:48,833 - step 110/1576, loss: 5877.258, psnr: 5877.258\n",
      "2020-02-28 20:15:48,934 - step 111/1576, loss: 5881.635, psnr: 5881.635\n",
      "2020-02-28 20:15:49,035 - step 112/1576, loss: 5870.925, psnr: 5870.925\n"
     ]
    },
    {
     "name": "stdout",
     "output_type": "stream",
     "text": [
      "Iterating\n",
      "Train step success!!\n",
      "Iterating\n",
      "Train step success!!\n"
     ]
    },
    {
     "name": "stderr",
     "output_type": "stream",
     "text": [
      "2020-02-28 20:15:49,136 - step 113/1576, loss: 5882.547, psnr: 5882.547\n",
      "2020-02-28 20:15:49,236 - step 114/1576, loss: 5873.249, psnr: 5873.249\n"
     ]
    },
    {
     "name": "stdout",
     "output_type": "stream",
     "text": [
      "Iterating\n",
      "Train step success!!\n",
      "Iterating\n",
      "Train step success!!\n"
     ]
    },
    {
     "name": "stderr",
     "output_type": "stream",
     "text": [
      "2020-02-28 20:15:49,341 - step 115/1576, loss: 5866.464, psnr: 5866.464\n"
     ]
    },
    {
     "name": "stdout",
     "output_type": "stream",
     "text": [
      "Iterating\n",
      "Train step success!!\n",
      "Iterating\n",
      "Train step success!!\n"
     ]
    },
    {
     "name": "stderr",
     "output_type": "stream",
     "text": [
      "2020-02-28 20:15:49,444 - step 116/1576, loss: 5857.654, psnr: 5857.654\n",
      "2020-02-28 20:15:49,546 - step 117/1576, loss: 5859.657, psnr: 5859.657\n"
     ]
    },
    {
     "name": "stdout",
     "output_type": "stream",
     "text": [
      "Iterating\n",
      "Train step success!!\n",
      "Iterating\n",
      "Train step success!!\n"
     ]
    },
    {
     "name": "stderr",
     "output_type": "stream",
     "text": [
      "2020-02-28 20:15:49,647 - step 118/1576, loss: 5863.025, psnr: 5863.025\n",
      "2020-02-28 20:15:49,748 - step 119/1576, loss: 5871.045, psnr: 5871.045\n"
     ]
    },
    {
     "name": "stdout",
     "output_type": "stream",
     "text": [
      "Iterating\n",
      "Train step success!!\n",
      "Iterating\n",
      "Train step success!!\n"
     ]
    },
    {
     "name": "stderr",
     "output_type": "stream",
     "text": [
      "2020-02-28 20:15:49,851 - step 120/1576, loss: 5881.071, psnr: 5881.071\n",
      "2020-02-28 20:15:49,953 - step 121/1576, loss: 5890.509, psnr: 5890.509\n"
     ]
    },
    {
     "name": "stdout",
     "output_type": "stream",
     "text": [
      "Iterating\n",
      "Train step success!!\n",
      "Iterating\n",
      "Train step success!!\n"
     ]
    },
    {
     "name": "stderr",
     "output_type": "stream",
     "text": [
      "2020-02-28 20:15:50,055 - step 122/1576, loss: 5890.813, psnr: 5890.813\n",
      "2020-02-28 20:15:50,157 - step 123/1576, loss: 5903.968, psnr: 5903.968\n"
     ]
    },
    {
     "name": "stdout",
     "output_type": "stream",
     "text": [
      "Iterating\n",
      "Train step success!!\n",
      "Iterating\n",
      "Train step success!!\n"
     ]
    },
    {
     "name": "stderr",
     "output_type": "stream",
     "text": [
      "2020-02-28 20:15:50,259 - step 124/1576, loss: 5908.280, psnr: 5908.280\n",
      "2020-02-28 20:15:50,359 - step 125/1576, loss: 5923.301, psnr: 5923.301\n",
      "2020-02-28 20:15:50,460 - step 126/1576, loss: 5933.501, psnr: 5933.501\n"
     ]
    },
    {
     "name": "stdout",
     "output_type": "stream",
     "text": [
      "Iterating\n",
      "Train step success!!\n",
      "Iterating\n",
      "Train step success!!\n"
     ]
    },
    {
     "name": "stderr",
     "output_type": "stream",
     "text": [
      "2020-02-28 20:15:50,562 - step 127/1576, loss: 5937.685, psnr: 5937.685\n"
     ]
    },
    {
     "name": "stdout",
     "output_type": "stream",
     "text": [
      "Iterating\n",
      "Train step success!!\n",
      "Iterating\n",
      "Train step success!!\n"
     ]
    },
    {
     "name": "stderr",
     "output_type": "stream",
     "text": [
      "2020-02-28 20:15:50,664 - step 128/1576, loss: 5951.746, psnr: 5951.746\n",
      "2020-02-28 20:15:50,765 - step 129/1576, loss: 5943.557, psnr: 5943.557\n"
     ]
    },
    {
     "name": "stdout",
     "output_type": "stream",
     "text": [
      "Iterating\n",
      "Train step success!!\n",
      "Iterating\n",
      "Train step success!!\n"
     ]
    },
    {
     "name": "stderr",
     "output_type": "stream",
     "text": [
      "2020-02-28 20:15:50,867 - step 130/1576, loss: 5933.743, psnr: 5933.743\n",
      "2020-02-28 20:15:50,969 - step 131/1576, loss: 5937.165, psnr: 5937.165\n"
     ]
    },
    {
     "name": "stdout",
     "output_type": "stream",
     "text": [
      "Iterating\n",
      "Train step success!!\n",
      "Iterating\n",
      "Train step success!!\n"
     ]
    },
    {
     "name": "stderr",
     "output_type": "stream",
     "text": [
      "2020-02-28 20:15:51,070 - step 132/1576, loss: 5924.922, psnr: 5924.922\n",
      "2020-02-28 20:15:51,171 - step 133/1576, loss: 5928.420, psnr: 5928.420\n"
     ]
    },
    {
     "name": "stdout",
     "output_type": "stream",
     "text": [
      "Iterating\n",
      "Train step success!!\n",
      "Iterating\n",
      "Train step success!!\n"
     ]
    },
    {
     "name": "stderr",
     "output_type": "stream",
     "text": [
      "2020-02-28 20:15:51,274 - step 134/1576, loss: 5933.171, psnr: 5933.171\n",
      "2020-02-28 20:15:51,375 - step 135/1576, loss: 5934.806, psnr: 5934.806\n",
      "2020-02-28 20:15:51,476 - step 136/1576, loss: 5933.156, psnr: 5933.156\n"
     ]
    },
    {
     "name": "stdout",
     "output_type": "stream",
     "text": [
      "Iterating\n",
      "Train step success!!\n",
      "Iterating\n",
      "Train step success!!\n"
     ]
    },
    {
     "name": "stderr",
     "output_type": "stream",
     "text": [
      "2020-02-28 20:15:51,577 - step 137/1576, loss: 5922.620, psnr: 5922.620\n",
      "2020-02-28 20:15:51,677 - step 138/1576, loss: 5924.640, psnr: 5924.640\n"
     ]
    },
    {
     "name": "stdout",
     "output_type": "stream",
     "text": [
      "Iterating\n",
      "Train step success!!\n",
      "Iterating\n",
      "Train step success!!\n"
     ]
    },
    {
     "name": "stderr",
     "output_type": "stream",
     "text": [
      "2020-02-28 20:15:51,779 - step 139/1576, loss: 5915.678, psnr: 5915.678\n"
     ]
    },
    {
     "name": "stdout",
     "output_type": "stream",
     "text": [
      "Iterating\n",
      "Train step success!!\n",
      "Iterating\n",
      "Train step success!!\n"
     ]
    },
    {
     "name": "stderr",
     "output_type": "stream",
     "text": [
      "2020-02-28 20:15:51,881 - step 140/1576, loss: 5928.738, psnr: 5928.738\n",
      "2020-02-28 20:15:51,982 - step 141/1576, loss: 5921.030, psnr: 5921.030\n",
      "2020-02-28 20:15:52,083 - step 142/1576, loss: 5892.601, psnr: 5892.601\n"
     ]
    },
    {
     "name": "stdout",
     "output_type": "stream",
     "text": [
      "Iterating\n",
      "Train step success!!\n",
      "Iterating\n",
      "Train step success!!\n"
     ]
    },
    {
     "name": "stderr",
     "output_type": "stream",
     "text": [
      "2020-02-28 20:15:52,185 - step 143/1576, loss: 5882.564, psnr: 5882.564\n"
     ]
    },
    {
     "name": "stdout",
     "output_type": "stream",
     "text": [
      "Iterating\n",
      "Train step success!!\n",
      "Iterating\n",
      "Train step success!!\n"
     ]
    },
    {
     "name": "stderr",
     "output_type": "stream",
     "text": [
      "2020-02-28 20:15:52,287 - step 144/1576, loss: 5875.510, psnr: 5875.510\n",
      "2020-02-28 20:15:52,390 - step 145/1576, loss: 5881.262, psnr: 5881.262\n"
     ]
    },
    {
     "name": "stdout",
     "output_type": "stream",
     "text": [
      "Iterating\n",
      "Train step success!!\n",
      "Iterating\n",
      "Train step success!!\n"
     ]
    },
    {
     "name": "stderr",
     "output_type": "stream",
     "text": [
      "2020-02-28 20:15:52,492 - step 146/1576, loss: 5871.375, psnr: 5871.375\n",
      "2020-02-28 20:15:52,593 - step 147/1576, loss: 5873.968, psnr: 5873.968\n"
     ]
    },
    {
     "name": "stdout",
     "output_type": "stream",
     "text": [
      "Iterating\n",
      "Train step success!!\n",
      "Iterating\n",
      "Train step success!!\n"
     ]
    },
    {
     "name": "stderr",
     "output_type": "stream",
     "text": [
      "2020-02-28 20:15:52,694 - step 148/1576, loss: 5868.192, psnr: 5868.192\n",
      "2020-02-28 20:15:52,796 - step 149/1576, loss: 5876.000, psnr: 5876.000\n",
      "2020-02-28 20:15:52,897 - step 150/1576, loss: 5874.053, psnr: 5874.053\n"
     ]
    },
    {
     "name": "stdout",
     "output_type": "stream",
     "text": [
      "Iterating\n",
      "Train step success!!\n",
      "Iterating\n",
      "Train step success!!\n"
     ]
    },
    {
     "name": "stderr",
     "output_type": "stream",
     "text": [
      "2020-02-28 20:15:52,999 - step 151/1576, loss: 5872.675, psnr: 5872.675\n"
     ]
    },
    {
     "name": "stdout",
     "output_type": "stream",
     "text": [
      "Iterating\n",
      "Train step success!!\n",
      "Iterating\n",
      "Train step success!!\n"
     ]
    },
    {
     "name": "stderr",
     "output_type": "stream",
     "text": [
      "2020-02-28 20:15:53,100 - step 152/1576, loss: 5872.433, psnr: 5872.433\n",
      "2020-02-28 20:15:53,201 - step 153/1576, loss: 5878.301, psnr: 5878.301\n",
      "2020-02-28 20:15:53,302 - step 154/1576, loss: 5878.687, psnr: 5878.687\n"
     ]
    },
    {
     "name": "stdout",
     "output_type": "stream",
     "text": [
      "Iterating\n",
      "Train step success!!\n",
      "Iterating\n",
      "Train step success!!\n"
     ]
    },
    {
     "name": "stderr",
     "output_type": "stream",
     "text": [
      "2020-02-28 20:15:53,404 - step 155/1576, loss: 5881.471, psnr: 5881.471\n",
      "2020-02-28 20:15:53,504 - step 156/1576, loss: 5871.147, psnr: 5871.147\n"
     ]
    },
    {
     "name": "stdout",
     "output_type": "stream",
     "text": [
      "Iterating\n",
      "Train step success!!\n",
      "Iterating\n",
      "Train step success!!\n"
     ]
    },
    {
     "name": "stderr",
     "output_type": "stream",
     "text": [
      "2020-02-28 20:15:53,607 - step 157/1576, loss: 5864.211, psnr: 5864.211\n"
     ]
    },
    {
     "name": "stdout",
     "output_type": "stream",
     "text": [
      "Iterating\n",
      "Train step success!!\n",
      "Iterating\n",
      "Train step success!!\n"
     ]
    },
    {
     "name": "stderr",
     "output_type": "stream",
     "text": [
      "2020-02-28 20:15:53,708 - step 158/1576, loss: 5856.168, psnr: 5856.168\n",
      "2020-02-28 20:15:53,808 - step 159/1576, loss: 5852.225, psnr: 5852.225\n",
      "2020-02-28 20:15:53,910 - step 160/1576, loss: 5862.473, psnr: 5862.473\n"
     ]
    },
    {
     "name": "stdout",
     "output_type": "stream",
     "text": [
      "Iterating\n",
      "Train step success!!\n",
      "Iterating\n",
      "Train step success!!\n"
     ]
    },
    {
     "name": "stderr",
     "output_type": "stream",
     "text": [
      "2020-02-28 20:15:54,011 - step 161/1576, loss: 5864.637, psnr: 5864.637\n",
      "2020-02-28 20:15:54,112 - step 162/1576, loss: 5869.278, psnr: 5869.278\n"
     ]
    },
    {
     "name": "stdout",
     "output_type": "stream",
     "text": [
      "Iterating\n",
      "Train step success!!\n",
      "Iterating\n",
      "Train step success!!\n"
     ]
    },
    {
     "name": "stderr",
     "output_type": "stream",
     "text": [
      "2020-02-28 20:15:54,214 - step 163/1576, loss: 5875.400, psnr: 5875.400\n"
     ]
    },
    {
     "name": "stdout",
     "output_type": "stream",
     "text": [
      "Iterating\n",
      "Train step success!!\n",
      "Iterating\n",
      "Train step success!!\n"
     ]
    },
    {
     "name": "stderr",
     "output_type": "stream",
     "text": [
      "2020-02-28 20:15:54,316 - step 164/1576, loss: 5875.884, psnr: 5875.884\n",
      "2020-02-28 20:15:54,417 - step 165/1576, loss: 5878.173, psnr: 5878.173\n"
     ]
    },
    {
     "name": "stdout",
     "output_type": "stream",
     "text": [
      "Iterating\n",
      "Train step success!!\n",
      "Iterating\n",
      "Train step success!!\n"
     ]
    },
    {
     "name": "stderr",
     "output_type": "stream",
     "text": [
      "2020-02-28 20:15:54,519 - step 166/1576, loss: 5886.375, psnr: 5886.375\n",
      "2020-02-28 20:15:54,621 - step 167/1576, loss: 5879.827, psnr: 5879.827\n"
     ]
    },
    {
     "name": "stdout",
     "output_type": "stream",
     "text": [
      "Iterating\n",
      "Train step success!!\n",
      "Iterating\n",
      "Train step success!!\n"
     ]
    },
    {
     "name": "stderr",
     "output_type": "stream",
     "text": [
      "2020-02-28 20:15:54,723 - step 168/1576, loss: 5871.901, psnr: 5871.901\n",
      "2020-02-28 20:15:54,826 - step 169/1576, loss: 5877.975, psnr: 5877.975\n"
     ]
    },
    {
     "name": "stdout",
     "output_type": "stream",
     "text": [
      "Iterating\n",
      "Train step success!!\n",
      "Iterating\n",
      "Train step success!!\n"
     ]
    },
    {
     "name": "stderr",
     "output_type": "stream",
     "text": [
      "2020-02-28 20:15:54,928 - step 170/1576, loss: 5880.352, psnr: 5880.352\n",
      "2020-02-28 20:15:55,029 - step 171/1576, loss: 5883.228, psnr: 5883.228\n"
     ]
    },
    {
     "name": "stdout",
     "output_type": "stream",
     "text": [
      "Iterating\n",
      "Train step success!!\n",
      "Iterating\n",
      "Train step success!!\n"
     ]
    },
    {
     "name": "stderr",
     "output_type": "stream",
     "text": [
      "2020-02-28 20:15:55,132 - step 172/1576, loss: 5873.244, psnr: 5873.244\n",
      "2020-02-28 20:15:55,236 - step 173/1576, loss: 5871.990, psnr: 5871.990\n"
     ]
    },
    {
     "name": "stdout",
     "output_type": "stream",
     "text": [
      "Iterating\n",
      "Train step success!!\n",
      "Iterating\n",
      "Train step success!!\n"
     ]
    },
    {
     "name": "stderr",
     "output_type": "stream",
     "text": [
      "2020-02-28 20:15:55,340 - step 174/1576, loss: 5871.929, psnr: 5871.929\n",
      "2020-02-28 20:15:55,443 - step 175/1576, loss: 5862.659, psnr: 5862.659\n",
      "2020-02-28 20:15:55,544 - step 176/1576, loss: 5868.684, psnr: 5868.684\n"
     ]
    },
    {
     "name": "stdout",
     "output_type": "stream",
     "text": [
      "Iterating\n",
      "Train step success!!\n",
      "Iterating\n",
      "Train step success!!\n"
     ]
    },
    {
     "name": "stderr",
     "output_type": "stream",
     "text": [
      "2020-02-28 20:15:55,645 - step 177/1576, loss: 5877.901, psnr: 5877.901\n"
     ]
    },
    {
     "name": "stdout",
     "output_type": "stream",
     "text": [
      "Iterating\n",
      "Train step success!!\n",
      "Iterating\n",
      "Train step success!!\n"
     ]
    },
    {
     "name": "stderr",
     "output_type": "stream",
     "text": [
      "2020-02-28 20:15:55,747 - step 178/1576, loss: 5883.981, psnr: 5883.981\n",
      "2020-02-28 20:15:55,849 - step 179/1576, loss: 5889.468, psnr: 5889.468\n"
     ]
    },
    {
     "name": "stdout",
     "output_type": "stream",
     "text": [
      "Iterating\n",
      "Train step success!!\n",
      "Iterating\n",
      "Train step success!!\n"
     ]
    },
    {
     "name": "stderr",
     "output_type": "stream",
     "text": [
      "2020-02-28 20:15:55,950 - step 180/1576, loss: 5879.854, psnr: 5879.854\n",
      "2020-02-28 20:15:56,052 - step 181/1576, loss: 5885.934, psnr: 5885.934\n"
     ]
    },
    {
     "name": "stdout",
     "output_type": "stream",
     "text": [
      "Iterating\n",
      "Train step success!!\n",
      "Iterating\n",
      "Train step success!!\n"
     ]
    },
    {
     "name": "stderr",
     "output_type": "stream",
     "text": [
      "2020-02-28 20:15:56,154 - step 182/1576, loss: 5884.821, psnr: 5884.821\n",
      "2020-02-28 20:15:56,255 - step 183/1576, loss: 5877.493, psnr: 5877.493\n"
     ]
    },
    {
     "name": "stdout",
     "output_type": "stream",
     "text": [
      "Iterating\n",
      "Train step success!!\n",
      "Iterating\n",
      "Train step success!!\n"
     ]
    },
    {
     "name": "stderr",
     "output_type": "stream",
     "text": [
      "2020-02-28 20:15:56,358 - step 184/1576, loss: 5881.314, psnr: 5881.314\n",
      "2020-02-28 20:15:56,460 - step 185/1576, loss: 5874.452, psnr: 5874.452\n"
     ]
    },
    {
     "name": "stdout",
     "output_type": "stream",
     "text": [
      "Iterating\n",
      "Train step success!!\n",
      "Iterating\n",
      "Train step success!!\n"
     ]
    },
    {
     "name": "stderr",
     "output_type": "stream",
     "text": [
      "2020-02-28 20:15:56,561 - step 186/1576, loss: 5882.552, psnr: 5882.552\n",
      "2020-02-28 20:15:56,663 - step 187/1576, loss: 5876.240, psnr: 5876.240\n"
     ]
    },
    {
     "name": "stdout",
     "output_type": "stream",
     "text": [
      "Iterating\n",
      "Train step success!!\n",
      "Iterating\n",
      "Train step success!!\n"
     ]
    },
    {
     "name": "stderr",
     "output_type": "stream",
     "text": [
      "2020-02-28 20:15:56,764 - step 188/1576, loss: 5878.287, psnr: 5878.287\n",
      "2020-02-28 20:15:56,865 - step 189/1576, loss: 5876.892, psnr: 5876.892\n"
     ]
    },
    {
     "name": "stdout",
     "output_type": "stream",
     "text": [
      "Iterating\n",
      "Train step success!!\n",
      "Iterating\n",
      "Train step success!!\n"
     ]
    },
    {
     "name": "stderr",
     "output_type": "stream",
     "text": [
      "2020-02-28 20:15:56,969 - step 190/1576, loss: 5880.883, psnr: 5880.883\n",
      "2020-02-28 20:15:57,070 - step 191/1576, loss: 5885.707, psnr: 5885.707\n"
     ]
    },
    {
     "name": "stdout",
     "output_type": "stream",
     "text": [
      "Iterating\n",
      "Train step success!!\n",
      "Iterating\n",
      "Train step success!!\n"
     ]
    },
    {
     "name": "stderr",
     "output_type": "stream",
     "text": [
      "2020-02-28 20:15:57,171 - step 192/1576, loss: 5888.387, psnr: 5888.387\n",
      "2020-02-28 20:15:57,273 - step 193/1576, loss: 5892.023, psnr: 5892.023\n"
     ]
    },
    {
     "name": "stdout",
     "output_type": "stream",
     "text": [
      "Iterating\n",
      "Train step success!!\n",
      "Iterating\n",
      "Train step success!!\n"
     ]
    },
    {
     "name": "stderr",
     "output_type": "stream",
     "text": [
      "2020-02-28 20:15:57,376 - step 194/1576, loss: 5894.899, psnr: 5894.899\n",
      "2020-02-28 20:15:57,477 - step 195/1576, loss: 5902.117, psnr: 5902.117\n"
     ]
    },
    {
     "name": "stdout",
     "output_type": "stream",
     "text": [
      "Iterating\n",
      "Train step success!!\n",
      "Iterating\n",
      "Train step success!!\n"
     ]
    },
    {
     "name": "stderr",
     "output_type": "stream",
     "text": [
      "2020-02-28 20:15:57,580 - step 196/1576, loss: 5903.409, psnr: 5903.409\n",
      "2020-02-28 20:15:57,683 - step 197/1576, loss: 5903.773, psnr: 5903.773\n"
     ]
    },
    {
     "name": "stdout",
     "output_type": "stream",
     "text": [
      "Iterating\n",
      "Train step success!!\n",
      "Iterating\n",
      "Train step success!!\n"
     ]
    },
    {
     "name": "stderr",
     "output_type": "stream",
     "text": [
      "2020-02-28 20:15:57,785 - step 198/1576, loss: 5911.560, psnr: 5911.560\n",
      "2020-02-28 20:15:57,887 - step 199/1576, loss: 5920.044, psnr: 5920.044\n"
     ]
    },
    {
     "name": "stdout",
     "output_type": "stream",
     "text": [
      "Iterating\n",
      "Train step success!!\n",
      "Iterating\n",
      "Train step success!!\n"
     ]
    },
    {
     "name": "stderr",
     "output_type": "stream",
     "text": [
      "2020-02-28 20:15:57,988 - step 200/1576, loss: 5927.757, psnr: 5927.757\n",
      "2020-02-28 20:16:00,232 - Validation results... val_loss: 4339.419, val_psnr: 4339.419\n",
      "2020-02-28 20:16:00,384 - step 201/1576, loss: 5923.112, psnr: 5923.112\n",
      "2020-02-28 20:16:00,485 - step 202/1576, loss: 5925.685, psnr: 5925.685\n"
     ]
    },
    {
     "name": "stdout",
     "output_type": "stream",
     "text": [
      "Iterating\n",
      "Train step success!!\n",
      "Iterating\n",
      "Train step success!!\n"
     ]
    },
    {
     "name": "stderr",
     "output_type": "stream",
     "text": [
      "2020-02-28 20:16:00,589 - step 203/1576, loss: 5918.477, psnr: 5918.477\n"
     ]
    },
    {
     "name": "stdout",
     "output_type": "stream",
     "text": [
      "Iterating\n",
      "Train step success!!\n",
      "Iterating\n",
      "Train step success!!\n"
     ]
    },
    {
     "name": "stderr",
     "output_type": "stream",
     "text": [
      "2020-02-28 20:16:00,691 - step 204/1576, loss: 5922.618, psnr: 5922.618\n",
      "2020-02-28 20:16:00,792 - step 205/1576, loss: 5914.035, psnr: 5914.035\n"
     ]
    },
    {
     "name": "stdout",
     "output_type": "stream",
     "text": [
      "Iterating\n",
      "Train step success!!\n",
      "Iterating\n",
      "Train step success!!\n"
     ]
    },
    {
     "name": "stderr",
     "output_type": "stream",
     "text": [
      "2020-02-28 20:16:00,894 - step 206/1576, loss: 5909.672, psnr: 5909.672\n",
      "2020-02-28 20:16:00,995 - step 207/1576, loss: 5904.075, psnr: 5904.075\n",
      "2020-02-28 20:16:01,096 - step 208/1576, loss: 5897.393, psnr: 5897.393\n"
     ]
    },
    {
     "name": "stdout",
     "output_type": "stream",
     "text": [
      "Iterating\n",
      "Train step success!!\n",
      "Iterating\n",
      "Train step success!!\n"
     ]
    },
    {
     "name": "stderr",
     "output_type": "stream",
     "text": [
      "2020-02-28 20:16:01,199 - step 209/1576, loss: 5897.845, psnr: 5897.845\n"
     ]
    },
    {
     "name": "stdout",
     "output_type": "stream",
     "text": [
      "Iterating\n",
      "Train step success!!\n",
      "Iterating\n",
      "Train step success!!\n"
     ]
    },
    {
     "name": "stderr",
     "output_type": "stream",
     "text": [
      "2020-02-28 20:16:01,302 - step 210/1576, loss: 5905.152, psnr: 5905.152\n",
      "2020-02-28 20:16:01,407 - step 211/1576, loss: 5904.181, psnr: 5904.181\n"
     ]
    },
    {
     "name": "stdout",
     "output_type": "stream",
     "text": [
      "Iterating\n",
      "Train step success!!\n",
      "Iterating\n",
      "Train step success!!\n"
     ]
    },
    {
     "name": "stderr",
     "output_type": "stream",
     "text": [
      "2020-02-28 20:16:01,510 - step 212/1576, loss: 5897.265, psnr: 5897.265\n",
      "2020-02-28 20:16:01,613 - step 213/1576, loss: 5902.910, psnr: 5902.910\n"
     ]
    },
    {
     "name": "stdout",
     "output_type": "stream",
     "text": [
      "Iterating\n",
      "Train step success!!\n",
      "Iterating\n",
      "Train step success!!\n"
     ]
    },
    {
     "name": "stderr",
     "output_type": "stream",
     "text": [
      "2020-02-28 20:16:01,716 - step 214/1576, loss: 5907.544, psnr: 5907.544\n",
      "2020-02-28 20:16:01,823 - step 215/1576, loss: 5907.397, psnr: 5907.397\n"
     ]
    },
    {
     "name": "stdout",
     "output_type": "stream",
     "text": [
      "Iterating\n",
      "Train step success!!\n",
      "Iterating\n",
      "Train step success!!\n"
     ]
    },
    {
     "name": "stderr",
     "output_type": "stream",
     "text": [
      "2020-02-28 20:16:01,927 - step 216/1576, loss: 5909.710, psnr: 5909.710\n",
      "2020-02-28 20:16:02,028 - step 217/1576, loss: 5905.240, psnr: 5905.240\n"
     ]
    },
    {
     "name": "stdout",
     "output_type": "stream",
     "text": [
      "Iterating\n",
      "Train step success!!\n",
      "Iterating\n",
      "Train step success!!\n"
     ]
    },
    {
     "name": "stderr",
     "output_type": "stream",
     "text": [
      "2020-02-28 20:16:02,129 - step 218/1576, loss: 5914.698, psnr: 5914.698\n",
      "2020-02-28 20:16:02,231 - step 219/1576, loss: 5906.838, psnr: 5906.838\n"
     ]
    },
    {
     "name": "stdout",
     "output_type": "stream",
     "text": [
      "Iterating\n",
      "Train step success!!\n",
      "Iterating\n",
      "Train step success!!\n"
     ]
    },
    {
     "name": "stderr",
     "output_type": "stream",
     "text": [
      "2020-02-28 20:16:02,333 - step 220/1576, loss: 5910.274, psnr: 5910.274\n",
      "2020-02-28 20:16:02,435 - step 221/1576, loss: 5903.560, psnr: 5903.560\n"
     ]
    },
    {
     "name": "stdout",
     "output_type": "stream",
     "text": [
      "Iterating\n",
      "Train step success!!\n",
      "Iterating\n",
      "Train step success!!\n"
     ]
    },
    {
     "name": "stderr",
     "output_type": "stream",
     "text": [
      "2020-02-28 20:16:02,537 - step 222/1576, loss: 5911.496, psnr: 5911.496\n",
      "2020-02-28 20:16:02,639 - step 223/1576, loss: 5909.768, psnr: 5909.768\n"
     ]
    },
    {
     "name": "stdout",
     "output_type": "stream",
     "text": [
      "Iterating\n",
      "Train step success!!\n",
      "Iterating\n",
      "Train step success!!\n"
     ]
    },
    {
     "name": "stderr",
     "output_type": "stream",
     "text": [
      "2020-02-28 20:16:02,742 - step 224/1576, loss: 5903.540, psnr: 5903.540\n",
      "2020-02-28 20:16:02,844 - step 225/1576, loss: 5906.686, psnr: 5906.686\n"
     ]
    },
    {
     "name": "stdout",
     "output_type": "stream",
     "text": [
      "Iterating\n",
      "Train step success!!\n",
      "Iterating\n",
      "Train step success!!\n"
     ]
    },
    {
     "name": "stderr",
     "output_type": "stream",
     "text": [
      "2020-02-28 20:16:02,946 - step 226/1576, loss: 5907.820, psnr: 5907.820\n",
      "2020-02-28 20:16:03,048 - step 227/1576, loss: 5909.263, psnr: 5909.263\n"
     ]
    },
    {
     "name": "stdout",
     "output_type": "stream",
     "text": [
      "Iterating\n",
      "Train step success!!\n",
      "Iterating\n",
      "Train step success!!\n"
     ]
    },
    {
     "name": "stderr",
     "output_type": "stream",
     "text": [
      "2020-02-28 20:16:03,152 - step 228/1576, loss: 5904.282, psnr: 5904.282\n",
      "2020-02-28 20:16:03,257 - step 229/1576, loss: 5899.880, psnr: 5899.880\n"
     ]
    },
    {
     "name": "stdout",
     "output_type": "stream",
     "text": [
      "Iterating\n",
      "Train step success!!\n",
      "Iterating\n",
      "Train step success!!\n"
     ]
    },
    {
     "name": "stderr",
     "output_type": "stream",
     "text": [
      "2020-02-28 20:16:03,359 - step 230/1576, loss: 5893.698, psnr: 5893.698\n",
      "2020-02-28 20:16:03,459 - step 231/1576, loss: 5894.986, psnr: 5894.986\n"
     ]
    },
    {
     "name": "stdout",
     "output_type": "stream",
     "text": [
      "Iterating\n",
      "Train step success!!\n",
      "Iterating\n",
      "Train step success!!\n"
     ]
    },
    {
     "name": "stderr",
     "output_type": "stream",
     "text": [
      "2020-02-28 20:16:03,562 - step 232/1576, loss: 5896.136, psnr: 5896.136\n",
      "2020-02-28 20:16:03,665 - step 233/1576, loss: 5902.371, psnr: 5902.371\n"
     ]
    },
    {
     "name": "stdout",
     "output_type": "stream",
     "text": [
      "Iterating\n",
      "Train step success!!\n",
      "Iterating\n",
      "Train step success!!\n"
     ]
    },
    {
     "name": "stderr",
     "output_type": "stream",
     "text": [
      "2020-02-28 20:16:03,768 - step 234/1576, loss: 5907.230, psnr: 5907.230\n",
      "2020-02-28 20:16:03,870 - step 235/1576, loss: 5906.365, psnr: 5906.365\n"
     ]
    },
    {
     "name": "stdout",
     "output_type": "stream",
     "text": [
      "Iterating\n",
      "Train step success!!\n",
      "Iterating\n",
      "Train step success!!\n"
     ]
    },
    {
     "name": "stderr",
     "output_type": "stream",
     "text": [
      "2020-02-28 20:16:03,973 - step 236/1576, loss: 5908.938, psnr: 5908.938\n",
      "2020-02-28 20:16:04,087 - step 237/1576, loss: 5913.795, psnr: 5913.795\n"
     ]
    },
    {
     "name": "stdout",
     "output_type": "stream",
     "text": [
      "Iterating\n",
      "Train step success!!\n",
      "Iterating\n",
      "Train step success!!\n"
     ]
    },
    {
     "name": "stderr",
     "output_type": "stream",
     "text": [
      "2020-02-28 20:16:04,197 - step 238/1576, loss: 5909.371, psnr: 5909.371\n",
      "2020-02-28 20:16:04,306 - step 239/1576, loss: 5916.277, psnr: 5916.277\n"
     ]
    },
    {
     "name": "stdout",
     "output_type": "stream",
     "text": [
      "Iterating\n",
      "Train step success!!\n",
      "Iterating\n",
      "Train step success!!\n"
     ]
    },
    {
     "name": "stderr",
     "output_type": "stream",
     "text": [
      "2020-02-28 20:16:04,411 - step 240/1576, loss: 5909.964, psnr: 5909.964\n",
      "2020-02-28 20:16:04,524 - step 241/1576, loss: 5908.894, psnr: 5908.894\n"
     ]
    },
    {
     "name": "stdout",
     "output_type": "stream",
     "text": [
      "Iterating\n",
      "Train step success!!\n",
      "Iterating\n"
     ]
    },
    {
     "name": "stderr",
     "output_type": "stream",
     "text": [
      "2020-02-28 20:16:04,641 - step 242/1576, loss: 5913.676, psnr: 5913.676\n",
      "2020-02-28 20:16:04,747 - step 243/1576, loss: 5916.637, psnr: 5916.637\n"
     ]
    },
    {
     "name": "stdout",
     "output_type": "stream",
     "text": [
      "Train step success!!\n",
      "Iterating\n",
      "Train step success!!\n",
      "Iterating\n"
     ]
    },
    {
     "name": "stderr",
     "output_type": "stream",
     "text": [
      "2020-02-28 20:16:04,852 - step 244/1576, loss: 5910.581, psnr: 5910.581\n",
      "2020-02-28 20:16:04,954 - step 245/1576, loss: 5913.212, psnr: 5913.212\n"
     ]
    },
    {
     "name": "stdout",
     "output_type": "stream",
     "text": [
      "Train step success!!\n",
      "Iterating\n",
      "Train step success!!\n",
      "Iterating\n"
     ]
    },
    {
     "name": "stderr",
     "output_type": "stream",
     "text": [
      "2020-02-28 20:16:05,057 - step 246/1576, loss: 5912.964, psnr: 5912.964\n",
      "2020-02-28 20:16:05,159 - step 247/1576, loss: 5921.242, psnr: 5921.242\n"
     ]
    },
    {
     "name": "stdout",
     "output_type": "stream",
     "text": [
      "Train step success!!\n",
      "Iterating\n",
      "Train step success!!\n",
      "Iterating\n"
     ]
    },
    {
     "name": "stderr",
     "output_type": "stream",
     "text": [
      "2020-02-28 20:16:05,260 - step 248/1576, loss: 5922.198, psnr: 5922.198\n",
      "2020-02-28 20:16:05,362 - step 249/1576, loss: 5925.688, psnr: 5925.688\n"
     ]
    },
    {
     "name": "stdout",
     "output_type": "stream",
     "text": [
      "Train step success!!\n",
      "Iterating\n",
      "Train step success!!\n",
      "Iterating\n"
     ]
    },
    {
     "name": "stderr",
     "output_type": "stream",
     "text": [
      "2020-02-28 20:16:05,464 - step 250/1576, loss: 5928.770, psnr: 5928.770\n",
      "2020-02-28 20:16:05,566 - step 251/1576, loss: 5931.195, psnr: 5931.195\n"
     ]
    },
    {
     "name": "stdout",
     "output_type": "stream",
     "text": [
      "Train step success!!\n",
      "Iterating\n",
      "Train step success!!\n",
      "Iterating\n"
     ]
    },
    {
     "name": "stderr",
     "output_type": "stream",
     "text": [
      "2020-02-28 20:16:05,667 - step 252/1576, loss: 5934.146, psnr: 5934.146\n",
      "2020-02-28 20:16:05,769 - step 253/1576, loss: 5937.775, psnr: 5937.775\n"
     ]
    },
    {
     "name": "stdout",
     "output_type": "stream",
     "text": [
      "Train step success!!\n",
      "Iterating\n",
      "Train step success!!\n",
      "Iterating\n"
     ]
    },
    {
     "name": "stderr",
     "output_type": "stream",
     "text": [
      "2020-02-28 20:16:05,870 - step 254/1576, loss: 5938.301, psnr: 5938.301\n",
      "2020-02-28 20:16:05,972 - step 255/1576, loss: 5945.043, psnr: 5945.043\n"
     ]
    },
    {
     "name": "stdout",
     "output_type": "stream",
     "text": [
      "Train step success!!\n",
      "Iterating\n",
      "Train step success!!\n",
      "Iterating\n"
     ]
    },
    {
     "name": "stderr",
     "output_type": "stream",
     "text": [
      "2020-02-28 20:16:06,075 - step 256/1576, loss: 5941.031, psnr: 5941.031\n",
      "2020-02-28 20:16:06,177 - step 257/1576, loss: 5940.724, psnr: 5940.724\n"
     ]
    },
    {
     "name": "stdout",
     "output_type": "stream",
     "text": [
      "Train step success!!\n",
      "Iterating\n",
      "Train step success!!\n",
      "Iterating\n"
     ]
    },
    {
     "name": "stderr",
     "output_type": "stream",
     "text": [
      "2020-02-28 20:16:06,278 - step 258/1576, loss: 5943.625, psnr: 5943.625\n",
      "2020-02-28 20:16:06,379 - step 259/1576, loss: 5944.827, psnr: 5944.827\n"
     ]
    },
    {
     "name": "stdout",
     "output_type": "stream",
     "text": [
      "Train step success!!\n",
      "Iterating\n",
      "Train step success!!\n",
      "Iterating\n"
     ]
    },
    {
     "name": "stderr",
     "output_type": "stream",
     "text": [
      "2020-02-28 20:16:06,480 - step 260/1576, loss: 5947.966, psnr: 5947.966\n",
      "2020-02-28 20:16:06,581 - step 261/1576, loss: 5950.658, psnr: 5950.658\n"
     ]
    },
    {
     "name": "stdout",
     "output_type": "stream",
     "text": [
      "Train step success!!\n",
      "Iterating\n",
      "Train step success!!\n",
      "Iterating\n"
     ]
    },
    {
     "name": "stderr",
     "output_type": "stream",
     "text": [
      "2020-02-28 20:16:06,682 - step 262/1576, loss: 5949.326, psnr: 5949.326\n",
      "2020-02-28 20:16:06,783 - step 263/1576, loss: 5952.599, psnr: 5952.599\n"
     ]
    },
    {
     "name": "stdout",
     "output_type": "stream",
     "text": [
      "Train step success!!\n",
      "Iterating\n",
      "Train step success!!\n",
      "Iterating\n"
     ]
    },
    {
     "name": "stderr",
     "output_type": "stream",
     "text": [
      "2020-02-28 20:16:06,884 - step 264/1576, loss: 5957.600, psnr: 5957.600\n",
      "2020-02-28 20:16:06,986 - step 265/1576, loss: 5962.681, psnr: 5962.681\n"
     ]
    },
    {
     "name": "stdout",
     "output_type": "stream",
     "text": [
      "Train step success!!\n",
      "Iterating\n",
      "Train step success!!\n",
      "Iterating\n"
     ]
    },
    {
     "name": "stderr",
     "output_type": "stream",
     "text": [
      "2020-02-28 20:16:07,088 - step 266/1576, loss: 5962.257, psnr: 5962.257\n",
      "2020-02-28 20:16:07,195 - step 267/1576, loss: 5965.239, psnr: 5965.239\n"
     ]
    },
    {
     "name": "stdout",
     "output_type": "stream",
     "text": [
      "Train step success!!\n",
      "Iterating\n",
      "Train step success!!\n",
      "Iterating\n"
     ]
    },
    {
     "name": "stderr",
     "output_type": "stream",
     "text": [
      "2020-02-28 20:16:07,299 - step 268/1576, loss: 5964.809, psnr: 5964.809\n",
      "2020-02-28 20:16:07,400 - step 269/1576, loss: 5964.890, psnr: 5964.890\n"
     ]
    },
    {
     "name": "stdout",
     "output_type": "stream",
     "text": [
      "Train step success!!\n",
      "Iterating\n",
      "Train step success!!\n",
      "Iterating\n"
     ]
    },
    {
     "name": "stderr",
     "output_type": "stream",
     "text": [
      "2020-02-28 20:16:07,502 - step 270/1576, loss: 5964.605, psnr: 5964.605\n",
      "2020-02-28 20:16:07,605 - step 271/1576, loss: 5963.948, psnr: 5963.948\n"
     ]
    },
    {
     "name": "stdout",
     "output_type": "stream",
     "text": [
      "Train step success!!\n",
      "Iterating\n",
      "Train step success!!\n",
      "Iterating\n"
     ]
    },
    {
     "name": "stderr",
     "output_type": "stream",
     "text": [
      "2020-02-28 20:16:07,706 - step 272/1576, loss: 5971.708, psnr: 5971.708\n",
      "2020-02-28 20:16:07,808 - step 273/1576, loss: 5975.408, psnr: 5975.408\n"
     ]
    },
    {
     "name": "stdout",
     "output_type": "stream",
     "text": [
      "Train step success!!\n",
      "Iterating\n",
      "Train step success!!\n",
      "Iterating\n"
     ]
    },
    {
     "name": "stderr",
     "output_type": "stream",
     "text": [
      "2020-02-28 20:16:07,911 - step 274/1576, loss: 5969.841, psnr: 5969.841\n",
      "2020-02-28 20:16:08,011 - step 275/1576, loss: 5970.560, psnr: 5970.560\n"
     ]
    },
    {
     "name": "stdout",
     "output_type": "stream",
     "text": [
      "Train step success!!\n",
      "Iterating\n",
      "Train step success!!\n",
      "Iterating\n"
     ]
    },
    {
     "name": "stderr",
     "output_type": "stream",
     "text": [
      "2020-02-28 20:16:08,117 - step 276/1576, loss: 5965.370, psnr: 5965.370\n",
      "2020-02-28 20:16:08,218 - step 277/1576, loss: 5962.123, psnr: 5962.123\n"
     ]
    },
    {
     "name": "stdout",
     "output_type": "stream",
     "text": [
      "Train step success!!\n",
      "Iterating\n",
      "Train step success!!\n",
      "Iterating\n"
     ]
    },
    {
     "name": "stderr",
     "output_type": "stream",
     "text": [
      "2020-02-28 20:16:08,320 - step 278/1576, loss: 5963.978, psnr: 5963.978\n",
      "2020-02-28 20:16:08,421 - step 279/1576, loss: 5964.111, psnr: 5964.111\n"
     ]
    },
    {
     "name": "stdout",
     "output_type": "stream",
     "text": [
      "Train step success!!\n",
      "Iterating\n",
      "Train step success!!\n",
      "Iterating\n"
     ]
    },
    {
     "name": "stderr",
     "output_type": "stream",
     "text": [
      "2020-02-28 20:16:08,523 - step 280/1576, loss: 5969.930, psnr: 5969.930\n",
      "2020-02-28 20:16:08,624 - step 281/1576, loss: 5969.921, psnr: 5969.921\n"
     ]
    },
    {
     "name": "stdout",
     "output_type": "stream",
     "text": [
      "Train step success!!\n",
      "Iterating\n",
      "Train step success!!\n",
      "Iterating\n"
     ]
    },
    {
     "name": "stderr",
     "output_type": "stream",
     "text": [
      "2020-02-28 20:16:08,725 - step 282/1576, loss: 5971.820, psnr: 5971.820\n",
      "2020-02-28 20:16:08,826 - step 283/1576, loss: 5974.783, psnr: 5974.783\n"
     ]
    },
    {
     "name": "stdout",
     "output_type": "stream",
     "text": [
      "Train step success!!\n",
      "Iterating\n",
      "Train step success!!\n",
      "Iterating\n"
     ]
    },
    {
     "name": "stderr",
     "output_type": "stream",
     "text": [
      "2020-02-28 20:16:08,930 - step 284/1576, loss: 5974.016, psnr: 5974.016\n",
      "2020-02-28 20:16:09,032 - step 285/1576, loss: 5975.853, psnr: 5975.853\n"
     ]
    },
    {
     "name": "stdout",
     "output_type": "stream",
     "text": [
      "Train step success!!\n",
      "Iterating\n",
      "Train step success!!\n",
      "Iterating\n"
     ]
    },
    {
     "name": "stderr",
     "output_type": "stream",
     "text": [
      "2020-02-28 20:16:09,134 - step 286/1576, loss: 5978.562, psnr: 5978.562\n",
      "2020-02-28 20:16:09,235 - step 287/1576, loss: 5979.174, psnr: 5979.174\n"
     ]
    },
    {
     "name": "stdout",
     "output_type": "stream",
     "text": [
      "Train step success!!\n",
      "Iterating\n",
      "Train step success!!\n",
      "Iterating\n"
     ]
    },
    {
     "name": "stderr",
     "output_type": "stream",
     "text": [
      "2020-02-28 20:16:09,337 - step 288/1576, loss: 5982.229, psnr: 5982.229\n",
      "2020-02-28 20:16:09,439 - step 289/1576, loss: 5985.018, psnr: 5985.018\n"
     ]
    },
    {
     "name": "stdout",
     "output_type": "stream",
     "text": [
      "Train step success!!\n",
      "Iterating\n",
      "Train step success!!\n",
      "Iterating\n"
     ]
    },
    {
     "name": "stderr",
     "output_type": "stream",
     "text": [
      "2020-02-28 20:16:09,540 - step 290/1576, loss: 5987.775, psnr: 5987.775\n",
      "2020-02-28 20:16:09,641 - step 291/1576, loss: 5991.339, psnr: 5991.339\n"
     ]
    },
    {
     "name": "stdout",
     "output_type": "stream",
     "text": [
      "Train step success!!\n",
      "Iterating\n",
      "Train step success!!\n",
      "Iterating\n"
     ]
    },
    {
     "name": "stderr",
     "output_type": "stream",
     "text": [
      "2020-02-28 20:16:09,742 - step 292/1576, loss: 5993.716, psnr: 5993.716\n",
      "2020-02-28 20:16:09,843 - step 293/1576, loss: 5999.221, psnr: 5999.221\n"
     ]
    },
    {
     "name": "stdout",
     "output_type": "stream",
     "text": [
      "Train step success!!\n",
      "Iterating\n",
      "Train step success!!\n",
      "Iterating\n"
     ]
    },
    {
     "name": "stderr",
     "output_type": "stream",
     "text": [
      "2020-02-28 20:16:09,945 - step 294/1576, loss: 5995.562, psnr: 5995.562\n",
      "2020-02-28 20:16:10,046 - step 295/1576, loss: 5995.628, psnr: 5995.628\n"
     ]
    },
    {
     "name": "stdout",
     "output_type": "stream",
     "text": [
      "Train step success!!\n",
      "Iterating\n",
      "Train step success!!\n",
      "Iterating\n"
     ]
    },
    {
     "name": "stderr",
     "output_type": "stream",
     "text": [
      "2020-02-28 20:16:10,147 - step 296/1576, loss: 5997.039, psnr: 5997.039\n",
      "2020-02-28 20:16:10,249 - step 297/1576, loss: 5998.918, psnr: 5998.918\n"
     ]
    },
    {
     "name": "stdout",
     "output_type": "stream",
     "text": [
      "Train step success!!\n",
      "Iterating\n",
      "Train step success!!\n",
      "Iterating\n"
     ]
    },
    {
     "name": "stderr",
     "output_type": "stream",
     "text": [
      "2020-02-28 20:16:10,350 - step 298/1576, loss: 5998.851, psnr: 5998.851\n",
      "2020-02-28 20:16:10,451 - step 299/1576, loss: 6001.156, psnr: 6001.156\n"
     ]
    },
    {
     "name": "stdout",
     "output_type": "stream",
     "text": [
      "Train step success!!\n",
      "Iterating\n",
      "Train step success!!\n",
      "Iterating\n"
     ]
    },
    {
     "name": "stderr",
     "output_type": "stream",
     "text": [
      "2020-02-28 20:16:10,553 - step 300/1576, loss: 6002.439, psnr: 6002.439\n"
     ]
    },
    {
     "name": "stdout",
     "output_type": "stream",
     "text": [
      "Train step success!!\n"
     ]
    },
    {
     "name": "stderr",
     "output_type": "stream",
     "text": [
      "2020-02-28 20:16:12,790 - Validation results... val_loss: 4339.418, val_psnr: 4339.418\n",
      "2020-02-28 20:16:12,893 - step 301/1576, loss: 6004.378, psnr: 6004.378\n"
     ]
    },
    {
     "name": "stdout",
     "output_type": "stream",
     "text": [
      "Iterating\n",
      "Train step success!!\n",
      "Iterating\n",
      "Train step success!!\n"
     ]
    },
    {
     "name": "stderr",
     "output_type": "stream",
     "text": [
      "2020-02-28 20:16:12,993 - step 302/1576, loss: 6005.566, psnr: 6005.566\n",
      "2020-02-28 20:16:13,094 - step 303/1576, loss: 6001.379, psnr: 6001.379\n"
     ]
    },
    {
     "name": "stdout",
     "output_type": "stream",
     "text": [
      "Iterating\n",
      "Train step success!!\n",
      "Iterating\n",
      "Train step success!!\n"
     ]
    },
    {
     "name": "stderr",
     "output_type": "stream",
     "text": [
      "2020-02-28 20:16:13,197 - step 304/1576, loss: 6005.883, psnr: 6005.883\n",
      "2020-02-28 20:16:13,301 - step 305/1576, loss: 6005.457, psnr: 6005.457\n"
     ]
    },
    {
     "name": "stdout",
     "output_type": "stream",
     "text": [
      "Iterating\n",
      "Train step success!!\n",
      "Iterating\n",
      "Train step success!!\n"
     ]
    },
    {
     "name": "stderr",
     "output_type": "stream",
     "text": [
      "2020-02-28 20:16:13,404 - step 306/1576, loss: 6007.854, psnr: 6007.854\n",
      "2020-02-28 20:16:13,506 - step 307/1576, loss: 6011.019, psnr: 6011.019\n"
     ]
    },
    {
     "name": "stdout",
     "output_type": "stream",
     "text": [
      "Iterating\n",
      "Train step success!!\n",
      "Iterating\n",
      "Train step success!!\n"
     ]
    },
    {
     "name": "stderr",
     "output_type": "stream",
     "text": [
      "2020-02-28 20:16:13,609 - step 308/1576, loss: 6010.546, psnr: 6010.546\n",
      "2020-02-28 20:16:13,710 - step 309/1576, loss: 6008.491, psnr: 6008.491\n"
     ]
    },
    {
     "name": "stdout",
     "output_type": "stream",
     "text": [
      "Iterating\n",
      "Train step success!!\n",
      "Iterating\n",
      "Train step success!!\n"
     ]
    },
    {
     "name": "stderr",
     "output_type": "stream",
     "text": [
      "2020-02-28 20:16:13,813 - step 310/1576, loss: 6008.336, psnr: 6008.336\n",
      "2020-02-28 20:16:13,914 - step 311/1576, loss: 6011.246, psnr: 6011.246\n"
     ]
    },
    {
     "name": "stdout",
     "output_type": "stream",
     "text": [
      "Iterating\n",
      "Train step success!!\n",
      "Iterating\n",
      "Train step success!!\n"
     ]
    },
    {
     "name": "stderr",
     "output_type": "stream",
     "text": [
      "2020-02-28 20:16:14,020 - step 312/1576, loss: 6010.818, psnr: 6010.818\n",
      "2020-02-28 20:16:14,129 - step 313/1576, loss: 6007.472, psnr: 6007.472\n"
     ]
    },
    {
     "name": "stdout",
     "output_type": "stream",
     "text": [
      "Iterating\n",
      "Train step success!!\n",
      "Iterating\n",
      "Train step success!!\n"
     ]
    },
    {
     "name": "stderr",
     "output_type": "stream",
     "text": [
      "2020-02-28 20:16:14,236 - step 314/1576, loss: 5997.846, psnr: 5997.846\n",
      "2020-02-28 20:16:14,338 - step 315/1576, loss: 5998.381, psnr: 5998.381\n"
     ]
    },
    {
     "name": "stdout",
     "output_type": "stream",
     "text": [
      "Iterating\n",
      "Train step success!!\n",
      "Iterating\n",
      "Train step success!!\n"
     ]
    },
    {
     "name": "stderr",
     "output_type": "stream",
     "text": [
      "2020-02-28 20:16:14,439 - step 316/1576, loss: 5993.188, psnr: 5993.188\n",
      "2020-02-28 20:16:14,543 - step 317/1576, loss: 5992.097, psnr: 5992.097\n"
     ]
    },
    {
     "name": "stdout",
     "output_type": "stream",
     "text": [
      "Iterating\n",
      "Train step success!!\n",
      "Iterating\n",
      "Train step success!!\n"
     ]
    },
    {
     "name": "stderr",
     "output_type": "stream",
     "text": [
      "2020-02-28 20:16:14,645 - step 318/1576, loss: 5985.093, psnr: 5985.093\n",
      "2020-02-28 20:16:14,747 - step 319/1576, loss: 5980.474, psnr: 5980.474\n"
     ]
    },
    {
     "name": "stdout",
     "output_type": "stream",
     "text": [
      "Iterating\n",
      "Train step success!!\n",
      "Iterating\n",
      "Train step success!!\n"
     ]
    },
    {
     "name": "stderr",
     "output_type": "stream",
     "text": [
      "2020-02-28 20:16:14,848 - step 320/1576, loss: 5985.934, psnr: 5985.934\n",
      "2020-02-28 20:16:14,951 - step 321/1576, loss: 5972.991, psnr: 5972.991\n"
     ]
    },
    {
     "name": "stdout",
     "output_type": "stream",
     "text": [
      "Iterating\n",
      "Train step success!!\n",
      "Iterating\n",
      "Train step success!!\n"
     ]
    },
    {
     "name": "stderr",
     "output_type": "stream",
     "text": [
      "2020-02-28 20:16:15,053 - step 322/1576, loss: 5974.172, psnr: 5974.172\n",
      "2020-02-28 20:16:15,157 - step 323/1576, loss: 5969.756, psnr: 5969.756\n"
     ]
    },
    {
     "name": "stdout",
     "output_type": "stream",
     "text": [
      "Iterating\n",
      "Train step success!!\n",
      "Iterating\n",
      "Train step success!!\n"
     ]
    },
    {
     "name": "stderr",
     "output_type": "stream",
     "text": [
      "2020-02-28 20:16:15,260 - step 324/1576, loss: 5970.144, psnr: 5970.144\n",
      "2020-02-28 20:16:15,364 - step 325/1576, loss: 5972.870, psnr: 5972.870\n"
     ]
    },
    {
     "name": "stdout",
     "output_type": "stream",
     "text": [
      "Iterating\n",
      "Train step success!!\n",
      "Iterating\n",
      "Train step success!!\n"
     ]
    },
    {
     "name": "stderr",
     "output_type": "stream",
     "text": [
      "2020-02-28 20:16:15,472 - step 326/1576, loss: 5974.133, psnr: 5974.133\n",
      "2020-02-28 20:16:15,578 - step 327/1576, loss: 5975.617, psnr: 5975.617\n"
     ]
    },
    {
     "name": "stdout",
     "output_type": "stream",
     "text": [
      "Iterating\n",
      "Train step success!!\n",
      "Iterating\n",
      "Train step success!!\n"
     ]
    },
    {
     "name": "stderr",
     "output_type": "stream",
     "text": [
      "2020-02-28 20:16:15,689 - step 328/1576, loss: 5974.439, psnr: 5974.439\n",
      "2020-02-28 20:16:15,795 - step 329/1576, loss: 5978.954, psnr: 5978.954\n"
     ]
    },
    {
     "name": "stdout",
     "output_type": "stream",
     "text": [
      "Iterating\n",
      "Train step success!!\n",
      "Iterating\n",
      "Train step success!!\n"
     ]
    },
    {
     "name": "stderr",
     "output_type": "stream",
     "text": [
      "2020-02-28 20:16:15,901 - step 330/1576, loss: 5980.864, psnr: 5980.864\n",
      "2020-02-28 20:16:16,008 - step 331/1576, loss: 5981.117, psnr: 5981.117\n"
     ]
    },
    {
     "name": "stdout",
     "output_type": "stream",
     "text": [
      "Iterating\n",
      "Train step success!!\n",
      "Iterating\n",
      "Train step success!!\n"
     ]
    },
    {
     "name": "stderr",
     "output_type": "stream",
     "text": [
      "2020-02-28 20:16:16,114 - step 332/1576, loss: 5981.945, psnr: 5981.945\n",
      "2020-02-28 20:16:16,226 - step 333/1576, loss: 5977.716, psnr: 5977.716\n"
     ]
    },
    {
     "name": "stdout",
     "output_type": "stream",
     "text": [
      "Iterating\n",
      "Train step success!!\n",
      "Iterating\n",
      "Train step success!!\n"
     ]
    },
    {
     "name": "stderr",
     "output_type": "stream",
     "text": [
      "2020-02-28 20:16:16,331 - step 334/1576, loss: 5979.031, psnr: 5979.031\n",
      "2020-02-28 20:16:16,437 - step 335/1576, loss: 5985.416, psnr: 5985.416\n"
     ]
    },
    {
     "name": "stdout",
     "output_type": "stream",
     "text": [
      "Iterating\n",
      "Train step success!!\n",
      "Iterating\n",
      "Train step success!!\n"
     ]
    },
    {
     "name": "stderr",
     "output_type": "stream",
     "text": [
      "2020-02-28 20:16:16,543 - step 336/1576, loss: 5989.715, psnr: 5989.715\n",
      "2020-02-28 20:16:16,670 - step 337/1576, loss: 5994.387, psnr: 5994.387\n"
     ]
    },
    {
     "name": "stdout",
     "output_type": "stream",
     "text": [
      "Iterating\n",
      "Train step success!!\n",
      "Iterating\n"
     ]
    },
    {
     "name": "stderr",
     "output_type": "stream",
     "text": [
      "2020-02-28 20:16:16,779 - step 338/1576, loss: 5993.593, psnr: 5993.593\n",
      "2020-02-28 20:16:16,892 - step 339/1576, loss: 5999.592, psnr: 5999.592\n"
     ]
    },
    {
     "name": "stdout",
     "output_type": "stream",
     "text": [
      "Train step success!!\n",
      "Iterating\n",
      "Train step success!!\n",
      "Iterating\n"
     ]
    },
    {
     "name": "stderr",
     "output_type": "stream",
     "text": [
      "2020-02-28 20:16:17,010 - step 340/1576, loss: 6000.639, psnr: 6000.639\n",
      "2020-02-28 20:16:17,117 - step 341/1576, loss: 5999.184, psnr: 5999.184\n"
     ]
    },
    {
     "name": "stdout",
     "output_type": "stream",
     "text": [
      "Train step success!!\n",
      "Iterating\n",
      "Train step success!!\n",
      "Iterating\n"
     ]
    },
    {
     "name": "stderr",
     "output_type": "stream",
     "text": [
      "2020-02-28 20:16:17,223 - step 342/1576, loss: 5994.389, psnr: 5994.389\n",
      "2020-02-28 20:16:17,330 - step 343/1576, loss: 5998.065, psnr: 5998.065\n"
     ]
    },
    {
     "name": "stdout",
     "output_type": "stream",
     "text": [
      "Train step success!!\n",
      "Iterating\n",
      "Train step success!!\n",
      "Iterating\n"
     ]
    },
    {
     "name": "stderr",
     "output_type": "stream",
     "text": [
      "2020-02-28 20:16:17,438 - step 344/1576, loss: 6002.710, psnr: 6002.710\n",
      "2020-02-28 20:16:17,546 - step 345/1576, loss: 6002.449, psnr: 6002.449\n"
     ]
    },
    {
     "name": "stdout",
     "output_type": "stream",
     "text": [
      "Train step success!!\n",
      "Iterating\n",
      "Train step success!!\n",
      "Iterating\n"
     ]
    },
    {
     "name": "stderr",
     "output_type": "stream",
     "text": [
      "2020-02-28 20:16:17,653 - step 346/1576, loss: 6000.818, psnr: 6000.818\n",
      "2020-02-28 20:16:17,761 - step 347/1576, loss: 6001.065, psnr: 6001.065\n"
     ]
    },
    {
     "name": "stdout",
     "output_type": "stream",
     "text": [
      "Train step success!!\n",
      "Iterating\n",
      "Train step success!!\n",
      "Iterating\n"
     ]
    },
    {
     "name": "stderr",
     "output_type": "stream",
     "text": [
      "2020-02-28 20:16:17,870 - step 348/1576, loss: 6000.695, psnr: 6000.695\n",
      "2020-02-28 20:16:17,975 - step 349/1576, loss: 6001.020, psnr: 6001.020\n"
     ]
    },
    {
     "name": "stdout",
     "output_type": "stream",
     "text": [
      "Train step success!!\n",
      "Iterating\n",
      "Train step success!!\n",
      "Iterating\n"
     ]
    },
    {
     "name": "stderr",
     "output_type": "stream",
     "text": [
      "2020-02-28 20:16:18,085 - step 350/1576, loss: 6001.198, psnr: 6001.198\n",
      "2020-02-28 20:16:18,185 - step 351/1576, loss: 6000.081, psnr: 6000.081\n"
     ]
    },
    {
     "name": "stdout",
     "output_type": "stream",
     "text": [
      "Train step success!!\n",
      "Iterating\n",
      "Train step success!!\n",
      "Iterating\n"
     ]
    },
    {
     "name": "stderr",
     "output_type": "stream",
     "text": [
      "2020-02-28 20:16:18,286 - step 352/1576, loss: 5995.887, psnr: 5995.887\n",
      "2020-02-28 20:16:18,396 - step 353/1576, loss: 5996.831, psnr: 5996.831\n"
     ]
    },
    {
     "name": "stdout",
     "output_type": "stream",
     "text": [
      "Train step success!!\n",
      "Iterating\n",
      "Train step success!!\n",
      "Iterating\n"
     ]
    },
    {
     "name": "stderr",
     "output_type": "stream",
     "text": [
      "2020-02-28 20:16:18,500 - step 354/1576, loss: 5996.600, psnr: 5996.600\n",
      "2020-02-28 20:16:18,602 - step 355/1576, loss: 5998.296, psnr: 5998.296\n"
     ]
    },
    {
     "name": "stdout",
     "output_type": "stream",
     "text": [
      "Train step success!!\n",
      "Iterating\n",
      "Train step success!!\n",
      "Iterating\n"
     ]
    },
    {
     "name": "stderr",
     "output_type": "stream",
     "text": [
      "2020-02-28 20:16:18,704 - step 356/1576, loss: 6000.040, psnr: 6000.040\n",
      "2020-02-28 20:16:18,806 - step 357/1576, loss: 5996.781, psnr: 5996.781\n"
     ]
    },
    {
     "name": "stdout",
     "output_type": "stream",
     "text": [
      "Train step success!!\n",
      "Iterating\n",
      "Train step success!!\n",
      "Iterating\n"
     ]
    },
    {
     "name": "stderr",
     "output_type": "stream",
     "text": [
      "2020-02-28 20:16:18,907 - step 358/1576, loss: 5996.560, psnr: 5996.560\n",
      "2020-02-28 20:16:19,008 - step 359/1576, loss: 5991.256, psnr: 5991.256\n"
     ]
    },
    {
     "name": "stdout",
     "output_type": "stream",
     "text": [
      "Train step success!!\n",
      "Iterating\n",
      "Train step success!!\n",
      "Iterating\n"
     ]
    },
    {
     "name": "stderr",
     "output_type": "stream",
     "text": [
      "2020-02-28 20:16:19,109 - step 360/1576, loss: 5987.886, psnr: 5987.886\n",
      "2020-02-28 20:16:19,210 - step 361/1576, loss: 5983.438, psnr: 5983.438\n"
     ]
    },
    {
     "name": "stdout",
     "output_type": "stream",
     "text": [
      "Train step success!!\n",
      "Iterating\n",
      "Train step success!!\n",
      "Iterating\n"
     ]
    },
    {
     "name": "stderr",
     "output_type": "stream",
     "text": [
      "2020-02-28 20:16:19,312 - step 362/1576, loss: 5982.665, psnr: 5982.665\n",
      "2020-02-28 20:16:19,412 - step 363/1576, loss: 5983.042, psnr: 5983.042\n"
     ]
    },
    {
     "name": "stdout",
     "output_type": "stream",
     "text": [
      "Train step success!!\n",
      "Iterating\n",
      "Train step success!!\n",
      "Iterating\n"
     ]
    },
    {
     "name": "stderr",
     "output_type": "stream",
     "text": [
      "2020-02-28 20:16:19,514 - step 364/1576, loss: 5982.365, psnr: 5982.365\n",
      "2020-02-28 20:16:19,615 - step 365/1576, loss: 5979.479, psnr: 5979.479\n"
     ]
    },
    {
     "name": "stdout",
     "output_type": "stream",
     "text": [
      "Train step success!!\n",
      "Iterating\n",
      "Train step success!!\n",
      "Iterating\n"
     ]
    },
    {
     "name": "stderr",
     "output_type": "stream",
     "text": [
      "2020-02-28 20:16:19,716 - step 366/1576, loss: 5978.896, psnr: 5978.896\n",
      "2020-02-28 20:16:19,819 - step 367/1576, loss: 5970.133, psnr: 5970.133\n"
     ]
    },
    {
     "name": "stdout",
     "output_type": "stream",
     "text": [
      "Train step success!!\n",
      "Iterating\n",
      "Train step success!!\n",
      "Iterating\n"
     ]
    },
    {
     "name": "stderr",
     "output_type": "stream",
     "text": [
      "2020-02-28 20:16:19,920 - step 368/1576, loss: 5965.705, psnr: 5965.705\n",
      "2020-02-28 20:16:20,021 - step 369/1576, loss: 5966.338, psnr: 5966.338\n"
     ]
    },
    {
     "name": "stdout",
     "output_type": "stream",
     "text": [
      "Train step success!!\n",
      "Iterating\n",
      "Train step success!!\n",
      "Iterating\n"
     ]
    },
    {
     "name": "stderr",
     "output_type": "stream",
     "text": [
      "2020-02-28 20:16:20,122 - step 370/1576, loss: 5966.140, psnr: 5966.140\n",
      "2020-02-28 20:16:20,224 - step 371/1576, loss: 5966.351, psnr: 5966.351\n"
     ]
    },
    {
     "name": "stdout",
     "output_type": "stream",
     "text": [
      "Train step success!!\n",
      "Iterating\n",
      "Train step success!!\n",
      "Iterating\n"
     ]
    },
    {
     "name": "stderr",
     "output_type": "stream",
     "text": [
      "2020-02-28 20:16:20,326 - step 372/1576, loss: 5962.435, psnr: 5962.435\n",
      "2020-02-28 20:16:20,428 - step 373/1576, loss: 5963.367, psnr: 5963.367\n"
     ]
    },
    {
     "name": "stdout",
     "output_type": "stream",
     "text": [
      "Train step success!!\n",
      "Iterating\n",
      "Train step success!!\n",
      "Iterating\n"
     ]
    },
    {
     "name": "stderr",
     "output_type": "stream",
     "text": [
      "2020-02-28 20:16:20,530 - step 374/1576, loss: 5965.252, psnr: 5965.252\n",
      "2020-02-28 20:16:20,636 - step 375/1576, loss: 5966.775, psnr: 5966.775\n"
     ]
    },
    {
     "name": "stdout",
     "output_type": "stream",
     "text": [
      "Train step success!!\n",
      "Iterating\n",
      "Train step success!!\n",
      "Iterating\n"
     ]
    },
    {
     "name": "stderr",
     "output_type": "stream",
     "text": [
      "2020-02-28 20:16:20,738 - step 376/1576, loss: 5967.321, psnr: 5967.321\n",
      "2020-02-28 20:16:20,841 - step 377/1576, loss: 5963.923, psnr: 5963.923\n"
     ]
    },
    {
     "name": "stdout",
     "output_type": "stream",
     "text": [
      "Train step success!!\n",
      "Iterating\n",
      "Train step success!!\n",
      "Iterating\n"
     ]
    },
    {
     "name": "stderr",
     "output_type": "stream",
     "text": [
      "2020-02-28 20:16:20,942 - step 378/1576, loss: 5959.905, psnr: 5959.905\n",
      "2020-02-28 20:16:21,045 - step 379/1576, loss: 5959.700, psnr: 5959.700\n"
     ]
    },
    {
     "name": "stdout",
     "output_type": "stream",
     "text": [
      "Train step success!!\n",
      "Iterating\n",
      "Train step success!!\n",
      "Iterating\n"
     ]
    },
    {
     "name": "stderr",
     "output_type": "stream",
     "text": [
      "2020-02-28 20:16:21,146 - step 380/1576, loss: 5960.944, psnr: 5960.944\n",
      "2020-02-28 20:16:21,249 - step 381/1576, loss: 5961.933, psnr: 5961.933\n"
     ]
    },
    {
     "name": "stdout",
     "output_type": "stream",
     "text": [
      "Train step success!!\n",
      "Iterating\n",
      "Train step success!!\n",
      "Iterating\n"
     ]
    },
    {
     "name": "stderr",
     "output_type": "stream",
     "text": [
      "2020-02-28 20:16:21,353 - step 382/1576, loss: 5964.659, psnr: 5964.659\n",
      "2020-02-28 20:16:21,460 - step 383/1576, loss: 5968.361, psnr: 5968.361\n"
     ]
    },
    {
     "name": "stdout",
     "output_type": "stream",
     "text": [
      "Train step success!!\n",
      "Iterating\n",
      "Train step success!!\n",
      "Iterating\n"
     ]
    },
    {
     "name": "stderr",
     "output_type": "stream",
     "text": [
      "2020-02-28 20:16:21,562 - step 384/1576, loss: 5968.719, psnr: 5968.719\n",
      "2020-02-28 20:16:21,670 - step 385/1576, loss: 5969.904, psnr: 5969.904\n"
     ]
    },
    {
     "name": "stdout",
     "output_type": "stream",
     "text": [
      "Train step success!!\n",
      "Iterating\n",
      "Train step success!!\n",
      "Iterating\n"
     ]
    },
    {
     "name": "stderr",
     "output_type": "stream",
     "text": [
      "2020-02-28 20:16:21,775 - step 386/1576, loss: 5966.778, psnr: 5966.778\n",
      "2020-02-28 20:16:21,884 - step 387/1576, loss: 5964.150, psnr: 5964.150\n"
     ]
    },
    {
     "name": "stdout",
     "output_type": "stream",
     "text": [
      "Train step success!!\n",
      "Iterating\n",
      "Train step success!!\n",
      "Iterating\n"
     ]
    },
    {
     "name": "stderr",
     "output_type": "stream",
     "text": [
      "2020-02-28 20:16:21,989 - step 388/1576, loss: 5960.801, psnr: 5960.801\n",
      "2020-02-28 20:16:22,092 - step 389/1576, loss: 5966.588, psnr: 5966.588\n"
     ]
    },
    {
     "name": "stdout",
     "output_type": "stream",
     "text": [
      "Train step success!!\n",
      "Iterating\n",
      "Train step success!!\n",
      "Iterating\n"
     ]
    },
    {
     "name": "stderr",
     "output_type": "stream",
     "text": [
      "2020-02-28 20:16:22,195 - step 390/1576, loss: 5967.596, psnr: 5967.596\n",
      "2020-02-28 20:16:22,301 - step 391/1576, loss: 5971.339, psnr: 5971.339\n"
     ]
    },
    {
     "name": "stdout",
     "output_type": "stream",
     "text": [
      "Train step success!!\n",
      "Iterating\n",
      "Train step success!!\n",
      "Iterating\n"
     ]
    },
    {
     "name": "stderr",
     "output_type": "stream",
     "text": [
      "2020-02-28 20:16:22,407 - step 392/1576, loss: 5973.048, psnr: 5973.048\n",
      "2020-02-28 20:16:22,522 - step 393/1576, loss: 5974.233, psnr: 5974.233\n"
     ]
    },
    {
     "name": "stdout",
     "output_type": "stream",
     "text": [
      "Train step success!!\n",
      "Iterating\n",
      "Train step success!!\n",
      "Iterating\n"
     ]
    },
    {
     "name": "stderr",
     "output_type": "stream",
     "text": [
      "2020-02-28 20:16:22,635 - step 394/1576, loss: 5971.172, psnr: 5971.172\n",
      "2020-02-28 20:16:22,737 - step 395/1576, loss: 5967.482, psnr: 5967.482\n"
     ]
    },
    {
     "name": "stdout",
     "output_type": "stream",
     "text": [
      "Train step success!!\n",
      "Iterating\n",
      "Train step success!!\n",
      "Iterating\n"
     ]
    },
    {
     "name": "stderr",
     "output_type": "stream",
     "text": [
      "2020-02-28 20:16:22,839 - step 396/1576, loss: 5966.507, psnr: 5966.507\n",
      "2020-02-28 20:16:22,940 - step 397/1576, loss: 5968.886, psnr: 5968.886\n"
     ]
    },
    {
     "name": "stdout",
     "output_type": "stream",
     "text": [
      "Train step success!!\n",
      "Iterating\n",
      "Train step success!!\n",
      "Iterating\n"
     ]
    },
    {
     "name": "stderr",
     "output_type": "stream",
     "text": [
      "2020-02-28 20:16:23,043 - step 398/1576, loss: 5967.600, psnr: 5967.600\n",
      "2020-02-28 20:16:23,149 - step 399/1576, loss: 5971.429, psnr: 5971.429\n"
     ]
    },
    {
     "name": "stdout",
     "output_type": "stream",
     "text": [
      "Train step success!!\n",
      "Iterating\n",
      "Train step success!!\n",
      "Iterating\n"
     ]
    },
    {
     "name": "stderr",
     "output_type": "stream",
     "text": [
      "2020-02-28 20:16:23,252 - step 400/1576, loss: 5967.509, psnr: 5967.509\n"
     ]
    },
    {
     "name": "stdout",
     "output_type": "stream",
     "text": [
      "Train step success!!\n"
     ]
    },
    {
     "name": "stderr",
     "output_type": "stream",
     "text": [
      "2020-02-28 20:16:25,517 - Validation results... val_loss: 4339.418, val_psnr: 4339.418\n",
      "2020-02-28 20:16:25,620 - step 401/1576, loss: 5963.326, psnr: 5963.326\n"
     ]
    },
    {
     "name": "stdout",
     "output_type": "stream",
     "text": [
      "Iterating\n",
      "Train step success!!\n",
      "Iterating\n",
      "Train step success!!\n"
     ]
    },
    {
     "name": "stderr",
     "output_type": "stream",
     "text": [
      "2020-02-28 20:16:25,724 - step 402/1576, loss: 5963.280, psnr: 5963.280\n",
      "2020-02-28 20:16:25,825 - step 403/1576, loss: 5962.690, psnr: 5962.690\n",
      "2020-02-28 20:16:25,926 - step 404/1576, loss: 5965.767, psnr: 5965.767\n"
     ]
    },
    {
     "name": "stdout",
     "output_type": "stream",
     "text": [
      "Iterating\n",
      "Train step success!!\n",
      "Iterating\n",
      "Train step success!!\n"
     ]
    },
    {
     "name": "stderr",
     "output_type": "stream",
     "text": [
      "2020-02-28 20:16:26,028 - step 405/1576, loss: 5966.112, psnr: 5966.112\n",
      "2020-02-28 20:16:26,128 - step 406/1576, loss: 5963.281, psnr: 5963.281\n"
     ]
    },
    {
     "name": "stdout",
     "output_type": "stream",
     "text": [
      "Iterating\n",
      "Train step success!!\n",
      "Iterating\n",
      "Train step success!!\n"
     ]
    },
    {
     "name": "stderr",
     "output_type": "stream",
     "text": [
      "2020-02-28 20:16:26,235 - step 407/1576, loss: 5964.180, psnr: 5964.180\n"
     ]
    },
    {
     "name": "stdout",
     "output_type": "stream",
     "text": [
      "Iterating\n",
      "Train step success!!\n",
      "Iterating\n",
      "Train step success!!\n"
     ]
    },
    {
     "name": "stderr",
     "output_type": "stream",
     "text": [
      "2020-02-28 20:16:26,343 - step 408/1576, loss: 5966.616, psnr: 5966.616\n",
      "2020-02-28 20:16:26,450 - step 409/1576, loss: 5964.284, psnr: 5964.284\n"
     ]
    },
    {
     "name": "stdout",
     "output_type": "stream",
     "text": [
      "Iterating\n",
      "Train step success!!\n",
      "Iterating\n",
      "Train step success!!\n"
     ]
    },
    {
     "name": "stderr",
     "output_type": "stream",
     "text": [
      "2020-02-28 20:16:26,552 - step 410/1576, loss: 5964.787, psnr: 5964.787\n",
      "2020-02-28 20:16:26,653 - step 411/1576, loss: 5965.560, psnr: 5965.560\n"
     ]
    },
    {
     "name": "stdout",
     "output_type": "stream",
     "text": [
      "Iterating\n",
      "Train step success!!\n",
      "Iterating\n",
      "Train step success!!\n"
     ]
    },
    {
     "name": "stderr",
     "output_type": "stream",
     "text": [
      "2020-02-28 20:16:26,763 - step 412/1576, loss: 5965.659, psnr: 5965.659\n",
      "2020-02-28 20:16:26,867 - step 413/1576, loss: 5967.338, psnr: 5967.338\n"
     ]
    },
    {
     "name": "stdout",
     "output_type": "stream",
     "text": [
      "Iterating\n",
      "Train step success!!\n",
      "Iterating\n",
      "Train step success!!\n"
     ]
    },
    {
     "name": "stderr",
     "output_type": "stream",
     "text": [
      "2020-02-28 20:16:26,972 - step 414/1576, loss: 5963.822, psnr: 5963.822\n",
      "2020-02-28 20:16:27,073 - step 415/1576, loss: 5962.918, psnr: 5962.918\n"
     ]
    },
    {
     "name": "stdout",
     "output_type": "stream",
     "text": [
      "Iterating\n",
      "Train step success!!\n",
      "Iterating\n",
      "Train step success!!\n"
     ]
    },
    {
     "name": "stderr",
     "output_type": "stream",
     "text": [
      "2020-02-28 20:16:27,174 - step 416/1576, loss: 5963.915, psnr: 5963.915\n",
      "2020-02-28 20:16:27,277 - step 417/1576, loss: 5961.090, psnr: 5961.090\n"
     ]
    },
    {
     "name": "stdout",
     "output_type": "stream",
     "text": [
      "Iterating\n",
      "Train step success!!\n",
      "Iterating\n",
      "Train step success!!\n"
     ]
    },
    {
     "name": "stderr",
     "output_type": "stream",
     "text": [
      "2020-02-28 20:16:27,385 - step 418/1576, loss: 5963.018, psnr: 5963.018\n",
      "2020-02-28 20:16:27,488 - step 419/1576, loss: 5964.128, psnr: 5964.128\n"
     ]
    },
    {
     "name": "stdout",
     "output_type": "stream",
     "text": [
      "Iterating\n",
      "Train step success!!\n",
      "Iterating\n",
      "Train step success!!\n"
     ]
    },
    {
     "name": "stderr",
     "output_type": "stream",
     "text": [
      "2020-02-28 20:16:27,592 - step 420/1576, loss: 5961.483, psnr: 5961.483\n",
      "2020-02-28 20:16:27,694 - step 421/1576, loss: 5963.102, psnr: 5963.102\n"
     ]
    },
    {
     "name": "stdout",
     "output_type": "stream",
     "text": [
      "Iterating\n",
      "Train step success!!\n",
      "Iterating\n",
      "Train step success!!\n"
     ]
    },
    {
     "name": "stderr",
     "output_type": "stream",
     "text": [
      "2020-02-28 20:16:27,796 - step 422/1576, loss: 5965.925, psnr: 5965.925\n",
      "2020-02-28 20:16:27,898 - step 423/1576, loss: 5966.063, psnr: 5966.063\n"
     ]
    },
    {
     "name": "stdout",
     "output_type": "stream",
     "text": [
      "Iterating\n",
      "Train step success!!\n",
      "Iterating\n",
      "Train step success!!\n"
     ]
    },
    {
     "name": "stderr",
     "output_type": "stream",
     "text": [
      "2020-02-28 20:16:28,007 - step 424/1576, loss: 5969.495, psnr: 5969.495\n",
      "2020-02-28 20:16:28,110 - step 425/1576, loss: 5970.602, psnr: 5970.602\n"
     ]
    },
    {
     "name": "stdout",
     "output_type": "stream",
     "text": [
      "Iterating\n",
      "Train step success!!\n",
      "Iterating\n",
      "Train step success!!\n"
     ]
    },
    {
     "name": "stderr",
     "output_type": "stream",
     "text": [
      "2020-02-28 20:16:28,212 - step 426/1576, loss: 5963.233, psnr: 5963.233\n",
      "2020-02-28 20:16:28,313 - step 427/1576, loss: 5960.021, psnr: 5960.021\n"
     ]
    },
    {
     "name": "stdout",
     "output_type": "stream",
     "text": [
      "Iterating\n",
      "Train step success!!\n",
      "Iterating\n",
      "Train step success!!\n"
     ]
    },
    {
     "name": "stderr",
     "output_type": "stream",
     "text": [
      "2020-02-28 20:16:28,415 - step 428/1576, loss: 5960.410, psnr: 5960.410\n",
      "2020-02-28 20:16:28,517 - step 429/1576, loss: 5956.621, psnr: 5956.621\n"
     ]
    },
    {
     "name": "stdout",
     "output_type": "stream",
     "text": [
      "Iterating\n",
      "Train step success!!\n",
      "Iterating\n",
      "Train step success!!\n"
     ]
    },
    {
     "name": "stderr",
     "output_type": "stream",
     "text": [
      "2020-02-28 20:16:28,618 - step 430/1576, loss: 5956.558, psnr: 5956.558\n",
      "2020-02-28 20:16:28,720 - step 431/1576, loss: 5953.585, psnr: 5953.585\n",
      "2020-02-28 20:16:28,820 - step 432/1576, loss: 5954.754, psnr: 5954.754\n"
     ]
    },
    {
     "name": "stdout",
     "output_type": "stream",
     "text": [
      "Iterating\n",
      "Train step success!!\n",
      "Iterating\n",
      "Train step success!!\n"
     ]
    },
    {
     "name": "stderr",
     "output_type": "stream",
     "text": [
      "2020-02-28 20:16:28,922 - step 433/1576, loss: 5952.179, psnr: 5952.179\n",
      "2020-02-28 20:16:29,023 - step 434/1576, loss: 5953.738, psnr: 5953.738\n"
     ]
    },
    {
     "name": "stdout",
     "output_type": "stream",
     "text": [
      "Iterating\n",
      "Train step success!!\n",
      "Iterating\n",
      "Train step success!!\n"
     ]
    },
    {
     "name": "stderr",
     "output_type": "stream",
     "text": [
      "2020-02-28 20:16:29,124 - step 435/1576, loss: 5951.354, psnr: 5951.354\n",
      "2020-02-28 20:16:29,225 - step 436/1576, loss: 5948.440, psnr: 5948.440\n"
     ]
    },
    {
     "name": "stdout",
     "output_type": "stream",
     "text": [
      "Iterating\n",
      "Train step success!!\n",
      "Iterating\n",
      "Train step success!!\n"
     ]
    },
    {
     "name": "stderr",
     "output_type": "stream",
     "text": [
      "2020-02-28 20:16:29,327 - step 437/1576, loss: 5951.262, psnr: 5951.262\n"
     ]
    },
    {
     "name": "stdout",
     "output_type": "stream",
     "text": [
      "Iterating\n",
      "Train step success!!\n",
      "Iterating\n",
      "Train step success!!\n"
     ]
    },
    {
     "name": "stderr",
     "output_type": "stream",
     "text": [
      "2020-02-28 20:16:29,429 - step 438/1576, loss: 5953.729, psnr: 5953.729\n",
      "2020-02-28 20:16:29,531 - step 439/1576, loss: 5953.003, psnr: 5953.003\n"
     ]
    },
    {
     "name": "stdout",
     "output_type": "stream",
     "text": [
      "Iterating\n",
      "Train step success!!\n",
      "Iterating\n",
      "Train step success!!\n"
     ]
    },
    {
     "name": "stderr",
     "output_type": "stream",
     "text": [
      "2020-02-28 20:16:29,632 - step 440/1576, loss: 5955.358, psnr: 5955.358\n",
      "2020-02-28 20:16:29,733 - step 441/1576, loss: 5955.706, psnr: 5955.706\n",
      "2020-02-28 20:16:29,834 - step 442/1576, loss: 5951.876, psnr: 5951.876\n"
     ]
    },
    {
     "name": "stdout",
     "output_type": "stream",
     "text": [
      "Iterating\n",
      "Train step success!!\n",
      "Iterating\n",
      "Train step success!!\n"
     ]
    },
    {
     "name": "stderr",
     "output_type": "stream",
     "text": [
      "2020-02-28 20:16:29,936 - step 443/1576, loss: 5952.209, psnr: 5952.209\n",
      "2020-02-28 20:16:30,037 - step 444/1576, loss: 5949.255, psnr: 5949.255\n"
     ]
    },
    {
     "name": "stdout",
     "output_type": "stream",
     "text": [
      "Iterating\n",
      "Train step success!!\n",
      "Iterating\n",
      "Train step success!!\n"
     ]
    },
    {
     "name": "stderr",
     "output_type": "stream",
     "text": [
      "2020-02-28 20:16:30,138 - step 445/1576, loss: 5950.884, psnr: 5950.884\n",
      "2020-02-28 20:16:30,238 - step 446/1576, loss: 5947.443, psnr: 5947.443\n"
     ]
    },
    {
     "name": "stdout",
     "output_type": "stream",
     "text": [
      "Iterating\n",
      "Train step success!!\n",
      "Iterating\n",
      "Train step success!!\n"
     ]
    },
    {
     "name": "stderr",
     "output_type": "stream",
     "text": [
      "2020-02-28 20:16:30,340 - step 447/1576, loss: 5944.110, psnr: 5944.110\n",
      "2020-02-28 20:16:30,440 - step 448/1576, loss: 5941.892, psnr: 5941.892\n"
     ]
    },
    {
     "name": "stdout",
     "output_type": "stream",
     "text": [
      "Iterating\n",
      "Train step success!!\n",
      "Iterating\n",
      "Train step success!!\n"
     ]
    },
    {
     "name": "stderr",
     "output_type": "stream",
     "text": [
      "2020-02-28 20:16:30,541 - step 449/1576, loss: 5947.243, psnr: 5947.243\n",
      "2020-02-28 20:16:30,643 - step 450/1576, loss: 5949.635, psnr: 5949.635\n"
     ]
    },
    {
     "name": "stdout",
     "output_type": "stream",
     "text": [
      "Iterating\n",
      "Train step success!!\n",
      "Iterating\n",
      "Train step success!!\n"
     ]
    },
    {
     "name": "stderr",
     "output_type": "stream",
     "text": [
      "2020-02-28 20:16:30,744 - step 451/1576, loss: 5951.423, psnr: 5951.423\n",
      "2020-02-28 20:16:30,845 - step 452/1576, loss: 5948.675, psnr: 5948.675\n"
     ]
    },
    {
     "name": "stdout",
     "output_type": "stream",
     "text": [
      "Iterating\n",
      "Train step success!!\n",
      "Iterating\n",
      "Train step success!!\n"
     ]
    },
    {
     "name": "stderr",
     "output_type": "stream",
     "text": [
      "2020-02-28 20:16:30,947 - step 453/1576, loss: 5939.361, psnr: 5939.361\n"
     ]
    },
    {
     "name": "stdout",
     "output_type": "stream",
     "text": [
      "Iterating\n",
      "Train step success!!\n",
      "Iterating\n",
      "Train step success!!\n"
     ]
    },
    {
     "name": "stderr",
     "output_type": "stream",
     "text": [
      "2020-02-28 20:16:31,050 - step 454/1576, loss: 5939.518, psnr: 5939.518\n",
      "2020-02-28 20:16:31,152 - step 455/1576, loss: 5942.307, psnr: 5942.307\n"
     ]
    },
    {
     "name": "stdout",
     "output_type": "stream",
     "text": [
      "Iterating\n",
      "Train step success!!\n",
      "Iterating\n",
      "Train step success!!\n"
     ]
    },
    {
     "name": "stderr",
     "output_type": "stream",
     "text": [
      "2020-02-28 20:16:31,254 - step 456/1576, loss: 5943.701, psnr: 5943.701\n",
      "2020-02-28 20:16:31,356 - step 457/1576, loss: 5939.728, psnr: 5939.728\n"
     ]
    },
    {
     "name": "stdout",
     "output_type": "stream",
     "text": [
      "Iterating\n",
      "Train step success!!\n",
      "Iterating\n",
      "Train step success!!\n"
     ]
    },
    {
     "name": "stderr",
     "output_type": "stream",
     "text": [
      "2020-02-28 20:16:31,458 - step 458/1576, loss: 5936.307, psnr: 5936.307\n",
      "2020-02-28 20:16:31,561 - step 459/1576, loss: 5936.977, psnr: 5936.977\n"
     ]
    },
    {
     "name": "stdout",
     "output_type": "stream",
     "text": [
      "Iterating\n",
      "Train step success!!\n",
      "Iterating\n",
      "Train step success!!\n"
     ]
    },
    {
     "name": "stderr",
     "output_type": "stream",
     "text": [
      "2020-02-28 20:16:31,664 - step 460/1576, loss: 5936.032, psnr: 5936.032\n",
      "2020-02-28 20:16:31,765 - step 461/1576, loss: 5934.647, psnr: 5934.647\n"
     ]
    },
    {
     "name": "stdout",
     "output_type": "stream",
     "text": [
      "Iterating\n",
      "Train step success!!\n",
      "Iterating\n",
      "Train step success!!\n"
     ]
    },
    {
     "name": "stderr",
     "output_type": "stream",
     "text": [
      "2020-02-28 20:16:31,867 - step 462/1576, loss: 5932.003, psnr: 5932.003\n",
      "2020-02-28 20:16:31,968 - step 463/1576, loss: 5934.254, psnr: 5934.254\n",
      "2020-02-28 20:16:32,069 - step 464/1576, loss: 5936.059, psnr: 5936.059\n"
     ]
    },
    {
     "name": "stdout",
     "output_type": "stream",
     "text": [
      "Iterating\n",
      "Train step success!!\n",
      "Iterating\n",
      "Train step success!!\n"
     ]
    },
    {
     "name": "stderr",
     "output_type": "stream",
     "text": [
      "2020-02-28 20:16:32,170 - step 465/1576, loss: 5936.989, psnr: 5936.989\n",
      "2020-02-28 20:16:32,271 - step 466/1576, loss: 5937.895, psnr: 5937.895\n"
     ]
    },
    {
     "name": "stdout",
     "output_type": "stream",
     "text": [
      "Iterating\n",
      "Train step success!!\n",
      "Iterating\n",
      "Train step success!!\n"
     ]
    },
    {
     "name": "stderr",
     "output_type": "stream",
     "text": [
      "2020-02-28 20:16:32,372 - step 467/1576, loss: 5937.277, psnr: 5937.277\n",
      "2020-02-28 20:16:32,473 - step 468/1576, loss: 5938.738, psnr: 5938.738\n"
     ]
    },
    {
     "name": "stdout",
     "output_type": "stream",
     "text": [
      "Iterating\n",
      "Train step success!!\n",
      "Iterating\n",
      "Train step success!!\n"
     ]
    },
    {
     "name": "stderr",
     "output_type": "stream",
     "text": [
      "2020-02-28 20:16:32,574 - step 469/1576, loss: 5938.873, psnr: 5938.873\n",
      "2020-02-28 20:16:32,674 - step 470/1576, loss: 5939.802, psnr: 5939.802\n"
     ]
    },
    {
     "name": "stdout",
     "output_type": "stream",
     "text": [
      "Iterating\n",
      "Train step success!!\n",
      "Iterating\n",
      "Train step success!!\n"
     ]
    },
    {
     "name": "stderr",
     "output_type": "stream",
     "text": [
      "2020-02-28 20:16:32,776 - step 471/1576, loss: 5940.659, psnr: 5940.659\n",
      "2020-02-28 20:16:32,877 - step 472/1576, loss: 5944.637, psnr: 5944.637\n"
     ]
    },
    {
     "name": "stdout",
     "output_type": "stream",
     "text": [
      "Iterating\n",
      "Train step success!!\n",
      "Iterating\n",
      "Train step success!!\n"
     ]
    },
    {
     "name": "stderr",
     "output_type": "stream",
     "text": [
      "2020-02-28 20:16:32,977 - step 473/1576, loss: 5945.241, psnr: 5945.241\n",
      "2020-02-28 20:16:33,079 - step 474/1576, loss: 5947.393, psnr: 5947.393\n"
     ]
    },
    {
     "name": "stdout",
     "output_type": "stream",
     "text": [
      "Iterating\n",
      "Train step success!!\n",
      "Iterating\n",
      "Train step success!!\n"
     ]
    },
    {
     "name": "stderr",
     "output_type": "stream",
     "text": [
      "2020-02-28 20:16:33,180 - step 475/1576, loss: 5948.995, psnr: 5948.995\n",
      "2020-02-28 20:16:33,281 - step 476/1576, loss: 5949.926, psnr: 5949.926\n"
     ]
    },
    {
     "name": "stdout",
     "output_type": "stream",
     "text": [
      "Iterating\n",
      "Train step success!!\n",
      "Iterating\n",
      "Train step success!!\n"
     ]
    },
    {
     "name": "stderr",
     "output_type": "stream",
     "text": [
      "2020-02-28 20:16:33,387 - step 477/1576, loss: 5950.380, psnr: 5950.380\n"
     ]
    },
    {
     "name": "stdout",
     "output_type": "stream",
     "text": [
      "Iterating\n",
      "Train step success!!\n",
      "Iterating\n",
      "Train step success!!\n"
     ]
    },
    {
     "name": "stderr",
     "output_type": "stream",
     "text": [
      "2020-02-28 20:16:33,489 - step 478/1576, loss: 5954.422, psnr: 5954.422\n",
      "2020-02-28 20:16:33,591 - step 479/1576, loss: 5953.279, psnr: 5953.279\n"
     ]
    },
    {
     "name": "stdout",
     "output_type": "stream",
     "text": [
      "Iterating\n",
      "Train step success!!\n",
      "Iterating\n",
      "Train step success!!\n"
     ]
    },
    {
     "name": "stderr",
     "output_type": "stream",
     "text": [
      "2020-02-28 20:16:33,692 - step 480/1576, loss: 5950.323, psnr: 5950.323\n",
      "2020-02-28 20:16:33,795 - step 481/1576, loss: 5946.880, psnr: 5946.880\n"
     ]
    },
    {
     "name": "stdout",
     "output_type": "stream",
     "text": [
      "Iterating\n",
      "Train step success!!\n",
      "Iterating\n",
      "Train step success!!\n"
     ]
    },
    {
     "name": "stderr",
     "output_type": "stream",
     "text": [
      "2020-02-28 20:16:33,897 - step 482/1576, loss: 5947.777, psnr: 5947.777\n",
      "2020-02-28 20:16:33,998 - step 483/1576, loss: 5948.000, psnr: 5948.000\n"
     ]
    },
    {
     "name": "stdout",
     "output_type": "stream",
     "text": [
      "Iterating\n",
      "Train step success!!\n",
      "Iterating\n",
      "Train step success!!\n"
     ]
    },
    {
     "name": "stderr",
     "output_type": "stream",
     "text": [
      "2020-02-28 20:16:34,100 - step 484/1576, loss: 5947.096, psnr: 5947.096\n",
      "2020-02-28 20:16:34,203 - step 485/1576, loss: 5948.213, psnr: 5948.213\n"
     ]
    },
    {
     "name": "stdout",
     "output_type": "stream",
     "text": [
      "Iterating\n",
      "Train step success!!\n",
      "Iterating\n",
      "Train step success!!\n"
     ]
    },
    {
     "name": "stderr",
     "output_type": "stream",
     "text": [
      "2020-02-28 20:16:34,305 - step 486/1576, loss: 5949.740, psnr: 5949.740\n",
      "2020-02-28 20:16:34,407 - step 487/1576, loss: 5946.596, psnr: 5946.596\n"
     ]
    },
    {
     "name": "stdout",
     "output_type": "stream",
     "text": [
      "Iterating\n",
      "Train step success!!\n",
      "Iterating\n",
      "Train step success!!\n"
     ]
    },
    {
     "name": "stderr",
     "output_type": "stream",
     "text": [
      "2020-02-28 20:16:34,508 - step 488/1576, loss: 5944.233, psnr: 5944.233\n",
      "2020-02-28 20:16:34,611 - step 489/1576, loss: 5942.629, psnr: 5942.629\n"
     ]
    },
    {
     "name": "stdout",
     "output_type": "stream",
     "text": [
      "Iterating\n",
      "Train step success!!\n",
      "Iterating\n",
      "Train step success!!\n"
     ]
    },
    {
     "name": "stderr",
     "output_type": "stream",
     "text": [
      "2020-02-28 20:16:34,711 - step 490/1576, loss: 5939.877, psnr: 5939.877\n",
      "2020-02-28 20:16:34,813 - step 491/1576, loss: 5937.846, psnr: 5937.846\n",
      "2020-02-28 20:16:34,914 - step 492/1576, loss: 5938.638, psnr: 5938.638\n"
     ]
    },
    {
     "name": "stdout",
     "output_type": "stream",
     "text": [
      "Iterating\n",
      "Train step success!!\n",
      "Iterating\n",
      "Train step success!!\n"
     ]
    },
    {
     "name": "stderr",
     "output_type": "stream",
     "text": [
      "2020-02-28 20:16:35,017 - step 493/1576, loss: 5937.564, psnr: 5937.564\n"
     ]
    },
    {
     "name": "stdout",
     "output_type": "stream",
     "text": [
      "Iterating\n",
      "Train step success!!\n",
      "Iterating\n",
      "Train step success!!\n"
     ]
    },
    {
     "name": "stderr",
     "output_type": "stream",
     "text": [
      "2020-02-28 20:16:35,118 - step 494/1576, loss: 5937.577, psnr: 5937.577\n",
      "2020-02-28 20:16:35,219 - step 495/1576, loss: 5935.288, psnr: 5935.288\n"
     ]
    },
    {
     "name": "stdout",
     "output_type": "stream",
     "text": [
      "Iterating\n",
      "Train step success!!\n",
      "Iterating\n",
      "Train step success!!\n"
     ]
    },
    {
     "name": "stderr",
     "output_type": "stream",
     "text": [
      "2020-02-28 20:16:35,320 - step 496/1576, loss: 5936.845, psnr: 5936.845\n",
      "2020-02-28 20:16:35,421 - step 497/1576, loss: 5936.355, psnr: 5936.355\n",
      "2020-02-28 20:16:35,522 - step 498/1576, loss: 5939.358, psnr: 5939.358\n"
     ]
    },
    {
     "name": "stdout",
     "output_type": "stream",
     "text": [
      "Iterating\n",
      "Train step success!!\n",
      "Iterating\n",
      "Train step success!!\n"
     ]
    },
    {
     "name": "stderr",
     "output_type": "stream",
     "text": [
      "2020-02-28 20:16:35,624 - step 499/1576, loss: 5941.185, psnr: 5941.185\n",
      "2020-02-28 20:16:35,725 - step 500/1576, loss: 5942.696, psnr: 5942.696\n"
     ]
    },
    {
     "name": "stdout",
     "output_type": "stream",
     "text": [
      "Iterating\n",
      "Train step success!!\n",
      "Iterating\n",
      "Train step success!!\n"
     ]
    },
    {
     "name": "stderr",
     "output_type": "stream",
     "text": [
      "2020-02-28 20:16:37,965 - Validation results... val_loss: 4339.418, val_psnr: 4339.418\n",
      "2020-02-28 20:16:38,066 - step 501/1576, loss: 5945.387, psnr: 5945.387\n"
     ]
    },
    {
     "name": "stdout",
     "output_type": "stream",
     "text": [
      "Iterating\n",
      "Train step success!!\n",
      "Iterating\n",
      "Train step success!!\n"
     ]
    },
    {
     "name": "stderr",
     "output_type": "stream",
     "text": [
      "2020-02-28 20:16:38,169 - step 502/1576, loss: 5947.652, psnr: 5947.652\n",
      "2020-02-28 20:16:38,269 - step 503/1576, loss: 5949.370, psnr: 5949.370\n",
      "2020-02-28 20:16:38,370 - step 504/1576, loss: 5946.854, psnr: 5946.854\n"
     ]
    },
    {
     "name": "stdout",
     "output_type": "stream",
     "text": [
      "Iterating\n",
      "Train step success!!\n",
      "Iterating\n",
      "Train step success!!\n"
     ]
    },
    {
     "name": "stderr",
     "output_type": "stream",
     "text": [
      "2020-02-28 20:16:38,471 - step 505/1576, loss: 5949.509, psnr: 5949.509\n",
      "2020-02-28 20:16:38,572 - step 506/1576, loss: 5949.806, psnr: 5949.806\n"
     ]
    },
    {
     "name": "stdout",
     "output_type": "stream",
     "text": [
      "Iterating\n",
      "Train step success!!\n",
      "Iterating\n",
      "Train step success!!\n"
     ]
    },
    {
     "name": "stderr",
     "output_type": "stream",
     "text": [
      "2020-02-28 20:16:38,674 - step 507/1576, loss: 5950.909, psnr: 5950.909\n",
      "2020-02-28 20:16:38,775 - step 508/1576, loss: 5952.648, psnr: 5952.648\n"
     ]
    },
    {
     "name": "stdout",
     "output_type": "stream",
     "text": [
      "Iterating\n",
      "Train step success!!\n",
      "Iterating\n",
      "Train step success!!\n"
     ]
    },
    {
     "name": "stderr",
     "output_type": "stream",
     "text": [
      "2020-02-28 20:16:38,877 - step 509/1576, loss: 5953.684, psnr: 5953.684\n"
     ]
    },
    {
     "name": "stdout",
     "output_type": "stream",
     "text": [
      "Iterating\n",
      "Train step success!!\n",
      "Iterating\n",
      "Train step success!!\n"
     ]
    },
    {
     "name": "stderr",
     "output_type": "stream",
     "text": [
      "2020-02-28 20:16:38,978 - step 510/1576, loss: 5950.530, psnr: 5950.530\n",
      "2020-02-28 20:16:39,079 - step 511/1576, loss: 5950.479, psnr: 5950.479\n",
      "2020-02-28 20:16:39,180 - step 512/1576, loss: 5947.788, psnr: 5947.788\n"
     ]
    },
    {
     "name": "stdout",
     "output_type": "stream",
     "text": [
      "Iterating\n",
      "Train step success!!\n",
      "Iterating\n",
      "Train step success!!\n"
     ]
    },
    {
     "name": "stderr",
     "output_type": "stream",
     "text": [
      "2020-02-28 20:16:39,281 - step 513/1576, loss: 5945.018, psnr: 5945.018\n",
      "2020-02-28 20:16:39,382 - step 514/1576, loss: 5944.289, psnr: 5944.289\n"
     ]
    },
    {
     "name": "stdout",
     "output_type": "stream",
     "text": [
      "Iterating\n",
      "Train step success!!\n",
      "Iterating\n",
      "Train step success!!\n"
     ]
    },
    {
     "name": "stderr",
     "output_type": "stream",
     "text": [
      "2020-02-28 20:16:39,485 - step 515/1576, loss: 5944.035, psnr: 5944.035\n"
     ]
    },
    {
     "name": "stdout",
     "output_type": "stream",
     "text": [
      "Iterating\n",
      "Train step success!!\n",
      "Iterating\n",
      "Train step success!!\n"
     ]
    },
    {
     "name": "stderr",
     "output_type": "stream",
     "text": [
      "2020-02-28 20:16:39,587 - step 516/1576, loss: 5943.469, psnr: 5943.469\n",
      "2020-02-28 20:16:39,688 - step 517/1576, loss: 5941.018, psnr: 5941.018\n"
     ]
    },
    {
     "name": "stdout",
     "output_type": "stream",
     "text": [
      "Iterating\n",
      "Train step success!!\n",
      "Iterating\n",
      "Train step success!!\n"
     ]
    },
    {
     "name": "stderr",
     "output_type": "stream",
     "text": [
      "2020-02-28 20:16:39,790 - step 518/1576, loss: 5941.979, psnr: 5941.979\n",
      "2020-02-28 20:16:39,892 - step 519/1576, loss: 5942.118, psnr: 5942.118\n"
     ]
    },
    {
     "name": "stdout",
     "output_type": "stream",
     "text": [
      "Iterating\n",
      "Train step success!!\n",
      "Iterating\n",
      "Train step success!!\n"
     ]
    },
    {
     "name": "stderr",
     "output_type": "stream",
     "text": [
      "2020-02-28 20:16:39,994 - step 520/1576, loss: 5939.472, psnr: 5939.472\n",
      "2020-02-28 20:16:40,095 - step 521/1576, loss: 5940.619, psnr: 5940.619\n"
     ]
    },
    {
     "name": "stdout",
     "output_type": "stream",
     "text": [
      "Iterating\n",
      "Train step success!!\n",
      "Iterating\n",
      "Train step success!!\n"
     ]
    },
    {
     "name": "stderr",
     "output_type": "stream",
     "text": [
      "2020-02-28 20:16:40,197 - step 522/1576, loss: 5941.115, psnr: 5941.115\n",
      "2020-02-28 20:16:40,298 - step 523/1576, loss: 5941.806, psnr: 5941.806\n",
      "2020-02-28 20:16:40,399 - step 524/1576, loss: 5939.630, psnr: 5939.630\n"
     ]
    },
    {
     "name": "stdout",
     "output_type": "stream",
     "text": [
      "Iterating\n",
      "Train step success!!\n",
      "Iterating\n",
      "Train step success!!\n"
     ]
    },
    {
     "name": "stderr",
     "output_type": "stream",
     "text": [
      "2020-02-28 20:16:40,500 - step 525/1576, loss: 5937.731, psnr: 5937.731\n"
     ]
    },
    {
     "name": "stdout",
     "output_type": "stream",
     "text": [
      "Iterating\n",
      "Train step success!!\n",
      "Iterating\n",
      "Train step success!!\n"
     ]
    },
    {
     "name": "stderr",
     "output_type": "stream",
     "text": [
      "2020-02-28 20:16:40,602 - step 526/1576, loss: 5937.576, psnr: 5937.576\n",
      "2020-02-28 20:16:40,703 - step 527/1576, loss: 5935.128, psnr: 5935.128\n",
      "2020-02-28 20:16:40,804 - step 528/1576, loss: 5935.919, psnr: 5935.919\n"
     ]
    },
    {
     "name": "stdout",
     "output_type": "stream",
     "text": [
      "Iterating\n",
      "Train step success!!\n",
      "Iterating\n",
      "Train step success!!\n"
     ]
    },
    {
     "name": "stderr",
     "output_type": "stream",
     "text": [
      "2020-02-28 20:16:40,905 - step 529/1576, loss: 5935.672, psnr: 5935.672\n",
      "2020-02-28 20:16:41,006 - step 530/1576, loss: 5933.590, psnr: 5933.590\n"
     ]
    },
    {
     "name": "stdout",
     "output_type": "stream",
     "text": [
      "Iterating\n",
      "Train step success!!\n",
      "Iterating\n",
      "Train step success!!\n"
     ]
    },
    {
     "name": "stderr",
     "output_type": "stream",
     "text": [
      "2020-02-28 20:16:41,107 - step 531/1576, loss: 5934.271, psnr: 5934.271\n",
      "2020-02-28 20:16:41,207 - step 532/1576, loss: 5938.444, psnr: 5938.444\n"
     ]
    },
    {
     "name": "stdout",
     "output_type": "stream",
     "text": [
      "Iterating\n",
      "Train step success!!\n",
      "Iterating\n",
      "Train step success!!\n"
     ]
    },
    {
     "name": "stderr",
     "output_type": "stream",
     "text": [
      "2020-02-28 20:16:41,310 - step 533/1576, loss: 5936.194, psnr: 5936.194\n"
     ]
    },
    {
     "name": "stdout",
     "output_type": "stream",
     "text": [
      "Iterating\n",
      "Train step success!!\n",
      "Iterating\n",
      "Train step success!!\n"
     ]
    },
    {
     "name": "stderr",
     "output_type": "stream",
     "text": [
      "2020-02-28 20:16:41,411 - step 534/1576, loss: 5936.297, psnr: 5936.297\n",
      "2020-02-28 20:16:41,512 - step 535/1576, loss: 5933.930, psnr: 5933.930\n"
     ]
    },
    {
     "name": "stdout",
     "output_type": "stream",
     "text": [
      "Iterating\n",
      "Train step success!!\n",
      "Iterating\n",
      "Train step success!!\n"
     ]
    },
    {
     "name": "stderr",
     "output_type": "stream",
     "text": [
      "2020-02-28 20:16:41,614 - step 536/1576, loss: 5931.275, psnr: 5931.275\n",
      "2020-02-28 20:16:41,715 - step 537/1576, loss: 5928.385, psnr: 5928.385\n",
      "2020-02-28 20:16:41,816 - step 538/1576, loss: 5930.228, psnr: 5930.228\n"
     ]
    },
    {
     "name": "stdout",
     "output_type": "stream",
     "text": [
      "Iterating\n",
      "Train step success!!\n",
      "Iterating\n",
      "Train step success!!\n"
     ]
    },
    {
     "name": "stderr",
     "output_type": "stream",
     "text": [
      "2020-02-28 20:16:41,917 - step 539/1576, loss: 5930.234, psnr: 5930.234\n"
     ]
    },
    {
     "name": "stdout",
     "output_type": "stream",
     "text": [
      "Iterating\n",
      "Train step success!!\n",
      "Iterating\n",
      "Train step success!!\n"
     ]
    },
    {
     "name": "stderr",
     "output_type": "stream",
     "text": [
      "2020-02-28 20:16:42,020 - step 540/1576, loss: 5930.711, psnr: 5930.711\n",
      "2020-02-28 20:16:42,122 - step 541/1576, loss: 5931.636, psnr: 5931.636\n"
     ]
    },
    {
     "name": "stdout",
     "output_type": "stream",
     "text": [
      "Iterating\n",
      "Train step success!!\n",
      "Iterating\n",
      "Train step success!!\n"
     ]
    },
    {
     "name": "stderr",
     "output_type": "stream",
     "text": [
      "2020-02-28 20:16:42,225 - step 542/1576, loss: 5929.786, psnr: 5929.786\n",
      "2020-02-28 20:16:42,326 - step 543/1576, loss: 5928.053, psnr: 5928.053\n",
      "2020-02-28 20:16:42,427 - step 544/1576, loss: 5925.541, psnr: 5925.541\n"
     ]
    },
    {
     "name": "stdout",
     "output_type": "stream",
     "text": [
      "Iterating\n",
      "Train step success!!\n",
      "Iterating\n",
      "Train step success!!\n"
     ]
    },
    {
     "name": "stderr",
     "output_type": "stream",
     "text": [
      "2020-02-28 20:16:42,530 - step 545/1576, loss: 5926.224, psnr: 5926.224\n"
     ]
    },
    {
     "name": "stdout",
     "output_type": "stream",
     "text": [
      "Iterating\n",
      "Train step success!!\n",
      "Iterating\n",
      "Train step success!!\n"
     ]
    },
    {
     "name": "stderr",
     "output_type": "stream",
     "text": [
      "2020-02-28 20:16:42,632 - step 546/1576, loss: 5927.981, psnr: 5927.981\n",
      "2020-02-28 20:16:42,733 - step 547/1576, loss: 5925.642, psnr: 5925.642\n",
      "2020-02-28 20:16:42,835 - step 548/1576, loss: 5922.927, psnr: 5922.927\n"
     ]
    },
    {
     "name": "stdout",
     "output_type": "stream",
     "text": [
      "Iterating\n",
      "Train step success!!\n",
      "Iterating\n",
      "Train step success!!\n"
     ]
    },
    {
     "name": "stderr",
     "output_type": "stream",
     "text": [
      "2020-02-28 20:16:42,936 - step 549/1576, loss: 5920.674, psnr: 5920.674\n"
     ]
    },
    {
     "name": "stdout",
     "output_type": "stream",
     "text": [
      "Iterating\n",
      "Train step success!!\n",
      "Iterating\n",
      "Train step success!!\n"
     ]
    },
    {
     "name": "stderr",
     "output_type": "stream",
     "text": [
      "2020-02-28 20:16:43,037 - step 550/1576, loss: 5918.598, psnr: 5918.598\n",
      "2020-02-28 20:16:43,139 - step 551/1576, loss: 5919.157, psnr: 5919.157\n",
      "2020-02-28 20:16:43,239 - step 552/1576, loss: 5917.608, psnr: 5917.608\n"
     ]
    },
    {
     "name": "stdout",
     "output_type": "stream",
     "text": [
      "Iterating\n",
      "Train step success!!\n",
      "Iterating\n",
      "Train step success!!\n"
     ]
    },
    {
     "name": "stderr",
     "output_type": "stream",
     "text": [
      "2020-02-28 20:16:43,341 - step 553/1576, loss: 5917.986, psnr: 5917.986\n",
      "2020-02-28 20:16:43,442 - step 554/1576, loss: 5918.344, psnr: 5918.344\n"
     ]
    },
    {
     "name": "stdout",
     "output_type": "stream",
     "text": [
      "Iterating\n",
      "Train step success!!\n",
      "Iterating\n",
      "Train step success!!\n"
     ]
    },
    {
     "name": "stderr",
     "output_type": "stream",
     "text": [
      "2020-02-28 20:16:43,543 - step 555/1576, loss: 5919.703, psnr: 5919.703\n",
      "2020-02-28 20:16:43,644 - step 556/1576, loss: 5924.028, psnr: 5924.028\n"
     ]
    },
    {
     "name": "stdout",
     "output_type": "stream",
     "text": [
      "Iterating\n",
      "Train step success!!\n",
      "Iterating\n",
      "Train step success!!\n"
     ]
    },
    {
     "name": "stderr",
     "output_type": "stream",
     "text": [
      "2020-02-28 20:16:43,746 - step 557/1576, loss: 5925.148, psnr: 5925.148\n",
      "2020-02-28 20:16:43,847 - step 558/1576, loss: 5925.752, psnr: 5925.752\n"
     ]
    },
    {
     "name": "stdout",
     "output_type": "stream",
     "text": [
      "Iterating\n",
      "Train step success!!\n",
      "Iterating\n",
      "Train step success!!\n"
     ]
    },
    {
     "name": "stderr",
     "output_type": "stream",
     "text": [
      "2020-02-28 20:16:43,949 - step 559/1576, loss: 5926.983, psnr: 5926.983\n"
     ]
    },
    {
     "name": "stdout",
     "output_type": "stream",
     "text": [
      "Iterating\n",
      "Train step success!!\n",
      "Iterating\n",
      "Train step success!!\n"
     ]
    },
    {
     "name": "stderr",
     "output_type": "stream",
     "text": [
      "2020-02-28 20:16:44,050 - step 560/1576, loss: 5923.881, psnr: 5923.881\n",
      "2020-02-28 20:16:44,151 - step 561/1576, loss: 5924.108, psnr: 5924.108\n"
     ]
    },
    {
     "name": "stdout",
     "output_type": "stream",
     "text": [
      "Iterating\n",
      "Train step success!!\n",
      "Iterating\n",
      "Train step success!!\n"
     ]
    },
    {
     "name": "stderr",
     "output_type": "stream",
     "text": [
      "2020-02-28 20:16:44,253 - step 562/1576, loss: 5922.152, psnr: 5922.152\n",
      "2020-02-28 20:16:44,355 - step 563/1576, loss: 5923.363, psnr: 5923.363\n",
      "2020-02-28 20:16:44,456 - step 564/1576, loss: 5922.181, psnr: 5922.181\n"
     ]
    },
    {
     "name": "stdout",
     "output_type": "stream",
     "text": [
      "Iterating\n",
      "Train step success!!\n",
      "Iterating\n",
      "Train step success!!\n"
     ]
    },
    {
     "name": "stderr",
     "output_type": "stream",
     "text": [
      "2020-02-28 20:16:44,558 - step 565/1576, loss: 5920.516, psnr: 5920.516\n"
     ]
    },
    {
     "name": "stdout",
     "output_type": "stream",
     "text": [
      "Iterating\n",
      "Train step success!!\n",
      "Iterating\n",
      "Train step success!!\n"
     ]
    },
    {
     "name": "stderr",
     "output_type": "stream",
     "text": [
      "2020-02-28 20:16:44,660 - step 566/1576, loss: 5922.389, psnr: 5922.389\n",
      "2020-02-28 20:16:44,763 - step 567/1576, loss: 5921.451, psnr: 5921.451\n"
     ]
    },
    {
     "name": "stdout",
     "output_type": "stream",
     "text": [
      "Iterating\n",
      "Train step success!!\n",
      "Iterating\n",
      "Train step success!!\n"
     ]
    },
    {
     "name": "stderr",
     "output_type": "stream",
     "text": [
      "2020-02-28 20:16:44,867 - step 568/1576, loss: 5922.207, psnr: 5922.207\n",
      "2020-02-28 20:16:44,968 - step 569/1576, loss: 5923.165, psnr: 5923.165\n",
      "2020-02-28 20:16:45,069 - step 570/1576, loss: 5925.133, psnr: 5925.133\n"
     ]
    },
    {
     "name": "stdout",
     "output_type": "stream",
     "text": [
      "Iterating\n",
      "Train step success!!\n",
      "Iterating\n",
      "Train step success!!\n"
     ]
    },
    {
     "name": "stderr",
     "output_type": "stream",
     "text": [
      "2020-02-28 20:16:45,170 - step 571/1576, loss: 5923.240, psnr: 5923.240\n"
     ]
    },
    {
     "name": "stdout",
     "output_type": "stream",
     "text": [
      "Iterating\n",
      "Train step success!!\n",
      "Iterating\n",
      "Train step success!!\n"
     ]
    },
    {
     "name": "stderr",
     "output_type": "stream",
     "text": [
      "2020-02-28 20:16:45,272 - step 572/1576, loss: 5924.331, psnr: 5924.331\n",
      "2020-02-28 20:16:45,375 - step 573/1576, loss: 5925.785, psnr: 5925.785\n"
     ]
    },
    {
     "name": "stdout",
     "output_type": "stream",
     "text": [
      "Iterating\n",
      "Train step success!!\n",
      "Iterating\n",
      "Train step success!!\n"
     ]
    },
    {
     "name": "stderr",
     "output_type": "stream",
     "text": [
      "2020-02-28 20:16:45,476 - step 574/1576, loss: 5923.332, psnr: 5923.332\n",
      "2020-02-28 20:16:45,577 - step 575/1576, loss: 5924.768, psnr: 5924.768\n",
      "2020-02-28 20:16:45,678 - step 576/1576, loss: 5926.924, psnr: 5926.924\n"
     ]
    },
    {
     "name": "stdout",
     "output_type": "stream",
     "text": [
      "Iterating\n",
      "Train step success!!\n",
      "Iterating\n",
      "Train step success!!\n"
     ]
    },
    {
     "name": "stderr",
     "output_type": "stream",
     "text": [
      "2020-02-28 20:16:45,780 - step 577/1576, loss: 5928.894, psnr: 5928.894\n"
     ]
    },
    {
     "name": "stdout",
     "output_type": "stream",
     "text": [
      "Iterating\n",
      "Train step success!!\n",
      "Iterating\n",
      "Train step success!!\n"
     ]
    },
    {
     "name": "stderr",
     "output_type": "stream",
     "text": [
      "2020-02-28 20:16:45,883 - step 578/1576, loss: 5930.436, psnr: 5930.436\n",
      "2020-02-28 20:16:45,985 - step 579/1576, loss: 5930.612, psnr: 5930.612\n"
     ]
    },
    {
     "name": "stdout",
     "output_type": "stream",
     "text": [
      "Iterating\n",
      "Train step success!!\n",
      "Iterating\n",
      "Train step success!!\n"
     ]
    },
    {
     "name": "stderr",
     "output_type": "stream",
     "text": [
      "2020-02-28 20:16:46,086 - step 580/1576, loss: 5929.377, psnr: 5929.377\n",
      "2020-02-28 20:16:46,188 - step 581/1576, loss: 5929.799, psnr: 5929.799\n"
     ]
    },
    {
     "name": "stdout",
     "output_type": "stream",
     "text": [
      "Iterating\n",
      "Train step success!!\n",
      "Iterating\n",
      "Train step success!!\n"
     ]
    },
    {
     "name": "stderr",
     "output_type": "stream",
     "text": [
      "2020-02-28 20:16:46,289 - step 582/1576, loss: 5930.879, psnr: 5930.879\n",
      "2020-02-28 20:16:46,395 - step 583/1576, loss: 5932.033, psnr: 5932.033\n"
     ]
    },
    {
     "name": "stdout",
     "output_type": "stream",
     "text": [
      "Iterating\n",
      "Train step success!!\n",
      "Iterating\n",
      "Train step success!!\n"
     ]
    },
    {
     "name": "stderr",
     "output_type": "stream",
     "text": [
      "2020-02-28 20:16:46,497 - step 584/1576, loss: 5934.162, psnr: 5934.162\n",
      "2020-02-28 20:16:46,599 - step 585/1576, loss: 5931.624, psnr: 5931.624\n"
     ]
    },
    {
     "name": "stdout",
     "output_type": "stream",
     "text": [
      "Iterating\n",
      "Train step success!!\n",
      "Iterating\n",
      "Train step success!!\n"
     ]
    },
    {
     "name": "stderr",
     "output_type": "stream",
     "text": [
      "2020-02-28 20:16:46,700 - step 586/1576, loss: 5933.664, psnr: 5933.664\n",
      "2020-02-28 20:16:46,801 - step 587/1576, loss: 5933.995, psnr: 5933.995\n"
     ]
    },
    {
     "name": "stdout",
     "output_type": "stream",
     "text": [
      "Iterating\n",
      "Train step success!!\n",
      "Iterating\n",
      "Train step success!!\n"
     ]
    },
    {
     "name": "stderr",
     "output_type": "stream",
     "text": [
      "2020-02-28 20:16:46,903 - step 588/1576, loss: 5936.244, psnr: 5936.244\n",
      "2020-02-28 20:16:47,004 - step 589/1576, loss: 5935.479, psnr: 5935.479\n",
      "2020-02-28 20:16:47,105 - step 590/1576, loss: 5935.375, psnr: 5935.375\n"
     ]
    },
    {
     "name": "stdout",
     "output_type": "stream",
     "text": [
      "Iterating\n",
      "Train step success!!\n",
      "Iterating\n",
      "Train step success!!\n"
     ]
    },
    {
     "name": "stderr",
     "output_type": "stream",
     "text": [
      "2020-02-28 20:16:47,206 - step 591/1576, loss: 5933.780, psnr: 5933.780\n",
      "2020-02-28 20:16:47,307 - step 592/1576, loss: 5933.679, psnr: 5933.679\n"
     ]
    },
    {
     "name": "stdout",
     "output_type": "stream",
     "text": [
      "Iterating\n",
      "Train step success!!\n",
      "Iterating\n",
      "Train step success!!\n"
     ]
    },
    {
     "name": "stderr",
     "output_type": "stream",
     "text": [
      "2020-02-28 20:16:47,409 - step 593/1576, loss: 5933.481, psnr: 5933.481\n",
      "2020-02-28 20:16:47,510 - step 594/1576, loss: 5933.374, psnr: 5933.374\n"
     ]
    },
    {
     "name": "stdout",
     "output_type": "stream",
     "text": [
      "Iterating\n",
      "Train step success!!\n",
      "Iterating\n",
      "Train step success!!\n"
     ]
    },
    {
     "name": "stderr",
     "output_type": "stream",
     "text": [
      "2020-02-28 20:16:47,611 - step 595/1576, loss: 5934.521, psnr: 5934.521\n"
     ]
    },
    {
     "name": "stdout",
     "output_type": "stream",
     "text": [
      "Iterating\n",
      "Train step success!!\n",
      "Iterating\n",
      "Train step success!!\n"
     ]
    },
    {
     "name": "stderr",
     "output_type": "stream",
     "text": [
      "2020-02-28 20:16:47,712 - step 596/1576, loss: 5935.097, psnr: 5935.097\n",
      "2020-02-28 20:16:47,813 - step 597/1576, loss: 5928.029, psnr: 5928.029\n"
     ]
    },
    {
     "name": "stdout",
     "output_type": "stream",
     "text": [
      "Iterating\n",
      "Train step success!!\n",
      "Iterating\n",
      "Train step success!!\n"
     ]
    },
    {
     "name": "stderr",
     "output_type": "stream",
     "text": [
      "2020-02-28 20:16:47,917 - step 598/1576, loss: 5928.376, psnr: 5928.376\n",
      "2020-02-28 20:16:48,018 - step 599/1576, loss: 5930.167, psnr: 5930.167\n"
     ]
    },
    {
     "name": "stdout",
     "output_type": "stream",
     "text": [
      "Iterating\n",
      "Train step success!!\n",
      "Iterating\n",
      "Train step success!!\n"
     ]
    },
    {
     "name": "stderr",
     "output_type": "stream",
     "text": [
      "2020-02-28 20:16:48,120 - step 600/1576, loss: 5927.766, psnr: 5927.766\n",
      "2020-02-28 20:16:50,333 - Validation results... val_loss: 4339.418, val_psnr: 4339.418\n"
     ]
    },
    {
     "name": "stdout",
     "output_type": "stream",
     "text": [
      "Iterating\n"
     ]
    },
    {
     "name": "stderr",
     "output_type": "stream",
     "text": [
      "2020-02-28 20:17:00,519 - step 601/1576, loss: 5928.463, psnr: 5928.463\n"
     ]
    },
    {
     "name": "stdout",
     "output_type": "stream",
     "text": [
      "Train step success!!\n"
     ]
    }
   ],
   "source": [
    "trainClass.fitTrainData(X_train, y, 10, 1, 1, valData, 1)"
   ]
  },
  {
   "cell_type": "code",
   "execution_count": 1,
   "metadata": {},
   "outputs": [
    {
     "ename": "NameError",
     "evalue": "name 'model' is not defined",
     "output_type": "error",
     "traceback": [
      "\u001b[0;31m---------------------------------------------------------------------------\u001b[0m",
      "\u001b[0;31mNameError\u001b[0m                                 Traceback (most recent call last)",
      "\u001b[0;32m<ipython-input-1-c74f4efbd94d>\u001b[0m in \u001b[0;36m<module>\u001b[0;34m\u001b[0m\n\u001b[0;32m----> 1\u001b[0;31m \u001b[0mmodel\u001b[0m\u001b[0;34m.\u001b[0m\u001b[0mfit\u001b[0m\u001b[0;34m\u001b[0m\u001b[0;34m\u001b[0m\u001b[0m\n\u001b[0m",
      "\u001b[0;31mNameError\u001b[0m: name 'model' is not defined"
     ]
    }
   ],
   "source": [
    "model.fit"
   ]
  },
  {
   "cell_type": "code",
   "execution_count": null,
   "metadata": {},
   "outputs": [],
   "source": []
  }
 ],
 "metadata": {
  "kernelspec": {
   "display_name": "Python 3",
   "language": "python",
   "name": "python3"
  },
  "language_info": {
   "codemirror_mode": {
    "name": "ipython",
    "version": 3
   },
   "file_extension": ".py",
   "mimetype": "text/x-python",
   "name": "python",
   "nbconvert_exporter": "python",
   "pygments_lexer": "ipython3",
   "version": "3.6.9"
  }
 },
 "nbformat": 4,
 "nbformat_minor": 4
}
