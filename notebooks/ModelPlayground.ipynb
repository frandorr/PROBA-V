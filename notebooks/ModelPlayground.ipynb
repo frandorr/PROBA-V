{
 "cells": [
  {
   "cell_type": "code",
   "execution_count": 1,
   "metadata": {
    "scrolled": true
   },
   "outputs": [],
   "source": [
    "import os\n",
    "import sys\n",
    "sys.path.insert(0, '../utils')\n",
    "sys.path.insert(0, '..')\n",
    "import logging\n",
    "\n",
    "logging.basicConfig(format='%(asctime)s - %(message)s', level=logging.INFO)\n",
    "logger = logging.getLogger('__name__')\n",
    "\n",
    "import numpy as np\n",
    "import tensorflow as tf\n",
    "from tensorflow.keras.metrics import Mean\n",
    "from sklearn.model_selection import train_test_split\n",
    "from tensorflow.keras.optimizers import Adam, SGD, Nadam\n",
    "\n",
    "from modelsTF import *\n",
    "from loss import *\n",
    "%reload_ext autoreload\n",
    "%autoreload 2"
   ]
  },
  {
   "cell_type": "code",
   "execution_count": null,
   "metadata": {},
   "outputs": [],
   "source": [
    "# import data\n",
    "CLEAN_DATA_DIR = '/home/mark/DataBank/PROBA-V-CHKPT/trimmedPatchesDir'\n",
    "band = 'NIR'\n",
    "X_train = np.load(os.path.join(CLEAN_DATA_DIR, f'TRAINpatchesLR_{band}.npy'), allow_pickle=True)\n",
    "y_train = np.load(os.path.join(CLEAN_DATA_DIR, f'TRAINpatchesHR_{band}.npy'), allow_pickle=True)\n",
    "\n",
    "X = X_train.transpose((0, 3, 4, 2, 1))\n",
    "y = y_train.transpose((0, 3, 4, 2, 1)).squeeze(3)\n",
    "print(f'Input shape: {X.shape} --------> Output shape: {y.shape}')"
   ]
  },
  {
   "cell_type": "code",
   "execution_count": null,
   "metadata": {},
   "outputs": [],
   "source": [
    "X = np.random.randint(0, 1400, (100, 32, 32, 9, 1))\n",
    "y = np.random.randint(0, 1400, (100, 96, 96, 1))\n",
    "y_mask = np.random.randint(0, 2, (100, 96, 96, 1)).astype(np.bool)"
   ]
  },
  {
   "cell_type": "code",
   "execution_count": null,
   "metadata": {},
   "outputs": [],
   "source": [
    "import tensorflow as tf\n",
    "tf.config.list_physical_devices('GPU')"
   ]
  },
  {
   "cell_type": "code",
   "execution_count": null,
   "metadata": {},
   "outputs": [],
   "source": [
    "model = WDSRConv3D(scale=3, numFilters=32, kernelSize=(3, 3, 3), numResBlocks=8,\n",
    "                expRate=8, decayRate=0.8, numImgLR=9, patchSizeLR=32, isGrayScale=True)"
   ]
  },
  {
   "cell_type": "code",
   "execution_count": null,
   "metadata": {
    "scrolled": false
   },
   "outputs": [],
   "source": [
    "model.summary()"
   ]
  },
  {
   "cell_type": "code",
   "execution_count": null,
   "metadata": {},
   "outputs": [],
   "source": [
    "optimizer = Nadam(learning_rate=5e-4)\n",
    "checkpoint = tf.train.Checkpoint(step=tf.Variable(0),\n",
    "                                     psnr=tf.Variable(1.0),\n",
    "                                     optimizer=optimizer,\n",
    "                                     model=model)\n",
    "checkpointManager = tf.train.CheckpointManager(checkpoint=checkpoint,\n",
    "                                                   directory='models',\n",
    "                                                   max_to_keep=5)"
   ]
  },
  {
   "cell_type": "code",
   "execution_count": null,
   "metadata": {},
   "outputs": [],
   "source": [
    "def loadTrainDataAsTFDataSet(X, y, y_mask, epochs, batchSize, bufferSize):\n",
    "    return tf.data.Dataset.from_tensor_slices(\n",
    "        (X, y, y_mask)).shuffle(bufferSize, reshuffle_each_iteration=True).repeat(epochs).batch(batchSize).prefetch(tf.data.experimental.AUTOTUNE)\n",
    "\n",
    "\n",
    "def loadValDataAsTFDataSet(X, y, y_mask, valSteps, batchSize, bufferSize):\n",
    "    return tf.data.Dataset.from_tensor_slices(\n",
    "        (X, y, y_mask)).shuffle(bufferSize).batch(batchSize).prefetch(tf.data.experimental.AUTOTUNE).take(valSteps)"
   ]
  },
  {
   "cell_type": "code",
   "execution_count": null,
   "metadata": {},
   "outputs": [],
   "source": [
    "X = np.random.randint(0, 1400, (100, 32, 32, 9, 1))\n",
    "y = np.random.randint(0, 1400, (100, 96, 96, 1))\n",
    "y_mask = np.random.randint(0, 2, (100, 96, 96, 1)).astype(np.bool)\n",
    "X_train, X_val, y_train, y_val, y_train_mask, y_val_mask = train_test_split(\n",
    "        X, y, y_mask, test_size=0.7, random_state=17)\n",
    "\n",
    "X_train = tf.convert_to_tensor(X_train, dtype=tf.float32)\n",
    "X_val = tf.convert_to_tensor(X_val, dtype=tf.float32)\n",
    "y_train = tf.convert_to_tensor(y_train, dtype=tf.float32)\n",
    "y_val = tf.convert_to_tensor(y_val, dtype=tf.float32)\n",
    "y_train_mask = tf.convert_to_tensor(y_train_mask, dtype=tf.float32)\n",
    "y_val_mask = tf.convert_to_tensor(y_val_mask, dtype=tf.float32)\n",
    "\n",
    "y = [y_train, y_train_mask]\n",
    "valData = [X_val, y_val, y_val_mask]\n",
    "\n",
    "# Initialize metrics\n",
    "trainLoss = Mean(name='trainLoss')\n",
    "trainPSNR = Mean(name='trainPSNR')\n",
    "testLoss = Mean(name='testLoss')\n",
    "testPSNR = Mean(name='testPSNR')"
   ]
  },
  {
   "cell_type": "code",
   "execution_count": null,
   "metadata": {},
   "outputs": [],
   "source": []
  },
  {
   "cell_type": "code",
   "execution_count": null,
   "metadata": {},
   "outputs": [],
   "source": [
    "fitTrainData(model, optimizer, [trainLoss, trainPSNR, testLoss, testPSNR], shiftCompensatedL1Loss,\n",
    "                 shiftCompensatedcPSNR,\n",
    "                 X_train, y, 10, 1000, 512, valData, 100,\n",
    "                 checkpoint, checkpointManager,\n",
    "                 'logs', 'models', 1)"
   ]
  },
  {
   "cell_type": "code",
   "execution_count": null,
   "metadata": {},
   "outputs": [],
   "source": [
    "def fitTrainData(model: tf.keras.Model, optimizer: tf.keras.optimizers,\n",
    "                 metrics: List[tf.keras.metrics.Mean],\n",
    "                 lossFunc,\n",
    "                 PSNRFunc,\n",
    "                 X: np.ma.array, y: np.ma.array,\n",
    "                 batchSize: int, epochs: int, bufferSize: int,\n",
    "                 valData: List[np.ma.array], valSteps: int,\n",
    "                 checkpoint: tf.train.Checkpoint, checkpointManager: tf.train.CheckpointManager,\n",
    "                 logDir: str, ckptDir: str, saveBestOnly: bool):\n",
    "\n",
    "    trainSet = loadTrainDataAsTFDataSet(X, y[0], y[1], epochs, batchSize, bufferSize)\n",
    "    valSet = loadValDataAsTFDataSet(valData[0], valData[1], valData[2], valSteps, batchSize, bufferSize)\n",
    "\n",
    "    # Logger\n",
    "    w = tf.summary.create_file_writer(logDir)\n",
    "\n",
    "    dataSetLength = len(X)\n",
    "    totalSteps = tf.cast(dataSetLength/batchSize, tf.int64)\n",
    "    globalStep = tf.cast(checkpoint.step, tf.int64)\n",
    "    step = globalStep % totalSteps\n",
    "    epoch = 0\n",
    "\n",
    "    # Metrics\n",
    "    trainLoss, trainPSNR, testLoss, testPSNR = metrics\n",
    "\n",
    "    with w.as_default():\n",
    "        for x_batch_train, y_batch_train, y_mask_batch_train in trainSet:\n",
    "            if (totalSteps - step) == 0:\n",
    "                epoch += 1\n",
    "                step = globalStep % totalSteps\n",
    "                logger.info('Start of epoch %d' % (epoch))\n",
    "                # Reset metrics\n",
    "                trainLoss.reset_states()\n",
    "                trainPSNR.reset_states()\n",
    "                testLoss.reset_states()\n",
    "                testPSNR.reset_states()\n",
    "\n",
    "            step += 1\n",
    "            globalStep += 1\n",
    "            trainStep(x_batch_train, y_batch_train, y_mask_batch_train, checkpoint,\n",
    "                      lossFunc, PSNRFunc, trainLoss, trainPSNR)\n",
    "            checkpoint.step.assign_add(1)\n",
    "\n",
    "            t = f\"step {step}/{int(totalSteps)}, loss: {trainLoss.result():.3f}, psnr: {trainPSNR.result():.3f}\"\n",
    "            logger.info(t)\n",
    "\n",
    "            tf.summary.scalar('Train PSNR', trainPSNR.result(), step=globalStep)\n",
    "\n",
    "            tf.summary.scalar('Train loss', trainLoss.result(), step=globalStep)\n",
    "\n",
    "            if step != 0 and (step % opt.evalTestStep) == 0:\n",
    "                # Reset states for test\n",
    "                testLoss.reset_states()\n",
    "                testPSNR.reset_states()\n",
    "                for x_batch_val, y_batch_val, y_mask_batch_val in valSet:\n",
    "                    testStep(x_batch_val, y_batch_val, y_mask_batch_val, checkpoint,\n",
    "                             lossFunc, PSNRFunc, testLoss, testPSNR)\n",
    "                tf.summary.scalar(\n",
    "                    'Test loss', testLoss.result(), step=globalStep)\n",
    "                tf.summary.scalar(\n",
    "                    'Test PSNR', testPSNR.result(), step=globalStep)\n",
    "                t = f\"Validation results... val_loss: {testLoss.result():.3f}, val_psnr: {testPSNR.result():.3f}\"\n",
    "                logger.info(t)\n",
    "                w.flush()\n",
    "\n",
    "                if saveBestOnly and (testPSNR.result() <= checkpoint.psnr):\n",
    "                    continue\n",
    "\n",
    "                checkpoint.psnr = testPSNR.result()\n",
    "                checkpointManager.save()\n",
    "\n",
    "@tf.function\n",
    "def trainStep(patchLR, patchHR, maskHR, checkpoint, loss, metric, trainLoss, trainPSNR):\n",
    "    with tf.GradientTape() as tape:\n",
    "\n",
    "        predPatchHR = checkpoint.model(patchLR, training=True)\n",
    "        loss = shiftCompensatedL1Lossv2(patchHR, maskHR, predPatchHR)  # Loss(patchHR: tf.Tensor, maskHR: tf.Tensor, predPatchHR: tf.Tensor)\n",
    "\n",
    "    gradients = tape.gradient(loss, checkpoint.model.trainable_variables)\n",
    "    checkpoint.optimizer.apply_gradients(zip(gradients, checkpoint.model.trainable_variables))\n",
    "\n",
    "    metric = shiftCompensatedL1Lossv2(patchHR, maskHR, predPatchHR)\n",
    "    trainLoss(loss)\n",
    "    trainPSNR(metric)\n",
    "\n",
    "@tf.function\n",
    "def testStep(patchLR, patchHR, maskHR, checkpoint, loss, metric, testLoss, testPSNR):\n",
    "    sr = checkpoint.model(patchLR, training=False)\n",
    "    loss = loss(patchHR, maskHR, predPatchHR)\n",
    "    metric = metric(patchHR, maskHR, predPatchHR)\n",
    "\n",
    "    testLoss(loss)\n",
    "    testPSNR(metric)"
   ]
  },
  {
   "cell_type": "code",
   "execution_count": 10,
   "metadata": {},
   "outputs": [],
   "source": [
    "def shiftCompensatedL1Lossv2(patchHR: tf.Tensor, maskHR: tf.Tensor, predPatchHR: tf.Tensor) -> float:\n",
    "    '''\n",
    "    The minimum L1 Loss of every possible pixel shift between the predicted HR image and the ground truth.\n",
    "    This is how the ESA has been computing the submissions of the contestants.\n",
    "    See details at the ff link: https://kelvins.esa.int/proba-v-super-resolution/scoring/\n",
    "    '''\n",
    "    theShape = tf.shape(patchHR)\n",
    "\n",
    "    cropSizeHeight = 96 - MAX_PIXEL_SHIFT\n",
    "    cropSizeWidth = 96 - MAX_PIXEL_SHIFT\n",
    "    cropPrediction = cropImage(predPatchHR, CROP_BORDER, cropSizeHeight, CROP_BORDER, cropSizeWidth)\n",
    "    cacheLosses = []\n",
    "\n",
    "    # Iterate through all possible shift configurations\n",
    "    for i in range(MAX_PIXEL_SHIFT+1):\n",
    "        for j in range(MAX_PIXEL_SHIFT+1):\n",
    "            theShape = tf.shape(cropPrediction)\n",
    "            cropTrueImg = cropImage(patchHR, i, theShape[1], j, theShape[2])\n",
    "            cropTrueMsk = cropImage(maskHR, i, theShape[1], j, theShape[2])\n",
    "            cropPredMskd = cropPrediction * cropTrueMsk\n",
    "            totalClearPixels = tf.reduce_sum(cropTrueMsk, axis=(1, 2, 3))\n",
    "\n",
    "            b = (1.0 / totalClearPixels) * tf.reduce_sum(tf.subtract(cropTrueMsk, cropPredMskd), axis=(1, 2, 3))\n",
    "            b = tf.reshape(b, (theShape[0], 1, 1, theShape[3]))\n",
    "\n",
    "    correctedCropPred = cropPrediction + b\n",
    "    correctedCropPredMskd = correctedCropPred * cropTrueMsk\n",
    "\n",
    "    L1Loss = computeL1Loss(totalClearPixels, cropTrueImg, correctedCropPredMskd)\n",
    "    cacheLosses.append(L1Loss)\n",
    "    cacheLosses = tf.stack(cacheLosses)\n",
    "    minLoss = tf.reduce_min(cacheLosses)\n",
    "    return minLoss"
   ]
  },
  {
   "cell_type": "code",
   "execution_count": 4,
   "metadata": {},
   "outputs": [],
   "source": [
    "from trainClass import *"
   ]
  },
  {
   "cell_type": "code",
   "execution_count": 11,
   "metadata": {},
   "outputs": [],
   "source": [
    "trainClass = ModelTrain(model=model,\n",
    "                       loss=shiftCompensatedL1Lossv2,\n",
    "                       metric=shiftCompensatedL1Lossv2,\n",
    "                       optimizer=Nadam(learning_rate=5e-4),\n",
    "                       ckptDir='ckpt',\n",
    "                       logDir='log')"
   ]
  },
  {
   "cell_type": "code",
   "execution_count": 6,
   "metadata": {},
   "outputs": [],
   "source": [
    "model = WDSRConv3D(scale=3, numFilters=32, kernelSize=(3, 3, 3), numResBlocks=8,\n",
    "                expRate=8, decayRate=0.8, numImgLR=9, patchSizeLR=32, isGrayScale=True)"
   ]
  },
  {
   "cell_type": "code",
   "execution_count": 8,
   "metadata": {},
   "outputs": [],
   "source": [
    "X = np.random.randint(0, 1400, (100, 32, 32, 9, 1))\n",
    "y = np.random.randint(0, 1400, (100, 96, 96, 1))\n",
    "y_mask = np.random.randint(0, 2, (100, 96, 96, 1)).astype(np.bool)\n",
    "X_train, X_val, y_train, y_val, y_train_mask, y_val_mask = train_test_split(\n",
    "        X, y, y_mask, test_size=0.7, random_state=17)\n",
    "\n",
    "X_train = tf.convert_to_tensor(X_train, dtype=tf.float32)\n",
    "X_val = tf.convert_to_tensor(X_val, dtype=tf.float32)\n",
    "y_train = tf.convert_to_tensor(y_train, dtype=tf.float32)\n",
    "y_val = tf.convert_to_tensor(y_val, dtype=tf.float32)\n",
    "y_train_mask = tf.convert_to_tensor(y_train_mask, dtype=tf.float32)\n",
    "y_val_mask = tf.convert_to_tensor(y_val_mask, dtype=tf.float32)\n",
    "\n",
    "y = [y_train, y_train_mask]\n",
    "valData = [X_val, y_val, y_val_mask]\n",
    "\n",
    "# Initialize metrics\n",
    "trainLoss = Mean(name='trainLoss')\n",
    "trainPSNR = Mean(name='trainPSNR')\n",
    "testLoss = Mean(name='testLoss')\n",
    "testPSNR = Mean(name='testPSNR')"
   ]
  },
  {
   "cell_type": "code",
   "execution_count": null,
   "metadata": {},
   "outputs": [
    {
     "name": "stdout",
     "output_type": "stream",
     "text": [
      "Loaded data...\n",
      "Initialized constants...\n",
      "Starting iterations...\n",
      "Iterating\n"
     ]
    }
   ],
   "source": [
    "trainClass.fitTrainData(X_train, y, 10, 1, 1, valData, 1)"
   ]
  },
  {
   "cell_type": "code",
   "execution_count": null,
   "metadata": {},
   "outputs": [],
   "source": []
  }
 ],
 "metadata": {
  "kernelspec": {
   "display_name": "Python 3",
   "language": "python",
   "name": "python3"
  },
  "language_info": {
   "codemirror_mode": {
    "name": "ipython",
    "version": 3
   },
   "file_extension": ".py",
   "mimetype": "text/x-python",
   "name": "python",
   "nbconvert_exporter": "python",
   "pygments_lexer": "ipython3",
   "version": "3.6.5"
  }
 },
 "nbformat": 4,
 "nbformat_minor": 4
}
