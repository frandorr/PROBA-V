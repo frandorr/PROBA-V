{
 "cells": [
  {
   "cell_type": "code",
   "execution_count": 1,
   "metadata": {},
   "outputs": [],
   "source": [
    "import sys\n",
    "sys.path.insert(0, '../utils')\n",
    "\n",
    "import os\n",
    "import cv2\n",
    "import numpy as np\n",
    "from typing import Dict, Tuple\n",
    "from skimage import io\n",
    "from dataGenerator import *\n",
    "\n",
    "%reload_ext autoreload\n",
    "%autoreload 2"
   ]
  },
  {
   "cell_type": "code",
   "execution_count": 2,
   "metadata": {},
   "outputs": [
    {
     "data": {
      "text/plain": [
       "'/home/mark/DataBank/probav_data/'"
      ]
     },
     "execution_count": 2,
     "metadata": {},
     "output_type": "execute_result"
    }
   ],
   "source": [
    "DATA_BANK_DIRECTORY"
   ]
  },
  {
   "cell_type": "code",
   "execution_count": null,
   "metadata": {},
   "outputs": [
    {
     "name": "stderr",
     "output_type": "stream",
     "text": [
      "[ INFO ] Loading data into a dictionary        : 100%|██████████| 566/566 [00:09<00:00, 59.07it/s]\n",
      "[ INFO ] Removing outliers in dataset          : 100%|██████████| 566/566 [00:00<00:00, 9652.35it/s]\n",
      "[ INFO ] Upscaling LowRes images               : 100%|██████████| 562/562 [01:38<00:00,  5.73it/s]\n",
      "[ INFO ] Converting imageSets into numpy arrays: 100%|██████████| 562/562 [00:11<00:00, 48.48it/s]\n",
      "[ INFO ] Saving numpy arrays                   : 100%|██████████| 562/562 [00:18<00:00, 29.75it/s]\n",
      "[ INFO ] Correcting shifts in imagesets        : 100%|██████████| 562/562 [05:24<00:00,  1.73it/s]\n",
      "[ INFO ] Upscaling LowRes images               :  46%|████▌     | 258/561 [19:07<22:29,  4.45s/it]"
     ]
    }
   ],
   "source": [
    "# Load dataset\n",
    "imgAllSets = generateImageSet(isTrainData=True, NIR=True)\n",
    "\n",
    "# Remove outliers\n",
    "imgAllSets = removeImageWithOutlierPixels(imageSet=imgAllSets, threshold=60000, isTrainData=True)\n",
    "\n",
    "# Upscale\n",
    "imgAllSetsUpScaled = upsampleImages(imageSets=imgAllSets, scale=3)  # 128x128 -> 384x384\n",
    "\n",
    "# Convert dataset to numpy array\n",
    "output = imageSetToNumpyArrayHelper(imgAllSetsUpScaled, imgAllSets, isGrayScale=True, isNHWC=False)\n",
    "\n",
    "# Get shifts and trim dataset based on shift threshold\n",
    "# Read more about this shifts happening in LR Images here\n",
    "# https://kelvins.esa.int/proba-v-super-resolution/data/\n",
    "saveArrays(output, DATA_BANK_DIRECTORY_PREPROCESSING_CHKPT, 'NIR')\n",
    "\n",
    "\n",
    "correctShiftsFromSavedArrays(os.path.join(DATA_BANK_DIRECTORY_PREPROCESSING_CHKPT,\n",
    "                                              'numpyArrays', 'NIR'),\n",
    "                             os.path.join(DATA_BANK_DIRECTORY_PREPROCESSING_CHKPT,\n",
    "                                              'correctedShifts', 'NIR'),\n",
    "                             output['names'], upsampleScale=1)\n",
    "\n",
    "srcFolder = os.path.join(DATA_BANK_DIRECTORY_PREPROCESSING_CHKPT, 'correctedShifts', 'NIR')\n",
    "dstFolder = os.path.join(DATA_BANK_DIRECTORY_PREPROCESSING_CHKPT, 'patches', 'upsample', 'NIR')\n",
    "\n",
    "generatePatchDatasetFromSavedFile(srcFolder, dstFolder, output['names'], useUpsample=True,\n",
    "                                      patchSize=96, thresholdPatchesPerImgSet=20, thresholdClarityLR=0.7,\n",
    "                                      thresholdClarityHR=0.85)"
   ]
  },
  {
   "cell_type": "code",
   "execution_count": null,
   "metadata": {},
   "outputs": [],
   "source": []
  }
 ],
 "metadata": {
  "kernelspec": {
   "display_name": "Python 3",
   "language": "python",
   "name": "python3"
  },
  "language_info": {
   "codemirror_mode": {
    "name": "ipython",
    "version": 3
   },
   "file_extension": ".py",
   "mimetype": "text/x-python",
   "name": "python",
   "nbconvert_exporter": "python",
   "pygments_lexer": "ipython3",
   "version": "3.6.9"
  }
 },
 "nbformat": 4,
 "nbformat_minor": 2
}
