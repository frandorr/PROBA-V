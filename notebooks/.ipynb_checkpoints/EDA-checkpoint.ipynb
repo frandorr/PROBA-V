{
 "cells": [
  {
   "cell_type": "code",
   "execution_count": 1,
   "metadata": {},
   "outputs": [],
   "source": [
    "import sys\n",
    "sys.path.insert(0, '../utils')\n",
    "\n",
    "import os\n",
    "import cv2\n",
    "import numpy as np\n",
    "from typing import Dict, Tuple\n",
    "from skimage import io\n",
    "from dataGenerator import *\n",
    "\n",
    "%reload_ext autoreload\n",
    "%autoreload 2"
   ]
  },
  {
   "cell_type": "code",
   "execution_count": 2,
   "metadata": {},
   "outputs": [
    {
     "data": {
      "text/plain": [
       "'/home/mark/DataBank/probav_data/'"
      ]
     },
     "execution_count": 2,
     "metadata": {},
     "output_type": "execute_result"
    }
   ],
   "source": [
    "DATA_BANK_DIRECTORY"
   ]
  },
  {
   "cell_type": "code",
   "execution_count": 44,
   "metadata": {},
   "outputs": [
    {
     "name": "stderr",
     "output_type": "stream",
     "text": [
      "Loading data into a dictionary        : 100%|██████████| 566/566 [00:12<00:00, 45.58it/s]\n",
      "Removing outliers in dataset          : 100%|██████████| 566/566 [00:00<00:00, 9942.36it/s]\n",
      "Upscaling LowRes images               : 100%|██████████| 562/562 [01:33<00:00,  5.98it/s]\n"
     ]
    },
    {
     "ename": "TypeError",
     "evalue": "imageSet2NumpyArrayHelper() missing 1 required positional argument: 'imageSets'",
     "output_type": "error",
     "traceback": [
      "\u001b[0;31m---------------------------------------------------------------------------\u001b[0m",
      "\u001b[0;31mTypeError\u001b[0m                                 Traceback (most recent call last)",
      "\u001b[0;32m<ipython-input-44-edc21008e83e>\u001b[0m in \u001b[0;36m<module>\u001b[0;34m\u001b[0m\n\u001b[1;32m      3\u001b[0m \u001b[0mimgAllSetsUpScaled\u001b[0m \u001b[0;34m=\u001b[0m \u001b[0mupsampleImages\u001b[0m\u001b[0;34m(\u001b[0m\u001b[0mimageSets\u001b[0m\u001b[0;34m=\u001b[0m\u001b[0mimgAllSets\u001b[0m\u001b[0;34m,\u001b[0m \u001b[0mscale\u001b[0m\u001b[0;34m=\u001b[0m\u001b[0;36m3\u001b[0m\u001b[0;34m)\u001b[0m\u001b[0;34m\u001b[0m\u001b[0;34m\u001b[0m\u001b[0m\n\u001b[1;32m      4\u001b[0m \u001b[0;34m\u001b[0m\u001b[0m\n\u001b[0;32m----> 5\u001b[0;31m \u001b[0moutput\u001b[0m \u001b[0;34m=\u001b[0m \u001b[0mimageSet2NumpyArrayHelper\u001b[0m\u001b[0;34m(\u001b[0m\u001b[0mimgAllSetsUpScaled\u001b[0m\u001b[0;34m,\u001b[0m \u001b[0misGrayScale\u001b[0m\u001b[0;34m=\u001b[0m\u001b[0;32mTrue\u001b[0m\u001b[0;34m,\u001b[0m \u001b[0misNHWC\u001b[0m\u001b[0;34m=\u001b[0m\u001b[0;32mFalse\u001b[0m\u001b[0;34m)\u001b[0m\u001b[0;34m\u001b[0m\u001b[0;34m\u001b[0m\u001b[0m\n\u001b[0m\u001b[1;32m      6\u001b[0m \u001b[0mimgLRSetsUpscaled\u001b[0m\u001b[0;34m,\u001b[0m \u001b[0mimgLRSets\u001b[0m\u001b[0;34m,\u001b[0m \u001b[0mimgHRSets\u001b[0m\u001b[0;34m,\u001b[0m\u001b[0;31m \u001b[0m\u001b[0;31m\\\u001b[0m\u001b[0;34m\u001b[0m\u001b[0;34m\u001b[0m\u001b[0m\n\u001b[1;32m      7\u001b[0m     \u001b[0mmaskLRSetsUpsacaled\u001b[0m\u001b[0;34m,\u001b[0m \u001b[0mmaskLRSets\u001b[0m\u001b[0;34m,\u001b[0m \u001b[0mmaskHRSets\u001b[0m\u001b[0;34m,\u001b[0m \u001b[0mnames\u001b[0m \u001b[0;34m=\u001b[0m \u001b[0moutput\u001b[0m\u001b[0;34m\u001b[0m\u001b[0;34m\u001b[0m\u001b[0m\n",
      "\u001b[0;31mTypeError\u001b[0m: imageSet2NumpyArrayHelper() missing 1 required positional argument: 'imageSets'"
     ]
    }
   ],
   "source": [
    "imgAllSets = generateImageSet(isTrainData=True, NIR=True)\n",
    "imgAllSets = removeImageWithOutlierPixels(imageSet=imgAllSets, threshold=60000, isTrainData=True)\n",
    "imgAllSetsUpScaled = upsampleImages(imageSets=imgAllSets, scale=3)\n",
    "\n",
    "output = imageSet2NumpyArrayHelper(imgAllSetsUpScaled, imgAllSets, isGrayScale=True, isNHWC=False)\n",
    "imgLRSetsUpscaled, imgLRSets, imgHRSets, \\\n",
    "    maskLRSetsUpsacaled, maskLRSets, maskHRSets, names = output\n",
    "\n",
    "outputFromCorrectShifts = correctShifts(imgLRSetsUpscaled, maskLRSetsUpsacaled,\n",
    "                                        imgLRSets, maskLRSets,\n",
    "                                        imgHRSets, maskHRSets,\n",
    "                                            names, upsampleScale=1)\n",
    "imgLRSetsUpscaled, imgLRSets, imgHRSets, \\\n",
    "    maskLRSetsUpsacaled, maskLRSets, maskHRSets, shifts, names = outputFromCorrectShifts"
   ]
  },
  {
   "cell_type": "code",
   "execution_count": 30,
   "metadata": {},
   "outputs": [
    {
     "name": "stderr",
     "output_type": "stream",
     "text": [
      "Converting imageSets into numpy arrays:   0%|          | 0/562 [00:00<?, ?it/s]\n"
     ]
    },
    {
     "ename": "KeyError",
     "evalue": "'HR'",
     "output_type": "error",
     "traceback": [
      "\u001b[0;31m---------------------------------------------------------------------------\u001b[0m",
      "\u001b[0;31mKeyError\u001b[0m                                  Traceback (most recent call last)",
      "\u001b[0;32m<ipython-input-30-c46d4359de8c>\u001b[0m in \u001b[0;36m<module>\u001b[0;34m\u001b[0m\n\u001b[0;32m----> 1\u001b[0;31m \u001b[0moutputNorm\u001b[0m \u001b[0;34m=\u001b[0m \u001b[0mimageSet2NumpyArrayHelper\u001b[0m\u001b[0;34m(\u001b[0m\u001b[0mimgAllSets\u001b[0m\u001b[0;34m,\u001b[0m \u001b[0misGrayScale\u001b[0m\u001b[0;34m=\u001b[0m\u001b[0;32mTrue\u001b[0m\u001b[0;34m,\u001b[0m \u001b[0misNHWC\u001b[0m\u001b[0;34m=\u001b[0m\u001b[0;32mFalse\u001b[0m\u001b[0;34m)\u001b[0m\u001b[0;34m\u001b[0m\u001b[0;34m\u001b[0m\u001b[0m\n\u001b[0m\u001b[1;32m      2\u001b[0m \u001b[0mimgLRSets\u001b[0m\u001b[0;34m,\u001b[0m \u001b[0m_\u001b[0m\u001b[0;34m,\u001b[0m \u001b[0mmaskLRSets\u001b[0m\u001b[0;34m,\u001b[0m \u001b[0m_\u001b[0m\u001b[0;34m,\u001b[0m \u001b[0m_\u001b[0m \u001b[0;34m=\u001b[0m \u001b[0moutputNorm\u001b[0m\u001b[0;34m\u001b[0m\u001b[0;34m\u001b[0m\u001b[0m\n\u001b[1;32m      3\u001b[0m outputFromCorrectShifts = correctShifts(imgLRSetsUpscaled, maskLRSetsUpsacaled,\n\u001b[1;32m      4\u001b[0m                                         \u001b[0mimgLRSets\u001b[0m\u001b[0;34m,\u001b[0m \u001b[0mmaskLRSets\u001b[0m\u001b[0;34m,\u001b[0m\u001b[0;34m\u001b[0m\u001b[0;34m\u001b[0m\u001b[0m\n\u001b[1;32m      5\u001b[0m                                         \u001b[0mimgHRSets\u001b[0m\u001b[0;34m,\u001b[0m \u001b[0mmaskHRSets\u001b[0m\u001b[0;34m,\u001b[0m\u001b[0;34m\u001b[0m\u001b[0;34m\u001b[0m\u001b[0m\n",
      "\u001b[0;32m~/PROBA-V/utils/dataGenerator.py\u001b[0m in \u001b[0;36mimageSet2NumpyArrayHelper\u001b[0;34m(imageSets, isGrayScale, isNHWC)\u001b[0m\n\u001b[1;32m     86\u001b[0m     \u001b[0;32mfor\u001b[0m \u001b[0mname\u001b[0m \u001b[0;32min\u001b[0m \u001b[0mtqdm\u001b[0m\u001b[0;34m(\u001b[0m\u001b[0mimageSets\u001b[0m\u001b[0;34m.\u001b[0m\u001b[0mkeys\u001b[0m\u001b[0;34m(\u001b[0m\u001b[0;34m)\u001b[0m\u001b[0;34m,\u001b[0m \u001b[0mdesc\u001b[0m\u001b[0;34m=\u001b[0m\u001b[0;34m'Converting imageSets into numpy arrays'\u001b[0m\u001b[0;34m)\u001b[0m\u001b[0;34m:\u001b[0m\u001b[0;34m\u001b[0m\u001b[0;34m\u001b[0m\u001b[0m\n\u001b[1;32m     87\u001b[0m         \u001b[0mcurrSet\u001b[0m \u001b[0;34m=\u001b[0m \u001b[0mimageSets\u001b[0m\u001b[0;34m[\u001b[0m\u001b[0mname\u001b[0m\u001b[0;34m]\u001b[0m\u001b[0;34m\u001b[0m\u001b[0;34m\u001b[0m\u001b[0m\n\u001b[0;32m---> 88\u001b[0;31m         \u001b[0mioImgPair\u001b[0m\u001b[0;34m,\u001b[0m \u001b[0mioMaskPair\u001b[0m \u001b[0;34m=\u001b[0m \u001b[0mimageSet2NumpyArray\u001b[0m\u001b[0;34m(\u001b[0m\u001b[0mimageSet\u001b[0m\u001b[0;34m=\u001b[0m\u001b[0mcurrSet\u001b[0m\u001b[0;34m,\u001b[0m \u001b[0misGrayScale\u001b[0m\u001b[0;34m=\u001b[0m\u001b[0misGrayScale\u001b[0m\u001b[0;34m,\u001b[0m \u001b[0misNWHC\u001b[0m\u001b[0;34m=\u001b[0m\u001b[0misNHWC\u001b[0m\u001b[0;34m)\u001b[0m\u001b[0;34m\u001b[0m\u001b[0;34m\u001b[0m\u001b[0m\n\u001b[0m\u001b[1;32m     89\u001b[0m         \u001b[0mlrImg\u001b[0m\u001b[0;34m,\u001b[0m \u001b[0mhrImg\u001b[0m \u001b[0;34m=\u001b[0m \u001b[0mioImgPair\u001b[0m\u001b[0;34m\u001b[0m\u001b[0;34m\u001b[0m\u001b[0m\n\u001b[1;32m     90\u001b[0m         \u001b[0mlrMask\u001b[0m\u001b[0;34m,\u001b[0m \u001b[0mhrMask\u001b[0m \u001b[0;34m=\u001b[0m \u001b[0mioMaskPair\u001b[0m\u001b[0;34m\u001b[0m\u001b[0;34m\u001b[0m\u001b[0m\n",
      "\u001b[0;32m~/PROBA-V/utils/dataGenerator.py\u001b[0m in \u001b[0;36mimageSet2NumpyArray\u001b[0;34m(imageSet, isGrayScale, isNWHC)\u001b[0m\n\u001b[1;32m    438\u001b[0m     \u001b[0mnumHighResImg\u001b[0m \u001b[0;34m=\u001b[0m \u001b[0;36m1\u001b[0m\u001b[0;34m\u001b[0m\u001b[0;34m\u001b[0m\u001b[0m\n\u001b[1;32m    439\u001b[0m     \u001b[0;32mif\u001b[0m \u001b[0misGrayScale\u001b[0m\u001b[0;34m:\u001b[0m\u001b[0;34m\u001b[0m\u001b[0;34m\u001b[0m\u001b[0m\n\u001b[0;32m--> 440\u001b[0;31m         \u001b[0mheightHighRes\u001b[0m\u001b[0;34m,\u001b[0m \u001b[0mwidthHighRes\u001b[0m \u001b[0;34m=\u001b[0m \u001b[0mimgArrayDict\u001b[0m\u001b[0;34m[\u001b[0m\u001b[0;34m'HR'\u001b[0m\u001b[0;34m]\u001b[0m\u001b[0;34m.\u001b[0m\u001b[0mshape\u001b[0m\u001b[0;34m\u001b[0m\u001b[0;34m\u001b[0m\u001b[0m\n\u001b[0m\u001b[1;32m    441\u001b[0m         \u001b[0mheightLowRes\u001b[0m\u001b[0;34m,\u001b[0m \u001b[0mwidthLowRes\u001b[0m \u001b[0;34m=\u001b[0m \u001b[0mimgArrayDict\u001b[0m\u001b[0;34m[\u001b[0m\u001b[0mlist\u001b[0m\u001b[0;34m(\u001b[0m\u001b[0mimgArrayDict\u001b[0m\u001b[0;34m.\u001b[0m\u001b[0mkeys\u001b[0m\u001b[0;34m(\u001b[0m\u001b[0;34m)\u001b[0m\u001b[0;34m)\u001b[0m\u001b[0;34m[\u001b[0m\u001b[0;36m1\u001b[0m\u001b[0;34m]\u001b[0m\u001b[0;34m]\u001b[0m\u001b[0;34m.\u001b[0m\u001b[0mshape\u001b[0m\u001b[0;34m\u001b[0m\u001b[0;34m\u001b[0m\u001b[0m\n\u001b[1;32m    442\u001b[0m         \u001b[0mchannel\u001b[0m \u001b[0;34m=\u001b[0m \u001b[0;36m1\u001b[0m\u001b[0;34m\u001b[0m\u001b[0;34m\u001b[0m\u001b[0m\n",
      "\u001b[0;31mKeyError\u001b[0m: 'HR'"
     ]
    }
   ],
   "source": [
    "outputNorm = imageSet2NumpyArrayHelper(imgAllSets, isGrayScale=True, isNHWC=False)\n",
    "imgLRSets, _, maskLRSets, _, _ = outputNorm\n",
    "outputFromCorrectShifts = correctShifts(imgLRSetsUpscaled, maskLRSetsUpsacaled,\n",
    "                                        imgLRSets, maskLRSets,\n",
    "                                        imgHRSets, maskHRSets,\n",
    "                                            names, upsampleScale=1)\n",
    "imgLRSetsUpscaled, imgLRSets, imgHRSets, \\\n",
    "    maskLRSetsUpsacaled, maskLRSets, maskHRSets, shifts, names = outputFromCorrectShifts"
   ]
  },
  {
   "cell_type": "code",
   "execution_count": 37,
   "metadata": {},
   "outputs": [
    {
     "name": "stderr",
     "output_type": "stream",
     "text": [
      "Loading data into a dictionary        : 100%|██████████| 566/566 [00:10<00:00, 55.89it/s]\n",
      "Removing outliers in dataset          : 100%|██████████| 566/566 [00:00<00:00, 9408.52it/s]\n",
      "Upscaling LowRes images               : 100%|██████████| 562/562 [01:32<00:00,  6.08it/s]\n",
      "Converting imageSets into numpy arrays: 100%|██████████| 562/562 [00:08<00:00, 66.83it/s] \n",
      "Converting imageSets into numpy arrays:   0%|          | 0/562 [00:00<?, ?it/s]\n"
     ]
    },
    {
     "ename": "KeyError",
     "evalue": "'HR'",
     "output_type": "error",
     "traceback": [
      "\u001b[0;31m---------------------------------------------------------------------------\u001b[0m",
      "\u001b[0;31mKeyError\u001b[0m                                  Traceback (most recent call last)",
      "\u001b[0;32m<ipython-input-37-557568a1b189>\u001b[0m in \u001b[0;36m<module>\u001b[0;34m\u001b[0m\n\u001b[1;32m      6\u001b[0m \u001b[0mimgLRSetsUpscaled\u001b[0m\u001b[0;34m,\u001b[0m \u001b[0mimgHRSets\u001b[0m\u001b[0;34m,\u001b[0m \u001b[0mmaskLRSetsUpsacaled\u001b[0m\u001b[0;34m,\u001b[0m \u001b[0mmaskHRSets\u001b[0m\u001b[0;34m,\u001b[0m \u001b[0mnames\u001b[0m \u001b[0;34m=\u001b[0m \u001b[0moutputUpscaled\u001b[0m\u001b[0;34m\u001b[0m\u001b[0;34m\u001b[0m\u001b[0m\n\u001b[1;32m      7\u001b[0m \u001b[0;34m\u001b[0m\u001b[0m\n\u001b[0;32m----> 8\u001b[0;31m \u001b[0moutputNorm\u001b[0m \u001b[0;34m=\u001b[0m \u001b[0mimageSet2NumpyArrayHelper\u001b[0m\u001b[0;34m(\u001b[0m\u001b[0mimgAllSets\u001b[0m\u001b[0;34m,\u001b[0m \u001b[0misGrayScale\u001b[0m\u001b[0;34m=\u001b[0m\u001b[0;32mTrue\u001b[0m\u001b[0;34m,\u001b[0m \u001b[0misNHWC\u001b[0m\u001b[0;34m=\u001b[0m\u001b[0;32mFalse\u001b[0m\u001b[0;34m)\u001b[0m\u001b[0;34m\u001b[0m\u001b[0;34m\u001b[0m\u001b[0m\n\u001b[0m\u001b[1;32m      9\u001b[0m \u001b[0mimgLRSets\u001b[0m\u001b[0;34m,\u001b[0m \u001b[0m_\u001b[0m\u001b[0;34m,\u001b[0m \u001b[0mmaskLRSets\u001b[0m\u001b[0;34m,\u001b[0m \u001b[0m_\u001b[0m\u001b[0;34m,\u001b[0m \u001b[0m_\u001b[0m \u001b[0;34m=\u001b[0m \u001b[0moutputNorm\u001b[0m\u001b[0;34m\u001b[0m\u001b[0;34m\u001b[0m\u001b[0m\n\u001b[1;32m     10\u001b[0m \u001b[0;34m\u001b[0m\u001b[0m\n",
      "\u001b[0;32m~/PROBA-V/utils/dataGenerator.py\u001b[0m in \u001b[0;36mimageSet2NumpyArrayHelper\u001b[0;34m(imageSets, isGrayScale, isNHWC)\u001b[0m\n\u001b[1;32m     86\u001b[0m     \u001b[0;32mfor\u001b[0m \u001b[0mname\u001b[0m \u001b[0;32min\u001b[0m \u001b[0mtqdm\u001b[0m\u001b[0;34m(\u001b[0m\u001b[0mimageSets\u001b[0m\u001b[0;34m.\u001b[0m\u001b[0mkeys\u001b[0m\u001b[0;34m(\u001b[0m\u001b[0;34m)\u001b[0m\u001b[0;34m,\u001b[0m \u001b[0mdesc\u001b[0m\u001b[0;34m=\u001b[0m\u001b[0;34m'Converting imageSets into numpy arrays'\u001b[0m\u001b[0;34m)\u001b[0m\u001b[0;34m:\u001b[0m\u001b[0;34m\u001b[0m\u001b[0;34m\u001b[0m\u001b[0m\n\u001b[1;32m     87\u001b[0m         \u001b[0mcurrSet\u001b[0m \u001b[0;34m=\u001b[0m \u001b[0mimageSets\u001b[0m\u001b[0;34m[\u001b[0m\u001b[0mname\u001b[0m\u001b[0;34m]\u001b[0m\u001b[0;34m\u001b[0m\u001b[0;34m\u001b[0m\u001b[0m\n\u001b[0;32m---> 88\u001b[0;31m         \u001b[0mioImgPair\u001b[0m\u001b[0;34m,\u001b[0m \u001b[0mioMaskPair\u001b[0m \u001b[0;34m=\u001b[0m \u001b[0mimageSet2NumpyArray\u001b[0m\u001b[0;34m(\u001b[0m\u001b[0mimageSet\u001b[0m\u001b[0;34m=\u001b[0m\u001b[0mcurrSet\u001b[0m\u001b[0;34m,\u001b[0m \u001b[0misGrayScale\u001b[0m\u001b[0;34m=\u001b[0m\u001b[0misGrayScale\u001b[0m\u001b[0;34m,\u001b[0m \u001b[0misNWHC\u001b[0m\u001b[0;34m=\u001b[0m\u001b[0misNHWC\u001b[0m\u001b[0;34m)\u001b[0m\u001b[0;34m\u001b[0m\u001b[0;34m\u001b[0m\u001b[0m\n\u001b[0m\u001b[1;32m     89\u001b[0m         \u001b[0mlrImg\u001b[0m\u001b[0;34m,\u001b[0m \u001b[0mhrImg\u001b[0m \u001b[0;34m=\u001b[0m \u001b[0mioImgPair\u001b[0m\u001b[0;34m\u001b[0m\u001b[0;34m\u001b[0m\u001b[0m\n\u001b[1;32m     90\u001b[0m         \u001b[0mlrMask\u001b[0m\u001b[0;34m,\u001b[0m \u001b[0mhrMask\u001b[0m \u001b[0;34m=\u001b[0m \u001b[0mioMaskPair\u001b[0m\u001b[0;34m\u001b[0m\u001b[0;34m\u001b[0m\u001b[0m\n",
      "\u001b[0;32m~/PROBA-V/utils/dataGenerator.py\u001b[0m in \u001b[0;36mimageSet2NumpyArray\u001b[0;34m(imageSet, isGrayScale, isNWHC)\u001b[0m\n\u001b[1;32m    438\u001b[0m     \u001b[0mnumHighResImg\u001b[0m \u001b[0;34m=\u001b[0m \u001b[0;36m1\u001b[0m\u001b[0;34m\u001b[0m\u001b[0;34m\u001b[0m\u001b[0m\n\u001b[1;32m    439\u001b[0m     \u001b[0;32mif\u001b[0m \u001b[0misGrayScale\u001b[0m\u001b[0;34m:\u001b[0m\u001b[0;34m\u001b[0m\u001b[0;34m\u001b[0m\u001b[0m\n\u001b[0;32m--> 440\u001b[0;31m         \u001b[0mheightHighRes\u001b[0m\u001b[0;34m,\u001b[0m \u001b[0mwidthHighRes\u001b[0m \u001b[0;34m=\u001b[0m \u001b[0mimgArrayDict\u001b[0m\u001b[0;34m[\u001b[0m\u001b[0;34m'HR'\u001b[0m\u001b[0;34m]\u001b[0m\u001b[0;34m.\u001b[0m\u001b[0mshape\u001b[0m\u001b[0;34m\u001b[0m\u001b[0;34m\u001b[0m\u001b[0m\n\u001b[0m\u001b[1;32m    441\u001b[0m         \u001b[0mheightLowRes\u001b[0m\u001b[0;34m,\u001b[0m \u001b[0mwidthLowRes\u001b[0m \u001b[0;34m=\u001b[0m \u001b[0mimgArrayDict\u001b[0m\u001b[0;34m[\u001b[0m\u001b[0mlist\u001b[0m\u001b[0;34m(\u001b[0m\u001b[0mimgArrayDict\u001b[0m\u001b[0;34m.\u001b[0m\u001b[0mkeys\u001b[0m\u001b[0;34m(\u001b[0m\u001b[0;34m)\u001b[0m\u001b[0;34m)\u001b[0m\u001b[0;34m[\u001b[0m\u001b[0;36m1\u001b[0m\u001b[0;34m]\u001b[0m\u001b[0;34m]\u001b[0m\u001b[0;34m.\u001b[0m\u001b[0mshape\u001b[0m\u001b[0;34m\u001b[0m\u001b[0;34m\u001b[0m\u001b[0m\n\u001b[1;32m    442\u001b[0m         \u001b[0mchannel\u001b[0m \u001b[0;34m=\u001b[0m \u001b[0;36m1\u001b[0m\u001b[0;34m\u001b[0m\u001b[0;34m\u001b[0m\u001b[0m\n",
      "\u001b[0;31mKeyError\u001b[0m: 'HR'"
     ]
    }
   ],
   "source": [
    "imgAllSets = generateImageSet(isTrainData=True, NIR=True)\n",
    "imgAllSets = removeImageWithOutlierPixels(imageSet=imgAllSets, threshold=60000, isTrainData=True)\n",
    "imgAllSetsUpScaled = upsampleImages(imageSets=imgAllSets, scale=3)\n",
    "\n",
    "outputUpscaled = imageSet2NumpyArrayHelper(imgAllSetsUpScaled, isGrayScale=True, isNHWC=False)\n",
    "imgLRSetsUpscaled, imgHRSets, maskLRSetsUpsacaled, maskHRSets, names = outputUpscaled\n",
    "\n",
    "outputNorm = imageSet2NumpyArrayHelper(imgAllSets, isGrayScale=True, isNHWC=False)\n",
    "imgLRSets, _, maskLRSets, _, _ = outputNorm\n",
    "\n",
    "imgDict, mskDict = imgAllSets['imgset0594']\n",
    "imgDict.keys()"
   ]
  },
  {
   "cell_type": "code",
   "execution_count": 40,
   "metadata": {},
   "outputs": [],
   "source": [
    "imgDict, mskDict = imgAllSetsUpScaled['imgset0594']"
   ]
  },
  {
   "cell_type": "code",
   "execution_count": 43,
   "metadata": {},
   "outputs": [
    {
     "data": {
      "text/plain": [
       "dict_keys(['LR000', 'LR003', 'LR004', 'LR005', 'LR006', 'LR007', 'LR008', 'LR009', 'LR010', 'LR011', 'LR012', 'LR013', 'LR014', 'LR015', 'LR016', 'LR018', 'LR019', 'LR020'])"
      ]
     },
     "execution_count": 43,
     "metadata": {},
     "output_type": "execute_result"
    }
   ],
   "source": [
    "imgDict.keys()"
   ]
  },
  {
   "cell_type": "code",
   "execution_count": null,
   "metadata": {},
   "outputs": [],
   "source": []
  }
 ],
 "metadata": {
  "kernelspec": {
   "display_name": "Python 3",
   "language": "python",
   "name": "python3"
  },
  "language_info": {
   "codemirror_mode": {
    "name": "ipython",
    "version": 3
   },
   "file_extension": ".py",
   "mimetype": "text/x-python",
   "name": "python",
   "nbconvert_exporter": "python",
   "pygments_lexer": "ipython3",
   "version": "3.6.9"
  }
 },
 "nbformat": 4,
 "nbformat_minor": 2
}
