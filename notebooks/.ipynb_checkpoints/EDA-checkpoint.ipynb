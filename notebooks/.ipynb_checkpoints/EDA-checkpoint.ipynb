{
 "cells": [
  {
   "cell_type": "code",
   "execution_count": 1,
   "metadata": {},
   "outputs": [],
   "source": [
    "import sys\n",
    "sys.path.insert(0, '../utils')\n",
    "\n",
    "import os\n",
    "import cv2\n",
    "import numpy as np\n",
    "from typing import Dict, Tuple\n",
    "from skimage import io\n",
    "from dataGenerator import *\n",
    "\n",
    "%reload_ext autoreload\n",
    "%autoreload 2"
   ]
  },
  {
   "cell_type": "code",
   "execution_count": 2,
   "metadata": {},
   "outputs": [
    {
     "data": {
      "text/plain": [
       "'/home/mark/DataBank/probav_data/'"
      ]
     },
     "execution_count": 2,
     "metadata": {},
     "output_type": "execute_result"
    }
   ],
   "source": [
    "DATA_BANK_DIRECTORY"
   ]
  },
  {
   "cell_type": "code",
   "execution_count": null,
   "metadata": {},
   "outputs": [
    {
     "name": "stderr",
     "output_type": "stream",
     "text": [
      "Loading data into a dictionary        : 100%|██████████| 566/566 [00:11<00:00, 48.04it/s]\n",
      "Removing outliers in dataset          : 100%|██████████| 566/566 [00:00<00:00, 9005.64it/s]\n",
      "Upscaling LowRes images               : 100%|██████████| 562/562 [01:44<00:00,  5.37it/s]\n",
      "Converting imageSets into numpy arrays: 100%|██████████| 562/562 [00:12<00:00, 46.26it/s]\n",
      "Correcting shifts in imagesets        : 100%|█████████▉| 561/562 [05:48<00:00,  1.32it/s]"
     ]
    }
   ],
   "source": [
    "# Load dataset\n",
    "imgAllSets = generateImageSet(isTrainData=True, NIR=True)\n",
    "\n",
    "# Remove outliers\n",
    "imgAllSets = removeImageWithOutlierPixels(imageSet=imgAllSets, threshold=60000, isTrainData=True)\n",
    "\n",
    "# Upscale\n",
    "imgAllSetsUpScaled = upsampleImages(imageSets=imgAllSets, scale=3)  # 128x128 -> 384x384\n",
    "\n",
    "# Convert dataset to numpy array\n",
    "output = imageSet2NumpyArrayHelper(imgAllSetsUpScaled, imgAllSets, isGrayScale=True, isNHWC=False)\n",
    "\n",
    "# Get shifts and trim dataset based on shift threshold\n",
    "# Read more about this shifts happening in LR Images here\n",
    "# https://kelvins.esa.int/proba-v-super-resolution/data/\n",
    "\n",
    "\n",
    "output = correctShifts(output, upsampleScale=1)\n",
    "\n",
    "\n",
    "\n",
    "# Add key value element in output dictionary\n",
    "output['upsampleScale'] = 3\n",
    "\n",
    "# Create Patches\n",
    "output = generatePatchDataset(output, useUpsample=True, patchSize=96,\n",
    "                                  thresholdPatchesPerImgSet=20, thresholdClarityLR=0.7,\n",
    "                                  thresholdClarityHR=0.85)\n",
    "\n",
    "\n",
    "# Return a list of input outputs (maybe a 5D numpy array)\n",
    "normArray = generateNormArray(dirList=output['names'])"
   ]
  },
  {
   "cell_type": "code",
   "execution_count": null,
   "metadata": {},
   "outputs": [],
   "source": []
  }
 ],
 "metadata": {
  "kernelspec": {
   "display_name": "Python 3",
   "language": "python",
   "name": "python3"
  },
  "language_info": {
   "codemirror_mode": {
    "name": "ipython",
    "version": 3
   },
   "file_extension": ".py",
   "mimetype": "text/x-python",
   "name": "python",
   "nbconvert_exporter": "python",
   "pygments_lexer": "ipython3",
   "version": "3.6.9"
  }
 },
 "nbformat": 4,
 "nbformat_minor": 2
}
