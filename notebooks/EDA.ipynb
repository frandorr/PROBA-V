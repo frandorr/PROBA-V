{
 "cells": [
  {
   "cell_type": "code",
   "execution_count": 1,
   "metadata": {},
   "outputs": [],
   "source": [
    "import sys\n",
    "sys.path.insert(0, '../utils')\n",
    "\n",
    "import os\n",
    "import cv2\n",
    "import numpy as np\n",
    "from typing import Dict, Tuple\n",
    "from skimage import io\n",
    "from dataGenerator import *\n",
    "\n",
    "%reload_ext autoreload\n",
    "%autoreload 2"
   ]
  },
  {
   "cell_type": "code",
   "execution_count": 2,
   "metadata": {},
   "outputs": [
    {
     "data": {
      "text/plain": [
       "'/home/mark/DataBank/probav_data/'"
      ]
     },
     "execution_count": 2,
     "metadata": {},
     "output_type": "execute_result"
    }
   ],
   "source": [
    "DATA_BANK_DIRECTORY"
   ]
  },
  {
   "cell_type": "code",
   "execution_count": 3,
   "metadata": {},
   "outputs": [
    {
     "name": "stderr",
     "output_type": "stream",
     "text": [
      "[ INFO ] Loading data into a dictionary        : 100%|██████████| 566/566 [00:11<00:00, 49.38it/s]\n",
      "[ INFO ] Removing outliers in dataset          : 100%|██████████| 566/566 [00:00<00:00, 9589.07it/s]\n",
      "[ INFO ] Upscaling LowRes images               : 100%|██████████| 562/562 [01:45<00:00,  5.32it/s]\n",
      "[ INFO ] Converting imageSets into numpy arrays: 100%|██████████| 562/562 [00:12<00:00, 46.08it/s]\n",
      "[ INFO ] Saving numpy arrays                   : 100%|██████████| 562/562 [00:19<00:00, 28.78it/s]\n",
      "[ INFO ] Correcting shifts in imagesets        : 100%|██████████| 562/562 [05:45<00:00,  1.63it/s]\n",
      "[ INFO ] Upscaling LowRes images               :   0%|          | 0/561 [00:00<?, ?it/s]"
     ]
    },
    {
     "ename": "ValueError",
     "evalue": "need at least one array to stack",
     "output_type": "error",
     "traceback": [
      "\u001b[0;31m---------------------------------------------------------------------------\u001b[0m",
      "\u001b[0;31mValueError\u001b[0m                                Traceback (most recent call last)",
      "\u001b[0;32m<ipython-input-3-a77eb509fff0>\u001b[0m in \u001b[0;36m<module>\u001b[0;34m\u001b[0m\n\u001b[1;32m     28\u001b[0m generatePatchDatasetFromSavedFile(srcFolder, dstFolder, output['names'], useUpsample=True,\n\u001b[1;32m     29\u001b[0m                                       \u001b[0mpatchSize\u001b[0m\u001b[0;34m=\u001b[0m\u001b[0;36m96\u001b[0m\u001b[0;34m,\u001b[0m \u001b[0mthresholdPatchesPerImgSet\u001b[0m\u001b[0;34m=\u001b[0m\u001b[0;36m20\u001b[0m\u001b[0;34m,\u001b[0m \u001b[0mthresholdClarityLR\u001b[0m\u001b[0;34m=\u001b[0m\u001b[0;36m0.7\u001b[0m\u001b[0;34m,\u001b[0m\u001b[0;34m\u001b[0m\u001b[0;34m\u001b[0m\u001b[0m\n\u001b[0;32m---> 30\u001b[0;31m                                       thresholdClarityHR=0.85)\n\u001b[0m",
      "\u001b[0;32m~/PROBA-V/utils/dataGenerator.py\u001b[0m in \u001b[0;36mgeneratePatchDatasetFromSavedFile\u001b[0;34m(srcFolder, dstFolder, names, useUpsample, patchSize, thresholdPatchesPerImgSet, thresholdClarityLR, thresholdClarityHR)\u001b[0m\n\u001b[1;32m    225\u001b[0m             \u001b[0;32mif\u001b[0m \u001b[0mcurrNumPatches\u001b[0m \u001b[0;34m>=\u001b[0m \u001b[0mthresholdPatchesPerImgSet\u001b[0m \u001b[0;32mor\u001b[0m \u001b[0mcurrTrial\u001b[0m \u001b[0;34m>=\u001b[0m \u001b[0mMAX_TRIAL\u001b[0m\u001b[0;34m:\u001b[0m\u001b[0;34m\u001b[0m\u001b[0;34m\u001b[0m\u001b[0m\n\u001b[1;32m    226\u001b[0m                 np.save(os.path.join(dstFolder, 'imgLRPatches_{}.npy'.format(names[i])),\n\u001b[0;32m--> 227\u001b[0;31m                         np.stack(imgLRPatches))\n\u001b[0m\u001b[1;32m    228\u001b[0m                 np.save(os.path.join(dstFolder, 'imgHRPatches_{}.npy'.format(names[i])),\n\u001b[1;32m    229\u001b[0m                         np.stack(imgHRPatches))\n",
      "\u001b[0;32m<__array_function__ internals>\u001b[0m in \u001b[0;36mstack\u001b[0;34m(*args, **kwargs)\u001b[0m\n",
      "\u001b[0;32m~/.local/lib/python3.6/site-packages/numpy/core/shape_base.py\u001b[0m in \u001b[0;36mstack\u001b[0;34m(arrays, axis, out)\u001b[0m\n\u001b[1;32m    420\u001b[0m     \u001b[0marrays\u001b[0m \u001b[0;34m=\u001b[0m \u001b[0;34m[\u001b[0m\u001b[0masanyarray\u001b[0m\u001b[0;34m(\u001b[0m\u001b[0marr\u001b[0m\u001b[0;34m)\u001b[0m \u001b[0;32mfor\u001b[0m \u001b[0marr\u001b[0m \u001b[0;32min\u001b[0m \u001b[0marrays\u001b[0m\u001b[0;34m]\u001b[0m\u001b[0;34m\u001b[0m\u001b[0;34m\u001b[0m\u001b[0m\n\u001b[1;32m    421\u001b[0m     \u001b[0;32mif\u001b[0m \u001b[0;32mnot\u001b[0m \u001b[0marrays\u001b[0m\u001b[0;34m:\u001b[0m\u001b[0;34m\u001b[0m\u001b[0;34m\u001b[0m\u001b[0m\n\u001b[0;32m--> 422\u001b[0;31m         \u001b[0;32mraise\u001b[0m \u001b[0mValueError\u001b[0m\u001b[0;34m(\u001b[0m\u001b[0;34m'need at least one array to stack'\u001b[0m\u001b[0;34m)\u001b[0m\u001b[0;34m\u001b[0m\u001b[0;34m\u001b[0m\u001b[0m\n\u001b[0m\u001b[1;32m    423\u001b[0m \u001b[0;34m\u001b[0m\u001b[0m\n\u001b[1;32m    424\u001b[0m     \u001b[0mshapes\u001b[0m \u001b[0;34m=\u001b[0m \u001b[0;34m{\u001b[0m\u001b[0marr\u001b[0m\u001b[0;34m.\u001b[0m\u001b[0mshape\u001b[0m \u001b[0;32mfor\u001b[0m \u001b[0marr\u001b[0m \u001b[0;32min\u001b[0m \u001b[0marrays\u001b[0m\u001b[0;34m}\u001b[0m\u001b[0;34m\u001b[0m\u001b[0;34m\u001b[0m\u001b[0m\n",
      "\u001b[0;31mValueError\u001b[0m: need at least one array to stack"
     ]
    }
   ],
   "source": [
    "# Load dataset\n",
    "imgAllSets = generateImageSet(isTrainData=True, NIR=True)\n",
    "\n",
    "# Remove outliers\n",
    "imgAllSets = removeImageWithOutlierPixels(imageSet=imgAllSets, threshold=60000, isTrainData=True)\n",
    "\n",
    "# Upscale\n",
    "imgAllSetsUpScaled = upsampleImages(imageSets=imgAllSets, scale=3)  # 128x128 -> 384x384\n",
    "\n",
    "# Convert dataset to numpy array\n",
    "output = imageSetToNumpyArrayHelper(imgAllSetsUpScaled, imgAllSets, isGrayScale=True, isNHWC=False)\n",
    "\n",
    "# Get shifts and trim dataset based on shift threshold\n",
    "# Read more about this shifts happening in LR Images here\n",
    "# https://kelvins.esa.int/proba-v-super-resolution/data/\n",
    "saveArrays(output, DATA_BANK_DIRECTORY_PREPROCESSING_CHKPT, 'NIR')\n",
    "\n",
    "\n",
    "correctShiftsFromSavedArrays(os.path.join(DATA_BANK_DIRECTORY_PREPROCESSING_CHKPT,\n",
    "                                              'numpyArrays', 'NIR'),\n",
    "                             os.path.join(DATA_BANK_DIRECTORY_PREPROCESSING_CHKPT,\n",
    "                                              'correctedShifts', 'NIR'),\n",
    "                             output['names'], upsampleScale=1)\n",
    "\n",
    "srcFolder = os.path.join(DATA_BANK_DIRECTORY_PREPROCESSING_CHKPT, 'correctedShifts', 'NIR')\n",
    "dstFolder = os.path.join(DATA_BANK_DIRECTORY_PREPROCESSING_CHKPT, 'patches', 'upsample', 'NIR')\n",
    "\n",
    "generatePatchDatasetFromSavedFile(srcFolder, dstFolder, output['names'], useUpsample=True,\n",
    "                                      patchSize=96, thresholdPatchesPerImgSet=20, thresholdClarityLR=0.7,\n",
    "                                      thresholdClarityHR=0.85)"
   ]
  },
  {
   "cell_type": "code",
   "execution_count": null,
   "metadata": {},
   "outputs": [],
   "source": []
  }
 ],
 "metadata": {
  "kernelspec": {
   "display_name": "Python 3",
   "language": "python",
   "name": "python3"
  },
  "language_info": {
   "codemirror_mode": {
    "name": "ipython",
    "version": 3
   },
   "file_extension": ".py",
   "mimetype": "text/x-python",
   "name": "python",
   "nbconvert_exporter": "python",
   "pygments_lexer": "ipython3",
   "version": "3.6.9"
  }
 },
 "nbformat": 4,
 "nbformat_minor": 2
}
