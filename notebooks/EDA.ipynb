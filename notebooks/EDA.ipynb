{
 "cells": [
  {
   "cell_type": "code",
   "execution_count": 1,
   "metadata": {},
   "outputs": [],
   "source": [
    "import sys\n",
    "sys.path.insert(0, '../utils')\n",
    "\n",
    "from dataGenerator import *\n",
    "\n",
    "%reload_ext autoreload\n",
    "%autoreload 2"
   ]
  },
  {
   "cell_type": "code",
   "execution_count": 2,
   "metadata": {},
   "outputs": [],
   "source": [
    "arrayDir = '/home/mark/DataBank/PROBA-V-CHKPT/dataset'\n",
    "rawDataDir = '/home/mark/DataBank/probav_data'\n",
    "trimmedArrayDir = '/home/mark/DataBank/PROBA-V-CHKPT/registered'\n",
    "band = 'NIR'"
   ]
  },
  {
   "cell_type": "code",
   "execution_count": 6,
   "metadata": {},
   "outputs": [
    {
     "name": "stderr",
     "output_type": "stream",
     "text": [
      "[ INFO ] Loading LR images and dumping : 100%|██████████| 566/566 [00:05<00:00, 100.23it/s]\n",
      "[ INFO ] Loading LR masks and dumping  : 100%|██████████| 566/566 [00:02<00:00, 240.03it/s]\n",
      "[ INFO ] Loading HR images and dumping : 100%|██████████| 566/566 [00:01<00:00, 382.99it/s]\n",
      "[ INFO ] Loading HR masks and dumping  : 100%|██████████| 566/566 [00:00<00:00, 2810.01it/s]\n",
      "[ INFO ] Loading LR images and dumping : 100%|██████████| 594/594 [00:05<00:00, 102.58it/s]\n",
      "[ INFO ] Loading LR masks and dumping  : 100%|██████████| 594/594 [00:02<00:00, 241.24it/s]\n",
      "[ INFO ] Loading HR images and dumping : 100%|██████████| 594/594 [00:01<00:00, 392.02it/s]\n",
      "[ INFO ] Loading HR masks and dumping  : 100%|██████████| 594/594 [00:00<00:00, 2807.38it/s]\n",
      "[ INFO ] Loading LR images and dumping : 100%|██████████| 144/144 [00:01<00:00, 90.18it/s]\n",
      "[ INFO ] Loading LR masks and dumping  : 100%|██████████| 144/144 [00:00<00:00, 214.85it/s]\n",
      "[ INFO ] Loading LR images and dumping : 100%|██████████| 146/146 [00:01<00:00, 91.62it/s]\n",
      "[ INFO ] Loading LR masks and dumping  : 100%|██████████| 146/146 [00:00<00:00, 206.59it/s]\n"
     ]
    }
   ],
   "source": [
    "loadAndSaveRawData(rawDataDir, arrayDir, 'NIR', isGrayScale=True, isTrainData=True)\n",
    "loadAndSaveRawData(rawDataDir, arrayDir, 'RED', isGrayScale=True, isTrainData=True)\n",
    "loadAndSaveRawData(rawDataDir, arrayDir, 'NIR', isGrayScale=True, isTrainData=False)\n",
    "loadAndSaveRawData(rawDataDir, arrayDir, 'RED', isGrayScale=True, isTrainData=False)"
   ]
  },
  {
   "cell_type": "code",
   "execution_count": null,
   "metadata": {},
   "outputs": [
    {
     "name": "stderr",
     "output_type": "stream",
     "text": [
      "[ INFO ] Registering LR images         : 100%|██████████| 566/566 [04:07<00:00,  2.29it/s]\n",
      "[ INFO ] Removing corrupted ImageSets  : 100%|██████████| 566/566 [00:00<00:00, 4071.22it/s]\n",
      "[ INFO ] Picking top 9 clearest images : 100%|██████████| 132/132 [00:00<00:00, 1054.25it/s]\n",
      "[ INFO ] Registering LR images         : 100%|██████████| 144/144 [01:03<00:00,  2.26it/s]\n",
      "[ INFO ] Removing corrupted ImageSets  : 100%|██████████| 144/144 [00:00<00:00, 4040.43it/s]\n",
      "[ INFO ] Picking top 9 clearest images : 100%|██████████| 29/29 [00:00<00:00, 1300.88it/s]\n",
      "[ INFO ] Generating patches (k=32, s=1): 100%|██████████| 132/132 [00:06<00:00, 19.17it/s]\n",
      "[ INFO ] Generating patches (k=96, s=1):  16%|█▌        | 21/132 [00:44<04:55,  2.66s/it]"
     ]
    }
   ],
   "source": [
    "TRAIN, TEST = loadData(arrayDir, band)\n",
    "\n",
    "# Process the train dataset\n",
    "allImgLR, allMskLR, allImgHR, allMskHR = TRAIN\n",
    "allImgMskLR = registerImages(allImgLR, allMskLR)  # np.ma.masked_array\n",
    "allImgMskHR = convertToMaskedArray(allImgHR, allMskHR)  # np.ma.masked_array\n",
    "trmImgMskLR, trmImgMskHR = removeCorruptedTrainImageSets(allImgMskLR, allImgMskHR, clarityThreshold=0.7)\n",
    "trmImgMskLR = pickClearLRImgsPerImgSet(trmImgMskLR, numImgToPick=9, clarityThreshold=0.7)\n",
    "\n",
    "# Process the test dataset\n",
    "allImgLRTest, allMskLRTest = TEST\n",
    "allImgMskLRTest = registerImages(allImgLRTest, allMskLRTest)  # np.ma.masked_array\n",
    "trmImgMskLRTest = removeCorruptedTestImageSets(allImgMskLRTest, clarityThreshold=0.7)\n",
    "trmImgMskLRTest = pickClearLRImgsPerImgSet(trmImgMskLRTest, numImgToPick=9, clarityThreshold=0.7)\n",
    "\n",
    "trmImgMskLR.dump(os.path.join(trimmedArrayDir, f'TRAINimgLR_{band}.npy'))\n",
    "trmImgMskHR.dump(os.path.join(trimmedArrayDir, f'TRAINimgHR_{band}.npy'))\n",
    "trmImgMskLRTest.dump(os.path.join(trimmedArrayDir, f'TESTimgLR_{band}.npy'))\n",
    "\n",
    "patchesLR = generatePatches(trmImgMskLR, patchSize=32, stride=1)\n",
    "patchesHR = generatePatches(trmImgMskHR, patchSize=96, stride=1)"
   ]
  },
  {
   "cell_type": "code",
   "execution_count": 10,
   "metadata": {},
   "outputs": [
    {
     "name": "stderr",
     "output_type": "stream",
     "text": [
      "[ INFO ] Registering LR images         : 100%|██████████| 594/594 [03:57<00:00,  2.50it/s]\n",
      "[ INFO ] Removing corrupted ImageSets  : 100%|██████████| 594/594 [00:00<00:00, 4124.00it/s]\n",
      "[ INFO ] Picking top 9 clearest images : 100%|██████████| 151/151 [00:00<00:00, 1151.84it/s]\n",
      "[ INFO ] Registering LR images         : 100%|██████████| 146/146 [00:58<00:00,  2.52it/s]\n",
      "[ INFO ] Removing corrupted ImageSets  : 100%|██████████| 146/146 [00:00<00:00, 4279.48it/s]\n",
      "[ INFO ] Picking top 9 clearest images : 100%|██████████| 36/36 [00:00<00:00, 1318.79it/s]\n"
     ]
    }
   ],
   "source": [
    "band = 'RED'\n",
    "TRAIN, TEST = loadData(arrayDir, band)\n",
    "\n",
    "# Process the train dataset\n",
    "allImgLR, allMskLR, allImgHR, allMskHR = TRAIN\n",
    "allImgMskLR = registerImages(allImgLR, allMskLR)  # np.ma.masked_array\n",
    "allImgMskHR = convertToMaskedArray(allImgHR, allMskHR)  # np.ma.masked_array\n",
    "trmImgMskLR, trmImgMskHR = removeCorruptedTrainImageSets(allImgMskLR, allImgMskHR, clarityThreshold=0.7)\n",
    "trmImgMskLR = pickClearLRImgsPerImgSet(trmImgMskLR, numImgToPick=9, clarityThreshold=0.7)\n",
    "\n",
    "# Process the test dataset\n",
    "allImgLRTest, allMskLRTest = TEST\n",
    "allImgMskLRTest = registerImages(allImgLRTest, allMskLRTest)  # np.ma.masked_array\n",
    "trmImgMskLRTest = removeCorruptedTestImageSets(allImgMskLRTest, clarityThreshold=0.7)\n",
    "trmImgMskLRTest = pickClearLRImgsPerImgSet(trmImgMskLRTest, numImgToPick=9, clarityThreshold=0.7)\n",
    "\n",
    "trmImgMskLR.dump(os.path.join(trimmedArrayDir, f'TRAINimgLR_{band}.npy'))\n",
    "trmImgMskHR.dump(os.path.join(trimmedArrayDir, f'TRAINimgHR_{band}.npy'))\n",
    "trmImgMskLRTest.dump(os.path.join(trimmedArrayDir, f'TESTimgLR_{band}.npy'))"
   ]
  },
  {
   "cell_type": "code",
   "execution_count": null,
   "metadata": {
    "scrolled": true
   },
   "outputs": [
    {
     "name": "stderr",
     "output_type": "stream",
     "text": [
      "\n",
      "[ INFO ] Generating patches (k=32, s=1):   0%|          | 0/151 [00:00<?, ?it/s]\u001b[A\n",
      "[ INFO ] Generating patches (k=32, s=1):   1%|▏         | 2/151 [00:00<00:09, 15.96it/s]\u001b[A\n",
      "[ INFO ] Generating patches (k=32, s=1):   3%|▎         | 5/151 [00:00<00:08, 17.37it/s]\u001b[A\n",
      "[ INFO ] Generating patches (k=32, s=1):   5%|▌         | 8/151 [00:00<00:07, 18.56it/s]\u001b[A\n",
      "[ INFO ] Generating patches (k=32, s=1):   7%|▋         | 11/151 [00:00<00:07, 19.22it/s]\u001b[A\n",
      "[ INFO ] Generating patches (k=32, s=1):   9%|▉         | 14/151 [00:00<00:06, 19.87it/s]\u001b[A\n",
      "[ INFO ] Generating patches (k=32, s=1):  11%|█▏        | 17/151 [00:00<00:06, 20.38it/s]\u001b[A\n",
      "[ INFO ] Generating patches (k=32, s=1):  13%|█▎        | 20/151 [00:00<00:06, 20.89it/s]\u001b[A\n",
      "[ INFO ] Generating patches (k=32, s=1):  15%|█▌        | 23/151 [00:01<00:06, 21.15it/s]\u001b[A\n",
      "[ INFO ] Generating patches (k=32, s=1):  17%|█▋        | 26/151 [00:01<00:05, 21.47it/s]\u001b[A\n",
      "[ INFO ] Generating patches (k=32, s=1):  19%|█▉        | 29/151 [00:01<00:05, 21.56it/s]\u001b[A\n",
      "[ INFO ] Generating patches (k=32, s=1):  21%|██        | 32/151 [00:01<00:05, 21.66it/s]\u001b[A\n",
      "[ INFO ] Generating patches (k=32, s=1):  23%|██▎       | 35/151 [00:01<00:05, 21.75it/s]\u001b[A\n",
      "[ INFO ] Generating patches (k=32, s=1):  25%|██▌       | 38/151 [00:01<00:05, 21.79it/s]\u001b[A\n",
      "[ INFO ] Generating patches (k=32, s=1):  27%|██▋       | 41/151 [00:01<00:05, 21.63it/s]\u001b[A\n",
      "[ INFO ] Generating patches (k=32, s=1):  29%|██▉       | 44/151 [00:02<00:07, 14.26it/s]\u001b[A\n",
      "[ INFO ] Generating patches (k=32, s=1):  30%|███       | 46/151 [00:02<00:09, 11.34it/s]\u001b[A\n",
      "[ INFO ] Generating patches (k=32, s=1):  32%|███▏      | 48/151 [00:02<00:09, 10.35it/s]\u001b[A\n",
      "[ INFO ] Generating patches (k=32, s=1):  33%|███▎      | 50/151 [00:03<00:10,  9.84it/s]\u001b[A\n",
      "[ INFO ] Generating patches (k=32, s=1):  34%|███▍      | 52/151 [00:03<00:11,  8.87it/s]\u001b[A\n",
      "[ INFO ] Generating patches (k=32, s=1):  36%|███▌      | 54/151 [00:03<00:11,  8.41it/s]\u001b[A\n",
      "[ INFO ] Generating patches (k=32, s=1):  36%|███▋      | 55/151 [00:03<00:12,  7.96it/s]\u001b[A\n",
      "[ INFO ] Generating patches (k=32, s=1):  37%|███▋      | 56/151 [00:03<00:15,  6.32it/s]\u001b[A\n",
      "[ INFO ] Generating patches (k=32, s=1):  38%|███▊      | 57/151 [00:04<00:15,  6.25it/s]\u001b[A\n",
      "[ INFO ] Generating patches (k=32, s=1):  38%|███▊      | 58/151 [00:04<00:15,  6.12it/s]\u001b[A\n",
      "[ INFO ] Generating patches (k=32, s=1):  39%|███▉      | 59/151 [00:04<00:15,  6.03it/s]\u001b[A\n",
      "[ INFO ] Generating patches (k=32, s=1):  40%|███▉      | 60/151 [00:04<00:18,  4.97it/s]\u001b[A\n",
      "[ INFO ] Generating patches (k=32, s=1):  40%|████      | 61/151 [00:05<00:21,  4.26it/s]\u001b[A\n",
      "[ INFO ] Generating patches (k=32, s=1):  41%|████      | 62/151 [00:05<00:26,  3.39it/s]\u001b[A\n",
      "[ INFO ] Generating patches (k=32, s=1):  42%|████▏     | 63/151 [00:05<00:23,  3.76it/s]\u001b[A\n",
      "[ INFO ] Generating patches (k=32, s=1):  42%|████▏     | 64/151 [00:06<00:27,  3.18it/s]\u001b[A\n",
      "[ INFO ] Generating patches (k=32, s=1):  43%|████▎     | 65/151 [00:06<00:26,  3.19it/s]\u001b[A\n",
      "[ INFO ] Generating patches (k=32, s=1):  44%|████▎     | 66/151 [00:06<00:29,  2.89it/s]\u001b[A\n",
      "[ INFO ] Generating patches (k=32, s=1):  44%|████▍     | 67/151 [00:07<00:25,  3.26it/s]\u001b[A\n",
      "[ INFO ] Generating patches (k=32, s=1):  45%|████▌     | 68/151 [00:07<00:23,  3.49it/s]\u001b[A\n",
      "[ INFO ] Generating patches (k=32, s=1):  46%|████▌     | 69/151 [00:07<00:23,  3.49it/s]\u001b[A\n",
      "[ INFO ] Generating patches (k=32, s=1):  46%|████▋     | 70/151 [00:07<00:23,  3.40it/s]\u001b[A\n",
      "[ INFO ] Generating patches (k=32, s=1):  47%|████▋     | 71/151 [00:08<00:25,  3.16it/s]\u001b[A\n",
      "[ INFO ] Generating patches (k=32, s=1):  48%|████▊     | 72/151 [00:08<00:27,  2.89it/s]\u001b[A\n",
      "[ INFO ] Generating patches (k=32, s=1):  48%|████▊     | 73/151 [00:09<00:31,  2.49it/s]\u001b[A\n",
      "[ INFO ] Generating patches (k=32, s=1):  49%|████▉     | 74/151 [00:09<00:24,  3.12it/s]\u001b[A\n",
      "[ INFO ] Generating patches (k=32, s=1):  50%|████▉     | 75/151 [00:09<00:22,  3.41it/s]\u001b[A\n",
      "[ INFO ] Generating patches (k=32, s=1):  50%|█████     | 76/151 [00:09<00:21,  3.49it/s]\u001b[A\n",
      "[ INFO ] Generating patches (k=32, s=1):  51%|█████     | 77/151 [00:10<00:20,  3.56it/s]\u001b[A\n",
      "[ INFO ] Generating patches (k=32, s=1):  52%|█████▏    | 78/151 [00:10<00:18,  3.87it/s]\u001b[A\n",
      "[ INFO ] Generating patches (k=32, s=1):  52%|█████▏    | 79/151 [00:10<00:18,  3.83it/s]\u001b[A\n",
      "[ INFO ] Generating patches (k=32, s=1):  53%|█████▎    | 80/151 [00:10<00:20,  3.46it/s]\u001b[A\n",
      "[ INFO ] Generating patches (k=32, s=1):  54%|█████▎    | 81/151 [00:11<00:21,  3.28it/s]\u001b[A\n",
      "[ INFO ] Generating patches (k=32, s=1):  54%|█████▍    | 82/151 [00:11<00:17,  3.97it/s]\u001b[A\n",
      "[ INFO ] Generating patches (k=32, s=1):  55%|█████▍    | 83/151 [00:11<00:18,  3.74it/s]\u001b[A\n",
      "[ INFO ] Generating patches (k=32, s=1):  56%|█████▌    | 84/151 [00:11<00:18,  3.61it/s]\u001b[A\n",
      "[ INFO ] Generating patches (k=32, s=1):  56%|█████▋    | 85/151 [00:12<00:18,  3.53it/s]\u001b[A\n",
      "[ INFO ] Generating patches (k=32, s=1):  57%|█████▋    | 86/151 [00:12<00:18,  3.43it/s]\u001b[A\n",
      "[ INFO ] Generating patches (k=32, s=1):  58%|█████▊    | 87/151 [00:12<00:16,  3.92it/s]\u001b[A\n",
      "[ INFO ] Generating patches (k=32, s=1):  58%|█████▊    | 88/151 [00:13<00:17,  3.70it/s]\u001b[A\n",
      "[ INFO ] Generating patches (k=32, s=1):  59%|█████▉    | 89/151 [00:13<00:18,  3.37it/s]\u001b[A\n",
      "[ INFO ] Generating patches (k=32, s=1):  60%|█████▉    | 90/151 [00:13<00:16,  3.73it/s]\u001b[A\n",
      "[ INFO ] Generating patches (k=32, s=1):  60%|██████    | 91/151 [00:13<00:16,  3.56it/s]\u001b[A\n",
      "[ INFO ] Generating patches (k=32, s=1):  61%|██████    | 92/151 [00:14<00:15,  3.73it/s]\u001b[A\n",
      "[ INFO ] Generating patches (k=32, s=1):  62%|██████▏   | 93/151 [00:14<00:14,  3.95it/s]\u001b[A\n",
      "[ INFO ] Generating patches (k=32, s=1):  62%|██████▏   | 94/151 [00:14<00:15,  3.72it/s]\u001b[A\n",
      "[ INFO ] Generating patches (k=32, s=1):  63%|██████▎   | 95/151 [00:15<00:17,  3.13it/s]\u001b[A\n",
      "[ INFO ] Generating patches (k=32, s=1):  64%|██████▎   | 96/151 [00:15<00:14,  3.68it/s]\u001b[A\n",
      "[ INFO ] Generating patches (k=32, s=1):  64%|██████▍   | 97/151 [00:15<00:14,  3.61it/s]\u001b[A\n",
      "[ INFO ] Generating patches (k=32, s=1):  65%|██████▍   | 98/151 [00:15<00:16,  3.27it/s]\u001b[A\n",
      "[ INFO ] Generating patches (k=32, s=1):  66%|██████▌   | 99/151 [00:16<00:19,  2.63it/s]\u001b[A\n",
      "[ INFO ] Generating patches (k=32, s=1):  66%|██████▌   | 100/151 [00:16<00:16,  3.10it/s]\u001b[A\n",
      "[ INFO ] Generating patches (k=32, s=1):  67%|██████▋   | 101/151 [00:17<00:15,  3.21it/s]\u001b[A\n",
      "[ INFO ] Generating patches (k=32, s=1):  68%|██████▊   | 102/151 [00:17<00:15,  3.16it/s]\u001b[A\n",
      "[ INFO ] Generating patches (k=32, s=1):  68%|██████▊   | 103/151 [00:17<00:14,  3.21it/s]\u001b[A\n",
      "[ INFO ] Generating patches (k=32, s=1):  69%|██████▉   | 104/151 [00:17<00:14,  3.35it/s]\u001b[A\n",
      "[ INFO ] Generating patches (k=32, s=1):  70%|██████▉   | 105/151 [00:18<00:14,  3.16it/s]\u001b[A\n",
      "[ INFO ] Generating patches (k=32, s=1):  70%|███████   | 106/151 [00:18<00:12,  3.53it/s]\u001b[A\n",
      "[ INFO ] Generating patches (k=32, s=1):  71%|███████   | 107/151 [00:18<00:12,  3.46it/s]\u001b[A\n",
      "[ INFO ] Generating patches (k=32, s=1):  72%|███████▏  | 108/151 [00:19<00:12,  3.53it/s]\u001b[A\n",
      "[ INFO ] Generating patches (k=32, s=1):  72%|███████▏  | 109/151 [00:19<00:10,  3.85it/s]\u001b[A\n",
      "[ INFO ] Generating patches (k=32, s=1):  73%|███████▎  | 110/151 [00:19<00:13,  3.14it/s]\u001b[A\n",
      "[ INFO ] Generating patches (k=32, s=1):  74%|███████▎  | 111/151 [00:19<00:12,  3.33it/s]\u001b[A\n",
      "[ INFO ] Generating patches (k=32, s=1):  74%|███████▍  | 112/151 [00:20<00:12,  3.16it/s]\u001b[A\n",
      "[ INFO ] Generating patches (k=32, s=1):  75%|███████▍  | 113/151 [00:20<00:11,  3.36it/s]\u001b[A\n",
      "[ INFO ] Generating patches (k=32, s=1):  75%|███████▌  | 114/151 [00:20<00:10,  3.40it/s]\u001b[A\n",
      "[ INFO ] Generating patches (k=32, s=1):  76%|███████▌  | 115/151 [00:21<00:10,  3.32it/s]\u001b[A\n",
      "[ INFO ] Generating patches (k=32, s=1):  77%|███████▋  | 116/151 [00:21<00:11,  3.15it/s]\u001b[A\n",
      "[ INFO ] Generating patches (k=32, s=1):  77%|███████▋  | 117/151 [00:21<00:09,  3.65it/s]\u001b[A\n",
      "[ INFO ] Generating patches (k=32, s=1):  78%|███████▊  | 118/151 [00:21<00:08,  3.86it/s]\u001b[A\n",
      "[ INFO ] Generating patches (k=32, s=1):  79%|███████▉  | 119/151 [00:22<00:08,  3.93it/s]\u001b[A\n",
      "[ INFO ] Generating patches (k=32, s=1):  79%|███████▉  | 120/151 [00:22<00:08,  3.71it/s]\u001b[A\n"
     ]
    },
    {
     "name": "stderr",
     "output_type": "stream",
     "text": [
      "[ INFO ] Generating patches (k=32, s=1):  80%|████████  | 121/151 [00:22<00:08,  3.39it/s]\u001b[A\n",
      "[ INFO ] Generating patches (k=32, s=1):  81%|████████  | 122/151 [00:23<00:07,  3.75it/s]\u001b[A\n",
      "[ INFO ] Generating patches (k=32, s=1):  81%|████████▏ | 123/151 [00:23<00:07,  3.81it/s]\u001b[A\n",
      "[ INFO ] Generating patches (k=32, s=1):  82%|████████▏ | 124/151 [00:23<00:07,  3.41it/s]\u001b[A\n",
      "[ INFO ] Generating patches (k=32, s=1):  83%|████████▎ | 125/151 [00:23<00:07,  3.64it/s]\u001b[A\n",
      "[ INFO ] Generating patches (k=32, s=1):  83%|████████▎ | 126/151 [00:24<00:07,  3.50it/s]\u001b[A\n",
      "[ INFO ] Generating patches (k=32, s=1):  84%|████████▍ | 127/151 [00:24<00:07,  3.36it/s]\u001b[A\n",
      "[ INFO ] Generating patches (k=32, s=1):  85%|████████▍ | 128/151 [00:24<00:06,  3.41it/s]\u001b[A\n",
      "[ INFO ] Generating patches (k=32, s=1):  85%|████████▌ | 129/151 [00:25<00:06,  3.47it/s]\u001b[A\n",
      "[ INFO ] Generating patches (k=32, s=1):  86%|████████▌ | 130/151 [00:25<00:05,  3.58it/s]\u001b[A\n",
      "[ INFO ] Generating patches (k=32, s=1):  87%|████████▋ | 131/151 [00:25<00:05,  3.79it/s]\u001b[A\n",
      "[ INFO ] Generating patches (k=32, s=1):  87%|████████▋ | 132/151 [00:25<00:05,  3.50it/s]\u001b[A\n",
      "[ INFO ] Generating patches (k=32, s=1):  88%|████████▊ | 133/151 [00:26<00:05,  3.50it/s]\u001b[A\n",
      "[ INFO ] Generating patches (k=32, s=1):  89%|████████▊ | 134/151 [00:26<00:04,  3.66it/s]\u001b[A\n",
      "[ INFO ] Generating patches (k=32, s=1):  89%|████████▉ | 135/151 [00:26<00:04,  3.44it/s]\u001b[A\n",
      "[ INFO ] Generating patches (k=32, s=1):  90%|█████████ | 136/151 [00:26<00:04,  3.68it/s]\u001b[A\n",
      "[ INFO ] Generating patches (k=32, s=1):  91%|█████████ | 137/151 [00:27<00:04,  3.19it/s]\u001b[A\n",
      "[ INFO ] Generating patches (k=32, s=1):  91%|█████████▏| 138/151 [00:27<00:04,  3.14it/s]\u001b[A\n",
      "[ INFO ] Generating patches (k=32, s=1):  92%|█████████▏| 139/151 [00:28<00:03,  3.10it/s]\u001b[A\n",
      "[ INFO ] Generating patches (k=32, s=1):  93%|█████████▎| 140/151 [00:28<00:04,  2.62it/s]\u001b[A\n",
      "[ INFO ] Generating patches (k=32, s=1):  93%|█████████▎| 141/151 [00:28<00:03,  3.25it/s]\u001b[A\n",
      "[ INFO ] Generating patches (k=32, s=1):  94%|█████████▍| 142/151 [00:28<00:02,  3.37it/s]\u001b[A\n",
      "[ INFO ] Generating patches (k=32, s=1):  95%|█████████▍| 143/151 [00:29<00:02,  3.65it/s]\u001b[A\n",
      "[ INFO ] Generating patches (k=32, s=1):  95%|█████████▌| 144/151 [00:29<00:01,  3.61it/s]\u001b[A\n",
      "[ INFO ] Generating patches (k=32, s=1):  96%|█████████▌| 145/151 [00:29<00:01,  3.54it/s]\u001b[A\n",
      "[ INFO ] Generating patches (k=32, s=1):  97%|█████████▋| 146/151 [00:30<00:01,  3.28it/s]\u001b[A\n",
      "[ INFO ] Generating patches (k=32, s=1):  97%|█████████▋| 147/151 [00:30<00:01,  3.24it/s]\u001b[A\n",
      "[ INFO ] Generating patches (k=32, s=1):  98%|█████████▊| 148/151 [00:30<00:00,  3.64it/s]\u001b[A\n",
      "[ INFO ] Generating patches (k=32, s=1):  99%|█████████▊| 149/151 [00:30<00:00,  3.81it/s]\u001b[A\n",
      "[ INFO ] Generating patches (k=32, s=1):  99%|█████████▉| 150/151 [00:31<00:00,  3.69it/s]\u001b[A\n",
      "[ INFO ] Generating patches (k=32, s=1): 100%|██████████| 151/151 [00:31<00:00,  4.80it/s]\u001b[A\n"
     ]
    }
   ],
   "source": [
    "band = 'RED'\n",
    "trmImgMskLR = np.load(os.path.join(trimmedArrayDir, f'TRAINimgLR_{band}.npy'), allow_pickle=True)\n",
    "trmImgMskHR = np.load(os.path.join(trimmedArrayDir, f'TRAINimgHR_{band}.npy'), allow_pickle=True)\n",
    "\n",
    "patchesLR = generatePatches(trmImgMskLR, patchSize=32, stride=1)\n",
    "patchesHR = generatePatches(trmImgMskHR, patchSize=96, stride=1)"
   ]
  },
  {
   "cell_type": "code",
   "execution_count": 9,
   "metadata": {},
   "outputs": [
    {
     "ename": "AttributeError",
     "evalue": "'numpy.ndarray' object has no attribute 'mask'",
     "output_type": "error",
     "traceback": [
      "\u001b[0;31m---------------------------------------------------------------------------\u001b[0m",
      "\u001b[0;31mAttributeError\u001b[0m                            Traceback (most recent call last)",
      "\u001b[0;32m<ipython-input-9-178c31ce9e42>\u001b[0m in \u001b[0;36m<module>\u001b[0;34m\u001b[0m\n\u001b[0;32m----> 1\u001b[0;31m \u001b[0mtrmImgMskHR\u001b[0m\u001b[0;34m[\u001b[0m\u001b[0;36m0\u001b[0m\u001b[0;34m]\u001b[0m\u001b[0;34m[\u001b[0m\u001b[0;36m0\u001b[0m\u001b[0;34m]\u001b[0m\u001b[0;34m.\u001b[0m\u001b[0mmask\u001b[0m\u001b[0;34m\u001b[0m\u001b[0;34m\u001b[0m\u001b[0m\n\u001b[0m",
      "\u001b[0;31mAttributeError\u001b[0m: 'numpy.ndarray' object has no attribute 'mask'"
     ]
    }
   ],
   "source": [
    "TRAIN, TEST = loadData(arrayDir, band)\n",
    "\n",
    "allImgLR, allMskLR, allImgHR, allMskHR = TRAIN"
   ]
  },
  {
   "cell_type": "code",
   "execution_count": null,
   "metadata": {},
   "outputs": [],
   "source": [
    "type(allImgMskLR)"
   ]
  },
  {
   "cell_type": "code",
   "execution_count": null,
   "metadata": {},
   "outputs": [],
   "source": [
    "x = np.array([np.array(a) for a in allImgMskLR])"
   ]
  },
  {
   "cell_type": "code",
   "execution_count": null,
   "metadata": {},
   "outputs": [],
   "source": [
    "x[0][0].shape"
   ]
  },
  {
   "cell_type": "code",
   "execution_count": null,
   "metadata": {},
   "outputs": [],
   "source": [
    "band = 'NIR'\n",
    "TRAIN, TEST = loadData(arrayDir, band)\n",
    "\n",
    "# Process the train dataset\n",
    "allImgLR, allMskLR, allImgHR, allMskHR = TRAIN"
   ]
  },
  {
   "cell_type": "code",
   "execution_count": null,
   "metadata": {},
   "outputs": [],
   "source": [
    "for i in range(len(allImgLR)):\n",
    "    print(len(allImgLR[i]))"
   ]
  },
  {
   "cell_type": "code",
   "execution_count": null,
   "metadata": {},
   "outputs": [],
   "source": [
    "allImgLR.shape\n"
   ]
  },
  {
   "cell_type": "code",
   "execution_count": null,
   "metadata": {},
   "outputs": [],
   "source": [
    "allImgMskLR[1].shape\n"
   ]
  },
  {
   "cell_type": "code",
   "execution_count": null,
   "metadata": {},
   "outputs": [],
   "source": [
    "trmImgMskLR.shape"
   ]
  },
  {
   "cell_type": "code",
   "execution_count": null,
   "metadata": {},
   "outputs": [],
   "source": [
    "trmImgMskLR.shape"
   ]
  },
  {
   "cell_type": "code",
   "execution_count": null,
   "metadata": {},
   "outputs": [],
   "source": []
  }
 ],
 "metadata": {
  "kernelspec": {
   "display_name": "Python 3",
   "language": "python",
   "name": "python3"
  },
  "language_info": {
   "codemirror_mode": {
    "name": "ipython",
    "version": 3
   },
   "file_extension": ".py",
   "mimetype": "text/x-python",
   "name": "python",
   "nbconvert_exporter": "python",
   "pygments_lexer": "ipython3",
   "version": "3.6.9"
  }
 },
 "nbformat": 4,
 "nbformat_minor": 2
}
