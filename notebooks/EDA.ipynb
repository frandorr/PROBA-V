{
 "cells": [
  {
   "cell_type": "code",
   "execution_count": 3,
   "metadata": {},
   "outputs": [],
   "source": [
    "import os\n",
    "import cv2\n",
    "import numpy as np\n",
    "from typing import Dict, Tuple\n",
    "from skimage import io "
   ]
  },
  {
   "cell_type": "code",
   "execution_count": 13,
   "metadata": {},
   "outputs": [],
   "source": [
    "def generateImageSetDict(imageSetNum: str, NIR: bool):\n",
    "    # Initialize outputs\n",
    "    imgMask = {}\n",
    "    imgArray = {}\n",
    "    \n",
    "    # Initialize Data Path\n",
    "    imageType = 'NIR' if NIR else 'RED'\n",
    "    sampleDir = '/home/mark/DataBank/probav_data/train/'\n",
    "    imageDir = os.path.join(sampleDir, imageType, imageSetNum)\n",
    "    if not os.path.exists(imageDir):\n",
    "        print(\"Path does not exist\")\n",
    "        return ({}, {})\n",
    "    \n",
    "    # Iterate through all items and populate the Dicts\n",
    "    imageList = sorted(os.listdir(imageDir))\n",
    "    imgArray['HR'] = io.imread(os.path.join(imageDir, 'HR.png'))\n",
    "    imgMask['HR'] = io.imread(os.path.join(imageDir, 'SM.png'))\n",
    "    for img in imageList:\n",
    "        if img == 'HR.png':\n",
    "            continue\n",
    "        elif img == 'SM.png':\n",
    "            continue\n",
    "        elif img[0:2] == 'LR':\n",
    "            imgArray[img.split('.')[0]] = io.imread(os.path.join(imageDir, img))\n",
    "        else:\n",
    "            imgMask[img.split('.')[0]] = io.imread(os.path.join(imageDir, img))\n",
    "    \n",
    "    return (imgArray, imgMask)        "
   ]
  },
  {
   "cell_type": "code",
   "execution_count": 10,
   "metadata": {},
   "outputs": [
    {
     "ename": "NameError",
     "evalue": "name 'sampleDir' is not defined",
     "output_type": "error",
     "traceback": [
      "\u001b[0;31m---------------------------------------------------------------------------\u001b[0m",
      "\u001b[0;31mNameError\u001b[0m                                 Traceback (most recent call last)",
      "\u001b[0;32m<ipython-input-10-5ce3202accbb>\u001b[0m in \u001b[0;36m<module>\u001b[0;34m\u001b[0m\n\u001b[0;32m----> 1\u001b[0;31m \u001b[0mqMapImgDir\u001b[0m \u001b[0;34m=\u001b[0m \u001b[0mos\u001b[0m\u001b[0;34m.\u001b[0m\u001b[0mpath\u001b[0m\u001b[0;34m.\u001b[0m\u001b[0mjoin\u001b[0m\u001b[0;34m(\u001b[0m\u001b[0msampleDir\u001b[0m\u001b[0;34m,\u001b[0m \u001b[0mimageList\u001b[0m\u001b[0;34m[\u001b[0m\u001b[0;36m22\u001b[0m\u001b[0;34m]\u001b[0m\u001b[0;34m)\u001b[0m\u001b[0;34m\u001b[0m\u001b[0;34m\u001b[0m\u001b[0m\n\u001b[0m\u001b[1;32m      2\u001b[0m \u001b[0mqMap\u001b[0m \u001b[0;34m=\u001b[0m \u001b[0mcv2\u001b[0m\u001b[0;34m.\u001b[0m\u001b[0mimread\u001b[0m\u001b[0;34m(\u001b[0m\u001b[0mqMapImgDir\u001b[0m\u001b[0;34m,\u001b[0m \u001b[0;36m0\u001b[0m\u001b[0;34m)\u001b[0m\u001b[0;34m\u001b[0m\u001b[0;34m\u001b[0m\u001b[0m\n\u001b[1;32m      3\u001b[0m \u001b[0mqMap\u001b[0m\u001b[0;34m.\u001b[0m\u001b[0mshape\u001b[0m\u001b[0;34m\u001b[0m\u001b[0;34m\u001b[0m\u001b[0m\n",
      "\u001b[0;31mNameError\u001b[0m: name 'sampleDir' is not defined"
     ]
    }
   ],
   "source": [
    "qMapImgDir = os.path.join(sampleDir, imageList[22])\n",
    "qMap = cv2.imread(qMapImgDir, 0)\n",
    "qMap.shape"
   ]
  },
  {
   "cell_type": "code",
   "execution_count": 27,
   "metadata": {},
   "outputs": [
    {
     "data": {
      "text/plain": [
       "'C:\\\\Users\\\\Mark\\\\Documents\\\\Projects\\\\databank\\\\train\\\\NIR\\\\imgset0594\\\\QM000.png'"
      ]
     },
     "execution_count": 27,
     "metadata": {},
     "output_type": "execute_result"
    }
   ],
   "source": [
    "qMapImgDir"
   ]
  },
  {
   "cell_type": "code",
   "execution_count": 15,
   "metadata": {},
   "outputs": [],
   "source": [
    "x = generateImageSetDict('imgset0888', True)"
   ]
  },
  {
   "cell_type": "code",
   "execution_count": 20,
   "metadata": {},
   "outputs": [
    {
     "data": {
      "text/plain": [
       "True"
      ]
     },
     "execution_count": 20,
     "metadata": {},
     "output_type": "execute_result"
    }
   ],
   "source": [
    "(x[1]['HR'].astype(np.bool) == False).any()"
   ]
  },
  {
   "cell_type": "code",
   "execution_count": 21,
   "metadata": {},
   "outputs": [
    {
     "data": {
      "text/plain": [
       "array([  0, 255], dtype=uint8)"
      ]
     },
     "execution_count": 21,
     "metadata": {},
     "output_type": "execute_result"
    }
   ],
   "source": [
    "np.unique(x[1]['HR'])"
   ]
  },
  {
   "cell_type": "code",
   "execution_count": null,
   "metadata": {},
   "outputs": [],
   "source": []
  }
 ],
 "metadata": {
  "kernelspec": {
   "display_name": "Python 3",
   "language": "python",
   "name": "python3"
  },
  "language_info": {
   "codemirror_mode": {
    "name": "ipython",
    "version": 3
   },
   "file_extension": ".py",
   "mimetype": "text/x-python",
   "name": "python",
   "nbconvert_exporter": "python",
   "pygments_lexer": "ipython3",
   "version": "3.6.9"
  }
 },
 "nbformat": 4,
 "nbformat_minor": 2
}
