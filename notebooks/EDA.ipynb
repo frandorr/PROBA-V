{
 "cells": [
  {
   "cell_type": "code",
   "execution_count": 1,
   "metadata": {},
   "outputs": [],
   "source": [
    "import sys\n",
    "sys.path.insert(0, '../utils')\n",
    "\n",
    "import os\n",
    "import cv2\n",
    "import numpy as np\n",
    "from typing import Dict, Tuple\n",
    "from skimage import io\n",
    "from dataGenerator import *\n",
    "\n",
    "%reload_ext autoreload\n",
    "%autoreload 2"
   ]
  },
  {
   "cell_type": "code",
   "execution_count": 2,
   "metadata": {},
   "outputs": [
    {
     "data": {
      "text/plain": [
       "'/home/mark/DataBank/probav_data/'"
      ]
     },
     "execution_count": 2,
     "metadata": {},
     "output_type": "execute_result"
    }
   ],
   "source": [
    "DATA_BANK_DIRECTORY"
   ]
  },
  {
   "cell_type": "code",
   "execution_count": null,
   "metadata": {},
   "outputs": [
    {
     "name": "stderr",
     "output_type": "stream",
     "text": [
      "Loading data into a dictionary        : 100%|██████████| 566/566 [00:11<00:00, 50.02it/s]\n",
      "Removing outliers in dataset          : 100%|██████████| 566/566 [00:00<00:00, 9586.32it/s]\n",
      "Upscaling LowRes images               : 100%|██████████| 562/562 [01:40<00:00,  5.58it/s]\n",
      "Converting imageSets into numpy arrays: 100%|██████████| 562/562 [00:11<00:00, 47.46it/s]\n",
      "Correcting shifts in imagesets        :  97%|█████████▋| 547/562 [05:34<00:17,  1.14s/it]"
     ]
    }
   ],
   "source": [
    "imgAllSets = generateImageSet(isTrainData=True, NIR=True)\n",
    "imgAllSets = removeImageWithOutlierPixels(imageSet=imgAllSets, threshold=60000, isTrainData=True)\n",
    "imgAllSetsUpScaled = upsampleImages(imageSets=imgAllSets, scale=3)\n",
    "\n",
    "output = imageSet2NumpyArrayHelper(imgAllSetsUpScaled, imgAllSets, isGrayScale=True, isNHWC=False)\n",
    "imgLRSetsUpscaled, imgLRSets, imgHRSets, \\\n",
    "    maskLRSetsUpsacaled, maskLRSets, maskHRSets, names = output\n",
    "\n",
    "outputFromCorrectShifts = correctShifts(imgLRSetsUpscaled, maskLRSetsUpsacaled,\n",
    "                                        imgLRSets, maskLRSets,\n",
    "                                        imgHRSets, maskHRSets,\n",
    "                                            names, upsampleScale=1)\n",
    "imgLRSetsUpscaled, imgLRSets, imgHRSets, \\\n",
    "    maskLRSetsUpsacaled, maskLRSets, maskHRSets, shifts, names = outputFromCorrectShifts"
   ]
  },
  {
   "cell_type": "code",
   "execution_count": null,
   "metadata": {},
   "outputs": [],
   "source": [
    "print(maskLRSetsUpsacaled[0][0].shape)\n",
    "print(maskLRSetsUpsacaled[0][1].shape)"
   ]
  },
  {
   "cell_type": "code",
   "execution_count": null,
   "metadata": {},
   "outputs": [],
   "source": [
    "maskLRSetsUpsacaled[0][0] = np.array([maskLRSetsUpsacaled[0][0]])"
   ]
  },
  {
   "cell_type": "code",
   "execution_count": null,
   "metadata": {},
   "outputs": [],
   "source": [
    "x = np.stack(maskLRSetsUpsacaled[0])"
   ]
  },
  {
   "cell_type": "code",
   "execution_count": null,
   "metadata": {},
   "outputs": [],
   "source": [
    "np.stack([x, maskLRSetsUpsacaled[0][0]])"
   ]
  },
  {
   "cell_type": "code",
   "execution_count": null,
   "metadata": {},
   "outputs": [],
   "source": []
  }
 ],
 "metadata": {
  "kernelspec": {
   "display_name": "Python 3",
   "language": "python",
   "name": "python3"
  },
  "language_info": {
   "codemirror_mode": {
    "name": "ipython",
    "version": 3
   },
   "file_extension": ".py",
   "mimetype": "text/x-python",
   "name": "python",
   "nbconvert_exporter": "python",
   "pygments_lexer": "ipython3",
   "version": "3.6.9"
  }
 },
 "nbformat": 4,
 "nbformat_minor": 2
}
