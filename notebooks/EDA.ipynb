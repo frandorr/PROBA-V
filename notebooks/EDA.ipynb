{
 "cells": [
  {
   "cell_type": "code",
   "execution_count": 1,
   "metadata": {},
   "outputs": [],
   "source": [
    "import os\n",
    "import cv2\n",
    "import numpy as np"
   ]
  },
  {
   "cell_type": "code",
   "execution_count": 20,
   "metadata": {},
   "outputs": [
    {
     "data": {
      "text/plain": [
       "array([[38, 39, 39, ..., 32, 32, 32],\n",
       "       [39, 39, 39, ..., 33, 33, 33],\n",
       "       [39, 39, 39, ..., 34, 34, 34],\n",
       "       ...,\n",
       "       [40, 40, 40, ..., 40, 42, 43],\n",
       "       [40, 40, 40, ..., 40, 41, 42],\n",
       "       [40, 41, 41, ..., 40, 41, 42]], dtype=uint8)"
      ]
     },
     "execution_count": 20,
     "metadata": {},
     "output_type": "execute_result"
    }
   ],
   "source": [
    "sampleDir = r'C:\\Users\\Mark\\Documents\\Projects\\databank\\train\\NIR\\imgset0594'\n",
    "imageList = os.listdir(sampleDir)\n",
    "hrImgDir = os.path.join(sampleDir, imageList[0])\n",
    "hrImg = cv2.imread(hrImgDir, 0)\n",
    "hrImg"
   ]
  },
  {
   "cell_type": "code",
   "execution_count": 31,
   "metadata": {},
   "outputs": [
    {
     "data": {
      "text/plain": [
       "(128, 128)"
      ]
     },
     "execution_count": 31,
     "metadata": {},
     "output_type": "execute_result"
    }
   ],
   "source": [
    "qMapImgDir = os.path.join(sampleDir, imageList[22])\n",
    "qMap = cv2.imread(qMapImgDir, 0)\n",
    "qMap.shape"
   ]
  },
  {
   "cell_type": "code",
   "execution_count": 27,
   "metadata": {},
   "outputs": [
    {
     "data": {
      "text/plain": [
       "'C:\\\\Users\\\\Mark\\\\Documents\\\\Projects\\\\databank\\\\train\\\\NIR\\\\imgset0594\\\\QM000.png'"
      ]
     },
     "execution_count": 27,
     "metadata": {},
     "output_type": "execute_result"
    }
   ],
   "source": [
    "qMapImgDir"
   ]
  },
  {
   "cell_type": "code",
   "execution_count": null,
   "metadata": {},
   "outputs": [],
   "source": []
  }
 ],
 "metadata": {
  "kernelspec": {
   "display_name": "Python 3",
   "language": "python",
   "name": "python3"
  },
  "language_info": {
   "codemirror_mode": {
    "name": "ipython",
    "version": 3
   },
   "file_extension": ".py",
   "mimetype": "text/x-python",
   "name": "python",
   "nbconvert_exporter": "python",
   "pygments_lexer": "ipython3",
   "version": "3.6.5"
  }
 },
 "nbformat": 4,
 "nbformat_minor": 2
}
