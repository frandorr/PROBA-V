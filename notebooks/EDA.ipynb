{
 "cells": [
  {
   "cell_type": "code",
   "execution_count": 1,
   "metadata": {},
   "outputs": [],
   "source": [
    "import sys\n",
    "sys.path.insert(0, '../utils')\n",
    "\n",
    "import os\n",
    "import cv2\n",
    "import numpy as np\n",
    "from typing import Dict, Tuple\n",
    "from skimage import io\n",
    "from dataGenerator import *\n",
    "\n",
    "%reload_ext autoreload\n",
    "%autoreload 2"
   ]
  },
  {
   "cell_type": "code",
   "execution_count": 2,
   "metadata": {},
   "outputs": [
    {
     "data": {
      "text/plain": [
       "'/home/mark/DataBank/probav_data/'"
      ]
     },
     "execution_count": 2,
     "metadata": {},
     "output_type": "execute_result"
    }
   ],
   "source": [
    "DATA_BANK_DIRECTORY"
   ]
  },
  {
   "cell_type": "code",
   "execution_count": 3,
   "metadata": {},
   "outputs": [
    {
     "name": "stderr",
     "output_type": "stream",
     "text": [
      "[ INFO ] Loading data into a dictionary        : 100%|██████████| 566/566 [00:10<00:00, 51.92it/s]\n",
      "[ INFO ] Removing outliers in dataset          : 100%|██████████| 566/566 [00:00<00:00, 9701.26it/s]\n",
      "[ INFO ] Upscaling LowRes images               : 100%|██████████| 562/562 [01:34<00:00,  5.96it/s]\n",
      "[ INFO ] Converting imageSets into numpy arrays: 100%|██████████| 562/562 [00:11<00:00, 48.60it/s]\n",
      "[ INFO ] Saving numpy arrays                   : 100%|██████████| 562/562 [00:21<00:00, 26.25it/s]\n",
      "[ INFO ] Correcting shifts in imagesets        : 100%|██████████| 562/562 [05:21<00:00,  1.75it/s]\n",
      "[ INFO ] Finding patches                       :  32%|███▏      | 181/561 [22:52<45:19,  7.16s/it]  "
     ]
    },
    {
     "ename": "KeyboardInterrupt",
     "evalue": "",
     "output_type": "error",
     "traceback": [
      "\u001b[0;31m---------------------------------------------------------------------------\u001b[0m",
      "\u001b[0;31mKeyboardInterrupt\u001b[0m                         Traceback (most recent call last)",
      "\u001b[0;32m<ipython-input-3-d62172c9e2a9>\u001b[0m in \u001b[0;36m<module>\u001b[0;34m\u001b[0m\n\u001b[1;32m     28\u001b[0m out = generatePatchDatasetFromSavedFile(srcFolder, dstFolder, output['names'], useUpsample=True,\n\u001b[1;32m     29\u001b[0m                                       \u001b[0mpatchSize\u001b[0m\u001b[0;34m=\u001b[0m\u001b[0;36m96\u001b[0m\u001b[0;34m,\u001b[0m \u001b[0mthresholdPatchesPerImgSet\u001b[0m\u001b[0;34m=\u001b[0m\u001b[0;36m20\u001b[0m\u001b[0;34m,\u001b[0m \u001b[0mthresholdClarityLR\u001b[0m\u001b[0;34m=\u001b[0m\u001b[0;36m0.7\u001b[0m\u001b[0;34m,\u001b[0m\u001b[0;34m\u001b[0m\u001b[0;34m\u001b[0m\u001b[0m\n\u001b[0;32m---> 30\u001b[0;31m                                       thresholdClarityHR=0.85)\n\u001b[0m",
      "\u001b[0;32m~/PROBA-V/utils/dataGenerator.py\u001b[0m in \u001b[0;36mgeneratePatchDatasetFromSavedFile\u001b[0;34m(srcFolder, dstFolder, names, useUpsample, patchSize, thresholdPatchesPerImgSet, thresholdClarityLR, thresholdClarityHR)\u001b[0m\n\u001b[1;32m    250\u001b[0m \u001b[0;34m\u001b[0m\u001b[0m\n\u001b[1;32m    251\u001b[0m             \u001b[0;31m# Check clarity of the low resulution patches\u001b[0m\u001b[0;34m\u001b[0m\u001b[0;34m\u001b[0m\u001b[0;34m\u001b[0m\u001b[0m\n\u001b[0;32m--> 252\u001b[0;31m             \u001b[0mclearPercentageArrayLR\u001b[0m \u001b[0;34m=\u001b[0m \u001b[0mnp\u001b[0m\u001b[0;34m.\u001b[0m\u001b[0msum\u001b[0m\u001b[0;34m(\u001b[0m\u001b[0mpatchMaskLR\u001b[0m\u001b[0;34m,\u001b[0m \u001b[0maxis\u001b[0m\u001b[0;34m=\u001b[0m\u001b[0;34m(\u001b[0m\u001b[0;36m1\u001b[0m\u001b[0;34m,\u001b[0m \u001b[0;36m2\u001b[0m\u001b[0;34m,\u001b[0m \u001b[0;36m3\u001b[0m\u001b[0;34m)\u001b[0m\u001b[0;34m)\u001b[0m \u001b[0;34m/\u001b[0m \u001b[0mtotalNumPixInPatch\u001b[0m\u001b[0;34m\u001b[0m\u001b[0;34m\u001b[0m\u001b[0m\n\u001b[0m\u001b[1;32m    253\u001b[0m             \u001b[0misSampleClearLR\u001b[0m \u001b[0;34m=\u001b[0m \u001b[0mclearPercentageArrayLR\u001b[0m \u001b[0;34m>\u001b[0m \u001b[0mthresholdClarityLR\u001b[0m\u001b[0;34m\u001b[0m\u001b[0;34m\u001b[0m\u001b[0m\n\u001b[1;32m    254\u001b[0m             \u001b[0misSampleGoodLR\u001b[0m \u001b[0;34m=\u001b[0m \u001b[0mnp\u001b[0m\u001b[0;34m.\u001b[0m\u001b[0msum\u001b[0m\u001b[0;34m(\u001b[0m\u001b[0misSampleClearLR\u001b[0m\u001b[0;34m)\u001b[0m \u001b[0;34m>\u001b[0m \u001b[0mPATCH_PER_SET\u001b[0m\u001b[0;34m\u001b[0m\u001b[0;34m\u001b[0m\u001b[0m\n",
      "\u001b[0;31mKeyboardInterrupt\u001b[0m: "
     ]
    }
   ],
   "source": [
    "for _ in range(50):\n",
    "    # Load dataset\n",
    "    imgAllSets = generateImageSet(isTrainData=True, NIR=True)\n",
    "\n",
    "    # Remove outliers\n",
    "    imgAllSets = removeImageWithOutlierPixels(imageSet=imgAllSets, threshold=60000, isTrainData=True)\n",
    "\n",
    "    # Upscale\n",
    "    imgAllSetsUpScaled = upsampleImages(imageSets=imgAllSets, scale=3)  # 128x128 -> 384x384\n",
    "\n",
    "    # Convert dataset to numpy array\n",
    "    output = imageSetToNumpyArrayHelper(imgAllSetsUpScaled, imgAllSets, isGrayScale=True, isNHWC=False)\n",
    "\n",
    "    # Get shifts and trim dataset based on shift threshold\n",
    "    # Read more about this shifts happening in LR Images here\n",
    "    # https://kelvins.esa.int/proba-v-super-resolution/data/\n",
    "    saveArrays(output, DATA_BANK_DIRECTORY_PREPROCESSING_CHKPT, 'NIR')\n",
    "\n",
    "\n",
    "    correctShiftsFromSavedArrays(os.path.join(DATA_BANK_DIRECTORY_PREPROCESSING_CHKPT,\n",
    "                                                  'numpyArrays', 'NIR'),\n",
    "                                 os.path.join(DATA_BANK_DIRECTORY_PREPROCESSING_CHKPT,\n",
    "                                                  'correctedShifts', 'NIR'),\n",
    "                                 output['names'], upsampleScale=1)\n",
    "\n",
    "    srcFolder = os.path.join(DATA_BANK_DIRECTORY_PREPROCESSING_CHKPT, 'correctedShifts', 'NIR')\n",
    "    dstFolder = os.path.join(DATA_BANK_DIRECTORY_PREPROCESSING_CHKPT, 'patches', 'upsample', 'NIR')\n",
    "\n",
    "    out = generatePatchDatasetFromSavedFile(srcFolder, dstFolder, output['names'], useUpsample=True,\n",
    "                                          patchSize=96, thresholdPatchesPerImgSet=20, thresholdClarityLR=0.7,\n",
    "                                          thresholdClarityHR=0.85)\n",
    "\n",
    "    dstFolder = os.path.join(DATA_BANK_DIRECTORY_PREPROCESSING_CHKPT, 'patches', 'normal', 'NIR')\n",
    "\n",
    "    out = generatePatchDatasetFromSavedFile(srcFolder, dstFolder, output['names'], useUpsample=False,\n",
    "                                          patchSize=32, thresholdPatchesPerImgSet=20, thresholdClarityLR=0.7,\n",
    "                                          thresholdClarityHR=0.85)"
   ]
  },
  {
   "cell_type": "code",
   "execution_count": null,
   "metadata": {},
   "outputs": [],
   "source": []
  }
 ],
 "metadata": {
  "kernelspec": {
   "display_name": "Python 3",
   "language": "python",
   "name": "python3"
  },
  "language_info": {
   "codemirror_mode": {
    "name": "ipython",
    "version": 3
   },
   "file_extension": ".py",
   "mimetype": "text/x-python",
   "name": "python",
   "nbconvert_exporter": "python",
   "pygments_lexer": "ipython3",
   "version": "3.6.9"
  }
 },
 "nbformat": 4,
 "nbformat_minor": 2
}
