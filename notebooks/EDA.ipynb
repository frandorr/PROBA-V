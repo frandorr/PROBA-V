{
 "cells": [
  {
   "cell_type": "code",
   "execution_count": 1,
   "metadata": {},
   "outputs": [],
   "source": [
    "import sys\n",
    "sys.path.insert(0, '../utils')\n",
    "\n",
    "from dataGenerator import *\n",
    "\n",
    "%reload_ext autoreload\n",
    "%autoreload 2"
   ]
  },
  {
   "cell_type": "code",
   "execution_count": 4,
   "metadata": {},
   "outputs": [
    {
     "name": "stderr",
     "output_type": "stream",
     "text": [
      "[ INFO ] Loading LR images and dumping : 100%|██████████| 566/566 [00:05<00:00, 103.20it/s]\n",
      "[ INFO ] Loading HR images and dumping : 100%|██████████| 566/566 [00:01<00:00, 394.48it/s]\n",
      "[ INFO ] Loading LR masks and dumping  : 100%|██████████| 566/566 [00:02<00:00, 257.44it/s]\n",
      "[ INFO ] Loading HR masks and dumping  : 100%|██████████| 566/566 [00:00<00:00, 3296.20it/s]\n"
     ]
    }
   ],
   "source": [
    "arrayDir = '/home/mark/DataBank/PROBA-V-CHKPT/dataset'\n",
    "rawDataDir = '/home/mark/DataBank/probav_data'\n",
    "\n",
    "loadAndSaveRawData(rawDataDir, arrayDir, 'NIR', isGrayScale=True)"
   ]
  },
  {
   "cell_type": "code",
   "execution_count": 5,
   "metadata": {},
   "outputs": [
    {
     "name": "stderr",
     "output_type": "stream",
     "text": [
      "[ INFO ] Loading LR images and dumping : 100%|██████████| 594/594 [00:06<00:00, 94.27it/s] \n",
      "[ INFO ] Loading HR images and dumping : 100%|██████████| 594/594 [00:01<00:00, 361.13it/s]\n",
      "[ INFO ] Loading LR masks and dumping  : 100%|██████████| 594/594 [00:02<00:00, 219.94it/s]\n",
      "[ INFO ] Loading HR masks and dumping  : 100%|██████████| 594/594 [00:00<00:00, 2412.74it/s]\n"
     ]
    }
   ],
   "source": [
    "loadAndSaveRawData(rawDataDir, arrayDir, 'RED', isGrayScale=True)"
   ]
  },
  {
   "cell_type": "code",
   "execution_count": null,
   "metadata": {},
   "outputs": [],
   "source": []
  }
 ],
 "metadata": {
  "kernelspec": {
   "display_name": "Python 3",
   "language": "python",
   "name": "python3"
  },
  "language_info": {
   "codemirror_mode": {
    "name": "ipython",
    "version": 3
   },
   "file_extension": ".py",
   "mimetype": "text/x-python",
   "name": "python",
   "nbconvert_exporter": "python",
   "pygments_lexer": "ipython3",
   "version": "3.6.9"
  }
 },
 "nbformat": 4,
 "nbformat_minor": 2
}
