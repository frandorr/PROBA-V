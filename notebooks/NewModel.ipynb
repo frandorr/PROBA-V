{
 "cells": [
  {
   "cell_type": "code",
   "execution_count": 1,
   "metadata": {},
   "outputs": [],
   "source": [
    "import os\n",
    "import sys\n",
    "sys.path.insert(0, '../utils')\n",
    "sys.path.insert(0, '..')\n",
    "import logging\n",
    "\n",
    "logging.basicConfig(format='%(asctime)s - %(message)s', level=logging.INFO)\n",
    "logger = logging.getLogger('__name__')\n",
    "\n",
    "import numpy as np\n",
    "import tensorflow as tf\n",
    "from tensorflow.keras.metrics import Mean\n",
    "from sklearn.model_selection import train_test_split\n",
    "from tensorflow.keras.optimizers import Adam, SGD, Nadam\n",
    "\n",
    "from modelsTF import *\n",
    "from dataGenerator import *\n",
    "%reload_ext autoreload\n",
    "%autoreload 2"
   ]
  },
  {
   "cell_type": "code",
   "execution_count": 10,
   "metadata": {},
   "outputs": [
    {
     "name": "stdout",
     "output_type": "stream",
     "text": [
      "Input shape: (230720, 38, 38, 9, 1) --------> Output shape: (230720, 96, 96, 1)\n"
     ]
    }
   ],
   "source": [
    "# import data\n",
    "CLEAN_DATA_DIR = '/home/mark/DataBank/PROBA-V-CHKPT/augmentedPatchesDir'\n",
    "band = 'NIR'\n",
    "X = np.load(os.path.join(CLEAN_DATA_DIR, f'TRAINpatchesLR_{band}.npy'), allow_pickle=True)\n",
    "y = np.load(os.path.join(CLEAN_DATA_DIR, f'TRAINpatchesHR_{band}.npy'), allow_pickle=True)\n",
    "\n",
    "#X = X_train.transpose((0, 3, 4, 2, 1))\n",
    "#y = y_train.transpose((0, 3, 4, 2, 1)).squeeze(3)\n",
    "print(f'Input shape: {X.shape} --------> Output shape: {y.shape}')"
   ]
  },
  {
   "cell_type": "code",
   "execution_count": 4,
   "metadata": {},
   "outputs": [],
   "source": [
    "datasetAllMean = 8818.0603\n",
    "datasetAllStd = 6534.1132\n",
    "modelIns = WDSRConv3D(name='patch38', band=\"rid\", mean=datasetAllMean, std=datasetAllStd, maxShift=6)\n",
    "model = modelIns.build(scale=3, numFilters=32, kernelSize=(3, 3, 3), numResBlocks=12,\n",
    "                           expRate=8, decayRate=0.8, numImgLR=7, patchSizeLR=38, isGrayScale=True)"
   ]
  },
  {
   "cell_type": "code",
   "execution_count": 5,
   "metadata": {
    "scrolled": true
   },
   "outputs": [
    {
     "name": "stdout",
     "output_type": "stream",
     "text": [
      "Model: \"WDSRConv3D_rid_patch38\"\n",
      "__________________________________________________________________________________________________\n",
      "Layer (type)                    Output Shape         Param #     Connected to                     \n",
      "==================================================================================================\n",
      "input_2 (InputLayer)            [(None, 38, 38, 7, 1 0                                            \n",
      "__________________________________________________________________________________________________\n",
      "normImgLR (Lambda)              (None, 38, 38, 7, 1) 0           input_2[0][0]                    \n",
      "__________________________________________________________________________________________________\n",
      "mainConv1 (WeightNormalization) (None, 38, 38, 7, 32 929         normImgLR[0][0]                  \n",
      "__________________________________________________________________________________________________\n",
      "expConv_0 (WeightNormalization) (None, 38, 38, 7, 25 8705        mainConv1[0][0]                  \n",
      "__________________________________________________________________________________________________\n",
      "decConv_0 (WeightNormalization) (None, 38, 38, 7, 25 6451        expConv_0[0][0]                  \n",
      "__________________________________________________________________________________________________\n",
      "normConv_0 (WeightNormalization (None, 38, 38, 7, 32 21665       decConv_0[0][0]                  \n",
      "__________________________________________________________________________________________________\n",
      "AddResConv_0 (Add)              (None, 38, 38, 7, 32 0           normConv_0[0][0]                 \n",
      "                                                                 mainConv1[0][0]                  \n",
      "__________________________________________________________________________________________________\n",
      "expConv_1 (WeightNormalization) (None, 38, 38, 7, 25 8705        AddResConv_0[0][0]               \n",
      "__________________________________________________________________________________________________\n",
      "decConv_1 (WeightNormalization) (None, 38, 38, 7, 25 6451        expConv_1[0][0]                  \n",
      "__________________________________________________________________________________________________\n",
      "normConv_1 (WeightNormalization (None, 38, 38, 7, 32 21665       decConv_1[0][0]                  \n",
      "__________________________________________________________________________________________________\n",
      "AddResConv_1 (Add)              (None, 38, 38, 7, 32 0           normConv_1[0][0]                 \n",
      "                                                                 AddResConv_0[0][0]               \n",
      "__________________________________________________________________________________________________\n",
      "expConv_2 (WeightNormalization) (None, 38, 38, 7, 25 8705        AddResConv_1[0][0]               \n",
      "__________________________________________________________________________________________________\n",
      "decConv_2 (WeightNormalization) (None, 38, 38, 7, 25 6451        expConv_2[0][0]                  \n",
      "__________________________________________________________________________________________________\n",
      "normConv_2 (WeightNormalization (None, 38, 38, 7, 32 21665       decConv_2[0][0]                  \n",
      "__________________________________________________________________________________________________\n",
      "AddResConv_2 (Add)              (None, 38, 38, 7, 32 0           normConv_2[0][0]                 \n",
      "                                                                 AddResConv_1[0][0]               \n",
      "__________________________________________________________________________________________________\n",
      "expConv_3 (WeightNormalization) (None, 38, 38, 7, 25 8705        AddResConv_2[0][0]               \n",
      "__________________________________________________________________________________________________\n",
      "decConv_3 (WeightNormalization) (None, 38, 38, 7, 25 6451        expConv_3[0][0]                  \n",
      "__________________________________________________________________________________________________\n",
      "normConv_3 (WeightNormalization (None, 38, 38, 7, 32 21665       decConv_3[0][0]                  \n",
      "__________________________________________________________________________________________________\n",
      "AddResConv_3 (Add)              (None, 38, 38, 7, 32 0           normConv_3[0][0]                 \n",
      "                                                                 AddResConv_2[0][0]               \n",
      "__________________________________________________________________________________________________\n",
      "expConv_4 (WeightNormalization) (None, 38, 38, 7, 25 8705        AddResConv_3[0][0]               \n",
      "__________________________________________________________________________________________________\n",
      "decConv_4 (WeightNormalization) (None, 38, 38, 7, 25 6451        expConv_4[0][0]                  \n",
      "__________________________________________________________________________________________________\n",
      "normConv_4 (WeightNormalization (None, 38, 38, 7, 32 21665       decConv_4[0][0]                  \n",
      "__________________________________________________________________________________________________\n",
      "AddResConv_4 (Add)              (None, 38, 38, 7, 32 0           normConv_4[0][0]                 \n",
      "                                                                 AddResConv_3[0][0]               \n",
      "__________________________________________________________________________________________________\n",
      "expConv_5 (WeightNormalization) (None, 38, 38, 7, 25 8705        AddResConv_4[0][0]               \n",
      "__________________________________________________________________________________________________\n",
      "decConv_5 (WeightNormalization) (None, 38, 38, 7, 25 6451        expConv_5[0][0]                  \n",
      "__________________________________________________________________________________________________\n",
      "normConv_5 (WeightNormalization (None, 38, 38, 7, 32 21665       decConv_5[0][0]                  \n",
      "__________________________________________________________________________________________________\n",
      "AddResConv_5 (Add)              (None, 38, 38, 7, 32 0           normConv_5[0][0]                 \n",
      "                                                                 AddResConv_4[0][0]               \n",
      "__________________________________________________________________________________________________\n",
      "expConv_6 (WeightNormalization) (None, 38, 38, 7, 25 8705        AddResConv_5[0][0]               \n",
      "__________________________________________________________________________________________________\n",
      "decConv_6 (WeightNormalization) (None, 38, 38, 7, 25 6451        expConv_6[0][0]                  \n",
      "__________________________________________________________________________________________________\n",
      "normConv_6 (WeightNormalization (None, 38, 38, 7, 32 21665       decConv_6[0][0]                  \n",
      "__________________________________________________________________________________________________\n",
      "AddResConv_6 (Add)              (None, 38, 38, 7, 32 0           normConv_6[0][0]                 \n",
      "                                                                 AddResConv_5[0][0]               \n",
      "__________________________________________________________________________________________________\n",
      "expConv_7 (WeightNormalization) (None, 38, 38, 7, 25 8705        AddResConv_6[0][0]               \n",
      "__________________________________________________________________________________________________\n",
      "decConv_7 (WeightNormalization) (None, 38, 38, 7, 25 6451        expConv_7[0][0]                  \n",
      "__________________________________________________________________________________________________\n",
      "normConv_7 (WeightNormalization (None, 38, 38, 7, 32 21665       decConv_7[0][0]                  \n",
      "__________________________________________________________________________________________________\n",
      "AddResConv_7 (Add)              (None, 38, 38, 7, 32 0           normConv_7[0][0]                 \n",
      "                                                                 AddResConv_6[0][0]               \n",
      "__________________________________________________________________________________________________\n",
      "expConv_8 (WeightNormalization) (None, 38, 38, 7, 25 8705        AddResConv_7[0][0]               \n",
      "__________________________________________________________________________________________________\n",
      "decConv_8 (WeightNormalization) (None, 38, 38, 7, 25 6451        expConv_8[0][0]                  \n",
      "__________________________________________________________________________________________________\n",
      "normConv_8 (WeightNormalization (None, 38, 38, 7, 32 21665       decConv_8[0][0]                  \n",
      "__________________________________________________________________________________________________\n",
      "AddResConv_8 (Add)              (None, 38, 38, 7, 32 0           normConv_8[0][0]                 \n",
      "                                                                 AddResConv_7[0][0]               \n",
      "__________________________________________________________________________________________________\n",
      "expConv_9 (WeightNormalization) (None, 38, 38, 7, 25 8705        AddResConv_8[0][0]               \n",
      "__________________________________________________________________________________________________\n",
      "decConv_9 (WeightNormalization) (None, 38, 38, 7, 25 6451        expConv_9[0][0]                  \n",
      "__________________________________________________________________________________________________\n",
      "normConv_9 (WeightNormalization (None, 38, 38, 7, 32 21665       decConv_9[0][0]                  \n",
      "__________________________________________________________________________________________________\n",
      "AddResConv_9 (Add)              (None, 38, 38, 7, 32 0           normConv_9[0][0]                 \n",
      "                                                                 AddResConv_8[0][0]               \n",
      "__________________________________________________________________________________________________\n",
      "expConv_10 (WeightNormalization (None, 38, 38, 7, 25 8705        AddResConv_9[0][0]               \n",
      "__________________________________________________________________________________________________\n",
      "decConv_10 (WeightNormalization (None, 38, 38, 7, 25 6451        expConv_10[0][0]                 \n",
      "__________________________________________________________________________________________________\n",
      "normConv_10 (WeightNormalizatio (None, 38, 38, 7, 32 21665       decConv_10[0][0]                 \n",
      "__________________________________________________________________________________________________\n",
      "AddResConv_10 (Add)             (None, 38, 38, 7, 32 0           normConv_10[0][0]                \n",
      "                                                                 AddResConv_9[0][0]               \n",
      "__________________________________________________________________________________________________\n",
      "expConv_11 (WeightNormalization (None, 38, 38, 7, 25 8705        AddResConv_10[0][0]              \n",
      "__________________________________________________________________________________________________\n",
      "decConv_11 (WeightNormalization (None, 38, 38, 7, 25 6451        expConv_11[0][0]                 \n",
      "__________________________________________________________________________________________________\n",
      "normConv_11 (WeightNormalizatio (None, 38, 38, 7, 32 21665       decConv_11[0][0]                 \n",
      "__________________________________________________________________________________________________\n",
      "AddResConv_11 (Add)             (None, 38, 38, 7, 32 0           normConv_11[0][0]                \n",
      "                                                                 AddResConv_10[0][0]              \n",
      "__________________________________________________________________________________________________\n",
      "getMeanLR (Lambda)              (None, 38, 38, 1)    0           input_2[0][0]                    \n",
      "__________________________________________________________________________________________________\n",
      "convReducer_0 (WeightNormalizat (None, 36, 36, 5, 32 27713       AddResConv_11[0][0]              \n",
      "__________________________________________________________________________________________________\n",
      "normMeanImgLR (Lambda)          (None, 38, 38, 1)    0           getMeanLR[0][0]                  \n",
      "__________________________________________________________________________________________________\n",
      "convReducer_1 (WeightNormalizat (None, 34, 34, 3, 32 27713       convReducer_0[0][0]              \n",
      "__________________________________________________________________________________________________\n",
      "residConv1 (WeightNormalization (None, 36, 36, 9)    100         normMeanImgLR[0][0]              \n",
      "__________________________________________________________________________________________________\n",
      "upscaleConv1 (WeightNormalizati (None, 32, 32, 1, 9) 7795        convReducer_1[0][0]              \n",
      "__________________________________________________________________________________________________\n",
      "residConv2 (WeightNormalization (None, 34, 34, 9)    748         residConv1[0][0]                 \n",
      "__________________________________________________________________________________________________\n",
      "reshapeMain (Reshape)           (None, 32, 32, 9)    0           upscaleConv1[0][0]               \n",
      "__________________________________________________________________________________________________\n",
      "residConv3 (WeightNormalization (None, 32, 32, 9)    748         residConv2[0][0]                 \n",
      "__________________________________________________________________________________________________\n",
      "dtsMain (Lambda)                (None, 96, 96, 1)    0           reshapeMain[0][0]                \n",
      "__________________________________________________________________________________________________\n",
      "dtsResid (Lambda)               (None, 96, 96, 1)    0           residConv3[0][0]                 \n",
      "__________________________________________________________________________________________________\n",
      "mainPlusResid (Add)             (None, 96, 96, 1)    0           dtsMain[0][0]                    \n",
      "                                                                 dtsResid[0][0]                   \n",
      "__________________________________________________________________________________________________\n",
      "denorm (Lambda)                 (None, 96, 96, 1)    0           mainPlusResid[0][0]              \n",
      "==================================================================================================\n",
      "Total params: 507,598\n",
      "Trainable params: 507,555\n",
      "Non-trainable params: 43\n",
      "__________________________________________________________________________________________________\n"
     ]
    }
   ],
   "source": [
    "model.summary()"
   ]
  },
  {
   "cell_type": "code",
   "execution_count": 13,
   "metadata": {},
   "outputs": [
    {
     "data": {
      "text/plain": [
       "8818.060385164923"
      ]
     },
     "execution_count": 13,
     "metadata": {},
     "output_type": "execute_result"
    }
   ],
   "source": [
    "np.mean(X)"
   ]
  },
  {
   "cell_type": "code",
   "execution_count": 14,
   "metadata": {},
   "outputs": [
    {
     "data": {
      "text/plain": [
       "6534.113214217506"
      ]
     },
     "execution_count": 14,
     "metadata": {},
     "output_type": "execute_result"
    }
   ],
   "source": [
    "np.std(X)"
   ]
  },
  {
   "cell_type": "code",
   "execution_count": 16,
   "metadata": {},
   "outputs": [
    {
     "name": "stdout",
     "output_type": "stream",
     "text": [
      "tf.Tensor(\n",
      "[[22. 28.]\n",
      " [49. 64.]], shape=(2, 2), dtype=float32)\n"
     ]
    }
   ],
   "source": [
    "with tf.device('/GPU:0'):\n",
    "  a = tf.constant([[1.0, 2.0, 3.0], [4.0, 5.0, 6.0]])\n",
    "  b = tf.constant([[1.0, 2.0], [3.0, 4.0], [5.0, 6.0]])\n",
    "\n",
    "c = tf.matmul(a, b)\n",
    "print(c)"
   ]
  },
  {
   "cell_type": "code",
   "execution_count": 2,
   "metadata": {},
   "outputs": [],
   "source": [
    "strategy = tf.distribute.MirroredStrategy()"
   ]
  },
  {
   "cell_type": "code",
   "execution_count": 4,
   "metadata": {},
   "outputs": [
    {
     "data": {
      "text/plain": [
       "<bound method Strategy.experimental_run_v2 of <tensorflow.python.distribute.mirrored_strategy.MirroredStrategy object at 0x7f5a650eee80>>"
      ]
     },
     "execution_count": 4,
     "metadata": {},
     "output_type": "execute_result"
    }
   ],
   "source": [
    "strategy.experimental_run_v2"
   ]
  },
  {
   "cell_type": "code",
   "execution_count": 1,
   "metadata": {},
   "outputs": [],
   "source": [
    "import numpy as np"
   ]
  },
  {
   "cell_type": "code",
   "execution_count": 2,
   "metadata": {},
   "outputs": [],
   "source": [
    "ab = np.ma.masked_array([1], mask=[0])"
   ]
  },
  {
   "cell_type": "code",
   "execution_count": 3,
   "metadata": {},
   "outputs": [
    {
     "data": {
      "text/plain": [
       "masked_array(data=[1],\n",
       "             mask=[False],\n",
       "       fill_value=999999)"
      ]
     },
     "execution_count": 3,
     "metadata": {},
     "output_type": "execute_result"
    }
   ],
   "source": [
    "ab"
   ]
  },
  {
   "cell_type": "code",
   "execution_count": 4,
   "metadata": {},
   "outputs": [
    {
     "data": {
      "text/plain": [
       "array([1])"
      ]
     },
     "execution_count": 4,
     "metadata": {},
     "output_type": "execute_result"
    }
   ],
   "source": [
    "tf.distribute.experimental.MultiWorkerMirroredStrategy()"
   ]
  },
  {
   "cell_type": "code",
   "execution_count": null,
   "metadata": {},
   "outputs": [],
   "source": [
    "fashion_mnist = tf.keras.datasets.fashion_mnist\n",
    "\n",
    "(train_images, train_labels), (test_images, test_labels) = fashion_mnist.load_data()\n",
    "\n",
    "# Adding a dimension to the array -> new shape == (28, 28, 1)\n",
    "# We are doing this because the first layer in our model is a convolutional\n",
    "# layer and it requires a 4D input (batch_size, height, width, channels).\n",
    "# batch_size dimension will be added later on.\n",
    "train_images = train_images[..., None]\n",
    "test_images = test_images[..., None]\n",
    "\n",
    "# Getting the images in [0, 1] range.\n",
    "train_images = train_images / np.float32(255)\n",
    "test_images = test_images / np.float32(255)"
   ]
  }
 ],
 "metadata": {
  "kernelspec": {
   "display_name": "Python 3",
   "language": "python",
   "name": "python3"
  },
  "language_info": {
   "codemirror_mode": {
    "name": "ipython",
    "version": 3
   },
   "file_extension": ".py",
   "mimetype": "text/x-python",
   "name": "python",
   "nbconvert_exporter": "python",
   "pygments_lexer": "ipython3",
   "version": "3.6.9"
  }
 },
 "nbformat": 4,
 "nbformat_minor": 4
}
